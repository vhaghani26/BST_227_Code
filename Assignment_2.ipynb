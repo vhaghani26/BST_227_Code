{
  "nbformat": 4,
  "nbformat_minor": 0,
  "metadata": {
    "colab": {
      "name": "Assignment_2.ipynb",
      "provenance": [],
      "collapsed_sections": [],
      "authorship_tag": "ABX9TyNMuyH0qZFWK/sLbmr9nFAI",
      "include_colab_link": true
    },
    "kernelspec": {
      "name": "python3",
      "display_name": "Python 3"
    },
    "language_info": {
      "name": "python"
    }
  },
  "cells": [
    {
      "cell_type": "markdown",
      "metadata": {
        "id": "view-in-github",
        "colab_type": "text"
      },
      "source": [
        "<a href=\"https://colab.research.google.com/github/vhaghani26/BST_227_Code/blob/main/Assignment_2.ipynb\" target=\"_parent\"><img src=\"https://colab.research.google.com/assets/colab-badge.svg\" alt=\"Open In Colab\"/></a>"
      ]
    },
    {
      "cell_type": "markdown",
      "metadata": {
        "id": "L9zcb_cbvagI"
      },
      "source": [
        "# **Assignment 2**\n",
        "By: Mariele Lensink and Viktoria Haghani"
      ]
    },
    {
      "cell_type": "markdown",
      "metadata": {
        "id": "Qcdn7-96q-_o"
      },
      "source": [
        "To begin writing the posterior, we are going to break down the probabilities we need. Given that we need to find \\(P(C_{i}, \\lambda_{i}|X_{i}, \\theta)\\), we can break down the overall probability into conditional and marginal probabilities (split up the latent variables). To do so, we can explore the options we have:\n",
        "\n",
        "Option A:\n",
        "\\begin{equation}\n",
        "P(C_{i}, \\lambda_{i}|X_{i}, \\theta) = P(C_{i} |\\lambda_{i}, X_{i}, \\theta)P(\\lambda_{i}|X_{i}, \\theta)\n",
        "\\end{equation}\n",
        "\n",
        "or \n",
        "\n",
        "Option B:\n",
        "\\begin{equation}\n",
        "P(C_{i}, \\lambda_{i}|X_{i}, \\theta) = P(\\lambda_{i}|C_{i}, X_{i}, \\theta)P(C_{i} | X_{i}, \\theta)\n",
        "\\end{equation}"
      ]
    },
    {
      "cell_type": "markdown",
      "metadata": {
        "id": "Ar6rf_x6wDYA"
      },
      "source": [
        "We believe Option B is correct, so we will proceed using Option B. Let's break down the components now.\n",
        "\n",
        "\\begin{equation}\n",
        "P(C_{i}, \\lambda_{i}|X_{i}, \\theta) = P(\\lambda_{i}|C_{i}, X_{i}, \\theta)P(C_{i} | X_{i}, \\theta)\n",
        "\\end{equation}\n",
        "\n",
        "\\begin{equation}\n",
        "P(\\lambda_{i}|C_{i}, X_{i}, \\theta) = \\frac{P(X_{i}|C_{i}, \\lambda_{i}, \\theta)P(C_{i}, \\lambda_{i}, \\theta)}{P(X_{i}, C_{i}, \\theta_{i})}\n",
        "\\end{equation}\n",
        "\n",
        "\\begin{equation}\n",
        "P(C_{i} | X_{i}, \\theta) = \\frac{P(X_{i}|C_{i}, \\theta)P(C_{i}|\\theta)}{P(X_{i}|\\theta)}\n",
        "\\end{equation}"
      ]
    },
    {
      "cell_type": "markdown",
      "metadata": {
        "id": "ozczS3gsyuhN"
      },
      "source": [
        "Now we can combine the components to reflect the overall probability:\n",
        "\n",
        "\\begin{equation}\n",
        "P(C_{i}, \\lambda_{i}|X_{i}, \\theta) = \\frac{P(X_{i}|C_{i}, \\lambda_{i}, \\theta)P(C_{i}, \\lambda_{i}, \\theta)}{P(X_{i}, C_{i}, \\theta_{i})}\\frac{P(X_{i}|C_{i}, \\theta)P(C_{i}|\\theta)}{P(X_{i}|\\theta)}\n",
        "\\end{equation}\n",
        "\n",
        "\\begin{equation}\n",
        "P(C_{i}, \\lambda_{i}|X_{i}, \\theta) = \\frac{P(X_{i}|C_{i}, \\lambda_{i}, \\theta)P(C_{i}, \\lambda_{i}, \\theta)P(X_{i}|C_{i}, \\theta)P(C_{i}|\\theta)}{P(X_{i}, C_{i}, \\theta_{i})P(X_{i}|\\theta)}\n",
        "\\end{equation}"
      ]
    },
    {
      "cell_type": "markdown",
      "metadata": {
        "id": "9Y9SI1hr0Q8O"
      },
      "source": [
        "According to the Assignment 2 instructions, we will need to write an expression for the numerator, so let's focus on just the numerator now:\n",
        "\n",
        "\\begin{equation}\n",
        "P(X_{i}|C_{i}, \\lambda_{i}, \\theta)P(C_{i}, \\lambda_{i}, \\theta)P(X_{i}|C_{i}, \\theta)P(C_{i}|\\theta)\n",
        "\\end{equation}"
      ]
    }
  ]
}