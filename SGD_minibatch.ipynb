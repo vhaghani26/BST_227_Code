{
  "nbformat": 4,
  "nbformat_minor": 0,
  "metadata": {
    "colab": {
      "name": "SGD minibatch.ipynb",
      "provenance": []
    },
    "kernelspec": {
      "name": "python3",
      "display_name": "Python 3"
    },
    "language_info": {
      "name": "python"
    }
  },
  "cells": [
    {
      "cell_type": "markdown",
      "metadata": {
        "id": "cN1U44NI7sEJ"
      },
      "source": [
        "## libraries"
      ]
    },
    {
      "cell_type": "code",
      "metadata": {
        "id": "4tHApNBr5rfS"
      },
      "source": [
        "import matplotlib.pyplot as plt\n",
        "import math\n",
        "import numpy as np\n",
        "NUM_POINTS=500;\n",
        "XX = np.random.uniform(0, 1,size=(NUM_POINTS,2))\n"
      ],
      "execution_count": null,
      "outputs": []
    },
    {
      "cell_type": "markdown",
      "metadata": {
        "id": "-RMsgoCj7zHD"
      },
      "source": [
        "## functions to compute loss and gradient"
      ]
    },
    {
      "cell_type": "code",
      "metadata": {
        "id": "o5NOmGqL7zsh"
      },
      "source": [
        "#loss for a simple squared loss function\n",
        "def loss(XX, mu, ix=range(XX.shape[0])):\n",
        "  return( (np.square(XX[ix,:]-mu).sum())/len(ix) )\n",
        "\n",
        "#gradient for the loss\n",
        "def gr(XX, mu, ix=range(XX.shape[0])):\n",
        "  return (((2*(XX[ix,:]-mu)*(-1)).sum(axis=0))/len(ix));\n",
        "\n",
        "#perform one step of gradient descent\n",
        "def getNextPos(XX, mu, ALPHA=0.01, ix=range(XX.shape[0])):\n",
        "  return(mu - ALPHA*gr(XX, mu, ix))\n",
        "\n",
        "#return a set of indices for a mini-batch\n",
        "def getNextBatch(NN, BATCH_SIZE):\n",
        "  return np.random.permutation(NN)[range(BATCH_SIZE)];\n"
      ],
      "execution_count": null,
      "outputs": []
    },
    {
      "cell_type": "markdown",
      "metadata": {
        "id": "TV0COEYtBkJj"
      },
      "source": [
        "#perform SGD"
      ]
    },
    {
      "cell_type": "code",
      "metadata": {
        "colab": {
          "base_uri": "https://localhost:8080/",
          "height": 1000
        },
        "id": "-1W4hofCBnJm",
        "outputId": "ce71e510-89e5-4f1c-ac7a-6db2fdea0935"
      },
      "source": [
        "\n",
        "\n",
        "np.random.seed(20)\n",
        "NUM_POINTS=500;\n",
        "\n",
        "#Generate random set of 1D points\n",
        "XX = np.random.uniform(0, 1,size=(NUM_POINTS,2))\n",
        "AVR = XX.mean(axis=0)\n",
        "\n",
        "\n",
        "#Generate random starting point far away from the mean\n",
        "mu = np.array([[.6,.1]]); #start really far away from the minimum\n",
        "\n",
        "BATCH_SIZE = 1;\n",
        "ALPHA=0.005;\n",
        "NUM_STEPS_PRINT=20;\n",
        "\n",
        "plt.scatter(AVR[0],AVR[1],c='red')\n",
        "plt.scatter(mu[0,0],mu[0,1])\n",
        "\n",
        "plt.axis([-1, 1, -1, 1])\n",
        "\n",
        "for ii in range(2000):\n",
        "  ix=getNextBatch(XX.shape[0], BATCH_SIZE)\n",
        "  mu = getNextPos(XX,mu,ALPHA=ALPHA, ix=ix)\n",
        "\n",
        "  if (np.mod(ii,NUM_STEPS_PRINT)==0):\n",
        "    print(mu)\n",
        "    plt.scatter(mu[0,0],mu[0,1],c='black')\n",
        "\n",
        "print(mu)\n",
        "print(AVR)"
      ],
      "execution_count": null,
      "outputs": [
        {
          "output_type": "stream",
          "name": "stdout",
          "text": [
            "[[0.59877693 0.10416685]]\n",
            "[[0.57968932 0.17640382]]\n",
            "[[0.56664534 0.23369152]]\n",
            "[[0.55218525 0.28164548]]\n",
            "[[0.5416126  0.31967845]]\n",
            "[[0.53306099 0.35026247]]\n",
            "[[0.52550106 0.3773831 ]]\n",
            "[[0.5200191  0.39968741]]\n",
            "[[0.51755831 0.41960748]]\n",
            "[[0.51514951 0.432409  ]]\n",
            "[[0.51306252 0.44529978]]\n",
            "[[0.50963176 0.45391458]]\n",
            "[[0.5087093  0.46104233]]\n",
            "[[0.50668727 0.46734081]]\n",
            "[[0.50493874 0.47230918]]\n",
            "[[0.50376568 0.47805415]]\n",
            "[[0.50368028 0.48258624]]\n",
            "[[0.50207405 0.48665321]]\n",
            "[[0.50199629 0.48878179]]\n",
            "[[0.50193595 0.48827446]]\n",
            "[[0.50158708 0.49043644]]\n",
            "[[0.49937691 0.49094524]]\n",
            "[[0.50004114 0.49108226]]\n",
            "[[0.50274781 0.49237949]]\n",
            "[[0.50317752 0.49291761]]\n",
            "[[0.50329259 0.49310647]]\n",
            "[[0.50151312 0.49188744]]\n",
            "[[0.50023132 0.49274108]]\n",
            "[[0.50066633 0.4936561 ]]\n",
            "[[0.50047819 0.4936095 ]]\n",
            "[[0.50071698 0.49476149]]\n",
            "[[0.50181354 0.49599402]]\n",
            "[[0.50072038 0.49517962]]\n",
            "[[0.5012363 0.4961667]]\n",
            "[[0.50052711 0.49622491]]\n",
            "[[0.49972634 0.49564199]]\n",
            "[[0.49981549 0.49739621]]\n",
            "[[0.50116899 0.49527367]]\n",
            "[[0.49917261 0.49441531]]\n",
            "[[0.49932951 0.49443591]]\n",
            "[[0.49961902 0.49536766]]\n",
            "[[0.50091385 0.49533137]]\n",
            "[[0.49963101 0.49578569]]\n",
            "[[0.49991705 0.49517129]]\n",
            "[[0.49898885 0.49453022]]\n",
            "[[0.50118138 0.49516202]]\n",
            "[[0.50053759 0.49542467]]\n",
            "[[0.49976622 0.49676122]]\n",
            "[[0.49863924 0.49651884]]\n",
            "[[0.49825079 0.49729235]]\n",
            "[[0.49930832 0.49843379]]\n",
            "[[0.50022949 0.49821719]]\n",
            "[[0.5010717  0.49668893]]\n",
            "[[0.50255777 0.49589357]]\n",
            "[[0.50452726 0.49595585]]\n",
            "[[0.50301028 0.49843391]]\n",
            "[[0.50456987 0.49746471]]\n",
            "[[0.50358588 0.49963773]]\n",
            "[[0.50319679 0.49932628]]\n",
            "[[0.50289207 0.49899046]]\n",
            "[[0.50183129 0.49907407]]\n",
            "[[0.50333476 0.49691914]]\n",
            "[[0.50406966 0.49481526]]\n",
            "[[0.50376307 0.49690953]]\n",
            "[[0.50375513 0.49776895]]\n",
            "[[0.50452329 0.49857262]]\n",
            "[[0.50008756 0.4987541 ]]\n",
            "[[0.50027889 0.49870594]]\n",
            "[[0.49998941 0.49817947]]\n",
            "[[0.49923788 0.49683564]]\n",
            "[[0.4999048 0.4979036]]\n",
            "[[0.50089002 0.49667987]]\n",
            "[[0.50224338 0.49604958]]\n",
            "[[0.5030175  0.49642577]]\n",
            "[[0.5036204  0.49577884]]\n",
            "[[0.50142246 0.49694483]]\n",
            "[[0.50255288 0.49539585]]\n",
            "[[0.50310295 0.49569654]]\n",
            "[[0.50196726 0.49752953]]\n",
            "[[0.50011803 0.49646061]]\n",
            "[[0.49868847 0.49673736]]\n",
            "[[0.49863176 0.49688329]]\n",
            "[[0.49780841 0.49718782]]\n",
            "[[0.49810501 0.49544119]]\n",
            "[[0.49774761 0.49342189]]\n",
            "[[0.49732428 0.49550948]]\n",
            "[[0.49660783 0.49494922]]\n",
            "[[0.49584152 0.49531334]]\n",
            "[[0.49608038 0.49623319]]\n",
            "[[0.49644673 0.49666424]]\n",
            "[[0.49646829 0.49715333]]\n",
            "[[0.49577654 0.49697607]]\n",
            "[[0.49468722 0.49435241]]\n",
            "[[0.4966318  0.49563414]]\n",
            "[[0.49536836 0.49554785]]\n",
            "[[0.49603886 0.49689554]]\n",
            "[[0.49601698 0.49766334]]\n",
            "[[0.49560688 0.49650185]]\n",
            "[[0.49662978 0.49752272]]\n",
            "[[0.49973235 0.49814012]]\n",
            "[[0.50163981 0.49649462]]\n",
            "[0.49946916 0.49672854]\n"
          ]
        },
        {
          "output_type": "display_data",
          "data": {
            "image/png": "[encoded data removed]",
            "text/plain": [
              "<Figure size 432x288 with 1 Axes>"
            ]
          },
          "metadata": {
            "needs_background": "light"
          }
        }
      ]
    }
  ]
}