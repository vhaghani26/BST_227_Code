{
  "nbformat": 4,
  "nbformat_minor": 0,
  "metadata": {
    "colab": {
      "name": "Assignment_2_Part_2.ipynb",
      "provenance": [],
      "collapsed_sections": [],
      "include_colab_link": true
    },
    "kernelspec": {
      "name": "python3",
      "display_name": "Python 3"
    },
    "language_info": {
      "name": "python"
    }
  },
  "cells": [
    {
      "cell_type": "markdown",
      "metadata": {
        "id": "view-in-github",
        "colab_type": "text"
      },
      "source": [
        "<a href=\"https://colab.research.google.com/github/vhaghani26/BST_227_Code/blob/main/Assignment_2_Part_2.ipynb\" target=\"_parent\"><img src=\"https://colab.research.google.com/assets/colab-badge.svg\" alt=\"Open In Colab\"/></a>"
      ]
    },
    {
      "cell_type": "markdown",
      "metadata": {
        "id": "TYBIb7a1dZV0"
      },
      "source": [
        "# **Assignment 2 Part 2 - Introduction**\n",
        "By: Mariele Lensink and Viktoria Haghani"
      ]
    },
    {
      "cell_type": "markdown",
      "metadata": {
        "id": "iMOhPGT3zgVk"
      },
      "source": [
        "This notebook sets up a simple variational autoencoder for DNA sequences, where $X_i$ represents sequence $i$ of length $L$, and $Z_i$ represents the latent variable corresponding to sequence $i$. The underlying probabilistic model implemented here is:\n",
        "\n",
        "$Z_i \\sim N(0, I_K)$\n",
        "\n",
        "$X_{i,j} \\sim \\mbox{Discrete}(f_d(\\vec{p}_{i,j} | Z_i, \\theta_d))$\n",
        "\n",
        "Where $f_d$ represents a decoder neural net, whose parameters are represented by $\\theta_d$, and that predicts a probability distribution (over bases) for each position $j$ of sequence $i$.\n",
        "\n",
        "The approximate posterior distribution $q(Z_i|X_i)$, implemented by the decoder, is implemented as $q(Z_i|X_i) = N(Z_i | f_e(\\mu | X, \\theta_e), f_e(\\sigma|X,\\theta_e)^2I_K))$.\n"
      ]
    },
    {
      "cell_type": "markdown",
      "metadata": {
        "id": "vF9hi2OziHxw"
      },
      "source": [
        "# **Updated Model**"
      ]
    },
    {
      "cell_type": "markdown",
      "metadata": {
        "id": "QBVXmIIyinXE"
      },
      "source": [
        "Import required packages"
      ]
    },
    {
      "cell_type": "code",
      "metadata": {
        "id": "kGZ4aFTainXF"
      },
      "source": [
        "import torch\n",
        "import torch.optim as optim\n",
        "from torch.distributions import RelaxedOneHotCategorical"
      ],
      "execution_count": null,
      "outputs": []
    },
    {
      "cell_type": "code",
      "metadata": {
        "id": "sg8yj9xiinXH"
      },
      "source": [
        "## Plot\n",
        "import matplotlib\n",
        "import matplotlib.pyplot as plt\n",
        "import matplotlib.colors as colors\n",
        "import seaborn as sns\n",
        "\n",
        "from sklearn.decomposition import PCA\n",
        "from sklearn.manifold import TSNE\n",
        "\n",
        "def plot_scatter(X_in, label, method = 'pca'):\n",
        "    \"\"\" Create scatterplots of data x with label after dimensionality reduction (if needed) \"\"\"\n",
        "\n",
        "    if X_in.shape[-1] > 2:\n",
        "      if method == 'pca':\n",
        "        pca = PCA(2)\n",
        "        X_plot = pca.fit_transform(X_in)\n",
        "      elif method == 'tsne':\n",
        "        tsne = TSNE(2)\n",
        "        X_plot = tsne.fit_transform(X_in)\n",
        "      elif method == 'umap':\n",
        "        reducer = umap.UMAP(2)\n",
        "        X_plot  = reducer.fit_transform(X_in)\n",
        "    else:\n",
        "      X_plot = X_in\n",
        "\n",
        "    df = pd.DataFrame(X_plot)\n",
        "    df['Label'] = np.array(label).tolist()\n",
        "    df.columns = ['X','Y','Label']\n",
        "    df.sort_values(by=['Label'],inplace=True)\n",
        "    _, ax = plt.subplots(figsize=[15,10])\n",
        "    sns.scatterplot(data=df,\n",
        "                    x='X',\n",
        "                    y='Y',\n",
        "                    hue='Label',\n",
        "                    ax = ax)\n"
      ],
      "execution_count": null,
      "outputs": []
    },
    {
      "cell_type": "markdown",
      "metadata": {
        "id": "bv4wbIUjinXH"
      },
      "source": [
        "# **Set up input dataset with datasets and dataloader**"
      ]
    },
    {
      "cell_type": "markdown",
      "metadata": {
        "id": "g_GFJHjGinXH"
      },
      "source": [
        "Load data"
      ]
    },
    {
      "cell_type": "code",
      "metadata": {
        "id": "Gr5d539finXI"
      },
      "source": [
        "import pandas as pd\n",
        "import io\n",
        "import requests\n",
        "from tqdm import tqdm\n",
        "import numpy as np\n",
        "\n",
        "from sklearn.preprocessing import OneHotEncoder\n",
        "\n",
        "#----------------------------------------\n",
        "#from Chenxi Liu\n",
        "#function for downloading sequence data from Box and converting to one-hot encoding\n",
        "#note this function actually returns the summary statistics over the data, which is\n",
        "#just the total number of each bases across all input sequences for our simple \n",
        "#latent variable model.\n",
        "#\n",
        "# this function by default returns a summary of all data.\n",
        "def get_sequence(url, categories=['A', 'C', 'G', 'T']):\n",
        "  r = requests.get(url)\n",
        "  df = pd.read_csv(io.StringIO(r.text), sep=\" \", header=None)\n",
        "  s1 = np.array(list(str(df.to_numpy()[0, :][0])), dtype=object).reshape(-1, 1)\n",
        "\n",
        "  m = len(df)\n",
        "  sequence_len = len(list(df.iloc[0, :].values)[0])\n",
        "  data = np.zeros((m, sequence_len, len(categories)))\n",
        "  \n",
        "  ohe = OneHotEncoder(sparse=False, categories=[np.array(categories, dtype=object)])\n",
        "  example_sequence = np.array(list(str(df.to_numpy()[0, :][0])), dtype=object).reshape(-1, 1)\n",
        "\n",
        "  ohe.fit(s1)\n",
        "\n",
        "  for ii in tqdm(range(m)):\n",
        "    \n",
        "    s = list(str(df.to_numpy()[ii, :][0]))\n",
        "    s_a = np.array(s).reshape(-1, 1)\n",
        "    data[ii, :, :] = ohe.transform(s_a)\n",
        "\n",
        "  return data\n"
      ],
      "execution_count": null,
      "outputs": []
    },
    {
      "cell_type": "code",
      "metadata": {
        "colab": {
          "base_uri": "https://localhost:8080/"
        },
        "id": "G5s4Ks9UinXI",
        "outputId": "da4b9184-5b53-4f29-8bd6-cc779872653c"
      },
      "source": [
        "#URL for at_gc_sequences.txt - this is a single sequence:\n",
        "# ATTTAATATAAAATTTGGCCGCCATAAAAAAA\n",
        "#https://ucdavis.box.com/shared/static/s8g6zx9vwxbbfdxdj2uqzhlvslc1jhsy.txt\n",
        "#URL for sequence.padded.txt - the real binding site data\n",
        "#https://ucdavis.box.com/shared/static/0cacx2xvn4ugxo9h21ci2ngesryigf43.txt\n",
        "#URL for sequence.motiflocation.padded.txt - the location of the binding sites from sequence.padded.txt\n",
        "#https://ucdavis.box.com/shared/static/gd0r12mdkhix86bo9ffbn3dy0fy0prmn.txt\n",
        "\n",
        "XX_sequences_padded = get_sequence('https://ucdavis.box.com/shared/static/0cacx2xvn4ugxo9h21ci2ngesryigf43.txt')\n",
        "\n",
        "#get the locations of the binding sites\n",
        "CC_sequences_padded = pd.read_csv(io.StringIO(requests.get('https://ucdavis.box.com/shared/static/gd0r12mdkhix86bo9ffbn3dy0fy0prmn.txt').text), sep=\",\", header=None).to_numpy()"
      ],
      "execution_count": null,
      "outputs": [
        {
          "output_type": "stream",
          "name": "stderr",
          "text": [
            "100%|██████████| 357/357 [00:00<00:00, 2628.97it/s]\n"
          ]
        }
      ]
    },
    {
      "cell_type": "markdown",
      "metadata": {
        "id": "6mqPrxIbinXJ"
      },
      "source": [
        "Create a custom dataset class"
      ]
    },
    {
      "cell_type": "code",
      "metadata": {
        "id": "hnybZUGQinXJ"
      },
      "source": [
        "from torch.utils.data import Dataset\n",
        "\n",
        "class CustomDataset(Dataset):\n",
        "    \"\"\" Custom dataset \"\"\"\n",
        "\n",
        "    def __init__(self, X, Y):\n",
        "        self.X = X\n",
        "        self.Y = Y\n",
        "\n",
        "    def __len__(self):\n",
        "        return len(self.X)\n",
        "\n",
        "    def __getitem__(self, idx):\n",
        "        sample = {\"X\"  : self.X[idx],\n",
        "                  \"Y\" : self.Y[idx]}\n",
        "\n",
        "        return sample\n"
      ],
      "execution_count": null,
      "outputs": []
    },
    {
      "cell_type": "markdown",
      "metadata": {
        "id": "XVxc4w0einXL"
      },
      "source": [
        "Create datasets and dataloaders"
      ]
    },
    {
      "cell_type": "code",
      "metadata": {
        "colab": {
          "base_uri": "https://localhost:8080/",
          "height": 175
        },
        "id": "_Dn2c33jinXL",
        "outputId": "95c6b03b-68e9-44f8-ba65-c2e0edf1d6dd"
      },
      "source": [
        "# Shuffle XX_sequences_padded\n",
        "X = XX_sequences_padded\n",
        "Y = CC_sequences_padded\n",
        "\n",
        "X_long = np.argmax(X,-1)\n",
        "Y_long = np.argmax(Y,-1)\n",
        "counts = np.array([np.sum(X_long==ii,0) for ii in range(4)])\n",
        "pd.DataFrame(counts)"
      ],
      "execution_count": null,
      "outputs": [
        {
          "output_type": "execute_result",
          "data": {
            "text/html": [
              "<div>\n",
              "<style scoped>\n",
              "    .dataframe tbody tr th:only-of-type {\n",
              "        vertical-align: middle;\n",
              "    }\n",
              "\n",
              "    .dataframe tbody tr th {\n",
              "        vertical-align: top;\n",
              "    }\n",
              "\n",
              "    .dataframe thead th {\n",
              "        text-align: right;\n",
              "    }\n",
              "</style>\n",
              "<table border=\"1\" class=\"dataframe\">\n",
              "  <thead>\n",
              "    <tr style=\"text-align: right;\">\n",
              "      <th></th>\n",
              "      <th>0</th>\n",
              "      <th>1</th>\n",
              "      <th>2</th>\n",
              "      <th>3</th>\n",
              "      <th>4</th>\n",
              "      <th>5</th>\n",
              "      <th>6</th>\n",
              "      <th>7</th>\n",
              "      <th>8</th>\n",
              "      <th>9</th>\n",
              "      <th>10</th>\n",
              "      <th>11</th>\n",
              "      <th>12</th>\n",
              "      <th>13</th>\n",
              "      <th>14</th>\n",
              "      <th>15</th>\n",
              "      <th>16</th>\n",
              "      <th>17</th>\n",
              "      <th>18</th>\n",
              "      <th>19</th>\n",
              "      <th>20</th>\n",
              "      <th>21</th>\n",
              "      <th>22</th>\n",
              "      <th>23</th>\n",
              "      <th>24</th>\n",
              "      <th>25</th>\n",
              "      <th>26</th>\n",
              "      <th>27</th>\n",
              "      <th>28</th>\n",
              "      <th>29</th>\n",
              "      <th>30</th>\n",
              "      <th>31</th>\n",
              "      <th>32</th>\n",
              "      <th>33</th>\n",
              "      <th>34</th>\n",
              "      <th>35</th>\n",
              "      <th>36</th>\n",
              "      <th>37</th>\n",
              "    </tr>\n",
              "  </thead>\n",
              "  <tbody>\n",
              "    <tr>\n",
              "      <th>0</th>\n",
              "      <td>100</td>\n",
              "      <td>94</td>\n",
              "      <td>98</td>\n",
              "      <td>116</td>\n",
              "      <td>107</td>\n",
              "      <td>92</td>\n",
              "      <td>90</td>\n",
              "      <td>94</td>\n",
              "      <td>98</td>\n",
              "      <td>88</td>\n",
              "      <td>78</td>\n",
              "      <td>153</td>\n",
              "      <td>181</td>\n",
              "      <td>30</td>\n",
              "      <td>21</td>\n",
              "      <td>13</td>\n",
              "      <td>1</td>\n",
              "      <td>329</td>\n",
              "      <td>49</td>\n",
              "      <td>67</td>\n",
              "      <td>51</td>\n",
              "      <td>22</td>\n",
              "      <td>63</td>\n",
              "      <td>172</td>\n",
              "      <td>39</td>\n",
              "      <td>47</td>\n",
              "      <td>31</td>\n",
              "      <td>61</td>\n",
              "      <td>86</td>\n",
              "      <td>100</td>\n",
              "      <td>92</td>\n",
              "      <td>94</td>\n",
              "      <td>105</td>\n",
              "      <td>100</td>\n",
              "      <td>95</td>\n",
              "      <td>78</td>\n",
              "      <td>79</td>\n",
              "      <td>90</td>\n",
              "    </tr>\n",
              "    <tr>\n",
              "      <th>1</th>\n",
              "      <td>89</td>\n",
              "      <td>71</td>\n",
              "      <td>84</td>\n",
              "      <td>76</td>\n",
              "      <td>95</td>\n",
              "      <td>101</td>\n",
              "      <td>81</td>\n",
              "      <td>92</td>\n",
              "      <td>85</td>\n",
              "      <td>91</td>\n",
              "      <td>160</td>\n",
              "      <td>52</td>\n",
              "      <td>16</td>\n",
              "      <td>2</td>\n",
              "      <td>24</td>\n",
              "      <td>24</td>\n",
              "      <td>350</td>\n",
              "      <td>5</td>\n",
              "      <td>122</td>\n",
              "      <td>62</td>\n",
              "      <td>64</td>\n",
              "      <td>38</td>\n",
              "      <td>26</td>\n",
              "      <td>101</td>\n",
              "      <td>260</td>\n",
              "      <td>283</td>\n",
              "      <td>90</td>\n",
              "      <td>93</td>\n",
              "      <td>87</td>\n",
              "      <td>84</td>\n",
              "      <td>89</td>\n",
              "      <td>103</td>\n",
              "      <td>82</td>\n",
              "      <td>75</td>\n",
              "      <td>83</td>\n",
              "      <td>87</td>\n",
              "      <td>108</td>\n",
              "      <td>86</td>\n",
              "    </tr>\n",
              "    <tr>\n",
              "      <th>2</th>\n",
              "      <td>84</td>\n",
              "      <td>99</td>\n",
              "      <td>78</td>\n",
              "      <td>80</td>\n",
              "      <td>84</td>\n",
              "      <td>62</td>\n",
              "      <td>75</td>\n",
              "      <td>81</td>\n",
              "      <td>82</td>\n",
              "      <td>78</td>\n",
              "      <td>64</td>\n",
              "      <td>44</td>\n",
              "      <td>152</td>\n",
              "      <td>273</td>\n",
              "      <td>312</td>\n",
              "      <td>34</td>\n",
              "      <td>1</td>\n",
              "      <td>1</td>\n",
              "      <td>113</td>\n",
              "      <td>149</td>\n",
              "      <td>148</td>\n",
              "      <td>24</td>\n",
              "      <td>260</td>\n",
              "      <td>21</td>\n",
              "      <td>4</td>\n",
              "      <td>4</td>\n",
              "      <td>1</td>\n",
              "      <td>135</td>\n",
              "      <td>83</td>\n",
              "      <td>95</td>\n",
              "      <td>89</td>\n",
              "      <td>88</td>\n",
              "      <td>86</td>\n",
              "      <td>100</td>\n",
              "      <td>88</td>\n",
              "      <td>95</td>\n",
              "      <td>88</td>\n",
              "      <td>88</td>\n",
              "    </tr>\n",
              "    <tr>\n",
              "      <th>3</th>\n",
              "      <td>84</td>\n",
              "      <td>93</td>\n",
              "      <td>97</td>\n",
              "      <td>85</td>\n",
              "      <td>71</td>\n",
              "      <td>102</td>\n",
              "      <td>111</td>\n",
              "      <td>90</td>\n",
              "      <td>92</td>\n",
              "      <td>100</td>\n",
              "      <td>55</td>\n",
              "      <td>108</td>\n",
              "      <td>8</td>\n",
              "      <td>52</td>\n",
              "      <td>0</td>\n",
              "      <td>286</td>\n",
              "      <td>5</td>\n",
              "      <td>22</td>\n",
              "      <td>73</td>\n",
              "      <td>79</td>\n",
              "      <td>94</td>\n",
              "      <td>273</td>\n",
              "      <td>8</td>\n",
              "      <td>63</td>\n",
              "      <td>54</td>\n",
              "      <td>23</td>\n",
              "      <td>235</td>\n",
              "      <td>68</td>\n",
              "      <td>101</td>\n",
              "      <td>78</td>\n",
              "      <td>87</td>\n",
              "      <td>72</td>\n",
              "      <td>84</td>\n",
              "      <td>82</td>\n",
              "      <td>91</td>\n",
              "      <td>97</td>\n",
              "      <td>82</td>\n",
              "      <td>93</td>\n",
              "    </tr>\n",
              "  </tbody>\n",
              "</table>\n",
              "</div>"
            ],
            "text/plain": [
              "    0   1   2    3    4    5    6   7   ...  30   31   32   33  34  35   36  37\n",
              "0  100  94  98  116  107   92   90  94  ...  92   94  105  100  95  78   79  90\n",
              "1   89  71  84   76   95  101   81  92  ...  89  103   82   75  83  87  108  86\n",
              "2   84  99  78   80   84   62   75  81  ...  89   88   86  100  88  95   88  88\n",
              "3   84  93  97   85   71  102  111  90  ...  87   72   84   82  91  97   82  93\n",
              "\n",
              "[4 rows x 38 columns]"
            ]
          },
          "metadata": {},
          "execution_count": 6
        }
      ]
    },
    {
      "cell_type": "code",
      "metadata": {
        "id": "B-kD6yWBinXL"
      },
      "source": [
        "def shuffle_motif(X, position, length):\n",
        "  \"\"\" Given array X \"\"\"\n",
        "  idx = np.arange(len(X))\n",
        "  idx_shortened = list(idx[:position]) + [idx[position:position+length]] + list(idx[position+length:])\n",
        "  np.random.shuffle(idx_shortened)\n",
        "\n",
        "  position_new = np.where(np.array([np.array([ii]).shape[-1] for ii in idx_shortened])!=1)[0][0]\n",
        "  idx_shuffled = np.concatenate([np.array(ii).reshape(-1,1) for ii in idx_shortened],0).reshape(-1)\n",
        "  y = np.zeros(len(X))\n",
        "  y[position_new] = 1\n",
        "\n",
        "  return X[idx_shuffled],y \n",
        "\n",
        "idx_10 = np.argmax(Y,-1)==10\n",
        "X_10 = X[idx_10]\n",
        "X_10_shuffled = [shuffle_motif(X_, 10, 18) for X_ in X_10]\n",
        "Y_10_shuffled = np.array([y for _,y in X_10_shuffled])\n",
        "X_10_shuffled = np.array([x for x,_ in X_10_shuffled])\n",
        "\n",
        "X[idx_10] = X_10_shuffled\n",
        "Y[idx_10] = Y_10_shuffled"
      ],
      "execution_count": null,
      "outputs": []
    },
    {
      "cell_type": "code",
      "metadata": {
        "colab": {
          "base_uri": "https://localhost:8080/"
        },
        "id": "NKxzCQmYinXL",
        "outputId": "3bc0e368-be4c-418a-8494-d4872befd537"
      },
      "source": [
        "from sklearn.model_selection import train_test_split\n",
        "\n",
        "batch_size = 4\n",
        "X = torch.tensor(X).float()\n",
        "Y = torch.tensor(Y).float()\n",
        "\n",
        "print(X.shape)\n",
        "print(Y.shape)\n",
        "\n",
        "# Split train/test\n",
        "X_train, X_test, Y_train, Y_test = train_test_split(X,Y,train_size=0.8)\n",
        "\n",
        "# Create datasets\n",
        "trainset = CustomDataset(X,Y)\n",
        "testset  = CustomDataset(X,Y) \n",
        "# trainset = CustomDataset(X_train,Y_train)\n",
        "# testset  = CustomDataset(X_test,Y_test) \n",
        "\n",
        "# Create dataloaders\n",
        "trainloader = torch.utils.data.DataLoader(trainset, batch_size=batch_size,\n",
        "                                          shuffle=True, num_workers=2)\n",
        "\n",
        "testloader = torch.utils.data.DataLoader(testset, batch_size=batch_size,\n",
        "                                         shuffle=False, num_workers=2)\n"
      ],
      "execution_count": null,
      "outputs": [
        {
          "output_type": "stream",
          "name": "stdout",
          "text": [
            "torch.Size([357, 38, 4])\n",
            "torch.Size([357, 38])\n"
          ]
        }
      ]
    },
    {
      "cell_type": "code",
      "metadata": {
        "colab": {
          "base_uri": "https://localhost:8080/"
        },
        "id": "SaOu2pAFinXM",
        "outputId": "db5b9785-720f-4727-ae5a-61c2597267b9"
      },
      "source": [
        "pd.DataFrame(torch.max(Y,1)[1].numpy()).value_counts() # Show distribution of positions"
      ],
      "execution_count": null,
      "outputs": [
        {
          "output_type": "execute_result",
          "data": {
            "text/plain": [
              "8     29\n",
              "9     22\n",
              "1     21\n",
              "14    21\n",
              "0     20\n",
              "17    20\n",
              "4     20\n",
              "12    19\n",
              "2     18\n",
              "10    17\n",
              "16    17\n",
              "7     16\n",
              "11    15\n",
              "3     15\n",
              "19    14\n",
              "6     14\n",
              "5     13\n",
              "13    12\n",
              "18    12\n",
              "15    11\n",
              "20    11\n",
              "dtype: int64"
            ]
          },
          "metadata": {},
          "execution_count": 9
        }
      ]
    },
    {
      "cell_type": "markdown",
      "metadata": {
        "id": "d4Jy5DLDinXM"
      },
      "source": [
        "#### Test the iterator by printing out the next batch"
      ]
    },
    {
      "cell_type": "code",
      "metadata": {
        "colab": {
          "base_uri": "https://localhost:8080/"
        },
        "id": "WsF7sCCIinXM",
        "outputId": "632ce86d-3900-4917-b14a-ff5f63f009e1"
      },
      "source": [
        "# get some random training images\n",
        "dataiter = iter(trainloader)\n",
        "dataset_dict = dataiter.next()\n",
        "print(dataset_dict['X'].shape) # (n_batch, *(n_dimensions))"
      ],
      "execution_count": null,
      "outputs": [
        {
          "output_type": "stream",
          "name": "stdout",
          "text": [
            "torch.Size([4, 38, 4])\n"
          ]
        }
      ]
    },
    {
      "cell_type": "markdown",
      "metadata": {
        "id": "VcpH8PcAinXN"
      },
      "source": [
        "# **Set up model**"
      ]
    },
    {
      "cell_type": "markdown",
      "metadata": {
        "id": "I8boxOqminXN"
      },
      "source": [
        "Define VAE"
      ]
    },
    {
      "cell_type": "code",
      "metadata": {
        "id": "SQyuKzzIinXN"
      },
      "source": [
        "import torch.nn as nn\n",
        "import torch.nn.functional as F\n",
        "from torch.distributions.kl import kl_divergence as kl_div\n",
        "from torch.distributions.kl import register_kl\n",
        "\n",
        "\n",
        "from torch.distributions import RelaxedOneHotCategorical, Categorical, Normal\n",
        "\n",
        "class NetVAE(nn.Module):\n",
        "    # weights initialization with default method similar to kaiming\n",
        "    def __init__(self, mode='flatten', latent_dist='cat', num_category = 4, latent_dim=16):\n",
        "\n",
        "        super().__init__()\n",
        "\n",
        "        self.latent_dim = latent_dim\n",
        "        self.latent_dist = latent_dist\n",
        "        self.mode   = mode\n",
        "        self.num_category = num_category\n",
        "\n",
        "        self.drop = nn.Dropout(0.2)\n",
        "        self.softplus = torch.nn.Softplus()\n",
        "        self.softmax = torch.nn.Softmax()\n",
        "\n",
        "        # Flattening method\n",
        "        self.fc1 = nn.Linear(38 * 4, 96)\n",
        "\n",
        "        # Set prior based on the latent_dim type\n",
        "        if latent_dist == 'gaus':\n",
        "          self.prior = torch.distributions.Normal(torch.zeros(self.latent_dim), \n",
        "                                                  torch.ones(self.latent_dim))\n",
        "          d_in = self.latent_dim * 2 # for mu,var\n",
        "          d_out = self.latent_dim\n",
        "        \n",
        "        # Set priors\n",
        "        elif latent_dist == 'cat':\n",
        "          temperature = 0.5\n",
        "          randprobs = torch.rand(self.latent_dim)\n",
        "          self.prior = RelaxedOneHotCategorical(torch.tensor(temperature), probs = torch.tensor(randprobs))\n",
        "          # Match dimensions to number of categories \n",
        "          d_in = self.latent_dim\n",
        "          d_out = self.latent_dim   \n",
        "        \n",
        "        else:\n",
        "          raise ValueError()\n",
        "\n",
        "        # encoder\n",
        "        self.fc2 = nn.Linear(96,d_in)\n",
        "\n",
        "        # decoder\n",
        "        self.fc3 = nn.Linear(d_out,96)\n",
        "        self.fc4 = nn.Linear(96,38*4) # predict flattened version\n",
        "\n",
        "    # Forward pass\n",
        "    def forward(self, x, return_latent = False):\n",
        "\n",
        "        x = torch.flatten(x, 1) # flatten all dimensions except batch\n",
        "\n",
        "        # encoder\n",
        "        x = F.relu(self.fc1(x))\n",
        "        x = self.drop(x)\n",
        "        x = self.fc2(x)\n",
        "\n",
        "        if self.latent_dist == 'gaus':\n",
        "          # Set parameters\n",
        "          z_mu, z_var = torch.chunk(x,2,dim=-1) # split output into mu,var\n",
        "          z_var = self.softplus(z_var)\n",
        "          # Posterior distribution\n",
        "          z_dist = Normal(z_mu,z_var)\n",
        "          # Sample\n",
        "          x = z_dist.rsample()\n",
        "          \n",
        "\n",
        "        elif self.latent_dist == 'cat':\n",
        "          # Posterior distribution\n",
        "          temperature = 0.5\n",
        "          m = self.softmax(x)\n",
        "          z_dist = RelaxedOneHotCategorical(torch.tensor(temperature), probs=torch.tensor(m)) \n",
        "          # Sample \n",
        "          x = z_dist.rsample()\n",
        "\n",
        "        # decoder\n",
        "        x = F.relu(self.fc3(x))\n",
        "        x = self.drop(x)\n",
        "\n",
        "        # Final output layer\n",
        "        x = self.fc4(x)\n",
        "        if return_latent:\n",
        "          out = (x, z_dist)\n",
        "        else:\n",
        "          out = x\n",
        "\n",
        "        return out\n",
        "\n",
        "## Set functions for initializing weights \n",
        "def init_weights(m):\n",
        "    if isinstance(m, nn.Linear):\n",
        "        torch.nn.init.xavier_uniform(m.weight)\n",
        "        m.bias.data.fill_(0.01)"
      ],
      "execution_count": 68,
      "outputs": []
    },
    {
      "cell_type": "markdown",
      "metadata": {
        "id": "NM24NLKXinXO"
      },
      "source": [
        "Set up SummaryWriter for tensorboard"
      ]
    },
    {
      "cell_type": "code",
      "metadata": {
        "id": "H6CG_HgsinXO"
      },
      "source": [
        "rm -r ./runs"
      ],
      "execution_count": null,
      "outputs": []
    },
    {
      "cell_type": "code",
      "metadata": {
        "id": "Af5Vau_tinXO"
      },
      "source": [
        "from torch.utils.tensorboard import SummaryWriter\n",
        "from torchvision import datasets, transforms\n",
        "\n",
        "# Writer will output to ./runs/ directory by default\n",
        "writer = SummaryWriter()"
      ],
      "execution_count": null,
      "outputs": []
    },
    {
      "cell_type": "markdown",
      "metadata": {
        "id": "WTjw2zA5inXO"
      },
      "source": [
        "# **Train the model**"
      ]
    },
    {
      "cell_type": "code",
      "metadata": {
        "colab": {
          "base_uri": "https://localhost:8080/"
        },
        "id": "69abQDyWinXO",
        "outputId": "ff0c2725-8ff4-4b8d-d8d2-67db33b4ef7a"
      },
      "source": [
        "from torch.optim.lr_scheduler import ExponentialLR\n",
        "\n",
        "#set up model, loss, and optimizer (L2 applied for all weights)\n",
        "#can switch between 'gaus' and 'cat'\n",
        "model = NetVAE(latent_dist='cat', latent_dim=16)\n",
        "\n",
        "net = model\n",
        "# net.apply(init_weights) # custom initialization\n",
        "\n",
        "criterion = torch.nn.CrossEntropyLoss(reduction='sum')\n",
        "# optimizer = optim.SGD(net.parameters(), lr=1e-4, momentum=0.9, weight_decay=1e-3) \n",
        "optimizer = optim.AdamW(net.parameters(), lr=1e-3, weight_decay=1e-4) \n",
        "scheduler = ExponentialLR(optimizer, gamma=0.9)\n",
        "# weight decay = L2 regularization\n",
        "# lr = learning rate\n",
        "# gamma = decay rate per epoch\n",
        "\n",
        "num_epoch = 100\n",
        "\n",
        "#optimize\n",
        "for epoch in range(num_epoch):  # loop over the dataset multiple times\n",
        "    running_loss = 0.0\n",
        "    running_loss_kl = 0.0\n",
        "    running_loss_recon = 0.0\n",
        "    \n",
        "    for i, data in enumerate(trainloader, 0):\n",
        "        # get the inputs; data is a list of [inputs, labels]\n",
        "        inputs, labels = data['X'],data['Y']\n",
        "\n",
        "        # zero the parameter gradients\n",
        "        optimizer.zero_grad()\n",
        "\n",
        "        # forward + backward + optimize\n",
        "        outputs, z_dist = net(inputs, return_latent=True)\n",
        "\n",
        "        # Input is one-hot encoding so CrossEntropy can still be used\n",
        "        inputs_long = torch.max(torch.reshape(inputs,(-1,4)),1)[1] # [n_seq * len_seq, 4]\n",
        "        if net.latent_dist == 'gaus':\n",
        "          kl_loss = kl_div(net.prior,z_dist).sum(-1).sum()\n",
        "        elif net.latent_dist == 'cat':\n",
        "          kl_loss = kl_div(Categorical(probs=net.prior.probs),Categorical(probs=z_dist.probs)).sum(-1).sum()\n",
        "        recon_loss = criterion(outputs.view(-1,4), inputs_long)\n",
        "        loss = kl_loss + recon_loss\n",
        "\n",
        "        loss.backward()\n",
        "        optimizer.step()\n",
        "\n",
        "        # print statistics\n",
        "        running_loss += loss.item()\n",
        "        running_loss_kl += kl_loss.item()\n",
        "        running_loss_recon += recon_loss.item()\n",
        "\n",
        "    print('[epoch %d] loss: %.3f' % (epoch + 1, running_loss / i))\n",
        "    writer.add_scalar('Loss/train', running_loss/i, epoch + 1)\n",
        "    writer.add_scalar('LossRecon/train', running_loss_recon/i, epoch + 1)\n",
        "    writer.add_scalar('LossKL/train', running_loss_kl/i, epoch + 1)\n",
        "\n",
        "writer.close()"
      ],
      "execution_count": 69,
      "outputs": [
        {
          "output_type": "stream",
          "name": "stderr",
          "text": [
            "/usr/local/lib/python3.7/dist-packages/ipykernel_launcher.py:38: UserWarning: To copy construct from a tensor, it is recommended to use sourceTensor.clone().detach() or sourceTensor.clone().detach().requires_grad_(True), rather than torch.tensor(sourceTensor).\n",
            "/usr/local/lib/python3.7/dist-packages/ipykernel_launcher.py:76: UserWarning: Implicit dimension choice for softmax has been deprecated. Change the call to include dim=X as an argument.\n",
            "/usr/local/lib/python3.7/dist-packages/ipykernel_launcher.py:77: UserWarning: To copy construct from a tensor, it is recommended to use sourceTensor.clone().detach() or sourceTensor.clone().detach().requires_grad_(True), rather than torch.tensor(sourceTensor).\n"
          ]
        },
        {
          "output_type": "stream",
          "name": "stdout",
          "text": [
            "[epoch 1] loss: 212.398\n",
            "[epoch 2] loss: 211.517\n",
            "[epoch 3] loss: 211.421\n",
            "[epoch 4] loss: 211.244\n",
            "[epoch 5] loss: 211.226\n",
            "[epoch 6] loss: 211.235\n",
            "[epoch 7] loss: 211.301\n",
            "[epoch 8] loss: 211.343\n",
            "[epoch 9] loss: 211.181\n",
            "[epoch 10] loss: 211.327\n",
            "[epoch 11] loss: 211.269\n",
            "[epoch 12] loss: 211.202\n",
            "[epoch 13] loss: 211.284\n",
            "[epoch 14] loss: 211.208\n",
            "[epoch 15] loss: 211.292\n",
            "[epoch 16] loss: 211.174\n",
            "[epoch 17] loss: 211.220\n",
            "[epoch 18] loss: 211.132\n",
            "[epoch 19] loss: 211.088\n",
            "[epoch 20] loss: 211.022\n",
            "[epoch 21] loss: 211.182\n",
            "[epoch 22] loss: 211.143\n",
            "[epoch 23] loss: 211.114\n",
            "[epoch 24] loss: 211.098\n",
            "[epoch 25] loss: 211.088\n",
            "[epoch 26] loss: 211.130\n",
            "[epoch 27] loss: 211.182\n",
            "[epoch 28] loss: 211.199\n",
            "[epoch 29] loss: 211.105\n",
            "[epoch 30] loss: 211.094\n",
            "[epoch 31] loss: 211.098\n",
            "[epoch 32] loss: 211.132\n",
            "[epoch 33] loss: 211.008\n",
            "[epoch 34] loss: 211.074\n",
            "[epoch 35] loss: 211.004\n",
            "[epoch 36] loss: 211.056\n",
            "[epoch 37] loss: 211.098\n",
            "[epoch 38] loss: 211.122\n",
            "[epoch 39] loss: 211.015\n",
            "[epoch 40] loss: 211.083\n",
            "[epoch 41] loss: 211.061\n",
            "[epoch 42] loss: 211.027\n",
            "[epoch 43] loss: 211.011\n",
            "[epoch 44] loss: 210.984\n",
            "[epoch 45] loss: 211.108\n",
            "[epoch 46] loss: 211.062\n",
            "[epoch 47] loss: 211.025\n",
            "[epoch 48] loss: 211.056\n",
            "[epoch 49] loss: 211.041\n",
            "[epoch 50] loss: 211.102\n",
            "[epoch 51] loss: 210.963\n",
            "[epoch 52] loss: 211.066\n",
            "[epoch 53] loss: 211.012\n",
            "[epoch 54] loss: 211.051\n",
            "[epoch 55] loss: 211.079\n",
            "[epoch 56] loss: 211.065\n",
            "[epoch 57] loss: 211.030\n",
            "[epoch 58] loss: 211.021\n",
            "[epoch 59] loss: 210.975\n",
            "[epoch 60] loss: 211.028\n",
            "[epoch 61] loss: 211.008\n",
            "[epoch 62] loss: 211.081\n",
            "[epoch 63] loss: 211.033\n",
            "[epoch 64] loss: 210.930\n",
            "[epoch 65] loss: 210.930\n",
            "[epoch 66] loss: 210.957\n",
            "[epoch 67] loss: 210.987\n",
            "[epoch 68] loss: 210.962\n",
            "[epoch 69] loss: 211.068\n",
            "[epoch 70] loss: 210.994\n",
            "[epoch 71] loss: 211.062\n",
            "[epoch 72] loss: 211.043\n",
            "[epoch 73] loss: 211.143\n",
            "[epoch 74] loss: 211.007\n",
            "[epoch 75] loss: 210.985\n",
            "[epoch 76] loss: 210.987\n",
            "[epoch 77] loss: 210.945\n",
            "[epoch 78] loss: 211.004\n",
            "[epoch 79] loss: 211.005\n",
            "[epoch 80] loss: 210.997\n",
            "[epoch 81] loss: 210.964\n",
            "[epoch 82] loss: 210.943\n",
            "[epoch 83] loss: 210.964\n",
            "[epoch 84] loss: 211.008\n",
            "[epoch 85] loss: 211.026\n",
            "[epoch 86] loss: 210.929\n",
            "[epoch 87] loss: 210.977\n",
            "[epoch 88] loss: 210.986\n",
            "[epoch 89] loss: 211.007\n",
            "[epoch 90] loss: 210.944\n",
            "[epoch 91] loss: 210.935\n",
            "[epoch 92] loss: 211.023\n",
            "[epoch 93] loss: 210.954\n",
            "[epoch 94] loss: 210.942\n",
            "[epoch 95] loss: 211.009\n",
            "[epoch 96] loss: 210.949\n",
            "[epoch 97] loss: 210.926\n",
            "[epoch 98] loss: 211.007\n",
            "[epoch 99] loss: 210.961\n",
            "[epoch 100] loss: 210.959\n"
          ]
        }
      ]
    },
    {
      "cell_type": "code",
      "metadata": {
        "id": "vg-_l9gqinXP"
      },
      "source": [
        "%load_ext tensorboard\n",
        "%tensorboard --logdir runs\n",
        "\n",
        "#it's helpful to unclick \"ignore outliers in chart scaling\""
      ],
      "execution_count": null,
      "outputs": []
    },
    {
      "cell_type": "markdown",
      "metadata": {
        "id": "DFeejzZ2inXP"
      },
      "source": [
        "Plot 2D scatter of latent embedding space\n",
        "Only for AE"
      ]
    },
    {
      "cell_type": "code",
      "metadata": {
        "id": "dH1OQf8jinXP"
      },
      "source": [
        "# get some random test datasets\n",
        "dataset_dict = testset[:]\n",
        "X = dataset_dict[\"X\"]\n",
        "Y = dataset_dict[\"Y\"]\n",
        "\n",
        "labels_long = torch.max(Y,1)[1].numpy().astype('str')\n",
        "X_flattened = X.reshape(len(X),-1).numpy()"
      ],
      "execution_count": null,
      "outputs": []
    },
    {
      "cell_type": "code",
      "metadata": {
        "id": "pfzXpRkLinXQ"
      },
      "source": [
        "# tsne on original input data\n",
        "plot_scatter(X_flattened, labels_long, method='tsne')"
      ],
      "execution_count": null,
      "outputs": []
    },
    {
      "cell_type": "code",
      "metadata": {
        "id": "R5JXVSIOinXQ"
      },
      "source": [
        "# tsne on latent space\n",
        "with torch.no_grad():\n",
        "  X_recon, z = net(X, return_latent=True)\n",
        "\n",
        "if model.latent_dist == 'cat':\n",
        "  X_plot = torch.max(z.probs,1)[1] # for categorical prior\n",
        "elif model.latent_dist == 'gaus':\n",
        "  X_plot = z.mean # for gaussian prior\n",
        "\n",
        "plot_scatter(X_plot.detach().numpy(), labels_long, method='tsne')"
      ],
      "execution_count": null,
      "outputs": []
    },
    {
      "cell_type": "code",
      "metadata": {
        "id": "ErxVN4ctinXQ"
      },
      "source": [
        "## Show comparisons between the original and reconstructed X\n",
        "\n",
        "idx_unique = np.array([np.where(labels_long==ii)[0][0] for ii in np.unique(labels_long)])\n",
        "\n",
        "input    = X[idx_unique]\n",
        "labels   = Y[idx_unique]\n",
        "target   = torch.max(labels,1)[1] # target class index for ground truth label\n",
        "\n",
        "with torch.no_grad():\n",
        "  X_recon= net(input)\n",
        "\n",
        "input_long   = torch.max(input,-1)[1]\n",
        "X_recon_long = torch.max(X_recon.reshape(len(X_recon),38,4),-1)[1]\n",
        "\n",
        "## Full sequence\n",
        "df_list = []\n",
        "bases = np.array([\"A\",\"C\",\"G\",\"T\"])\n",
        "for ii,orig,pred in zip(target,input_long,X_recon_long):\n",
        "  df_list.append((pd.DataFrame({f\"Pos{ii}-Orig\":bases[orig],\n",
        "                                f\"Pos{ii}-Pred\":bases[pred]}).transpose()))\n",
        "\n",
        "pd.concat(df_list)\n",
        "\n"
      ],
      "execution_count": null,
      "outputs": []
    },
    {
      "cell_type": "code",
      "metadata": {
        "id": "eJ9k2mN3inXR"
      },
      "source": [
        "## Show only the motifs\n",
        "df_list = []\n",
        "for ii,orig,pred in zip(target,input_long,X_recon_long):\n",
        "  df_list.append((pd.DataFrame({f\"Pos{ii}-Orig\":bases[orig[ii:ii+18]],\n",
        "                                f\"Pos{ii}-Pred\":bases[pred[ii:ii+18]]}).transpose()))\n",
        "\n",
        "pd.concat(df_list)"
      ],
      "execution_count": null,
      "outputs": []
    },
    {
      "cell_type": "markdown",
      "metadata": {
        "id": "NNwbdHIacob5"
      },
      "source": [
        "# **Question 1**"
      ]
    },
    {
      "cell_type": "markdown",
      "metadata": {
        "id": "pwu7sPYbcr6O"
      },
      "source": [
        "We want to train a VAE to learn latent represntations $Z_i$ of each of the input sequences from Assignment 1. However, as the model is implemented above, the continuous representation $Z_i$ is hard to interpret; what does the continuous representation of a discrete sequence mean? \n",
        "\n",
        "We are therefore inspired to try to make the model more 'interpretable' by thinking back to Assignment 1, where our hidden variables $C_i$ represented the location of the motif in sequence $i$. In this scenario, the hidden variable $C_i$ is discrete (it was the position of the motif).\n",
        "\n",
        "Here we will modify the VAE above, to make the latent variable $Z_i$ discrete, and will check against the dataset from Assignment 1 to see if the latent variable we learn indeed corresponds to the true motif location.\n",
        "\n",
        "Modify this model to the following:\n",
        "\n",
        "$Z_i \\sim \\mbox{Discrete}(1/K,...,1/K)$\n",
        "\n",
        "$X_{i,j} \\sim \\mbox{Discrete}(f_d(\\vec{p}_{i,j} | Z_i, \\theta_d))$\n",
        "\n",
        "$q(Z_i | X_i) = \\mbox{Discrete}(f_e(p_i | X_i, \\theta_e))$\n",
        "\n",
        "Where $p_i$ is a vector of probabilities, predicted by the encoder, that forms a distribution over the possible discrete states of $Z_i$."
      ]
    },
    {
      "cell_type": "markdown",
      "metadata": {
        "id": "b0EqMcGH-EZ7"
      },
      "source": [
        "Answer: See model above"
      ]
    },
    {
      "cell_type": "markdown",
      "metadata": {
        "id": "XXoXLtaCc4UH"
      },
      "source": [
        "# **Question 2**"
      ]
    },
    {
      "cell_type": "markdown",
      "metadata": {
        "id": "l_JqfV3oc-Ln"
      },
      "source": [
        "Train this model on the same dataset as Assignment 1 (as is done in the original model). Calculate a confusion matrix: that is, calculate a $K \\times K$ table $M$, where $M[a,b]$ is the number of sequences where $Z_i = a$, and the actual motif position is $b$. Does our latent variable $Z_i$ give accurate 1-1 matchings to the motif location in each sequence $i$? Why or why not?\n",
        "\n"
      ]
    },
    {
      "cell_type": "markdown",
      "metadata": {
        "id": "MvLdHkYpc5Je"
      },
      "source": [
        "# **Question 3**"
      ]
    },
    {
      "cell_type": "markdown",
      "metadata": {
        "id": "yyFUarpvdRLO"
      },
      "source": [
        "Part of the notebook below (now above, under \"Original Model\") draws a visual representation of the latent variables $Z_i$ in a 2D scatterplot, and colors each sequence based on the known motif location. You can see, when $Z_i$ is continuous, the sequences generally cluster by motif location pretty accurately. Modify the code to visualize the sequences based on the distribution $q(Z_i|X_i)$. How does the visualization compare to the notebook below? Which model (discrete or continuous $Z_i$) leads to latent representations in which sequences with the same motif location cluster?"
      ]
    }
  ]
}