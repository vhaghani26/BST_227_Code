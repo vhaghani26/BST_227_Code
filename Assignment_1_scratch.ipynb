{
  "nbformat": 4,
  "nbformat_minor": 0,
  "metadata": {
    "colab": {
      "name": "Assignment_1_scratch.ipynb",
      "provenance": [],
      "collapsed_sections": [],
      "include_colab_link": true
    },
    "kernelspec": {
      "name": "python3",
      "display_name": "Python 3"
    },
    "language_info": {
      "name": "python"
    }
  },
  "cells": [
    {
      "cell_type": "markdown",
      "metadata": {
        "id": "view-in-github",
        "colab_type": "text"
      },
      "source": [
        "<a href=\"https://colab.research.google.com/github/vhaghani26/BST_227_Code/blob/main/Assignment_1_scratch.ipynb\" target=\"_parent\"><img src=\"https://colab.research.google.com/assets/colab-badge.svg\" alt=\"Open In Colab\"/></a>"
      ]
    },
    {
      "cell_type": "markdown",
      "metadata": {
        "id": "VEB6Jbmxr9P7"
      },
      "source": [
        "# **The EM Algorithm for a more complex sequence model**"
      ]
    },
    {
      "cell_type": "markdown",
      "metadata": {
        "id": "8zDlf51Mr6wp"
      },
      "source": [
        "First, we need to import the modules we plan to use to run the code."
      ]
    },
    {
      "cell_type": "code",
      "metadata": {
        "id": "6yrbLTPNtux7"
      },
      "source": [
        "import requests\n",
        "import pandas as pd\n",
        "import io\n",
        "import numpy as np\n",
        "from sklearn.preprocessing import OneHotEncoder\n",
        "from tqdm import tqdm"
      ],
      "execution_count": 2,
      "outputs": []
    },
    {
      "cell_type": "markdown",
      "metadata": {
        "id": "puqdz-Cxsg4i"
      },
      "source": [
        "# **Download and Process Sequence Data**"
      ]
    },
    {
      "cell_type": "markdown",
      "metadata": {
        "id": "W9liLSAMwHEe"
      },
      "source": [
        "Set data file URL locations"
      ]
    },
    {
      "cell_type": "code",
      "metadata": {
        "id": "143x5QHNwKZg"
      },
      "source": [
        "# URL for at_gc_sequences.txt - this is a single sequence: ATTTAATATAAAATTTGGCCGCCATAAAAAAA\n",
        "at_gc_sequences_txt = 'https://ucdavis.box.com/shared/static/s8g6zx9vwxbbfdxdj2uqzhlvslc1jhsy.txt'\n",
        "# URL for sequence.padded.txt - the real binding site data\n",
        "sequence_padded_txt = 'https://ucdavis.box.com/shared/static/0cacx2xvn4ugxo9h21ci2ngesryigf43.txt'\n",
        "# URL for sequence.motiflocation.padded.txt - the location of the binding sites from sequence.padded.txt\n",
        "sequence_motiflocation_padded_txt = 'https://ucdavis.box.com/shared/static/gd0r12mdkhix86bo9ffbn3dy0fy0prmn.txt'"
      ],
      "execution_count": 3,
      "outputs": []
    },
    {
      "cell_type": "markdown",
      "metadata": {
        "id": "fdktorRL4uEj"
      },
      "source": [
        "Write a function to download and one-hot encoded the sequence data"
      ]
    },
    {
      "cell_type": "code",
      "metadata": {
        "id": "Ka8lwgcXZ5XF"
      },
      "source": [
        "# Function written by Chenxi Liu (slight modifications made)\n",
        "\n",
        "def get_sequence(url, categories=['A', 'C', 'G', 'T']):\n",
        "  # Send a GET request to a specified URL, categories=['A', 'C', 'G', 'T']):\n",
        "  r = requests.get(url)\n",
        "  # Convert sequence data to data frame\n",
        "  df = pd.read_csv(io.StringIO(r.text), sep=\" \", header=None)\n",
        "  # Turn the first sequence into a 2D array where each index is an independent array with a single base pair\n",
        "  s1 = np.array(list(str(df.to_numpy()[0, :][0])), dtype=object).reshape(-1, 1)\n",
        "\n",
        "  # Determine how many sequences there are in the text file\n",
        "  num_seqs = len(df)\n",
        "  # Assume all input sequences are equal length\n",
        "  # Determine how long each sequence is\n",
        "  seq_len = len(list(df.iloc[0, :].values)[0])\n",
        "  # Start to make a one-hot encoded 3D matrix for the seqeunces\n",
        "  # Not one-hot encoded yet, just zeroes \n",
        "  data = np.zeros((num_seqs, seq_len, len(categories)))\n",
        "  # Make a matrix repersenting each category ['A', 'C', 'G', 'T']\n",
        "  bp_counts = np.zeros((1, len(categories)))\n",
        "\n",
        "  # Encode categorical feautures in a one-hot numeric array\n",
        "  # Assign categories to be used\n",
        "  ohe = OneHotEncoder(sparse=False, categories=[np.array(categories, dtype=object)])\n",
        "  # Apply OneHotEncoder to example sequence\n",
        "  ohe.fit(s1)\n",
        "  \n",
        "  # Apply OneHotEncoder to all sequences\n",
        "  for ii in tqdm(range(num_seqs)):\n",
        "    s = list(str(df.to_numpy()[ii, :][0]))\n",
        "    s_a = np.array(s).reshape(-1, 1)\n",
        "    data[ii, :, :] = ohe.transform(s_a)\n",
        "  \n",
        "  # Count the number of each base in the sequence data\n",
        "  for ii in range(len(categories)):\n",
        "    bp_counts[0,ii] = np.sum(data[:,:,ii])\n",
        "  \n",
        "  # Return the one-hot encoded matrix (data),\n",
        "  # the counts for each base pair (bp_counts),\n",
        "  # the number of sequences (N),\n",
        "  # and the length of each sequence (L)\n",
        "  return data, bp_counts, num_seqs, seq_len                                                    "
      ],
      "execution_count": 4,
      "outputs": []
    },
    {
      "cell_type": "markdown",
      "metadata": {
        "id": "od2WQCQrDDyv"
      },
      "source": [
        "Write a modified version of the above function that returns a randomly split training and test data set"
      ]
    },
    {
      "cell_type": "code",
      "metadata": {
        "id": "RJGr38gKDNuE"
      },
      "source": [
        "# Function written by Chenxi Liu and Gerald Quon\n",
        "\n",
        "def get_sequence_traintest(url, categories=['A', 'C', 'G', 'T'], FRACTION_TRAINING=0.8):\n",
        "  # Send a GET request to a specified URL, categories=['A', 'C', 'G', 'T']):\n",
        "  r = requests.get(url)\n",
        "  # Convert sequence data to data frame\n",
        "  df = pd.read_csv(io.StringIO(r.text), sep=\" \", header=None)\n",
        "  # Turn the first sequence into a 2D array where each index is an independent array with a single base pair\n",
        "  s1 = np.array(list(str(df.to_numpy()[0, :][0])), dtype=object).reshape(-1, 1)\n",
        "\n",
        "  # Determine how many sequences there are in the text file\n",
        "  m = len(df)\n",
        "  # Assume all input sequences are equal length\n",
        "  # Determine how long each sequence is\n",
        "  sequence_len = len(list(df.iloc[0, :].values)[0])\n",
        "  # Start to make a one-hot encoded 3D matrix for the seqeunces\n",
        "  # Not one-hot encoded yet, just zeroes \n",
        "  data = np.zeros((m, sequence_len, len(categories)))\n",
        "  # Make a matrix repersenting each category ['A', 'C', 'G', 'T'] for the training set\n",
        "  bp_counts_train = np.zeros((1, len(categories)))\n",
        "  # Make a matrix repersenting each category ['A', 'C', 'G', 'T'] for the test set\n",
        "  bp_counts_test = np.zeros((1, len(categories)))\n",
        "\n",
        "  # Encode categorical feautures in a one-hot numeric array\n",
        "  # Assign categories to be used\n",
        "  ohe = OneHotEncoder(sparse=False, categories=[np.array(categories, dtype=object)])\n",
        "  # Apply OneHotEncoder to example sequence\n",
        "  ohe.fit(s1)\n",
        "\n",
        "  # Apply OneHotEncoder to all sequences\n",
        "  for ii in tqdm(range(m)):\n",
        "    s = list(str(df.to_numpy()[ii, :][0]))\n",
        "    s_a = np.array(s).reshape(-1, 1)\n",
        "    data[ii, :, :] = ohe.transform(s_a)\n",
        "\n",
        "  # Randomly permute rows of matrix\n",
        "  np.random.shuffle(data)\n",
        "\n",
        "  # Split data into training and text data\n",
        "  train_indices = np.arange(start=0,stop=round(FRACTION_TRAINING*data.shape[0]))\n",
        "  test_indices = np.arange(start=round(FRACTION_TRAINING*data.shape[0]), stop=data.shape[0])\n",
        "  \n",
        "  # Count the number of each base in the test and train sets\n",
        "  for ii in range(len(categories)):\n",
        "    bp_counts_train[0,ii] = np.sum(data[train_indices,:,ii])\n",
        "    bp_counts_test[0,ii] = np.sum(data[test_indices,:,ii])\n",
        "  \n",
        "  # Return the base pair counts for the test and train sets\n",
        "  return bp_counts_train, bp_counts_test"
      ],
      "execution_count": 5,
      "outputs": []
    },
    {
      "cell_type": "markdown",
      "metadata": {
        "id": "5H6PrulrH9ap"
      },
      "source": [
        "Load in the data"
      ]
    },
    {
      "cell_type": "code",
      "metadata": {
        "colab": {
          "base_uri": "https://localhost:8080/"
        },
        "id": "uxoFtgmPH_Ev",
        "outputId": "b699c7f2-8817-4d9e-fa8f-20c78c5dc303"
      },
      "source": [
        "# Implement get_sequence()\n",
        "# The variable my_ohe_sequence_padded corresponds to the one-hot encoded matrices that represent the sequence data\n",
        "# The variable my_sequence_padded_bp_counts is the base pair counts for the input sequence data\n",
        "# The variable my_sequence_padded_num_seqs returns the number of sequences in the sequence file\n",
        "# sequence_padded_txt is the variable name containing the URL defined at the beginning\n",
        "my_ohe_sequence_padded, my_sequence_padded_bp_counts, my_sequence_padded_num_seqs, my_sequence_padded_seq_len = get_sequence(sequence_padded_txt, categories=['A', 'C', 'G', 'T'])\n",
        "\n",
        "# Following similar notation above, we can implement get_sequence() for the at_gc_sequences_text data\n",
        "my_ohe_at_gc_sequences, my_at_gc_bp_counts, my_at_gc_num_seqs, my_at_gc_seq_len = get_sequence(at_gc_sequences_txt, categories=['A', 'C', 'G', 'T'])\n",
        "\n",
        "# Now randomly split the sequence_padded_txt into a training vs test set\n",
        "sequence_padded_train_bp_counts, sequence_padded_test_bp_counts = get_sequence_traintest(sequence_padded_txt, categories=['A', 'C', 'G', 'T'])\n",
        "\n",
        "# Get the locations of the motifs for the sequence.padded.txt file\n",
        "sequence_padded_motifs = pd.read_csv(io.StringIO(requests.get(sequence_motiflocation_padded_txt).text), sep=\",\", header=None).to_numpy()"
      ],
      "execution_count": 6,
      "outputs": [
        {
          "output_type": "stream",
          "name": "stderr",
          "text": [
            "100%|██████████| 357/357 [00:00<00:00, 2491.23it/s]\n",
            "100%|██████████| 1/1 [00:00<00:00, 524.62it/s]\n",
            "100%|██████████| 357/357 [00:00<00:00, 2450.92it/s]\n"
          ]
        }
      ]
    },
    {
      "cell_type": "markdown",
      "metadata": {
        "id": "t4CTnzFwsnzw"
      },
      "source": [
        "# **Core EM Code**"
      ]
    },
    {
      "cell_type": "markdown",
      "metadata": {
        "id": "nbAXV5YlM9p0"
      },
      "source": [
        "Write functions that will initialize our parameters"
      ]
    },
    {
      "cell_type": "code",
      "metadata": {
        "id": "p0uB6d0_M_b-"
      },
      "source": [
        "# Make a function to randomly generate L - P + 1 lambdas that sum to 1\n",
        "def initialize_lambda(sequence_length, motif_length):\n",
        "  # Make an empty list to represent our parameter lambda_j\n",
        "  lambda_j = []\n",
        "  # Given our sequence length and motif length, determine how many lambdas we need\n",
        "  lambdas = sequence_length - motif_length + 1\n",
        "  # Fill up our empty matrix with the right number of lambdas using random probabilities\n",
        "  for i in range(lambdas):\n",
        "    lambda_j.append(np.random.random_sample())\n",
        "  # Normalize probabilities by dividing each one by the sum\n",
        "  # Need to set sum_lambdas on the outside of the for loop so it isn't recalculated every time\n",
        "  sum_lambdas = sum(lambda_j)\n",
        "  for i, lmbda in zip(range(lambdas), lambda_j):\n",
        "    lambda_j[i] = (lmbda/sum_lambdas)\n",
        "  # Return our lambda_j parameter\n",
        "  return lambda_j\n",
        "\n",
        "# Make a function to randomly generate psi\n",
        "# Psi is a 2D matrix: 4 x P (P = motif-length) \n",
        "# Each set of 4 corresponds to ['A', 'C', 'G', 'T']\n",
        "def initialize_psi(motif_length):\n",
        "  # Make a 4 x P matrix of zeroes\n",
        "  psi = np.zeros((motif_length, 4), dtype = float)\n",
        "  # For each sub-matrix of 4, generate probabilities that sum to 1\n",
        "  for ind_i, i in zip(range(motif_length), psi):\n",
        "    psi[ind_i] = (np.random.dirichlet(np.ones(4),size=1))\n",
        "  # Return our psi parameter\n",
        "  return psi\n",
        "\n",
        "# Store all initialized parameters in a dictionary called 'params' (params = theta)\n",
        "def initialize_random_params(sequence_length, motif_length):\n",
        "    params = {'lambda_j': initialize_lambda(sequence_length, motif_length),\n",
        "              'psi0': initialize_psi(motif_length),\n",
        "              'psi1': initialize_psi(motif_length)\n",
        "              }\n",
        "    return params"
      ],
      "execution_count": 7,
      "outputs": []
    },
    {
      "cell_type": "markdown",
      "metadata": {
        "id": "fC-Qv1XpvDeI"
      },
      "source": [
        "Write a function to calculate the posterior for the **E-step**"
      ]
    },
    {
      "cell_type": "code",
      "metadata": {
        "id": "dQxY3F0qvG_O"
      },
      "source": [
        ""
      ],
      "execution_count": 7,
      "outputs": []
    },
    {
      "cell_type": "markdown",
      "metadata": {
        "id": "S05xOBVOvHvh"
      },
      "source": [
        "Write a function to do the calculations for the **M-step**\n"
      ]
    },
    {
      "cell_type": "markdown",
      "metadata": {
        "id": "C8xF_OTs58bA"
      },
      "source": [
        "We will start with making a practice posterior of random probabilities. This allows us to troubleshoot the M-step  independently of the E-step. It does not get used in the EM algorithm implementation, but it's here for debugging purposes."
      ]
    },
    {
      "cell_type": "code",
      "metadata": {
        "colab": {
          "base_uri": "https://localhost:8080/"
        },
        "id": "m60-pmemrATK",
        "outputId": "beb9c5ad-a6ca-4659-a0b6-7db1ec9ba6fc"
      },
      "source": [
        "from itertools import chain\n",
        "\n",
        "# Make practice posterior to troubleshoot M-step\n",
        "\n",
        "# Set the number of sequences\n",
        "num_seqs = my_sequence_padded_num_seqs\n",
        "# Set the length of the sequences\n",
        "seq_len = my_sequence_padded_seq_len\n",
        "# Set the motif length\n",
        "motif_length = 6\n",
        "\n",
        "practice_posterior = []\n",
        "for i in range(num_seqs):\n",
        "  new_row = initialize_lambda(seq_len, motif_length)\n",
        "  practice_posterior.append(new_row)\n",
        "\n",
        "print(len(practice_posterior)) # Should be total number of sequences; 357 for sequence padded\n",
        "print(len(practice_posterior[0])) # Should be number of j's; 31 for sequence padded\n",
        "\n",
        "# Verify that I can concatenate arrays to make one large list of the dimensions I want\n",
        "new_posterior = []\n",
        "for i in practice_posterior:\n",
        "  for j in i:\n",
        "    new_posterior.append(j)\n",
        "practice_posterior = np.array(new_posterior)\n",
        "print(practice_posterior.shape)"
      ],
      "execution_count": 41,
      "outputs": [
        {
          "output_type": "stream",
          "name": "stdout",
          "text": [
            "357\n",
            "33\n",
            "(11781,)\n"
          ]
        }
      ]
    },
    {
      "cell_type": "code",
      "metadata": {
        "id": "GGa58p1LvRHp",
        "colab": {
          "base_uri": "https://localhost:8080/"
        },
        "outputId": "57446a45-7a65-4b49-b09b-35a2abb848de"
      },
      "source": [
        "def M_step(onehot_matrix, posterior, motif_length): \n",
        "  # Make dictionary to store new parameters\n",
        "  new_params = {}\n",
        "\n",
        "  # Calculate new lambda_j\n",
        "  # Add every column of the posterior\n",
        "  column_sums = np.array(posterior).sum(axis = 0)\n",
        "  # Divide by the total number of sequences\n",
        "  new_lambda_j = (column_sums/(len(posterior))).tolist()\n",
        "  # Confirm that the sum of our new_lambda_j is 1\n",
        "  print(f'The sum of our new lambda_j is: {sum(new_lambda_j)}')\n",
        "  # Add new_lambda_j to new_params\n",
        "  new_params[\"lambda_j\"] = new_lambda_j\n",
        "\n",
        "  # Calculate new psi1\n",
        "  # Determine how many j positions we have in our input matrix\n",
        "  num_js = len(onehot_matrix[0]) - motif_length + 1\n",
        "  # Determine matrix dimensions and save our window sequences\n",
        "  X_ijmks = []\n",
        "  for i, ind_i in zip(onehot_matrix, range(len(onehot_matrix))):\n",
        "    # Iterate through the indeces for our lambda parameter\n",
        "    for ind_j in range(num_js):\n",
        "        # i[ind_j:ind_j+motif_length] is the base pair identities of the One-Hot encoded matrix within the window starting at j\n",
        "        X_ijmk = (i[ind_j:ind_j+motif_length]).tolist()\n",
        "        # Save each X_ijmk to the X_ijmks list for ease of access\n",
        "        X_ijmks.append(X_ijmk)\n",
        "  #for X_ijmk in X_ijmks:\n",
        "  #  print(X_ijmk)\n",
        "  print(len(X_ijmks))\n",
        "\n",
        "  \n",
        "\n",
        "\n",
        "\n",
        "  # Add new_psi1 to new_params\n",
        "  #new_params[\"psi1\"] = new_psi1\n",
        "  \n",
        "  # Save our new parameters as the output for the function\n",
        "  return new_params\n",
        "\n",
        "\n",
        "\n",
        "\n",
        "\n",
        "# Scratch code\n",
        "\n",
        "        # Determine length of m for psi matrix; should be equal to motif length\n",
        "        #my_ms = bp_window.shape[0]\n",
        "        # Determine length of k for psi matrix; should be 4 for ['A', 'C', 'G', 'T']\n",
        "        #my_ks = bp_window.shape[1]\n",
        "\n",
        "  #new_psi0 = []\n",
        "  #new_psi1 = []\n",
        "\n",
        "  #for i in onehot_matrix:\n",
        "    #new_lambda_j = posterior/(len(onehot_matrix))\n",
        "    #lambda_j.append(new_lambda_j)\n",
        "\n",
        "  #new_params[\"psi0\"] = new_psi0\n",
        "  #new_params[\"psi1\"] = new_psi1\n",
        "  #return params\n",
        "\n",
        "test = M_step(my_ohe_sequence_padded, practice_posterior, motif_length)\n",
        "print(test)"
      ],
      "execution_count": 17,
      "outputs": [
        {
          "output_type": "stream",
          "name": "stdout",
          "text": [
            "The sum of our new lambda_j is: 0.9999999999999999\n",
            "11781\n",
            "{'lambda_j': [0.03021687962773592, 0.03093318246869626, 0.0308289182797168, 0.030136378857777646, 0.031483754644740056, 0.030921237909274125, 0.030123178921354316, 0.03040379626280684, 0.029399695140872036, 0.02951247463392549, 0.02976837659381738, 0.029246607998378787, 0.028861816878531656, 0.028574471046051913, 0.02928860106957047, 0.0308049064136219, 0.0289882504999659, 0.030938902609313243, 0.031702812309320184, 0.030858571851042033, 0.030297859214348827, 0.030447367919859126, 0.03043072468282622, 0.029366023936391938, 0.03152886716741943, 0.030519557580351114, 0.031036293372540588, 0.03088245664471871, 0.030358520920145883, 0.02944581166565887, 0.03114656855136928, 0.030154588424768074, 0.03139254590308897]}\n"
          ]
        }
      ]
    },
    {
      "cell_type": "markdown",
      "metadata": {
        "id": "s4G4z6HyvUM1"
      },
      "source": [
        "Compute the **log likelihood**"
      ]
    },
    {
      "cell_type": "code",
      "metadata": {
        "id": "oQuPi4fJvS37"
      },
      "source": [
        ""
      ],
      "execution_count": 8,
      "outputs": []
    },
    {
      "cell_type": "markdown",
      "metadata": {
        "id": "iS8dXrNmsw2d"
      },
      "source": [
        "# **Run EM**"
      ]
    },
    {
      "cell_type": "markdown",
      "metadata": {
        "id": "cpOwruPhr_jA"
      },
      "source": [
        "Initialize our parameters"
      ]
    },
    {
      "cell_type": "code",
      "metadata": {
        "id": "tmEiILocsBGL",
        "colab": {
          "base_uri": "https://localhost:8080/"
        },
        "outputId": "411c4acc-0595-4491-eea6-116d7525b693"
      },
      "source": [
        "# Set a random seed for troubleshooting/consistency in outputs (can delete/change if desired)\n",
        "np.random.seed(2)\n",
        "\n",
        "# Set the number of sequences\n",
        "num_seqs = my_sequence_padded_num_seqs\n",
        "# Set the length of the sequences\n",
        "seq_len = my_sequence_padded_seq_len\n",
        "# Set the motif length\n",
        "motif_length = 6\n",
        "\n",
        "params = initialize_random_params(seq_len, motif_length)\n",
        "print(\"Lambda_j is:\\n\", params['lambda_j'])\n",
        "print(\"Psi0 is:\\n\", params['psi0'])\n",
        "print(\"Psi1 is:\\n\", params['psi1'])"
      ],
      "execution_count": 9,
      "outputs": [
        {
          "output_type": "stream",
          "name": "stdout",
          "text": [
            "Lambda_j is:\n",
            " [0.03443127763376258, 0.002047439733074389, 0.04340780428331625, 0.03437816838406946, 0.033197178294655315, 0.026087116794726164, 0.016161459460441677, 0.04890490798904678, 0.02366425206545562, 0.021071815161579275, 0.04905202179826653, 0.04178727381043863, 0.010628012940845772, 0.040558159724004506, 0.014565537784096494, 0.062019285953074946, 0.06743991787240476, 0.03903074481175336, 0.06685443658444391, 0.006289742191249903, 0.03990016469662172, 0.005155789086612571, 0.03380956669515665, 0.0076232147234357945, 0.010042044684554751, 0.04712601755007538, 0.01784856176788966, 0.008445687163127498, 0.017397965303771037, 0.027626391692564565, 0.036941993303414154, 0.01593201434267596, 0.05057403571939411]\n",
            "Psi0 is:\n",
            " [[0.19232718 0.20510193 0.14259263 0.45997827]\n",
            " [0.15516889 0.03167617 0.21579997 0.59735497]\n",
            " [0.16697116 0.53064553 0.10068012 0.2017032 ]\n",
            " [0.1641874  0.16895683 0.44109466 0.2257611 ]\n",
            " [0.69834564 0.17852575 0.01946338 0.10366524]\n",
            " [0.69555909 0.1905723  0.01008141 0.1037872 ]]\n",
            "Psi1 is:\n",
            " [[0.00674938 0.49443112 0.34240687 0.15641263]\n",
            " [0.31742323 0.49913836 0.06390796 0.11953044]\n",
            " [0.13972456 0.08299535 0.0087987  0.76848139]\n",
            " [0.29479579 0.35501623 0.19790936 0.15227862]\n",
            " [0.11977231 0.43674607 0.32675677 0.11672485]\n",
            " [0.00468386 0.57071756 0.11220053 0.31239805]]\n"
          ]
        }
      ]
    },
    {
      "cell_type": "code",
      "metadata": {
        "id": "1af_j4kiOZti"
      },
      "source": [
        "\n"
      ],
      "execution_count": 9,
      "outputs": []
    },
    {
      "cell_type": "markdown",
      "metadata": {
        "id": "9I1WRWsu6_V3"
      },
      "source": [
        "# **Run Experiments on EM Algorithm Model**"
      ]
    },
    {
      "cell_type": "markdown",
      "metadata": {
        "id": "6XNRby2I804q"
      },
      "source": [
        "Here, we will answer the questions to Assignment 1 Part 3 regarding our updated EM algorithm model."
      ]
    },
    {
      "cell_type": "markdown",
      "metadata": {
        "id": "QATNfYSQ7uJS"
      },
      "source": [
        "## 1. Plot the log likelihood as a function of EM iteration, for 100 iterations, for 30 different random initializations of the model parameter. Does the log likelihood monotonically increase every iteration of every initialization?"
      ]
    },
    {
      "cell_type": "code",
      "metadata": {
        "id": "mXPDC98w75PO"
      },
      "source": [
        ""
      ],
      "execution_count": 9,
      "outputs": []
    },
    {
      "cell_type": "markdown",
      "metadata": {
        "id": "WO67ygHC76X4"
      },
      "source": [
        "## 2. Draw a sequence logo visualization of the foreground motif your model learns, $\\psi^{l}_{m, k}$. You could try LogoMaker, a Python library (https://logomaker.readthedocs.io/en/latest/). Alternatively, there are a number of web servers for doing this; you could draw samples from your foreground model, and input those drawn sequences into e.g. the WebLogo server (https://weblogo.berkeley.edu)."
      ]
    },
    {
      "cell_type": "code",
      "metadata": {
        "id": "sU_x1Agb8ySl"
      },
      "source": [
        ""
      ],
      "execution_count": 9,
      "outputs": []
    },
    {
      "cell_type": "markdown",
      "metadata": {
        "id": "dpV2tMRA9I2k"
      },
      "source": [
        "## 3. Now run your model using model random initializations. How do the model parameters $\\psi^{l}_{m, k}$ compare across runs? What about their log likelihoods?"
      ]
    },
    {
      "cell_type": "code",
      "metadata": {
        "id": "TPxQA-BW9RBd"
      },
      "source": [
        ""
      ],
      "execution_count": 9,
      "outputs": []
    },
    {
      "cell_type": "markdown",
      "metadata": {
        "id": "Ixs58dhD9WRZ"
      },
      "source": [
        "## 4. Plot a figure that shows the distribution over $C_{ij}$ for a few of the input sequences, and compare that (in the visualization) to the ground truth. How close was your model to predicting the real motif location?"
      ]
    },
    {
      "cell_type": "code",
      "metadata": {
        "id": "nEeQ51eY9cO_"
      },
      "source": [
        ""
      ],
      "execution_count": 9,
      "outputs": []
    },
    {
      "cell_type": "markdown",
      "metadata": {
        "id": "iHeUPqxu9nBr"
      },
      "source": [
        "## 5. Train your model using 80% of the data, holding out the remaining 20%. Evaluate the log likelihood of your held out data using the model you implemented in this assignment, and compare it to the log likelihood from the simple latent model we used in class, using the same training/held out data. Which one is better?"
      ]
    },
    {
      "cell_type": "code",
      "metadata": {
        "id": "aWZ_T8zj9qMr"
      },
      "source": [
        ""
      ],
      "execution_count": 9,
      "outputs": []
    },
    {
      "cell_type": "markdown",
      "metadata": {
        "id": "17Ed0I_N9s9Z"
      },
      "source": [
        "## 6. Train your model on the atgcsequences.txt file (that had a GC-rich region embedded between two flanking AT-rich regions). Does the model work better?"
      ]
    },
    {
      "cell_type": "code",
      "metadata": {
        "id": "Bq80KKxQ-Ed3"
      },
      "source": [
        ""
      ],
      "execution_count": 9,
      "outputs": []
    },
    {
      "cell_type": "markdown",
      "metadata": {
        "id": "jkc5IO2o-E6i"
      },
      "source": [
        "## 7. The original training set in sequence.padded.txt has 357 sequences. Randomly sample another 357 sequences of the same length (just from a simple generator, that produces each base at equal frequency) and train the model with all data. Does it still recover the same motif? What if you add 3000 noisy sequences?"
      ]
    },
    {
      "cell_type": "markdown",
      "metadata": {
        "id": "4EQJ9k8E-7T0"
      },
      "source": [
        "Generate 357 sequences of the same length that produces each base at equal frequency."
      ]
    },
    {
      "cell_type": "code",
      "metadata": {
        "id": "bMYZPCktUaAg",
        "colab": {
          "base_uri": "https://localhost:8080/"
        },
        "outputId": "2f23775b-2169-4eff-87ff-3cbe61724f42"
      },
      "source": [
        "import random\n",
        "\n",
        "# Number of sequences to generate\n",
        "seqs = 357\n",
        "# The minimum sequence length\n",
        "min = 40\n",
        "# The maximum sequence length\n",
        "max = 40\n",
        "# GC-content as a proportion\n",
        "gc = 0.5\n",
        "\n",
        "assert(seqs > 0)\n",
        "assert(min > 0)\n",
        "assert(max >= min)\n",
        "assert(gc >= 0 and gc <= 1)\n",
        "\n",
        "# Use probabilities for random sequence generation\n",
        "# This does not guarantee that all bases are present at equal frequency\n",
        "# But this means the sequence length does not have to be divisible by 4\n",
        "# And base pair frequencies are close to equal\n",
        "my_seqs = []\n",
        "for i in range(seqs):\n",
        "    l = random.randint(min, max)\n",
        "    seq = []\n",
        "    for j in range(l):\n",
        "        r = random.random()\n",
        "        if r < gc:\n",
        "            r = random.random()\n",
        "            if r < 0.5: seq.append('G')\n",
        "            else:       seq.append('C')\n",
        "        else:\n",
        "            r = random.random()\n",
        "            if r < 0.5: seq.append('A')\n",
        "            else:       seq.append('T')\n",
        "    my_seqs.append(''.join(seq))\n",
        "\n",
        "print(my_seqs)"
      ],
      "execution_count": 10,
      "outputs": [
        {
          "output_type": "stream",
          "name": "stdout",
          "text": [
            "['CAGTTCAGCCATTTGTGAATCGACTTATGAATTTAATCAA', 'AAAATGTAAGATACTCCTGAGATCCATTCCTCTCTTCTTA', 'CGTAACACGGAGTGTGGCCTCCAGTAAAACCCCAACGATT', 'GCCGTGAGTAACCTTGCCAGGGACATGCTCGGCTTGCGCC', 'CTATGAAAATAGCTACGTATATTTCGGTTGTGAGGAACAT', 'AAGAGATGATGCACGGCGGTATATACGACTTTAGCGCCAG', 'CTATCAACATTGAGGTTCGTAACATAGGTCAATTGGAATG', 'AATTTAGCTAAGATAGATGGAGCTTCGCTATCAACTCGCG', 'ATCATAGATTCCTCGCCAACGGATTCACAGGGCGACATCC', 'GTGAAAACCGGATTTTGTCCGTCGAGCGAACACCCGCATC', 'GCTTCGACCGGCACCGGGCACAAAGCTCTATATGATTGTG', 'TATCGGGCTGTCATCTAGATATGTGTGTCAGCGCGGTAAA', 'ACCACACTAACTGTATGGTAGTGGCGAAATATTACCCTGG', 'CAGTTCCTTTCCCACTCGCATGGCGGTGGATTGGTGGCTG', 'CGCGCCCTATAAGCAATCTTGTCGTAATGATGGCTAATGA', 'AACCCCGAAGAAGTCCGAGTCTAGATCACCCAACTTACGA', 'TGTGATGCAGGCATCGATCTCCCATGGCGCCCATCCTCGG', 'CAGCCACCCGCTCAACCGGCCTCGCTGATGAGCCTCTCGA', 'CCGCCCCAATAGCTTCTAACTTGGGCTCACTTGTGATGTC', 'AAGAAGCCTTGCAGTTCCGAGTGAGCAAGGCACGCGTCTA', 'CGCACGGGTTACAATATAATCTGGTCTAAGTCTGGTCACT', 'GAGCCCTGTTGCCTACCGTGGAGCCACTGACATTACGACT', 'GAGTCCGCGGAGCGAGGGCTTGCTAAGTTCTCTGGCCTAA', 'GCGGATGAACTTGAGGTGTGGTGCGCGTCGATCCCATCTA', 'CATGGGACGCCGCATCAATCTGGAAAATGGCCGTACAACT', 'CAACACTTGCACATTCCGAAACACCCGGATATCGCTTGCG', 'GTGTTTTACATGCAGTTCAACATGATAGGTTGTAACAGAC', 'GAATGTAATACGATGTACCCGGATAGTGGCCCGGACCAGA', 'CGTTGCGGCGCAAGAATCTGGCTGAGTGTACAACGCTGAA', 'CGCCATTCTGACGTTAAACGGCCTAGGAGGTCCTGCTGCC', 'CAGAAACTGGCCGGAGTCTTAGATCCCAATGCACACATGG', 'CAGTCGAGGTCTTTGATCATCCTTGTGTGAGTCACTCGAA', 'AAGCCAGTAGCCCGGCCTTATCGTCGAGTAGGTCCCACAA', 'TTCGCCCCGGTCTCTTTCCGAACCGGACTGTCTTGATGCA', 'TTGACCCGTTGGCTCTACTGTGAGTCTCCGCCCTGTTGCG', 'AATTCAGGTCTATTAAGACCGGAATAAGTTCGGCGTCGGC', 'CGGTACCGGAACGCCGAATAGTTGAGCTACTCATGTGAGT', 'GTTAACGTTTCCCCCCGTGCGATAGTGCACTCCCAGTAAG', 'ACATCGGCATGAACGAACTGTGGTATTATGACGTTTACGA', 'ACGATGTGTTGATATCCCCTCCTAATGCTGAACGATTGTC', 'TAAAGGGCCACGTAGCCCTGGGTCTATACTACTCCAATCA', 'TGCGATCCACCGATGACGCCTTGATGCGTGAAGTCGGTGC', 'GCTAATACCTAGGCACTGGATATACTGGCGAAGTTACTGC', 'TATTGAGCCGGCGTGGATGGCCACAATGCGCCCCCCGATC', 'GGAGCTATTCTACCGTTTTGCTCAGCCTGCGCCAGGATCG', 'GCGAACTGTTTATATACGGAAGTCAATGGGGGCGCCCACT', 'CCTACATACAATTGCAGAGACCACCTAAATAGGGGTCTAG', 'ATGACATCATGCAGCTAGGGTCTGTAACTTCTGAATGTGG', 'GGCCTATCTAGTCCACCGGCGGACTGGAGATTCGAGGTGC', 'CCACTTTCCAGCAACTGGACATAACCTGGAAGTGTTACCT', 'CACGCGACGATCCTGGGGTTACGAGACCGTAAACGCCATT', 'TTGTGGATGTACGCGTTTACTAACTCACGGGGACACCAAC', 'ATGAAAGTGGCAACCTTCTCAGGTGTCGCTCTTTCCCCCC', 'TGCGTTTTGCAGCACCCACGTCGCAAAAGAGTTGCAAGAG', 'GCTATTAGTGCTGCGCACATAACTTTAGCCCTATTTCCAA', 'GGACCTATCGTAGGTACTGCGCACATCGGCATGATCGTTG', 'AGATGCGAGGACCTCTGCTAGAAATCCAGTTTTTACGAGT', 'TCCCGTTAACTTGTAGTTGGATTGAGGCCCAGGGAACATA', 'TTCGGGCCAGGTGTGTGAAAGATGAAGTAGGGTAAGATTT', 'CCAACCTCCAGTATTCTGGTACAGGGCACTATTTCTATAC', 'CTTGCATAGTGACCAATACCGCGATGGCATATTGGGTACC', 'TGCTATCCACGGCGGCCATACCCCCATAGCAACGCCCATT', 'TTTCAGCGCTTACCTCAATATTTTGCCCAACGTTATCTGA', 'CGAGAACTGAATATCGATGCAAGGGTGAGCTCTTCTAAAC', 'AGATAAATCCGGTCGACACTGGATCCAAGGGGGTGGTCTC', 'TATACCATGACGTTATGCATGAAGGAACGATGATAGCGAT', 'TGCGATGAGTAGCCGATTACATCCGTCCCTTAATATCGGA', 'TCTCATTTCCCGAGGCTTAACCGCGTAAAGCCCCCGCCGT', 'ACTCTGAACTGGAAATGCCTTATTGTTCTTCATGTATGAC', 'CACTGCAACTCTAGCCGTGTCAAGTAGTGGAGCATGTTAG', 'AGAAATGTCTCCACCTTTCCATACATTAAAGGCTATTAAG', 'AAAGCCAATAAGGGCCGACCGGGACAATACCATAATGCAA', 'AGCCCCCACGACGGTTTGACAAGTGTACATTACCACACGT', 'TCAAGGCTAGGTAGGGAGGCTGTTAATTGAGGCGCCTATT', 'AGCATGCGTCCGTATTGTAGTGAGGACTGCTGTGTCCTCC', 'TTTAAAATGTCTTTTAGATGTCATAAGAATCTAAATTGCT', 'TCTTCTAGAAAGGCTTTAGCCAGAACTCCTTTCTTCTTGT', 'GGGTAGTGCTGAAATTAGTCTGAGCCATCGGTTATTGACT', 'TTGGAGTTCCGAATCTTATCGGGGTTGCCTTCATGCATGG', 'CCCACTCTAGTTGGCCCGCCTCAGTACGACCGAATGAAAG', 'CACAACCAGAATGGCTTCTCCACCTCACTTATGGGTGTCA', 'ATCGCGCATTGTACTCCCTACCAGGGGATATCAGGTGTGC', 'TGCTCTTGAGTCCGCCCCAGCGCTCATCTCCCACGAGTCT', 'AGAGTTCCAGGGATTGTTGTCCTGGCGAACGGGCGGTATC', 'CAGCCTTAGAGCAAACTGTGATAACATACTGGTCGGTATG', 'TTGTACGAGCAAGTCTAATAATGCTCAGAGCAATATAGGT', 'TTACCAAGCTAAAGCAGGCAGTCGAGCTACTTCAGACTCG', 'GGAAGCTAGATTTAAGATCAGCGATCCCGAACTACGTGTA', 'GAACATCAAGTAGACCGTTGCACGACGCCCGTATGCACAC', 'TGGACCGGATGGCCTTGTGCCATTACTTTCTTCCGTTGTA', 'TCAAAGTATCTGTTAGTAATACGTCTGAACATAGTTCCTA', 'TTTCGTGGTCGAGAGCCCGGGAACGGGAATAGAATATAAG', 'GTGTAGGACGGCCCGGGAGTTTGCACTGTTGTGGTAGAGT', 'GGGCTTAATACCACCTCAACCCTGTGCGTCTAGGGCGGCA', 'GGGCCACTGCACTAACGGGACGCTCGTGAAGGCAGATGTG', 'CAAGGGACAAGGAAAAGCGGAGTAGACGCCTTTGTCGTAC', 'CGCGACGCCTGTGTCAGACTGGCTTTCACGATCGTGGGTG', 'TGTTTGGAGCCTCAAGCGAGGCTGGACTCCGGGGAGCAAA', 'CCGCGTGCCATGTTTCACATTGTTCGCTGTGAAATAAATT', 'TTGGCACGCGCTTACCATTCTATAACCATGCCTATTAGAC', 'TTATCCACCTATATATATAGATCCTCCAGAAGGTCAGCTT', 'ATAGCAGTTCCGGTTGATCTGAGGATGCGAGAGGAAACCT', 'ATCCAACATCCTTAAGAATGAACTCGAGACGAGGATACCA', 'TGCAACCGCATATAGCATGGAGGCGGCAGTATTACGGGGA', 'TGGCGAGCACAATATCAATACAGTTTCCAGATGTAACCCG', 'GCTAAAGGAGGTCAGAGACCAGGTAGGCTATACTGATTGC', 'GATGTTGCCCCACATTGCCCCGAGGAACCCCCTCCATGCC', 'GTTGCTTGCACACCCATGTTGACTTACGAACGCCCCCATG', 'TGGTAAACCAGTTTGACCGGAGCTTAGCATGGGCTGTCAA', 'CCCAGTCAGCGCTCTATGGTGTCCTCCACACGTGGAGTGA', 'GGGGCCGGGGCTCCAGCCCTCACCCATCATAACTTCGCCT', 'TATAGTCTGCACTCGAGATTCATACTCCATAAGAGACCTA', 'CGGAGTGGTCACTCCAATCAGAAAAATACATGGACATGTG', 'ACCAACGGACGGTGCTACGCGGTTCCAGGCTTACCTAATT', 'GCCGCTTCCTGAGGGCTACTCCCCAGCTGCGATGAGAGGC', 'GGCAATAACATGCTACGAGTAAGGCTGCCTCGCGTGGCAT', 'CGATAGTAGCGGAGACCGTTTGCCCACCTAGCCGCAACGC', 'ACAAATAGGCCCGGCAAGTGTTTTACTCGGAACTACCCAT', 'TGGTACCCAATACGAGCCAGCATATGGAGGGACTAAAGAC', 'TAATGACCGTTTTGCGGGTCGTTGGAAAATTAACAAGTCC', 'TCATGTAGGCTCCCTAAGTGATCCAAATCACCGCTATTAT', 'CTACCCAGTGTCCCGCCCTATGTTTATCCACTAAGCACAT', 'GCAATTTATTGCGTTCACTCATACATGTCGTGTTGGGGGG', 'GGTAAACCCATTAAAGGGCTCATCGAAGACGCAGACGATC', 'ATCCTAACGTCGGTGGTACTAGACTTGGCTCCGTTCCGCC', 'GAATTCGGGGAACAAATATCGAGACTTAAGCGCGCAGCCC', 'GCACACACAGTCAGTATAATCGGTTCGTCGCTTGCTTCAG', 'TAGGTTCGTCTTTAAGTACGTCATTAAGGATTAGAGTAAG', 'CATGAAATTCGTCTGGATCGATTACATGCTAATCCCACCG', 'AATGCCCCTTTACAGATACGCTCATATACACTGGTATGAA', 'CCAGGCCGTCATTATATGAGGCCTATTGTGATGTCCATGA', 'TATTGCGCACAGCCGATTTTCGGTTGCAGGTTACAACGCG', 'GTCCATAAGGGCAGGCAGCAGCTCCCGCTCTTGCGCTGAG', 'AGGAAGGACCGTAAATTACAGTAAATACGTGCCCTAGCCA', 'AATAGAATACCATCGCGTCCAGTGATGTACCGAACCTCGC', 'AGACCATGACCCCAACTTGTATCGACCCAAAAACCTCATA', 'CATTCACGGAGAGACTTACGACGAAACATGGTGTCATTAT', 'CACCGGAGGACACTAGTGGCTAACGTCAGCAAACAGTTGA', 'AAATCCCTCGAATAGAAGCTCGTCACTTCGCTTAGAACTA', 'GACATGTTAGGTTGTTTTCGGTGACTGGTCGGTAATTATG', 'AACACTCTTCTATTGATGACGTTTAGCCCAAGTAAGATCG', 'GCCCGAGCCTCGTGAAAGCTAGCGCTCTCCTGGAAGGCAA', 'AGCGGGATAGTTCAAGTAACTACCCATTCAACCTATGAGT', 'GGGTGGGACTTTGAGTGAATTTGGAAACAGCGCCACAGCC', 'TGCGGAGGATGCTCGGCCCGACCTACCACAGGCAAAGGAA', 'TTCTCCTTTCTGGGGAGCGTTCGGGTGGACGAAGTGCGAC', 'AGTACTTTGATATCCACGGTTGTGATTAAATGCACTTTAT', 'AGCCGCTCGCCGACTGGCGTAAAGTGAGGTACTGGCAAGC', 'CGACTGACTTCAAGTTGATTCACGTATTCTAGTATCATTT', 'CCACCAATTTTTTCAGTTCTCAGACTTATGATTTCCTTGT', 'CCCATTGTTCGGCGGACATGCAGCATTATGTTCCGTTATG', 'ATAGTGTATCTAGTAGCCGCAGATTATATGAATCAAATGG', 'CTCCGATGGGGCTCGGGTAAGCCCGACACTGAGCCTCAAA', 'AGGTAAGAGGACGGGATTCCTACCGCCATGAGAGTGGTCT', 'CATCAATCTGGATAGGACGAGTCGTCACATACTGGAAAAA', 'CGGAGGATATAGCGGGTCTACTCGGTAAAAGCGTAGGTAG', 'CCATAACGAGAAACGCGTAAAGTCTCAAGTTCATCCACCG', 'TAATTTGAGGTGGGTATGAGGGCCCTCAAAAGAACCTTAC', 'TCAAATCTCAGGTAGAAACCGACGCACCAAGAACGGGAAT', 'ATTGCTAGGGCACATGACGTGCGAGTCAGCGGGCGACGTA', 'TGAGGCAAGCTCACGAAAAGACAGAAAAACCTGGAGAGGT', 'CGATGTTTTACGGACAATACCGCTTAGTCGCTCTTTCAAT', 'ATCAGACTACAGTCCAACTTACAGGGCCGACGGCCCCTTG', 'ATTCGCACCCGGCTTCTTAGTTCCCGGGGACTAGACACTC', 'GTCCAGATCGAGAGTATGAGCCATACCTATACATGAAATC', 'GCTCATAAATGCCACTAGGCGTTTTATGGGCAGTCTTCGA', 'GGTTCCAGTATCCAAGATCTGCGGCTTTCCTTATAAGAGT', 'ATGCAACTCGAATTGTAGTGGGTCACAGTTCATAGCTCAG', 'ACGAGATCACTCGCGGAAAAACGCACAGCCACCCCCTCAC', 'CGCCAGGTTTAAACAAGGCTCTGACGTCGACGGCAAATGT', 'AAAATACGATAGAAGATAGACCATATAATCCGCCTAGTCA', 'CCGTGGACGTCATGTTCACGCGAATCAGAGAGTGTATGTA', 'GCCGGGCATACCAGCGAATCCAATATTCTGGACTTACTCA', 'TATCTGGGTATAATGGTCAAAGCAGAATCTCTGACGCCCC', 'TAAGGATTAAGGGAAGGGTTACCAGGGTGGTAGGATGAGA', 'CCCGCGCAACGCCTTTGGGCCTAGCCTATGTTCGACGGCT', 'GCAAAGGGGAGCAGTCGCTACTATCGTTTCTCCAGCATAA', 'AGATCCGCGCGTCCTCATCTGCCGTCATCGGTTGCTTGTG', 'TTAGGGTCGGCCAGGGACCAGTTACAGACGGTATATCCCC', 'CGCCTTCGACACCGGAGCGCCCTACGACGAGTAAGGTCCT', 'CACATATCGAGTTCGAGGTAGCACCTGAAAGACCGTGTGG', 'GGCAAATGAGTTGTACGGAGTGGTTATGTGGCGCTCACCT', 'ATATCGAGTCTAATCGTAAGAATCGCCGAGTCGCCTTATT', 'TTATGCAGACCAACTAATTTTGATAAGTAAGCTAAGTAAG', 'AAATATCCAGCAGCTTTGCACTTGAATCGGTTCAAATGCT', 'AAAATACTGAGACATATCACACAGACTTAACAATTTGTTT', 'AATACTGCCACGGGGGCTCAGACCCGTAGCCCAATACTAC', 'TCCTAAACGCAGGAAAGGCGTCAGCCATAAGGGTACTGAG', 'CATGAGGCTCCGCTCAGGCGACAACGTTCGGCACCACATC', 'TGGTACTTACTCCACCTGCCTCAAATTGGCCCGGTGTACC', 'GTTGAGCCTGGGCCTCTCGAGGTCCGAGGGAGTCCTTACT', 'TATGCTTATCGAGAGAGCCAGTGTACGTTGATGTATCAGT', 'AAGTGGGTAGCTCGATACGGCGCTTCTCGGCTTTGGAATG', 'AGCATGGATTTCTTAAGTCATACCTGTCAGCAGTACAGAC', 'GGCCGGGAGATCGGTCGGATCGAGGTACCCACGAAACGCT', 'TCGACTTCCGGCTCGACGTCAGTATGACATGACTTTTGAC', 'GATTGTCGGGGTGAACCAAGCTCCCTGCTACGCATTATGG', 'GGCGATTTACCGGTATAGTTAACATAACCGAATTTGTACT', 'CATTACGGCGCCCGCGGATGCGCAACGTCGGTGACGCGTC', 'TAACCTAGAGAGCTATGCGATTTAATAGAATACCACCCAC', 'ATGCAGTGGGTAACCTCCGTGTTTAGGAGGTGCAGCGAAG', 'GCGGGGGAGAGATACTTCCCCGCACGTAGTCGCCTCCTAA', 'GTATCTTTAAGAGCTTGTAGACATTGTGGTTCTTAACCCG', 'TGTTTCTGCAATGGTTTGGGACTTACAGAAACAGCGCTGT', 'GGATACCAATGCTACTAGAGTATGGTAATGTCACTTTTTT', 'ATAGTCCGGGATGAGGTGCCGGTATTCGGACGAAGTGGGG', 'TATTATCCGGAAGCTGAGATACGTCAGGTGGGCCTCATTG', 'CTGTGTAAGGAGTGATCTCAGTACGGTCAGGGTGTTGTAA', 'AGCCCCGCCACCTTAGAGACTGATACCATCCCAAATGGCT', 'TGAAATAACGTTCTCTAGCACACTAAACGCTCACCCGTCG', 'TCGTTGTAAGGAATCAGTTGAATGAGCCTAATCTGCTTAG', 'TAGCTCGTCATGTTCGAAGGGTCGTTCTATAACACCTACT', 'CTAAGGACTCGACCATCGGCAAACTCACCTTCTTAAGGCA', 'GGGCGCTCTGATTACTGTGGTTCTTAGAGCCAACTTGCCG', 'TGGTGATAACGAGTCTCTACATCCCGTCGCGTTCTGCACG', 'GCAACTACTGAGACTGTTAGTCCTAGATGCATACATCAGG', 'AGCGATCGTTTCCCGGCTCACTGCACCGGTGCTACGGGAC', 'ATACGCATCACGTCAGGCCTTATGGTAACTGCGATTAGGG', 'AAGGGTTCGTTATAACGATACTTTAATTCTCATAGCCGAA', 'ATTTGCATTCACTGCTCCTTTGCGCCCGGATATCGCGTGA', 'GTCACTAAGTAATTGATGGTTTTTATTAGTCAAAATCCGA', 'CTCGTACAGTGGCAATTTTGCCGCAATTCGCTCGGGACGG', 'CTTCCGTCGATGGGGGGAATCTTCAGTCCCACCAGAATGA', 'TCCAAGCGGCCCGGACGGCAGAGGATACGGGATAGACCGG', 'ACGCTCGCGACTTTAACCGGTCGAGTCCCCGGTTAATAAC', 'GCATTTGGCCTGATGTACAGCATCGATGAGAGCAGGCTGG', 'CTGGCGATGGTTTTTCCAATGCTTTGGCCCTAGCCCCCCA', 'AGCTTTGAATTCTTGTAATACTGTCTTCTGATCTCCTACT', 'TCCGTACTATCGTCTAGAAGTTTAGATCTTTCCATCACCT', 'CTGGAGCGGTCTGCCAGAACTTAGACCGTATGCTAGTGTT', 'AGTTCAAGTCGAGTGTAATCGAAATTACGCCAACACAAGT', 'GCGTGTAACCTCCGATCTCAGCATTCGCATCCCAGTACGT', 'AGTGTCGCGCTTACATACCGTGTATCGCCGGGCTCGTTGG', 'AGTGTCTAGATTGGTTGCTCCGGCAGCGAGAGACGGGGAA', 'GAGGCATATATGGGTTTTTCCCTAAACGACCACCTATACA', 'ACCTAGCGGTAGGAGGCTCGCATGTACCATACAGCGACGG', 'CGCGACAATCTGTCCTTATCATCACGCACAGATTTCGAGT', 'GAATAACGTGGCTCAACTCCTCTGTCTGCTTGGGCTTTAC', 'CAGCGTGTGGCTATCTACAGCGATCAGATCGCCGAAAGCT', 'TGTGGGTCGTCGATCCGTTTCTACTTTCGTGCGGGGGCGG', 'TTGAGCTACCAGCGGCCTCAATTAGTCAGCGCTTAAATAG', 'AGCAATATGGAAAACATACCATGTCGCAAGCTCCTGTCTG', 'TAGGGGTTATGAACCAGGTGGTAAAAGAATATAAGCTGGT', 'TGTACCCCTGATATTTCTGGTACCCCTTCAATGAGCAATT', 'CAAGGTTGTAAAGTCAGATACAAAGCCCTTCTAGTCTTAA', 'ATAAGGACTACCACATAATGCCGGAGAAATCTAGCCCCAG', 'ACCCGTTTGGTGTCGATCCCGAGGCGGTGCCGCCGAGGGA', 'TCGTAGGGATAGCACGCTTTTAGGCAATCGTACCTAGGGC', 'TACACACCGGGGGGCTAATATCAGTAGTCGAGTGGCACGA', 'TCTCCCAAGGTGGCCACTTGTCGTCCGCAGAAGAGCTGCG', 'GGTGCTTGGCGTTGCCACTTAGTCTGGTTCAGCTCACTAG', 'CGATGCTCCTAATTGGAGTAAAAAACCGTTCGGGCTTGAC', 'GCAGCTGGGCACTGTACTCATGATAAGCCCCGGAAATATT', 'AACGGTTTAAGACCCTATTAGGCCTAGTTGCGATACCGTC', 'TCCCCAGAAAGCTCTAATTGGATCTAAATACACAGTTCGA', 'AGAGATGTGGACTGCCTGGAATAATGACAGGGATGGTTGG', 'CTATATACTCCGAGACGGTCGACTATTGTGCGCGGCGCGC', 'GTTTCTAACCGGCGAGGCACGAGGGGAGCGGCAGTCCCAC', 'CTGAGCGCTCTCTGACAGACCCAGATTTTATTCATGAAAC', 'ATAGTTATGGGCATTACGGGAAACAGAAGGAATGGCTCGG', 'CATTGCATCTTCTATTCTATGAGTTAGCATTAAATTTAAC', 'CCTTGCACGCATGCGCTTCTTTTTCTGGTTCCGGAGTGGG', 'GCTATTGGAAAAGGAGAGCTACGACGGTTCTAGCATCGCT', 'CTCTCAGGGAGAGTCGCTACTGCAAAGGTCTCTGAGGCCG', 'TCGGTTAGGCTCACAAACATCTCAATAAAACTCGTGCCCT', 'GGCTGGGAAACGCCAAGGAACCGGCTGAATATTTTAGACA', 'ACCCGTAAAAGGGCAACTGTGGGGATTAAAAATTCTCGCT', 'TCTCTCCCGAAGCTAGCTTCGGACCATGGCTTCCCCCGAT', 'GTCAACTACGACTTTGCGACCTTACAAGTATAGGTATTCG', 'GCTAGTGTCCGGTGATGGGTTAAGGCATGGCCGTGGAAAG', 'CGGGCGGATGAGCCTGTTGAGTCCCATTCTGCGGCCAGTA', 'TGCAAGGTGCGACTCAGATTATGCGCGCTAACATAAACCT', 'AAGCATGAAGGGTCGTAGCCGTTTGACTTAGCTTTTGATA', 'CACTCCAGCCGCACTGGAGAGGTCCGGTGTAAACGACTCG', 'GCGCGCGTCAGTGTAACATGGTCGCCTGGCAGAGGCTTGA', 'ATAACCGACGGCAGTGGAGGGAGAGACCTATAATTTTAAG', 'CACTCTGTACGTCGATTGGAATGAGTTACGAGCCGGTTGG', 'CTTCTAAACGAACTTCATTTTTATTCGCCGTGGTGATAAA', 'GGCGGTTGGATAGACCACGTTAAATAAGATGCTGGGAAAC', 'ATGATCGTCAGTTGTTTCTGATACAACGGGTGCGAAAACT', 'TCCTCAGTAGTTGTGCGAACACGCCCAGGTCGACGTCGCA', 'GTGTGTTTGAGTTTACACCGGGGCAAGCTCGCGGGAGCGT', 'TGCAGGTAGATTGGCACGCGGCAATGCATAGCCTGCCACA', 'GGACAATTCTATCACCAGGAGGGGGGTACCGATTTAACTA', 'TTTGATCTTGCTAGTGTCGAAAATCGTTTGCTAATTCGCT', 'TGCGGTTGCGGCTAGAGATTCTTCTTCGCAACGCGGAACA', 'GACTCTTCTCCATGCTCCCTTTGCGGCATGAGGTGCTGGA', 'AGGGGGAGTGGGATAACTCTAAGCGGATAGATCGAATTGG', 'TCCCCATTGATTGGAGCCGCACTCGATTCTGGTTAGGTTT', 'TAGCAGCTAGGAGCACATATCGTGCTGGCAATTATCTCGA', 'GTTGCTAGGAGTCGGCGTCCGCAGGTGGCGACTCAGAAGT', 'TGTATAAAACGCGCTATCTTCGTGTTAGGACATAAGAGTA', 'TCGACGGTTGAAAGCCATTCCCCGACTACCGAATCAGTTC', 'AGGACACCTGCATGTCACCTAGCTAATTCTGAGACTTCCC', 'ACCGCCAGGGTCCGATCCGCTTCATATTCGAGTGGTGTTG', 'ACGTTACCTGTACGAGTACTTAAAGGCAGTGGGTGCGTAA', 'AACACCCGAGCCATCGGTTTACTGTGTAATTCTAGAGCAT', 'TGCGAAAAAGGATGCCAGTTGTATCCTTGTGTGGCCCTAA', 'GACCTACAGAGTGTGTTACCGTCGATTGTCGGAAACTAGA', 'ATGTTCACCGGAACCCTATGACGTCGTATGGTAGCTCTTG', 'TAAGCGACTCGGATGTGAGAGGTTCACTACATGAGAAGTT', 'CGCCCCGCTCCCACGAGCATCGCACGAACACCACAAGATC', 'CATCATGGAACAACAAATTTGCGTCCAGGACCGTCTGAAG', 'TGAGGGCAGAACCTGACGTGGTGCGCCTCTGGCAGGAGCA', 'CGATAGCTGACCTTCGACTGGCATTACTGGGGGACGTTTC', 'GCTGCTTAACAAATGCATCAGGTCTGTATCACAGTGCAGT', 'CTGACCGCTCCTGACTGGACTGCATGGTAATTGCGGATTG', 'CCGCCACCGGTTGGGCCCGAGGGCGACGTTCAAGCGGAGC', 'AACAAGCATCGACCTGCCCACCTTCCGCTAGAACTCAATC', 'GCCATATATGAGAAATCCTACGCTTGAATCTATGGCCCGC', 'TTTAAATTATCCAGTCATACGCGCCATTTCTAGAGGCTGT', 'AAACCCGAAACATAGCAGTCTGATGTCTCCGCCTAAGTCT', 'CCCACTATAGAATGGGTACCCTGAGGCCCCTTAACGACCG', 'AATCTGTCGCCAGGGTACGGGAAAACGTAACCATTATAGG', 'CAATAACCAGGGACGCACAGTAAGGCCCAGAATCATTGCG', 'CGTACGTGTTGCAATTCTTCACTGCCGAATTAGAACCTGA', 'AACGCGGCTTCTCAGTGGATCCCAAAGTACTGTTTTTGAA', 'TGGAAGCCGCTGGACAGCTATCGTATGTATGCAACAGCAG', 'CAGGCTTTCTCCATGTAAATATTTGAGTTGCCAGTGTCGG', 'GCCGCAGTGCCTAGGGGGGGGTAACGATCTCCCTGCTAGA', 'GCCCCCCAGGAACCCAGAAAACCACTATTTTCCGAGTGTC', 'AGAGACTCAGTACACGTGTCAATAGTCTGGCACACGATTA', 'CCACACCTAGTCACATAACCTCTTTAACCGCTTGTTAGAT', 'GGCGTTACAAGACGCGATAGGACACCCAAATTATATCCGC', 'TTTTGCATCGTTACGTGTTCTAACAGATCAAGCGAGTGTT', 'CGGTTTGGTCACGACTACCCCCCTGAGCCGCGGGATTTTA', 'TCCTCCTCCTCTATTTGTATGGATGCAGATCCACAACCAG', 'CGAGCCCGCACCAACCCGGTTAATTGTAGCTATAGTCCCT', 'CTGTACGGCGCCCGTCGAGACCTAACGTGGAAAATCATTG', 'ATGACGTAACAATGAATCCCTCCGATGACGTTTAAACAAA', 'CGATAGAATGGTGATCTAGATCAGTAACGTTCTTATGCGT', 'GGAGCAAACTAACCCGCTAATTATAGCTGTTACATCGACT', 'TGAAGCGACTGGTGTGAGCATTCGCTCATTATGCCGGATA', 'CGTTGATCCGTGCTTGGCTCGCTTCTCGAGGGGTGAACAG', 'TAAGTCAGCAAAATATGGAGAGGTAAGTCGACGTGTACAA', 'GATGTTGAACAATCTTATGGCTATTTTTTGCTCGGATTGG', 'CCGGAGTTCTTTACATCTAAGACCGATGTGCGCGAGTAGG', 'AAAATGGTCCGACTTTTAAGTGTCTAATGCAGCGAGGCAT', 'AAATAATCTGTGATGCGATCTGCCGAGTGGTGTGAGGCGC', 'ATGTGAAAAAATCATACTCCAGGCACAAACACCGAAGGTG', 'GTTAGGTTCCAGAGAGTTATTTGGTTGACAGGTAGGCTTT', 'CTTATACTCCTCAGCCAGTCCAGTGTACGCTGAGCAACTT', 'TTAGCGTGCTCACCGCGGGCTATACCGCACTCTAGGACCA', 'TTCGCCGCTGAAATCATTGCATAGTCGGGGCCGTGGGGAT', 'CAGCTGACTTACACGTTGTGGCTCATCTGCTTACCTAGGG', 'AAATGGATGGTATATCACTATTTTGGAAACAGTCCCGGAC', 'TACTCACTACGCAACTGAGACAACCGCTAAGAGAATCATG', 'TGCTTTAGCCCTGGAACCAATTCGTTCAGATTTAACAGCC', 'GGGCATACCAATAGTAGGGTTACTTAGCCTGTTAATCCCC', 'ATGAGCTATTCTATGGTACTATTCCAACGGCCACCCAGGG', 'ATGAGCCTGTGAGGGCTACTAACACCATGCCTCCAACTTC', 'GTCCCGAAAACAAGCTACCCTTCTCAACGGAAGGCAGCAG', 'ACAAGATCTGCCAAGACGCCAGGTCGCCGGCACTATTTCA', 'CCCGGATAACGAATATGGAAGTAACTGGCAACCGTGCTGA', 'GCCGCTATTCGCCACCGGCGAATACCATCCGGTTAACAGA', 'CTGCTGGGAACGGTGTAACACCTGGGGGTATCTACTAAGA', 'TCTCCAAAGAAAGGAACCGGCTGGTTGAGAAATAATACAA']\n"
          ]
        }
      ]
    }
  ]
}