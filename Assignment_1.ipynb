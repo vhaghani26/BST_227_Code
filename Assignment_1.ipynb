{
  "nbformat": 4,
  "nbformat_minor": 0,
  "metadata": {
    "colab": {
      "name": "Assignment_1.ipynb",
      "provenance": [],
      "collapsed_sections": [],
      "include_colab_link": true
    },
    "kernelspec": {
      "name": "python3",
      "display_name": "Python 3"
    },
    "language_info": {
      "name": "python"
    }
  },
  "cells": [
    {
      "cell_type": "markdown",
      "metadata": {
        "id": "view-in-github",
        "colab_type": "text"
      },
      "source": [
        "<a href=\"https://colab.research.google.com/github/vhaghani26/BST_227_Code/blob/main/Assignment_1.ipynb\" target=\"_parent\"><img src=\"https://colab.research.google.com/assets/colab-badge.svg\" alt=\"Open In Colab\"/></a>"
      ]
    },
    {
      "cell_type": "markdown",
      "metadata": {
        "id": "VEB6Jbmxr9P7"
      },
      "source": [
        "# **The EM Algorithm for a more complex sequence model**\n",
        "## By: Mariele Lensink and Viktoria Haghani"
      ]
    },
    {
      "cell_type": "markdown",
      "metadata": {
        "id": "8zDlf51Mr6wp"
      },
      "source": [
        "First, we need to import the modules we plan to use to run the code."
      ]
    },
    {
      "cell_type": "code",
      "metadata": {
        "id": "6yrbLTPNtux7"
      },
      "source": [
        "import requests\n",
        "import pandas as pd\n",
        "import io\n",
        "import numpy as np\n",
        "from sklearn.preprocessing import OneHotEncoder\n",
        "from tqdm import tqdm\n",
        "import math"
      ],
      "execution_count": 1,
      "outputs": []
    },
    {
      "cell_type": "markdown",
      "metadata": {
        "id": "t4CTnzFwsnzw"
      },
      "source": [
        "# **EM Algorithm Code and Impelementation**"
      ]
    },
    {
      "cell_type": "markdown",
      "metadata": {
        "id": "fdktorRL4uEj"
      },
      "source": [
        "Write a function to download and one-hot encoded the sequence data"
      ]
    },
    {
      "cell_type": "code",
      "metadata": {
        "id": "Ka8lwgcXZ5XF"
      },
      "source": [
        "# Function written by Chenxi Liu (slight modifications made)\n",
        "\n",
        "def get_sequence(url, categories=['A', 'C', 'G', 'T']):\n",
        "  # Send a GET request to a specified URL, categories=['A', 'C', 'G', 'T']):\n",
        "  r = requests.get(url)\n",
        "  # Convert sequence data to data frame\n",
        "  df = pd.read_csv(io.StringIO(r.text), sep=\" \", header=None)\n",
        "  # Turn the first sequence into a 2D array where each index is an independent array with a single base pair\n",
        "  s1 = np.array(list(str(df.to_numpy()[0, :][0])), dtype=object).reshape(-1, 1)\n",
        "\n",
        "  # Determine how many sequences there are in the text file\n",
        "  num_seqs = len(df)\n",
        "  # Assume all input sequences are equal length\n",
        "  # Determine how long each sequence is\n",
        "  seq_len = len(list(df.iloc[0, :].values)[0])\n",
        "  # Start to make a one-hot encoded 3D matrix for the seqeunces\n",
        "  # Not one-hot encoded yet, just zeroes \n",
        "  data = np.zeros((num_seqs, seq_len, len(categories)))\n",
        "  # Make a matrix repersenting each category ['A', 'C', 'G', 'T']\n",
        "  bp_counts = np.zeros((1, len(categories)))\n",
        "\n",
        "  # Encode categorical feautures in a one-hot numeric array\n",
        "  # Assign categories to be used\n",
        "  ohe = OneHotEncoder(sparse=False, categories=[np.array(categories, dtype=object)])\n",
        "  # Apply OneHotEncoder to example sequence\n",
        "  ohe.fit(s1)\n",
        "  \n",
        "  # Apply OneHotEncoder to all sequences\n",
        "  for ii in tqdm(range(num_seqs)):\n",
        "    s = list(str(df.to_numpy()[ii, :][0]))\n",
        "    s_a = np.array(s).reshape(-1, 1)\n",
        "    data[ii, :, :] = ohe.transform(s_a)\n",
        "  \n",
        "  # Count the number of each base in the sequence data\n",
        "  for ii in range(len(categories)):\n",
        "    bp_counts[0,ii] = np.sum(data[:,:,ii])\n",
        "  \n",
        "  # Return the one-hot encoded matrix (data),\n",
        "  # the counts for each base pair (bp_counts),\n",
        "  # the number of sequences (N),\n",
        "  # and the length of each sequence (L)\n",
        "  return data, bp_counts                                                  "
      ],
      "execution_count": 2,
      "outputs": []
    },
    {
      "cell_type": "markdown",
      "metadata": {
        "id": "od2WQCQrDDyv"
      },
      "source": [
        "Write a modified version of the above function that returns a randomly split training and test data set"
      ]
    },
    {
      "cell_type": "code",
      "metadata": {
        "id": "RJGr38gKDNuE"
      },
      "source": [
        "# Function written by Chenxi Liu and Gerald Quon\n",
        "\n",
        "def get_sequence_traintest(url, categories=['A', 'C', 'G', 'T'], FRACTION_TRAINING=0.8):\n",
        "  # Send a GET request to a specified URL, categories=['A', 'C', 'G', 'T']):\n",
        "  r = requests.get(url)\n",
        "  # Convert sequence data to data frame\n",
        "  df = pd.read_csv(io.StringIO(r.text), sep=\" \", header=None)\n",
        "  # Turn the first sequence into a 2D array where each index is an independent array with a single base pair\n",
        "  s1 = np.array(list(str(df.to_numpy()[0, :][0])), dtype=object).reshape(-1, 1)\n",
        "\n",
        "  # Determine how many sequences there are in the text file\n",
        "  m = len(df)\n",
        "  # Assume all input sequences are equal length\n",
        "  # Determine how long each sequence is\n",
        "  sequence_len = len(list(df.iloc[0, :].values)[0])\n",
        "  # Start to make a one-hot encoded 3D matrix for the seqeunces\n",
        "  # Not one-hot encoded yet, just zeroes \n",
        "  data = np.zeros((m, sequence_len, len(categories)))\n",
        "  # Make a matrix repersenting each category ['A', 'C', 'G', 'T'] for the training set\n",
        "  bp_counts_train = np.zeros((1, len(categories)))\n",
        "  # Make a matrix repersenting each category ['A', 'C', 'G', 'T'] for the test set\n",
        "  bp_counts_test = np.zeros((1, len(categories)))\n",
        "\n",
        "  # Encode categorical feautures in a one-hot numeric array\n",
        "  # Assign categories to be used\n",
        "  ohe = OneHotEncoder(sparse=False, categories=[np.array(categories, dtype=object)])\n",
        "  # Apply OneHotEncoder to example sequence\n",
        "  ohe.fit(s1)\n",
        "\n",
        "  # Apply OneHotEncoder to all sequences\n",
        "  for ii in tqdm(range(m)):\n",
        "    s = list(str(df.to_numpy()[ii, :][0]))\n",
        "    s_a = np.array(s).reshape(-1, 1)\n",
        "    data[ii, :, :] = ohe.transform(s_a)\n",
        "\n",
        "  # Randomly permute rows of matrix\n",
        "  np.random.shuffle(data)\n",
        "\n",
        "  # Split data into training and text data\n",
        "  train_indices = np.arange(start=0,stop=round(FRACTION_TRAINING*data.shape[0]))\n",
        "  test_indices = np.arange(start=round(FRACTION_TRAINING*data.shape[0]), stop=data.shape[0])\n",
        "  \n",
        "  # Count the number of each base in the test and train sets\n",
        "  for ii in range(len(categories)):\n",
        "    bp_counts_train[0,ii] = np.sum(data[train_indices,:,ii])\n",
        "    bp_counts_test[0,ii] = np.sum(data[test_indices,:,ii])\n",
        "  \n",
        "  # Return the base pair counts for the test and train sets\n",
        "  return bp_counts_train, bp_counts_test"
      ],
      "execution_count": 3,
      "outputs": []
    },
    {
      "cell_type": "markdown",
      "metadata": {
        "id": "W9liLSAMwHEe"
      },
      "source": [
        "Set data file URL locations"
      ]
    },
    {
      "cell_type": "code",
      "metadata": {
        "id": "143x5QHNwKZg"
      },
      "source": [
        "# URL for at_gc_sequences.txt - this is a single sequence: ATTTAATATAAAATTTGGCCGCCATAAAAAAA\n",
        "at_gc_sequences_txt = 'https://ucdavis.box.com/shared/static/s8g6zx9vwxbbfdxdj2uqzhlvslc1jhsy.txt'\n",
        "# URL for sequence.padded.txt - the real binding site data\n",
        "sequence_padded_txt = 'https://ucdavis.box.com/shared/static/0cacx2xvn4ugxo9h21ci2ngesryigf43.txt'\n",
        "# URL for sequence.motiflocation.padded.txt - the location of the binding sites from sequence.padded.txt\n",
        "sequence_motiflocation_padded_txt = 'https://ucdavis.box.com/shared/static/gd0r12mdkhix86bo9ffbn3dy0fy0prmn.txt'"
      ],
      "execution_count": 4,
      "outputs": []
    },
    {
      "cell_type": "markdown",
      "metadata": {
        "id": "5H6PrulrH9ap"
      },
      "source": [
        "Load in the data"
      ]
    },
    {
      "cell_type": "code",
      "metadata": {
        "id": "uxoFtgmPH_Ev",
        "colab": {
          "base_uri": "https://localhost:8080/"
        },
        "outputId": "490135fc-7851-49a2-8f7c-67e1c5205e74"
      },
      "source": [
        "# Implement get_sequence()\n",
        "# The variable my_ohe_sequence_padded corresponds to the one-hot encoded matrices that represent the sequence data\n",
        "# The variable my_sequence_padded_bp_counts is the base pair counts for the input sequence data\n",
        "# The variable my_sequence_padded_num_seqs returns the number of sequences in the sequence file\n",
        "# sequence_padded_txt is the variable name containing the URL defined at the beginning\n",
        "my_ohe_sequence_padded, my_sequence_padded_bp_counts = get_sequence(sequence_padded_txt, categories=['A', 'C', 'G', 'T'])\n",
        "\n",
        "# Following similar notation above, we can implement get_sequence() for the at_gc_sequences_text data\n",
        "my_ohe_at_gc_sequences, my_at_gc_bp_counts = get_sequence(at_gc_sequences_txt, categories=['A', 'C', 'G', 'T'])\n",
        "\n",
        "# Now randomly split the sequence_padded_txt into a training vs test set\n",
        "sequence_padded_train_bp_counts, sequence_padded_test_bp_counts = get_sequence_traintest(sequence_padded_txt, categories=['A', 'C', 'G', 'T'])\n",
        "\n",
        "# Get the locations of the motifs for the sequence.padded.txt file\n",
        "sequence_padded_motifs = pd.read_csv(io.StringIO(requests.get(sequence_motiflocation_padded_txt).text), sep=\",\", header=None).to_numpy()"
      ],
      "execution_count": 5,
      "outputs": [
        {
          "output_type": "stream",
          "name": "stderr",
          "text": [
            "100%|██████████| 357/357 [00:00<00:00, 3305.58it/s]\n",
            "100%|██████████| 1/1 [00:00<00:00, 1118.18it/s]\n",
            "100%|██████████| 357/357 [00:00<00:00, 3240.41it/s]\n"
          ]
        }
      ]
    },
    {
      "cell_type": "markdown",
      "metadata": {
        "id": "K12xuvJwvbMi"
      },
      "source": [
        "Assign EM run variables"
      ]
    },
    {
      "cell_type": "code",
      "metadata": {
        "id": "3OBpGUmTvdri"
      },
      "source": [
        "# Length of the motif\n",
        "motif_length = 18\n",
        "\n",
        "# Sequence data used\n",
        "seq_data = my_ohe_sequence_padded\n",
        "\n",
        "# Set the number of sequences\n",
        "num_seqs = len(seq_data)\n",
        "\n",
        "# Set the length of the sequences\n",
        "seq_len = len(seq_data[0])\n",
        "\n",
        "# Set the number of EM iterations\n",
        "num_iterations = 20"
      ],
      "execution_count": 6,
      "outputs": []
    },
    {
      "cell_type": "markdown",
      "metadata": {
        "id": "nbAXV5YlM9p0"
      },
      "source": [
        "Write functions that will initialize our parameters"
      ]
    },
    {
      "cell_type": "code",
      "metadata": {
        "id": "p0uB6d0_M_b-"
      },
      "source": [
        "# Make a function to randomly generate L - P + 1 lambdas that sum to 1\n",
        "def initialize_lambda(sequence_length, motif_length):\n",
        "  # Make an empty list to represent our parameter lambda_j\n",
        "  lambda_j = []\n",
        "  # Given our sequence length and motif length, determine how many lambdas we need\n",
        "  lambdas = sequence_length - motif_length + 1\n",
        "  # Fill up our empty matrix with the right number of lambdas using random probabilities\n",
        "  for i in range(lambdas):\n",
        "    lambda_j.append(np.random.random_sample())\n",
        "  # Normalize probabilities by dividing each one by the sum\n",
        "  # Need to set sum_lambdas on the outside of the for loop so it isn't recalculated every time\n",
        "  sum_lambdas = sum(lambda_j)\n",
        "  for i, lmbda in zip(range(lambdas), lambda_j):\n",
        "    lambda_j[i] = (lmbda/sum_lambdas)\n",
        "  # Return our lambda_j parameter\n",
        "  return lambda_j"
      ],
      "execution_count": 7,
      "outputs": []
    },
    {
      "cell_type": "code",
      "metadata": {
        "id": "M-wAaxEgsUYD"
      },
      "source": [
        "# Make a function to randomly generate psi\n",
        "# Psi is a 2D matrix: 4 x P (P = motif-length) \n",
        "# Each set of 4 corresponds to ['A', 'C', 'G', 'T']\n",
        "def initialize_psi(motif_length):\n",
        "  # Make a 4 x P matrix of zeroes\n",
        "  psi = np.zeros((motif_length, 4), dtype = float)\n",
        "  # For each sub-matrix of 4, generate probabilities that sum to 1\n",
        "  for ind_i, i in zip(range(motif_length), psi):\n",
        "    psi[ind_i] = (np.random.dirichlet(np.ones(4),size=1))\n",
        "  # Return our psi parameter\n",
        "  return psi"
      ],
      "execution_count": 8,
      "outputs": []
    },
    {
      "cell_type": "code",
      "metadata": {
        "id": "5vrifajwsUoK"
      },
      "source": [
        "# Store all initialized parameters in a dictionary called 'params' (params = theta)\n",
        "def initialize_random_params(sequence_length, motif_length):\n",
        "    params = {'lambda_j': initialize_lambda(sequence_length, motif_length),\n",
        "              'psi0': initialize_psi(motif_length),\n",
        "              'psi1': initialize_psi(motif_length)\n",
        "              }\n",
        "    return params"
      ],
      "execution_count": 9,
      "outputs": []
    },
    {
      "cell_type": "markdown",
      "metadata": {
        "id": "rWTR8KVf1vxP"
      },
      "source": [
        "Initiate parameters to use for troubleshooting the E-step and M-step"
      ]
    },
    {
      "cell_type": "code",
      "metadata": {
        "id": "bs9Ry8Kx10K8"
      },
      "source": [
        "params = initialize_random_params(seq_len, motif_length)"
      ],
      "execution_count": 10,
      "outputs": []
    },
    {
      "cell_type": "markdown",
      "metadata": {
        "id": "fC-Qv1XpvDeI"
      },
      "source": [
        "Write a function to calculate the posterior for the **E-step**"
      ]
    },
    {
      "cell_type": "code",
      "metadata": {
        "id": "dQxY3F0qvG_O"
      },
      "source": [
        "def E_step(params,ohe_matrix,sequence_length,motif_length):\n",
        "  posts = np.zeros((len(ohe_matrix),(sequence_length - motif_length + 1)))\n",
        " #loop through every seqence in file \n",
        "  for i in range(len(ohe_matrix)):\n",
        "    #loop through \n",
        "    for j in range(sequence_length - motif_length + 1):\n",
        "     #initialize C_ij \n",
        "      C_ij = np.log(params['lambda_j'][j])\n",
        "      #compute P(X_ij|Cij = 1)\n",
        "      for p in range(motif_length):\n",
        "        for k in range(4):\n",
        "          if ohe_matrix[i][j+p][k] != 0:\n",
        "            C_ij = C_ij + np.log(ohe_matrix[i][j+p][k]*params['psi1'][p][k])\n",
        "            posts[i][j] = C_ij\n",
        "      for jprime in range(sequence_length - motif_length + 1):\n",
        "        if jprime == j:\n",
        "          continue \n",
        "        for p in range(motif_length):\n",
        "          for k in range(4):\n",
        "            if ohe_matrix[i][j+p][k] != 0:\n",
        "              C_ij = C_ij + np.log(ohe_matrix[i][j+p][k]*params['psi0'][p][k])\n",
        "              posts[i][j] = C_ij\n",
        "  posts1 = np.zeros((len(posts),len(posts[0])))\n",
        "  for i in range(len(posts)):\n",
        "    rowmin = posts[i].min()\n",
        "    for j in range(len(posts[0])):\n",
        "      posts1[i][j] = math.exp(posts[i][j] - rowmin)\n",
        "      #posts1[i][j] = exp(posts1[i][j])\n",
        "    rowsum = posts1[i].sum()\n",
        "    for j in range(len(posts1[i])):\n",
        "      posts1[i][j] = posts1[i][j]/rowsum\n",
        "  # Return posterior matrix\n",
        "  return posts1"
      ],
      "execution_count": 11,
      "outputs": []
    },
    {
      "cell_type": "markdown",
      "metadata": {
        "id": "S05xOBVOvHvh"
      },
      "source": [
        "Write a function to do the calculations for the **M-step**\n"
      ]
    },
    {
      "cell_type": "markdown",
      "metadata": {
        "id": "C8xF_OTs58bA"
      },
      "source": [
        "We will start with making a practice posterior of random probabilities. This allows us to troubleshoot the M-step independent of the E-step. It does not get used in the EM algorithm implementation, but it's here for debugging purposes."
      ]
    },
    {
      "cell_type": "code",
      "metadata": {
        "id": "GGa58p1LvRHp"
      },
      "source": [
        "def M_step(onehot_matrix, posterior, motif_length): \n",
        "  # Make dictionary to store new parameters\n",
        "  new_params = {}\n",
        "\n",
        "  # Calculate new lambda_j\n",
        "  # Add every column of the posterior\n",
        "  column_sums = np.array(posterior).sum(axis = 0)\n",
        "  # Divide by the total number of sequences\n",
        "  new_lambda_j = (column_sums/(len(posterior))).tolist()\n",
        "  # Confirm that the sum of our new_lambda_j is 1\n",
        "  #print(f'The sum of our new lambda_j is: {sum(new_lambda_j)}')\n",
        "  # Add new_lambda_j to new_params\n",
        "  new_params[\"lambda_j\"] = new_lambda_j\n",
        "\n",
        "  # Calculate new psi1\n",
        "  # Determine how many j positions we have in our input matrix\n",
        "  num_js = len(onehot_matrix[0]) - motif_length + 1\n",
        "  # Determine matrix dimensions and save our window sequences\n",
        "  X_ijmks = []\n",
        "  for i, ind_i in zip(onehot_matrix, range(len(onehot_matrix))):\n",
        "    # Iterate through the indeces for our lambda parameter\n",
        "    for ind_j in range(num_js):\n",
        "        # i[ind_j:ind_j+motif_length] is the base pair identities of the One-Hot encoded matrix within the window starting at j\n",
        "        X_ijmk = (i[ind_j:ind_j+motif_length]).tolist()\n",
        "        # Save each X_ijmk to the X_ijmks list for ease of access\n",
        "        X_ijmks.append(X_ijmk)\n",
        "  # Manipulate the posterior so it maches the X_ijmks list\n",
        "  manipulated_posterior = []\n",
        "  for i in posterior:\n",
        "    for j in i:\n",
        "      manipulated_posterior.append(j)\n",
        "  # Make an empty list numerators, that will contain all the X_ijmks multiplied by C_ij    \n",
        "  numerators = []\n",
        "  for ind_post, X_ijmk in zip(range(len(manipulated_posterior)), X_ijmks):\n",
        "    # Turn X_ijmk into an array\n",
        "    X_ijmk_array = np.array(X_ijmk)\n",
        "    # Multiply X_ijmk by the posterior (C_ij)\n",
        "    numerator = X_ijmk_array * manipulated_posterior[ind_post]\n",
        "    # Add the multiplied window sequences to the list \"numerators\"\n",
        "    numerators.append(numerator)\n",
        "  numerator_before_normalization = np.array(numerators).sum(axis = 0)\n",
        "  new_psi1 = np.divide(numerator_before_normalization, len(onehot_matrix))\n",
        "  # Verify that new_psi1 rows sum to 1\n",
        "  #print('The sums of each row in our new psi1 are:')\n",
        "  #for i in range(len(new_psi1)):\n",
        "     #print(sum(new_psi1[i]))\n",
        "  # Add new_psi1 to new_params\n",
        "  new_params[\"psi1\"] = new_psi1.tolist()\n",
        "\n",
        "  # Calculate new psi0\n",
        "  # Determine how many j positions we have in our input matrix\n",
        "  num_js = len(onehot_matrix[0]) - motif_length + 1\n",
        "  # Determine matrix dimensions and save our window sequences\n",
        "  X_ijmks = []\n",
        "  for i, ind_i in zip(onehot_matrix, range(len(onehot_matrix))):\n",
        "    # Iterate through the indeces for our lambda parameter\n",
        "    for ind_j in range(num_js):\n",
        "        # i[ind_j:ind_j+motif_length] is the base pair identities of the One-Hot encoded matrix within the window starting at j\n",
        "        X_ijmk = (i[ind_j:ind_j+motif_length]).tolist()\n",
        "        # Save each X_ijmk to the X_ijmks list for ease of access\n",
        "        X_ijmks.append(X_ijmk)\n",
        "  # Manipulate the posterior so it maches the X_ijmks list\n",
        "  manipulated_posterior = []\n",
        "  for i in posterior:\n",
        "    for j in i:\n",
        "      manipulated_posterior.append(j)\n",
        "  # Make an empty list numerators, that will contain all the X_ijmks multiplied by C_ij    \n",
        "  numerators = []\n",
        "  for ind_post, X_ijmk in zip(range(len(manipulated_posterior)), X_ijmks):\n",
        "    # Turn X_ijmk into an array\n",
        "    X_ijmk_array = np.array(X_ijmk)\n",
        "    # Multiply X_ijmk by 1 minus the posterior (C_ij)\n",
        "    numerator = X_ijmk_array * (1 - manipulated_posterior[ind_post])\n",
        "    # Add the multiplied window sequences to the list \"numerators\"\n",
        "    numerators.append(numerator)\n",
        "  numerator_before_normalization = np.array(numerators).sum(axis = 0)\n",
        "  new_psi0 = np.divide(numerator_before_normalization, (len(onehot_matrix)*(len(onehot_matrix[0]) - motif_length + 1 - 1)))\n",
        "  # Verify that new_psi0 rows sum to 1\n",
        "  #print('The sums of each row in our new psi0 are:')\n",
        "  #for i in range(len(new_psi0)):\n",
        "     #print(sum(new_psi0[i]))\n",
        "  # Add new_psi1 to new_params\n",
        "  new_params[\"psi0\"] = new_psi0.tolist()\n",
        "  \n",
        "  # Save our new parameters as the output for the function\n",
        "  return new_params"
      ],
      "execution_count": 20,
      "outputs": []
    },
    {
      "cell_type": "markdown",
      "metadata": {
        "id": "s4G4z6HyvUM1"
      },
      "source": [
        "Write a function to compute the **log likelihood**"
      ]
    },
    {
      "cell_type": "code",
      "metadata": {
        "id": "dHLSgbKV1HuR"
      },
      "source": [
        "def loglikelihood(onehot_matrix, params, posteriors, motif_length):\n",
        "  # Calculation for lambda_j term\n",
        "  # Make an empty list that holds the lambda_j multiplied by each row of the posterior\n",
        "  lambda_j_terms = []\n",
        "  for posterior in posteriors:\n",
        "    # Muliply each posterior row by lambda_j\n",
        "    one_lambda_j_term = (posterior * np.log(params['lambda_j'])).tolist()\n",
        "    # Add each row's product to the list\n",
        "    lambda_j_terms.append(one_lambda_j_term)\n",
        "  # Make another empty list to hold the sums for each row (2D > 1D matrix)\n",
        "  all_sums = []\n",
        "  for term in lambda_j_terms:\n",
        "    # Sum each row\n",
        "    one_sum = sum(term)\n",
        "    # Add each row sum to the list\n",
        "    all_sums.append(one_sum)\n",
        "  # Sum all the individual row sums for our lambda_j_term\n",
        "  lambda_j_term = sum(all_sums)\n",
        "\n",
        "  # Calculation for psi terms\n",
        "  # Determine how many j positions we have in our input matrix\n",
        "  num_js = len(onehot_matrix[0]) - motif_length + 1\n",
        "  # Determine matrix dimensions and save our window sequences\n",
        "  X_ijmks = []\n",
        "  for i, ind_i in zip(onehot_matrix, range(len(onehot_matrix))):\n",
        "    # Iterate through the indeces for our lambda parameter\n",
        "    for ind_j in range(num_js):\n",
        "        # i[ind_j:ind_j+motif_length] is the base pair identities of the One-Hot encoded matrix within the window starting at j\n",
        "        X_ijmk = (i[ind_j:ind_j+motif_length]).tolist()\n",
        "        # Save each X_ijmk to the X_ijmks list for ease of access\n",
        "        X_ijmks.append(X_ijmk)\n",
        "  # Manipulate the posterior so it maches the X_ijmks list\n",
        "  manipulated_posterior = []\n",
        "  for i in posteriors:\n",
        "    for j in i:\n",
        "      manipulated_posterior.append(j)\n",
        "  psi0_sums = []\n",
        "  psi1_sums = []\n",
        "  for ind_post, X_ijmk in zip(range(len(manipulated_posterior)), X_ijmks):\n",
        "    # Turn X_ijmk into an array\n",
        "    X_ijmk_array = np.array(X_ijmk)\n",
        "    one_psi0_sum = X_ijmk_array * ((1 - manipulated_posterior[ind_post])*np.log(params['psi0']))\n",
        "    one_psi1_sum = X_ijmk_array * (manipulated_posterior[ind_post]*np.log(params['psi1']))\n",
        "    psi0_sums.append(one_psi0_sum)\n",
        "    psi1_sums.append(one_psi1_sum)\n",
        "  psi0_sums_aray = np.array(psi0_sums)\n",
        "  psi1_sums_aray = np.array(psi1_sums)\n",
        "  psi0_term = psi0_sums_aray.sum()\n",
        "  psi1_term = psi1_sums_aray.sum()\n",
        "\n",
        "  # Calculation for entropy term\n",
        "  entropy_term = (posteriors * np.log(posteriors)).sum()\n",
        "\n",
        "  # Calculate and return log likelihood\n",
        "  llh = (lambda_j_term + psi1_term + psi0_term) - entropy_term\n",
        "  return llh"
      ],
      "execution_count": 13,
      "outputs": []
    },
    {
      "cell_type": "markdown",
      "metadata": {
        "id": "zzlbCRTbFXVQ"
      },
      "source": [
        "Run the EM algorithm"
      ]
    },
    {
      "cell_type": "markdown",
      "metadata": {
        "id": "RbdDUvC9K7Ou"
      },
      "source": [
        "Here, the EM algorithm is presented as a function."
      ]
    },
    {
      "cell_type": "code",
      "metadata": {
        "id": "HhO9GqWsCSB4"
      },
      "source": [
        "def run_em(initial_params, num_iterations, seq_data, motif_length):\n",
        "  # Determine sequence length\n",
        "  seq_len = len(seq_data[0])\n",
        "  # Create an empty list that will contain the log likelihoods for plotting later\n",
        "  loglikelihoods = []\n",
        "  # Create an empty list to store each parameter set per iteration\n",
        "  params_list = []\n",
        "  for i in range(1, num_iterations+1):\n",
        "    # Keep track of iteration number\n",
        "    print(f'Iteration #{i}')\n",
        "    if i == 1:\n",
        "      # Should use randomly initialized parameters\n",
        "      params = initial_params\n",
        "    else:\n",
        "      # Use parameters from the last EM implementation\n",
        "      params = new_params\n",
        "    # Run E-step to calculate posteriors\n",
        "    my_posterior = E_step(params, seq_data, seq_len, motif_length)\n",
        "    # Calculate log likelihood \n",
        "    llh = loglikelihood(seq_data, params, my_posterior, motif_length)\n",
        "    # Add log likelihood to the loglikelihoods list \n",
        "    loglikelihoods.append(llh)\n",
        "    # View log likelihood after each iteration(we should see convergence)\n",
        "    print(llh)\n",
        "    # Run M-step to further optimize parameters using new posterior from E-step\n",
        "    new_params = M_step(seq_data, my_posterior, motif_length)\n",
        "    # Return list of log likelihoods \n",
        "    params_list.append(new_params)\n",
        "  return loglikelihoods, params_list"
      ],
      "execution_count": 14,
      "outputs": []
    },
    {
      "cell_type": "markdown",
      "metadata": {
        "id": "j4WjUXuyLBbg"
      },
      "source": [
        "Here, the EM algorithm is presented as code, but not a function."
      ]
    },
    {
      "cell_type": "code",
      "metadata": {
        "id": "1af_j4kiOZti"
      },
      "source": [
        "# For use in questions\n",
        "'''\n",
        "# Create an empty list that will contain the log likelihoods for plotting later\n",
        "loglikelihoods = []\n",
        "# Create an empty list to store each parameter set per iteration\n",
        "params_list = []\n",
        "\n",
        "# Run EM\n",
        "for i in range(1, num_iterations+1):\n",
        "  # Keep track of iteration number\n",
        "  print(f'Iteration #{i}')\n",
        "  if i == 1:\n",
        "    # Randomly initialize parameters for the first iteration\n",
        "    params = initialize_random_params(seq_len, motif_length)\n",
        "  else:\n",
        "    # Use parameters from the last EM implementation\n",
        "    params = new_params\n",
        "  # Run E-step to calculate posteriors\n",
        "  my_posterior = E_step(params, seq_data, seq_len, motif_length)\n",
        "  # Calculate log likelihood \n",
        "  llh = loglikelihood(seq_data, params, my_posterior, motif_length)\n",
        "  # Add log likelihood to the loglikelihoods list \n",
        "  loglikelihoods.append(llh)\n",
        "  # View log likelihood after each iteration(we should see convergence)\n",
        "  print(llh)\n",
        "  # Run M-step to further optimize parameters using new posterior from E-step\n",
        "  new_params = M_step(seq_data, my_posterior, motif_length)\n",
        "  params_list.append(new_params)\n",
        "  '''"
      ],
      "execution_count": null,
      "outputs": []
    },
    {
      "cell_type": "markdown",
      "metadata": {
        "id": "9I1WRWsu6_V3"
      },
      "source": [
        "# **Run Experiments on EM Algorithm Model**"
      ]
    },
    {
      "cell_type": "markdown",
      "metadata": {
        "id": "6XNRby2I804q"
      },
      "source": [
        "Here, we will answer the questions to Assignment 1 Part 3 regarding our updated EM algorithm model."
      ]
    },
    {
      "cell_type": "markdown",
      "metadata": {
        "id": "QATNfYSQ7uJS"
      },
      "source": [
        "## 1. Plot the log likelihood as a function of EM iteration, for 20 iterations, for 5 different random initializations of the model parameter. Does the log likelihood monotonically increase every iteration of every initialization?"
      ]
    },
    {
      "cell_type": "markdown",
      "metadata": {
        "id": "6bsGW5aMGx8W"
      },
      "source": [
        "Assign variables for Question 1"
      ]
    },
    {
      "cell_type": "code",
      "metadata": {
        "id": "hdALivXoG0Q6"
      },
      "source": [
        "# Set the number of EM iterations\n",
        "num_iterations = 20\n",
        "\n",
        "# Sequence data used\n",
        "seq_data = my_ohe_sequence_padded\n",
        "\n",
        "# Length of the motif\n",
        "motif_length = 18"
      ],
      "execution_count": 17,
      "outputs": []
    },
    {
      "cell_type": "markdown",
      "metadata": {
        "id": "jszKZogYGoI5"
      },
      "source": [
        "Run our EM using five different parameter initializations"
      ]
    },
    {
      "cell_type": "code",
      "metadata": {
        "id": "BGw8UtYbDwRm",
        "colab": {
          "base_uri": "https://localhost:8080/"
        },
        "outputId": "79faf263-d74d-45c4-ce51-a6260653cf7e"
      },
      "source": [
        "np.random.seed(1)\n",
        "initial_params_1 = initialize_random_params(seq_len, motif_length)\n",
        "np.random.seed(2)\n",
        "initial_params_2 = initialize_random_params(seq_len, motif_length)\n",
        "np.random.seed(3)\n",
        "initial_params_3 = initialize_random_params(seq_len, motif_length)\n",
        "np.random.seed(4)\n",
        "initial_params_4 = initialize_random_params(seq_len, motif_length)\n",
        "np.random.seed(5)\n",
        "initial_params_5 = initialize_random_params(seq_len, motif_length)\n",
        "\n",
        "\n",
        "# Create lists that will contain the log likelihoods for plotting\n",
        "rand_init_1, params_list_1 = run_em(initial_params_1, num_iterations, seq_data, motif_length)\n",
        "rand_init_2, params_list_2 = run_em(initial_params_2, num_iterations, seq_data, motif_length)\n",
        "rand_init_3, params_list_3 = run_em(initial_params_3, num_iterations, seq_data, motif_length)\n",
        "rand_init_4, params_list_4 = run_em(initial_params_4, num_iterations, seq_data, motif_length)\n",
        "rand_init_5, params_list_5 = run_em(initial_params_5, num_iterations, seq_data, motif_length)\n"
      ],
      "execution_count": 21,
      "outputs": [
        {
          "output_type": "stream",
          "name": "stdout",
          "text": [
            "Iteration #1\n",
            "-256843.00949631058\n",
            "Iteration #2\n",
            "-188982.1221878149\n",
            "Iteration #3\n",
            "-186437.7919685305\n",
            "Iteration #4\n",
            "-186279.4508175166\n",
            "Iteration #5\n",
            "-186245.98850841698\n",
            "Iteration #6\n",
            "-186243.14121480988\n",
            "Iteration #7\n",
            "-186244.69493305834\n",
            "Iteration #8\n",
            "-186247.294595789\n",
            "Iteration #9\n",
            "-186249.66551722083\n",
            "Iteration #10\n",
            "-186251.52448882736\n",
            "Iteration #11\n",
            "-186252.8694211816\n",
            "Iteration #12\n",
            "-186253.8023128262\n",
            "Iteration #13\n",
            "-186254.43294756144\n",
            "Iteration #14\n",
            "-186254.8526090714\n",
            "Iteration #15\n",
            "-186255.1289532265\n",
            "Iteration #16\n",
            "-186255.30953323847\n",
            "Iteration #17\n",
            "-186255.42676590558\n",
            "Iteration #18\n",
            "-186255.50237385934\n",
            "Iteration #19\n",
            "-186255.55076270743\n",
            "Iteration #20\n",
            "-186255.58142542228\n",
            "Iteration #1\n",
            "-250714.5485355379\n",
            "Iteration #2\n",
            "-188059.70198499467\n",
            "Iteration #3\n",
            "-186352.49737324222\n",
            "Iteration #4\n",
            "-186281.36843158354\n",
            "Iteration #5\n",
            "-186267.9522357318\n",
            "Iteration #6\n",
            "-186262.0734255088\n",
            "Iteration #7\n",
            "-186259.57967047446\n",
            "Iteration #8\n",
            "-186260.9603061396\n",
            "Iteration #9\n",
            "-186254.65815862262\n",
            "Iteration #10\n",
            "-186252.1085172502\n",
            "Iteration #11\n",
            "-186250.94377082158\n",
            "Iteration #12\n",
            "-186250.33762107015\n",
            "Iteration #13\n",
            "-186249.99202194516\n",
            "Iteration #14\n",
            "-186249.78636406775\n",
            "Iteration #15\n",
            "-186249.65940037637\n",
            "Iteration #16\n",
            "-186249.57796875795\n",
            "Iteration #17\n",
            "-186249.5233998916\n",
            "Iteration #18\n",
            "-186249.48509855423\n",
            "Iteration #19\n",
            "-186249.45697026732\n",
            "Iteration #20\n",
            "-186249.43546091494\n",
            "Iteration #1\n",
            "-226993.07427426666\n",
            "Iteration #2\n",
            "-188345.60477703708\n",
            "Iteration #3\n",
            "-186451.633300034\n",
            "Iteration #4\n",
            "-186314.35723247807\n",
            "Iteration #5\n",
            "-186298.84094785553\n",
            "Iteration #6\n",
            "-186364.6386537946\n",
            "Iteration #7\n",
            "-186401.93936872578\n",
            "Iteration #8\n",
            "-186336.23220560356\n",
            "Iteration #9\n",
            "-186293.71120941444\n",
            "Iteration #10\n",
            "-186277.220233225\n",
            "Iteration #11\n",
            "-186268.87508523217\n",
            "Iteration #12\n",
            "-186264.1337445497\n",
            "Iteration #13\n",
            "-186261.27907996613\n",
            "Iteration #14\n",
            "-186259.4953735402\n",
            "Iteration #15\n",
            "-186258.34883016598\n",
            "Iteration #16\n",
            "-186257.5933579539\n",
            "Iteration #17\n",
            "-186257.0835042069\n",
            "Iteration #18\n",
            "-186256.7310087245\n",
            "Iteration #19\n",
            "-186256.48127082695\n",
            "Iteration #20\n",
            "-186256.29996775437\n",
            "Iteration #1\n",
            "-233554.112435919\n",
            "Iteration #2\n",
            "-187541.4050054184\n",
            "Iteration #3\n",
            "-186511.39578400162\n",
            "Iteration #4\n",
            "-186385.86176036435\n",
            "Iteration #5\n",
            "-186317.18693249466\n",
            "Iteration #6\n",
            "-186288.6047293305\n",
            "Iteration #7\n",
            "-186275.3467590513\n",
            "Iteration #8\n",
            "-186268.14498652384\n",
            "Iteration #9\n",
            "-186263.9181224391\n",
            "Iteration #10\n",
            "-186261.2962550245\n",
            "Iteration #11\n",
            "-186259.601909901\n",
            "Iteration #12\n",
            "-186258.4722760136\n",
            "Iteration #13\n",
            "-186257.70064990933\n",
            "Iteration #14\n",
            "-186257.16319061312\n",
            "Iteration #15\n",
            "-186256.78267948597\n",
            "Iteration #16\n",
            "-186256.50932531318\n",
            "Iteration #17\n",
            "-186256.31017296485\n",
            "Iteration #18\n",
            "-186256.16300102795\n",
            "Iteration #19\n",
            "-186256.05263763978\n",
            "Iteration #20\n",
            "-186255.96863325447\n",
            "Iteration #1\n",
            "-271739.7311417867\n",
            "Iteration #2\n",
            "-187273.1091227346\n",
            "Iteration #3\n",
            "-186408.2583421047\n",
            "Iteration #4\n",
            "-186275.58802966226\n",
            "Iteration #5\n",
            "-186265.91382901862\n",
            "Iteration #6\n",
            "-186262.0352865928\n",
            "Iteration #7\n",
            "-186259.95257449005\n",
            "Iteration #8\n",
            "-186258.65978962372\n",
            "Iteration #9\n",
            "-186257.77039895116\n",
            "Iteration #10\n",
            "-186257.15137965948\n",
            "Iteration #11\n",
            "-186256.7147651587\n",
            "Iteration #12\n",
            "-186256.4072369172\n",
            "Iteration #13\n",
            "-186256.1905193898\n",
            "Iteration #14\n",
            "-186256.03771640846\n",
            "Iteration #15\n",
            "-186255.92964037624\n",
            "Iteration #16\n",
            "-186255.8527684085\n",
            "Iteration #17\n",
            "-186255.79762831613\n",
            "Iteration #18\n",
            "-186255.7576375205\n",
            "Iteration #19\n",
            "-186255.7282450242\n",
            "Iteration #20\n",
            "-186255.7063147304\n"
          ]
        }
      ]
    },
    {
      "cell_type": "markdown",
      "metadata": {
        "id": "JGy4MFULRUtv"
      },
      "source": [
        "Make the graph of the log likelihood after each iteration."
      ]
    },
    {
      "cell_type": "code",
      "metadata": {
        "id": "FxlLrJufRYTI",
        "colab": {
          "base_uri": "https://localhost:8080/",
          "height": 295
        },
        "outputId": "b36a2596-8752-4169-cec4-04ca4d1eeaff"
      },
      "source": [
        "import matplotlib.pyplot as plt\n",
        "\n",
        "# Set number of iterations\n",
        "iterations = 20\n",
        "\n",
        "# Create list containing iteration number (for x-axis labels)\n",
        "num_iterations = []\n",
        "# Use range (1, iterations+1) since Python uses 0-based indexing\n",
        "for i in range(1, iterations+1):\n",
        "  num_iterations.append(i)\n",
        "\n",
        "# Make a plot where the x-axis is the number of iterations\n",
        "# and the y-axis contains the log likelihoods\n",
        "plt.plot(num_iterations, rand_init_1, label = \"rand_init_1\")\n",
        "plt.plot(num_iterations, rand_init_2, label = \"rand_init_2\")\n",
        "plt.plot(num_iterations, rand_init_3, label = \"rand_init_3\")\n",
        "plt.plot(num_iterations, rand_init_4, label = \"rand_init_4\")\n",
        "plt.plot(num_iterations, rand_init_5, label = \"rand_init_5\")\n",
        "\n",
        "# Assign axis titles, plot titles, and legend\n",
        "plt.title('Log Likelihood as a Function of EM Iteration')\n",
        "plt.xlabel('Number of EM Iterations')\n",
        "plt.ylabel('Log Likelihood')\n",
        "plt.legend(loc='center left', bbox_to_anchor=(1, 0.5))\n",
        "\n",
        "# Generate plot\n",
        "plt.show()"
      ],
      "execution_count": 22,
      "outputs": [
        {
          "output_type": "display_data",
          "data": {
            "image/png": "[encoded data removed]",
            "text/plain": [
              "<Figure size 432x288 with 1 Axes>"
            ]
          },
          "metadata": {
            "needs_background": "light"
          }
        }
      ]
    },
    {
      "cell_type": "markdown",
      "metadata": {
        "id": "xXIQCUDfnKYN"
      },
      "source": [
        "As we see above, the log likelihoods monotinically increase as expected and converge."
      ]
    },
    {
      "cell_type": "markdown",
      "metadata": {
        "id": "WO67ygHC76X4"
      },
      "source": [
        "## 2. Draw a sequence logo visualization of the foreground motif your model learns, $\\psi^{l}_{m, k}$. You could try LogoMaker, a Python library (https://logomaker.readthedocs.io/en/latest/). Alternatively, there are a number of web servers for doing this; you could draw samples from your foreground model, and input those drawn sequences into e.g. the WebLogo server (https://weblogo.berkeley.edu)."
      ]
    },
    {
      "cell_type": "code",
      "metadata": {
        "id": "8ixQ4jArrD5G"
      },
      "source": [
        "# Set the number of EM iterations\n",
        "num_iterations = 20\n",
        "\n",
        "# Sequence data used\n",
        "seq_data = my_ohe_sequence_padded\n",
        "\n",
        "# Length of the motif\n",
        "motif_length = 18"
      ],
      "execution_count": 24,
      "outputs": []
    },
    {
      "cell_type": "code",
      "metadata": {
        "colab": {
          "base_uri": "https://localhost:8080/"
        },
        "id": "zV2KSxv0rCbz",
        "outputId": "2f4425f3-348e-4273-fc27-7cde72aa0e24"
      },
      "source": [
        "# Run EM to get data\n",
        "params = initialize_random_params(seq_len, motif_length)\n",
        "my_em_data, my_params_list = run_em(params, num_iterations, seq_data, motif_length)"
      ],
      "execution_count": null,
      "outputs": [
        {
          "output_type": "stream",
          "name": "stdout",
          "text": [
            "Iteration #1\n",
            "-248378.99515588235\n",
            "Iteration #2\n"
          ]
        }
      ]
    },
    {
      "cell_type": "code",
      "metadata": {
        "colab": {
          "base_uri": "https://localhost:8080/"
        },
        "id": "_MXx8z87KCTX",
        "outputId": "fb6ba088-0e4a-4ee5-8752-1dbf7bd9e1b3"
      },
      "source": [
        "pip install logomaker"
      ],
      "execution_count": 23,
      "outputs": [
        {
          "output_type": "stream",
          "name": "stdout",
          "text": [
            "Collecting logomaker\n",
            "  Downloading logomaker-0.8-py2.py3-none-any.whl (11.8 MB)\n",
            "\u001b[K     |████████████████████████████████| 11.8 MB 9.5 MB/s \n",
            "\u001b[?25hRequirement already satisfied: pandas in /usr/local/lib/python3.7/dist-packages (from logomaker) (1.1.5)\n",
            "Requirement already satisfied: matplotlib in /usr/local/lib/python3.7/dist-packages (from logomaker) (3.2.2)\n",
            "Requirement already satisfied: numpy in /usr/local/lib/python3.7/dist-packages (from logomaker) (1.19.5)\n",
            "Requirement already satisfied: pyparsing!=2.0.4,!=2.1.2,!=2.1.6,>=2.0.1 in /usr/local/lib/python3.7/dist-packages (from matplotlib->logomaker) (2.4.7)\n",
            "Requirement already satisfied: cycler>=0.10 in /usr/local/lib/python3.7/dist-packages (from matplotlib->logomaker) (0.11.0)\n",
            "Requirement already satisfied: python-dateutil>=2.1 in /usr/local/lib/python3.7/dist-packages (from matplotlib->logomaker) (2.8.2)\n",
            "Requirement already satisfied: kiwisolver>=1.0.1 in /usr/local/lib/python3.7/dist-packages (from matplotlib->logomaker) (1.3.2)\n",
            "Requirement already satisfied: six>=1.5 in /usr/local/lib/python3.7/dist-packages (from python-dateutil>=2.1->matplotlib->logomaker) (1.15.0)\n",
            "Requirement already satisfied: pytz>=2017.2 in /usr/local/lib/python3.7/dist-packages (from pandas->logomaker) (2018.9)\n",
            "Installing collected packages: logomaker\n",
            "Successfully installed logomaker-0.8\n"
          ]
        }
      ]
    },
    {
      "cell_type": "code",
      "metadata": {
        "id": "sU_x1Agb8ySl",
        "colab": {
          "base_uri": "https://localhost:8080/",
          "height": 187
        },
        "outputId": "b543bbac-f86a-4131-92df-bcd199e8ee5b"
      },
      "source": [
        "import logomaker\n",
        "import pandas as pd\n",
        "\n",
        "#def make_logo:\n",
        "motif_table = pd.DataFrame(params['psi1'],columns=['A', 'C', 'G', 'T'])\n",
        "motif_logo = logomaker.Logo(motif_table,\n",
        "                          shade_below=.5,\n",
        "                          fade_below=.5,\n",
        "                          )\n"
      ],
      "execution_count": null,
      "outputs": [
        {
          "output_type": "display_data",
          "data": {
            "image/png": "[encoded data removed]",
            "text/plain": [
              "<Figure size 720x180 with 1 Axes>"
            ]
          },
          "metadata": {
            "needs_background": "light"
          }
        }
      ]
    },
    {
      "cell_type": "markdown",
      "metadata": {
        "id": "dpV2tMRA9I2k"
      },
      "source": [
        "## 3. Now run your model using model random initializations. How do the model parameters $\\psi^{l}_{m, k}$ compare across runs? What about their log likelihoods?"
      ]
    },
    {
      "cell_type": "markdown",
      "metadata": {
        "id": "pnYXSCbDJl8o"
      },
      "source": [
        "Assign variables for Q3"
      ]
    },
    {
      "cell_type": "code",
      "metadata": {
        "id": "t5uJeC0oJn4q"
      },
      "source": [
        "# Set the number of EM iterations\n",
        "num_iterations = 20\n",
        "\n",
        "# Sequence data used\n",
        "seq_data = my_ohe_sequence_padded\n",
        "\n",
        "# Length of the motif\n",
        "motif_length = 18"
      ],
      "execution_count": null,
      "outputs": []
    },
    {
      "cell_type": "markdown",
      "metadata": {
        "id": "s0nsZzR7JVad"
      },
      "source": [
        "Run EM using random model parameter initializations every time"
      ]
    },
    {
      "cell_type": "code",
      "metadata": {
        "id": "TPxQA-BW9RBd"
      },
      "source": [
        "# Create an empty list that will contain the log likelihoods for plotting later\n",
        "loglikelihoods = []\n",
        "# Create an empty list to store each parameter set per iteration\n",
        "params_list = []\n",
        "\n",
        "# Run EM\n",
        "for i in range(1, num_iterations+1):\n",
        "  # Keep track of iteration number\n",
        "  print(f'Iteration #{i}')\n",
        "  # Randomly initialize parameters for the every iteration\n",
        "  params = initialize_random_params(seq_len, motif_length)\n",
        "  # Run E-step to calculate posteriors\n",
        "  my_posterior = E_step(params, seq_data, seq_len, motif_length)\n",
        "  # Calculate log likelihood \n",
        "  llh = loglikelihood(seq_data, params, my_posterior, motif_length)\n",
        "  # Add log likelihood to the loglikelihoods list \n",
        "  loglikelihoods.append(llh)\n",
        "  # View log likelihood after each iteration(we should see convergence)\n",
        "  print(llh)\n",
        "  # Run M-step to further optimize parameters using new posterior from E-step\n",
        "  new_params = M_step(seq_data, my_posterior, motif_length)\n",
        "  params_list.append(new_params)"
      ],
      "execution_count": null,
      "outputs": []
    },
    {
      "cell_type": "code",
      "metadata": {
        "colab": {
          "base_uri": "https://localhost:8080/",
          "height": 613
        },
        "id": "uPfCzDeyJTnm",
        "outputId": "c4fb2cb8-f8eb-4c7c-a55f-2005bc63db24"
      },
      "source": [
        "import matplotlib.pyplot as plt\n",
        "\n",
        "# Set number of iterations\n",
        "iterations = 20\n",
        "\n",
        "# Create list containing iteration number (for x-axis labels)\n",
        "num_iterations = []\n",
        "# Use range (1, iterations+1) since Python uses 0-based indexing\n",
        "for i in range(1, iterations+1):\n",
        "  num_iterations.append(i)\n",
        "\n",
        "# Make a plot where the x-axis is the number of iterations\n",
        "# and the y-axis contains the log likelihoods\n",
        "plt.plot(num_iterations, loglikelihoods, label = \"Random_Params\")\n",
        "\n",
        "# Assign axis titles, plot titles, and legend\n",
        "plt.title('Log Likelihood as a Function of EM Iteration\\n Random Model Parameters Every Iteration')\n",
        "plt.xlabel('Number of EM Iterations')\n",
        "plt.ylabel('Log Likelihood')\n",
        "plt.legend(loc='center left', bbox_to_anchor=(1, 0.5))\n",
        "\n",
        "# Generate plot\n",
        "plt.show()"
      ],
      "execution_count": null,
      "outputs": [
        {
          "output_type": "error",
          "ename": "ValueError",
          "evalue": "ignored",
          "traceback": [
            "\u001b[0;31m---------------------------------------------------------------------------\u001b[0m",
            "\u001b[0;31mValueError\u001b[0m                                Traceback (most recent call last)",
            "\u001b[0;32m<ipython-input-24-2d50ecc3110d>\u001b[0m in \u001b[0;36m<module>\u001b[0;34m()\u001b[0m\n\u001b[1;32m     12\u001b[0m \u001b[0;31m# Make a plot where the x-axis is the number of iterations\u001b[0m\u001b[0;34m\u001b[0m\u001b[0;34m\u001b[0m\u001b[0;34m\u001b[0m\u001b[0m\n\u001b[1;32m     13\u001b[0m \u001b[0;31m# and the y-axis contains the log likelihoods\u001b[0m\u001b[0;34m\u001b[0m\u001b[0;34m\u001b[0m\u001b[0;34m\u001b[0m\u001b[0m\n\u001b[0;32m---> 14\u001b[0;31m \u001b[0mplt\u001b[0m\u001b[0;34m.\u001b[0m\u001b[0mplot\u001b[0m\u001b[0;34m(\u001b[0m\u001b[0mnum_iterations\u001b[0m\u001b[0;34m,\u001b[0m \u001b[0mloglikelihoods\u001b[0m\u001b[0;34m,\u001b[0m \u001b[0mlabel\u001b[0m \u001b[0;34m=\u001b[0m \u001b[0;34m\"Random_Params\"\u001b[0m\u001b[0;34m)\u001b[0m\u001b[0;34m\u001b[0m\u001b[0;34m\u001b[0m\u001b[0m\n\u001b[0m\u001b[1;32m     15\u001b[0m \u001b[0;34m\u001b[0m\u001b[0m\n\u001b[1;32m     16\u001b[0m \u001b[0;31m# Assign axis titles, plot titles, and legend\u001b[0m\u001b[0;34m\u001b[0m\u001b[0;34m\u001b[0m\u001b[0;34m\u001b[0m\u001b[0m\n",
            "\u001b[0;32m/usr/local/lib/python3.7/dist-packages/matplotlib/pyplot.py\u001b[0m in \u001b[0;36mplot\u001b[0;34m(scalex, scaley, data, *args, **kwargs)\u001b[0m\n\u001b[1;32m   2761\u001b[0m     return gca().plot(\n\u001b[1;32m   2762\u001b[0m         *args, scalex=scalex, scaley=scaley, **({\"data\": data} if data\n\u001b[0;32m-> 2763\u001b[0;31m         is not None else {}), **kwargs)\n\u001b[0m\u001b[1;32m   2764\u001b[0m \u001b[0;34m\u001b[0m\u001b[0m\n\u001b[1;32m   2765\u001b[0m \u001b[0;34m\u001b[0m\u001b[0m\n",
            "\u001b[0;32m/usr/local/lib/python3.7/dist-packages/matplotlib/axes/_axes.py\u001b[0m in \u001b[0;36mplot\u001b[0;34m(self, scalex, scaley, data, *args, **kwargs)\u001b[0m\n\u001b[1;32m   1645\u001b[0m         \"\"\"\n\u001b[1;32m   1646\u001b[0m         \u001b[0mkwargs\u001b[0m \u001b[0;34m=\u001b[0m \u001b[0mcbook\u001b[0m\u001b[0;34m.\u001b[0m\u001b[0mnormalize_kwargs\u001b[0m\u001b[0;34m(\u001b[0m\u001b[0mkwargs\u001b[0m\u001b[0;34m,\u001b[0m \u001b[0mmlines\u001b[0m\u001b[0;34m.\u001b[0m\u001b[0mLine2D\u001b[0m\u001b[0;34m)\u001b[0m\u001b[0;34m\u001b[0m\u001b[0;34m\u001b[0m\u001b[0m\n\u001b[0;32m-> 1647\u001b[0;31m         \u001b[0mlines\u001b[0m \u001b[0;34m=\u001b[0m \u001b[0;34m[\u001b[0m\u001b[0;34m*\u001b[0m\u001b[0mself\u001b[0m\u001b[0;34m.\u001b[0m\u001b[0m_get_lines\u001b[0m\u001b[0;34m(\u001b[0m\u001b[0;34m*\u001b[0m\u001b[0margs\u001b[0m\u001b[0;34m,\u001b[0m \u001b[0mdata\u001b[0m\u001b[0;34m=\u001b[0m\u001b[0mdata\u001b[0m\u001b[0;34m,\u001b[0m \u001b[0;34m**\u001b[0m\u001b[0mkwargs\u001b[0m\u001b[0;34m)\u001b[0m\u001b[0;34m]\u001b[0m\u001b[0;34m\u001b[0m\u001b[0;34m\u001b[0m\u001b[0m\n\u001b[0m\u001b[1;32m   1648\u001b[0m         \u001b[0;32mfor\u001b[0m \u001b[0mline\u001b[0m \u001b[0;32min\u001b[0m \u001b[0mlines\u001b[0m\u001b[0;34m:\u001b[0m\u001b[0;34m\u001b[0m\u001b[0;34m\u001b[0m\u001b[0m\n\u001b[1;32m   1649\u001b[0m             \u001b[0mself\u001b[0m\u001b[0;34m.\u001b[0m\u001b[0madd_line\u001b[0m\u001b[0;34m(\u001b[0m\u001b[0mline\u001b[0m\u001b[0;34m)\u001b[0m\u001b[0;34m\u001b[0m\u001b[0;34m\u001b[0m\u001b[0m\n",
            "\u001b[0;32m/usr/local/lib/python3.7/dist-packages/matplotlib/axes/_base.py\u001b[0m in \u001b[0;36m__call__\u001b[0;34m(self, *args, **kwargs)\u001b[0m\n\u001b[1;32m    214\u001b[0m                 \u001b[0mthis\u001b[0m \u001b[0;34m+=\u001b[0m \u001b[0margs\u001b[0m\u001b[0;34m[\u001b[0m\u001b[0;36m0\u001b[0m\u001b[0;34m]\u001b[0m\u001b[0;34m,\u001b[0m\u001b[0;34m\u001b[0m\u001b[0;34m\u001b[0m\u001b[0m\n\u001b[1;32m    215\u001b[0m                 \u001b[0margs\u001b[0m \u001b[0;34m=\u001b[0m \u001b[0margs\u001b[0m\u001b[0;34m[\u001b[0m\u001b[0;36m1\u001b[0m\u001b[0;34m:\u001b[0m\u001b[0;34m]\u001b[0m\u001b[0;34m\u001b[0m\u001b[0;34m\u001b[0m\u001b[0m\n\u001b[0;32m--> 216\u001b[0;31m             \u001b[0;32myield\u001b[0m \u001b[0;32mfrom\u001b[0m \u001b[0mself\u001b[0m\u001b[0;34m.\u001b[0m\u001b[0m_plot_args\u001b[0m\u001b[0;34m(\u001b[0m\u001b[0mthis\u001b[0m\u001b[0;34m,\u001b[0m \u001b[0mkwargs\u001b[0m\u001b[0;34m)\u001b[0m\u001b[0;34m\u001b[0m\u001b[0;34m\u001b[0m\u001b[0m\n\u001b[0m\u001b[1;32m    217\u001b[0m \u001b[0;34m\u001b[0m\u001b[0m\n\u001b[1;32m    218\u001b[0m     \u001b[0;32mdef\u001b[0m \u001b[0mget_next_color\u001b[0m\u001b[0;34m(\u001b[0m\u001b[0mself\u001b[0m\u001b[0;34m)\u001b[0m\u001b[0;34m:\u001b[0m\u001b[0;34m\u001b[0m\u001b[0;34m\u001b[0m\u001b[0m\n",
            "\u001b[0;32m/usr/local/lib/python3.7/dist-packages/matplotlib/axes/_base.py\u001b[0m in \u001b[0;36m_plot_args\u001b[0;34m(self, tup, kwargs)\u001b[0m\n\u001b[1;32m    340\u001b[0m \u001b[0;34m\u001b[0m\u001b[0m\n\u001b[1;32m    341\u001b[0m         \u001b[0;32mif\u001b[0m \u001b[0mx\u001b[0m\u001b[0;34m.\u001b[0m\u001b[0mshape\u001b[0m\u001b[0;34m[\u001b[0m\u001b[0;36m0\u001b[0m\u001b[0;34m]\u001b[0m \u001b[0;34m!=\u001b[0m \u001b[0my\u001b[0m\u001b[0;34m.\u001b[0m\u001b[0mshape\u001b[0m\u001b[0;34m[\u001b[0m\u001b[0;36m0\u001b[0m\u001b[0;34m]\u001b[0m\u001b[0;34m:\u001b[0m\u001b[0;34m\u001b[0m\u001b[0;34m\u001b[0m\u001b[0m\n\u001b[0;32m--> 342\u001b[0;31m             raise ValueError(f\"x and y must have same first dimension, but \"\n\u001b[0m\u001b[1;32m    343\u001b[0m                              f\"have shapes {x.shape} and {y.shape}\")\n\u001b[1;32m    344\u001b[0m         \u001b[0;32mif\u001b[0m \u001b[0mx\u001b[0m\u001b[0;34m.\u001b[0m\u001b[0mndim\u001b[0m \u001b[0;34m>\u001b[0m \u001b[0;36m2\u001b[0m \u001b[0;32mor\u001b[0m \u001b[0my\u001b[0m\u001b[0;34m.\u001b[0m\u001b[0mndim\u001b[0m \u001b[0;34m>\u001b[0m \u001b[0;36m2\u001b[0m\u001b[0;34m:\u001b[0m\u001b[0;34m\u001b[0m\u001b[0;34m\u001b[0m\u001b[0m\n",
            "\u001b[0;31mValueError\u001b[0m: x and y must have same first dimension, but have shapes (20,) and (0,)"
          ]
        },
        {
          "output_type": "display_data",
          "data": {
            "image/png": "[encoded data removed]",
            "text/plain": [
              "<Figure size 432x288 with 1 Axes>"
            ]
          },
          "metadata": {
            "needs_background": "light"
          }
        }
      ]
    },
    {
      "cell_type": "markdown",
      "metadata": {
        "id": "OPm3n-KhL0cV"
      },
      "source": [
        "As we can see by the graph above, the random parameter initializations at every step negates the optimization and thus does not result in convergence."
      ]
    },
    {
      "cell_type": "code",
      "metadata": {
        "id": "kvKTWX4TMnIj"
      },
      "source": [
        "for ind_i in range(len(params_list)):\n",
        "  print(f'The psi1 for iteration #{ind_i+1} is:')\n",
        "  print(params_list[ind_i]['psi1'])\n",
        "\n",
        "print()\n",
        "\n",
        "for ind_i in range(len(params_list)):\n",
        "  print(f'The psi0 for iteration #{ind_i+1} is:')\n",
        "  print(params_list[ind_i]['psi0'])"
      ],
      "execution_count": null,
      "outputs": []
    },
    {
      "cell_type": "markdown",
      "metadata": {
        "id": "GAqVKDgXNhi2"
      },
      "source": [
        "Because random parameters are used each iteration, both psi1 and psi0 are random each time. There is no observable trend in the psis. The changes to psi would look similar to the log likelihood in that there would be random increases and decreases."
      ]
    },
    {
      "cell_type": "markdown",
      "metadata": {
        "id": "Ixs58dhD9WRZ"
      },
      "source": [
        "## 4. Plot a figure that shows the distribution over $C_{ij}$ for a few of the input sequences, and compare that (in the visualization) to the ground truth. How close was your model to predicting the real motif location?"
      ]
    },
    {
      "cell_type": "markdown",
      "metadata": {
        "id": "g4OlquQCSFeG"
      },
      "source": [
        "Run the model to get the optimized posterior"
      ]
    },
    {
      "cell_type": "code",
      "metadata": {
        "colab": {
          "base_uri": "https://localhost:8080/",
          "height": 240
        },
        "id": "NHKoa6NASMG0",
        "outputId": "36620d64-e3ab-4d15-ad96-847a4e7ba3f5"
      },
      "source": [
        "num_iterations = 20\n",
        "\n",
        "# Create an empty list that will contain the log likelihoods for plotting later\n",
        "loglikelihoods = []\n",
        "# Create an empty list to store each parameter set per iteration\n",
        "params_list = []\n",
        "\n",
        "# Run EM\n",
        "for i in range(1, num_iterations+1):\n",
        "  # Keep track of iteration number\n",
        "  print(f'Iteration #{i}')\n",
        "  if i == 1:\n",
        "    # Randomly initialize parameters for the first iteration\n",
        "    params = initialize_random_params(seq_len, motif_length)\n",
        "  else:\n",
        "    # Use parameters from the last EM implementation\n",
        "    params = new_params\n",
        "  # Run E-step to calculate posteriors\n",
        "  my_posterior = E_step(params, seq_data, seq_len, motif_length)\n",
        "  # Calculate log likelihood \n",
        "  llh = loglikelihood(seq_data, params, my_posterior, motif_length)\n",
        "  # Add log likelihood to the loglikelihoods list \n",
        "  loglikelihoods.append(llh)\n",
        "  # View log likelihood after each iteration(we should see convergence)\n",
        "  print(llh)\n",
        "  # Run M-step to further optimize parameters using new posterior from E-step\n",
        "  new_params = M_step(seq_data, my_posterior, motif_length)\n",
        "  params_list.append(new_params)\n",
        "  # Save latest posterior to access for questions\n",
        "  if i == 20:\n",
        "    optimized_posterior = my_posterior "
      ],
      "execution_count": null,
      "outputs": [
        {
          "output_type": "stream",
          "name": "stdout",
          "text": [
            "Iteration #1\n"
          ]
        },
        {
          "output_type": "error",
          "ename": "NameError",
          "evalue": "ignored",
          "traceback": [
            "\u001b[0;31m---------------------------------------------------------------------------\u001b[0m",
            "\u001b[0;31mNameError\u001b[0m                                 Traceback (most recent call last)",
            "\u001b[0;32m<ipython-input-2-d7c49271d92d>\u001b[0m in \u001b[0;36m<module>\u001b[0;34m()\u001b[0m\n\u001b[1;32m     12\u001b[0m   \u001b[0;32mif\u001b[0m \u001b[0mi\u001b[0m \u001b[0;34m==\u001b[0m \u001b[0;36m1\u001b[0m\u001b[0;34m:\u001b[0m\u001b[0;34m\u001b[0m\u001b[0;34m\u001b[0m\u001b[0m\n\u001b[1;32m     13\u001b[0m     \u001b[0;31m# Randomly initialize parameters for the first iteration\u001b[0m\u001b[0;34m\u001b[0m\u001b[0;34m\u001b[0m\u001b[0;34m\u001b[0m\u001b[0m\n\u001b[0;32m---> 14\u001b[0;31m     \u001b[0mparams\u001b[0m \u001b[0;34m=\u001b[0m \u001b[0minitialize_random_params\u001b[0m\u001b[0;34m(\u001b[0m\u001b[0mseq_len\u001b[0m\u001b[0;34m,\u001b[0m \u001b[0mmotif_length\u001b[0m\u001b[0;34m)\u001b[0m\u001b[0;34m\u001b[0m\u001b[0;34m\u001b[0m\u001b[0m\n\u001b[0m\u001b[1;32m     15\u001b[0m   \u001b[0;32melse\u001b[0m\u001b[0;34m:\u001b[0m\u001b[0;34m\u001b[0m\u001b[0;34m\u001b[0m\u001b[0m\n\u001b[1;32m     16\u001b[0m     \u001b[0;31m# Use parameters from the last EM implementation\u001b[0m\u001b[0;34m\u001b[0m\u001b[0;34m\u001b[0m\u001b[0;34m\u001b[0m\u001b[0m\n",
            "\u001b[0;31mNameError\u001b[0m: name 'initialize_random_params' is not defined"
          ]
        }
      ]
    },
    {
      "cell_type": "code",
      "metadata": {
        "id": "nEeQ51eY9cO_",
        "colab": {
          "base_uri": "https://localhost:8080/",
          "height": 207
        },
        "outputId": "7cd51df7-61a0-46eb-a2ac-f66a899cf6cc"
      },
      "source": [
        "for i in range(200):\n",
        "  plt.plot(optimized_posterior[i])\n",
        "\n",
        "\n"
      ],
      "execution_count": null,
      "outputs": [
        {
          "output_type": "error",
          "ename": "NameError",
          "evalue": "ignored",
          "traceback": [
            "\u001b[0;31m---------------------------------------------------------------------------\u001b[0m",
            "\u001b[0;31mNameError\u001b[0m                                 Traceback (most recent call last)",
            "\u001b[0;32m<ipython-input-1-33e93392c6c9>\u001b[0m in \u001b[0;36m<module>\u001b[0;34m()\u001b[0m\n\u001b[1;32m      1\u001b[0m \u001b[0;32mfor\u001b[0m \u001b[0mi\u001b[0m \u001b[0;32min\u001b[0m \u001b[0mrange\u001b[0m\u001b[0;34m(\u001b[0m\u001b[0;36m200\u001b[0m\u001b[0;34m)\u001b[0m\u001b[0;34m:\u001b[0m\u001b[0;34m\u001b[0m\u001b[0;34m\u001b[0m\u001b[0m\n\u001b[0;32m----> 2\u001b[0;31m   \u001b[0mplt\u001b[0m\u001b[0;34m.\u001b[0m\u001b[0mplot\u001b[0m\u001b[0;34m(\u001b[0m\u001b[0moptimized_posterior\u001b[0m\u001b[0;34m[\u001b[0m\u001b[0mi\u001b[0m\u001b[0;34m]\u001b[0m\u001b[0;34m)\u001b[0m\u001b[0;34m\u001b[0m\u001b[0;34m\u001b[0m\u001b[0m\n\u001b[0m\u001b[1;32m      3\u001b[0m \u001b[0;34m\u001b[0m\u001b[0m\n\u001b[1;32m      4\u001b[0m \u001b[0;34m\u001b[0m\u001b[0m\n",
            "\u001b[0;31mNameError\u001b[0m: name 'plt' is not defined"
          ]
        }
      ]
    },
    {
      "cell_type": "code",
      "metadata": {
        "colab": {
          "base_uri": "https://localhost:8080/",
          "height": 265
        },
        "id": "B1pVfyYadENc",
        "outputId": "8739dccc-ba4d-430f-ca7d-a11e0ec1772d"
      },
      "source": [
        "  for i in range(200):\n",
        "    plt.plot(sequence_padded_motifs[i])"
      ],
      "execution_count": null,
      "outputs": [
        {
          "output_type": "display_data",
          "data": {
            "image/png": "[encoded data removed]",
            "text/plain": [
              "<Figure size 432x288 with 1 Axes>"
            ]
          },
          "metadata": {
            "needs_background": "light"
          }
        }
      ]
    },
    {
      "cell_type": "markdown",
      "metadata": {
        "id": "iHeUPqxu9nBr"
      },
      "source": [
        "## 5. Train your model using 80% of the data, holding out the remaining 20%. Evaluate the log likelihood of your held out data using the model you implemented in this assignment, and compare it to the log likelihood from the simple latent model we used in class, using the same training/held out data. Which one is better?"
      ]
    },
    {
      "cell_type": "code",
      "metadata": {
        "id": "aWZ_T8zj9qMr",
        "colab": {
          "base_uri": "https://localhost:8080/",
          "height": 158
        },
        "outputId": "9949394d-b0ad-4de5-9c79-1b760da07551"
      },
      "source": [
        "my_ohe_at_gc_sequences[1]"
      ],
      "execution_count": null,
      "outputs": [
        {
          "output_type": "error",
          "ename": "IndexError",
          "evalue": "ignored",
          "traceback": [
            "\u001b[0;31m---------------------------------------------------------------------------\u001b[0m",
            "\u001b[0;31mIndexError\u001b[0m                                Traceback (most recent call last)",
            "\u001b[0;32m<ipython-input-48-a72183076d1c>\u001b[0m in \u001b[0;36m<module>\u001b[0;34m()\u001b[0m\n\u001b[0;32m----> 1\u001b[0;31m \u001b[0mmy_ohe_at_gc_sequences\u001b[0m\u001b[0;34m[\u001b[0m\u001b[0;36m1\u001b[0m\u001b[0;34m]\u001b[0m\u001b[0;34m\u001b[0m\u001b[0;34m\u001b[0m\u001b[0m\n\u001b[0m",
            "\u001b[0;31mIndexError\u001b[0m: index 1 is out of bounds for axis 0 with size 1"
          ]
        }
      ]
    },
    {
      "cell_type": "markdown",
      "metadata": {
        "id": "17Ed0I_N9s9Z"
      },
      "source": [
        "## 6. Train your model on the atgcsequences.txt file (that had a GC-rich region embedded between two flanking AT-rich regions). Does the model work better?"
      ]
    },
    {
      "cell_type": "code",
      "metadata": {
        "id": "Bq80KKxQ-Ed3",
        "colab": {
          "base_uri": "https://localhost:8080/"
        },
        "outputId": "9462c14c-21f1-4ec9-a1be-ae1a65089395"
      },
      "source": [
        "# Set the number of EM iterations\n",
        "num_iterations = 1\n",
        "\n",
        "# Sequence data used\n",
        "seq_data = my_ohe_at_gc_sequences\n",
        "\n",
        "# Length of the motif\n",
        "motif_length = 18\n",
        "\n",
        "seq_len= len(my_ohe_at_gc_sequences[0])\n",
        "\n",
        "# Create an empty list that will contain the log likelihoods for plotting later\n",
        "loglikelihoods = []\n",
        "# Create an empty list to store each parameter set per iteration\n",
        "params_list = []\n",
        "\n",
        "# Run EM\n",
        "for s in range(1, num_iterations+1):\n",
        "  # Keep track of iteration number\n",
        "  print(f'Iteration #{s}')\n",
        "  if s == 1:\n",
        "    # Randomly initialize parameters for the first iteration\n",
        "    params = initialize_random_params(seq_len, motif_length)\n",
        "  else:\n",
        "    # Use parameters from the last EM implementation\n",
        "    params = new_params\n",
        "  # Run E-step to calculate posteriors\n",
        "  my_posterior = E_step(params, seq_data, seq_len, motif_length)\n",
        "  # Calculate log likelihood \n",
        "  llh = loglikelihood(seq_data, params, my_posterior, motif_length)\n",
        "  # Add log likelihood to the loglikelihoods list \n",
        "  loglikelihoods.append(llh)\n",
        "  # View log likelihood after each iteration(we should see convergence)\n",
        "  print(llh)\n",
        "  # Run M-step to further optimize parameters using new posterior from E-step\n",
        "  new_params = M_step(seq_data, my_posterior, motif_length)\n",
        "  params_list.append(new_params)"
      ],
      "execution_count": null,
      "outputs": [
        {
          "output_type": "stream",
          "name": "stdout",
          "text": [
            "Iteration #1\n",
            "-497.31814445173416\n",
            "The sum of our new lambda_j is: 1.0\n",
            "The sums of each row in our new psi1 are:\n",
            "1.0\n",
            "1.0\n",
            "1.0\n",
            "1.0\n",
            "1.0\n",
            "1.0\n",
            "1.0\n",
            "1.0\n",
            "1.0\n",
            "1.0\n",
            "1.0\n",
            "1.0\n",
            "1.0\n",
            "1.0\n",
            "1.0\n",
            "1.0\n",
            "1.0\n",
            "1.0\n",
            "The sums of each row in our new psi0 are:\n",
            "1.0\n",
            "1.0\n",
            "1.0\n",
            "1.0\n",
            "0.9999999999999999\n",
            "1.0\n",
            "1.0\n",
            "1.0\n",
            "1.0\n",
            "1.0\n",
            "1.0\n",
            "1.0\n",
            "1.0\n",
            "1.0\n",
            "1.0\n",
            "1.0\n",
            "1.0\n",
            "1.0\n"
          ]
        }
      ]
    },
    {
      "cell_type": "markdown",
      "metadata": {
        "id": "jkc5IO2o-E6i"
      },
      "source": [
        "## 7. The original training set in sequence.padded.txt has 357 sequences. Randomly sample another 357 sequences of the same length (just from a simple generator, that produces each base at equal frequency) and train the model with all data. Does it still recover the same motif? What if you add 3000 noisy sequences?"
      ]
    },
    {
      "cell_type": "markdown",
      "metadata": {
        "id": "4EQJ9k8E-7T0"
      },
      "source": [
        "Generate 357 sequences of the same length that produces each base at equal frequency."
      ]
    },
    {
      "cell_type": "code",
      "metadata": {
        "id": "bMYZPCktUaAg",
        "colab": {
          "base_uri": "https://localhost:8080/"
        },
        "outputId": "c800d853-f60b-4cb6-99bb-a43048299f56"
      },
      "source": [
        "import random\n",
        "\n",
        "# Number of sequences to generate\n",
        "seqs = 357\n",
        "# The minimum sequence length\n",
        "min = 40\n",
        "# The maximum sequence length\n",
        "max = 40\n",
        "# GC-content as a proportion\n",
        "gc = 0.5\n",
        "\n",
        "assert(seqs > 0)\n",
        "assert(min > 0)\n",
        "assert(max >= min)\n",
        "assert(gc >= 0 and gc <= 1)\n",
        "\n",
        "# Use probabilities for random sequence generation\n",
        "# This does not guarantee that all bases are present at equal frequency\n",
        "# But this means the sequence length does not have to be divisible by 4\n",
        "# And base pair frequencies are close to equal\n",
        "my_seqs = []\n",
        "for i in range(seqs):\n",
        "    l = random.randint(min, max)\n",
        "    seq = []\n",
        "    for j in range(l):\n",
        "        r = random.random()\n",
        "        if r < gc:\n",
        "            r = random.random()\n",
        "            if r < 0.5: seq.append('G')\n",
        "            else:       seq.append('C')\n",
        "        else:\n",
        "            r = random.random()\n",
        "            if r < 0.5: seq.append('A')\n",
        "            else:       seq.append('T')\n",
        "    my_seqs.append(''.join(seq))\n",
        "\n",
        "print(my_seqs)"
      ],
      "execution_count": null,
      "outputs": [
        {
          "output_type": "stream",
          "name": "stdout",
          "text": [
            "['CTGCCCCCGGGCCCTGTGTATACTTCCGCAGCAGTGAGTT', 'GGCCCAACAGCGGTACAGGACTTAAGCTCTCCCGATTTGC', 'GCTGCACGGAAAACAAAGGTACGAAGAATGTATGCAACGG', 'ATCTAGGATAGTCCAGTAGGGAGTCTTTGGCTGGACGTGT', 'ACACCCCCGGCGCATTCGCCCGAAAGGGCCTACGGGGACT', 'GGCACGATTTATCGTTATAAGTCATAACTTCTCTATGGCG', 'GTGTCTCTACGCCCCATCGCATACCGCACTGGCTCGGGGA', 'TGACCAGCCTTCCCCCTCCAGAGCACCCATGATATACTTC', 'CTTGGCCGCCTTCGCCCCCCTCAGAGGCCTGTGTGGGTTC', 'GGATGGTTTACTAATTCTTGGGCTTTCGGTCTCATTCCGG', 'AATGAGCAGGAGTCTAGTAATCCACAAAGGCTGAGATTGA', 'TGATTGCAGACGCACAAAAGCGTGGAAACCAAACCCTACG', 'CTAACTATTATACATCAGTGAGCGGGTGCTCTCAATGCAG', 'CAGCGGTGCCTCACCGATGTCGAAGGATACCTCTCCTCCC', 'TCACGTTTCATCGCATCACTGACCTATGCCCCCCCGCCCC', 'TGTATTTTAGATTCGTTACGTCTACGTCCGCTTGTGGTCC', 'TATCGACTCGCGTATCTGGACGCGGCTCGTGTTAACTGTC', 'GGAAATCGTAGGCACCTTGTCGCTACCCTCAGAAAGTCCA', 'CAATTAACGCCAATAAATATACCCATTCTTGCCGATAATT', 'CTCCTGATAGGTCCCATTTCAAACAGAGCGCTGTCGGACG', 'TCCATGCCTGTTAATCAGCTGCCGACGTCCAGTACGGGTC', 'GCTTTAGCAAGACTATAGTTAATACGAGCCGTAGTGTTTA', 'ACTTGCGTTGTTATTAGATGTAACAGCCACCGGGCTGGAC', 'GGCAACATGACCTCAAATGTTCCGACTCTAAACACGTCCG', 'TCATCCGTGGGCGTTAGAGGCTTGAACTCAAGGCTCATTC', 'GACAGTTGGTTTCATGTGAAGTTTGGGAAAAAACCTCATA', 'AGTACCCTGATAGATTGTACGTACAGTCTCGAGTCCCTAA', 'TGGTTTGTGGAGCGAGGAATCCGCTGTCTTTTCCGAATTG', 'GCTGGGCCATAAACGGCTTACGATTGGATACACGTAGCCG', 'GCAGCACACTTGTATGAGTACGCTAACCGAGATGCACTTG', 'TCTGTTTTAGGCTGAGCGTCAGTGGTGAACTATGCGTTAT', 'ATGCGTGGGCGTGCTCTTTTGCCGACGTACGGAATAGGCT', 'TTTTGCCACAGAATTTCCGGGGAGAATTGTCCTCTGCGAA', 'AGGTCCTACCCCGCCGAGACCTTACTCATGTCGTGCAGTT', 'ACGGGGTTTGTAACCCAAAGATGCGATGGATTGAATGATG', 'AGTAGCGCTCAGGTTCCACGTGGGGGCAATGGTAGCCCCC', 'GAGCGCGAGTCCCGCACCGCCAATAGTTAAACTGGACATA', 'GAAGCCTTACTTGCGTGAAAGGCTACTGGGTTGGCGAAGC', 'ATAAGCCAAGCACCGACCCTGCCTAGATTTCCAGCTCCAA', 'GTCCCGTCCGGGGACGTAGAGGGGGTCGCTAGGCAGCAAG', 'GGTGTTTCGGGGTATCGCCATTCTAGGGCCCCACGCATAG', 'TGAACTTTATGACAGTAATTGCGCCGCAAGAGACCGCGAG', 'TCATGTCAAAGTCACCCGGTGTGGGCTACATGCCGCGTAC', 'ACTTGACAGGAGCCTCACTCGCTTTAAAACCAAGAACGAC', 'AAGTAACTTCAATCCATCTGAACGTAGGGCCTTCCCAACG', 'CCTAAATAGGTGAGAGCTCTACCTTTGCATAGGGGTACGA', 'GAGACTGGGTCAGTATGGCGTATTGCCGAATTAGCTCGCT', 'ATAGCTGGTCGACCTGATGATGACTACAGTATCCGTGTTC', 'TTATCGAAGTGCTGTGCATCCATGTAGACTGCTGGATCAA', 'AACGTAATTATGTTCTATGCAGGAATTGCATTCTACCTAC', 'GGTATTGTGATCAGGGGATTGAGTGCTTCTATATTGATGC', 'GCGGTTGCTGCGGTGGGACTCTGTGTCGTCTAACACCGGC', 'CGTCCGTGACTCTACGGTACGTGAACTGAAGATCCGTCTA', 'GTGAGCACCTGGAAACCCGGACTGGCCCTTTTCCCCCGGG', 'TACAAATCGATAGACATGTGTAGGCTACTCCTTTTAAGTC', 'ATAAAGTGCAATGGGCGTATGTCAAGCATATTGAAGCGCT', 'GGTTGGCGACTCAGAGATACGTTGTCCAGAGGACGGAGGA', 'CCCGGCGTACCGTCGTGACCAGTCGTGAGAATGTGTGCGG', 'ATACGGCTCGGACAGGAATCGGAATGAGTGCCAATATTGA', 'CTAGAAGGAATAATAATAGCCGTGACATAAAGTTTTTCCC', 'GTTGTCTTCCAGGAGCGTGAAGAGGTTTATACGTGTCTGT', 'GGTCCTCCTCCTATCTGACTTATACGGCTCCGTGCGGCAT', 'GTTCTCTAAGCTCATTCGTCAACGTAGTTTAATTCTACTG', 'GAAGCTAACGATACAACCATGGTACGATTCCTACCGTATA', 'CCCAGCGCTTAGCTTTTATACTCTTAAGCAAAGGAGGATC', 'GCTCGGTCAAGGAGATTGCGTCCCAAATATGGAGAAATCG', 'GGGGTTAATGCCGCTCAATAAAACCTCCACGTCCATATGG', 'ACAATGTAAAAGTGCGTCCTAGAAGGACGCGACTAGCACT', 'GCTTAAGAGAACTGTTCCTGCGGTGAGCTCCCCTATGCAT', 'AATGATAGCATCTCGTGAGACTCTTTGTTGAGGAAAAGCG', 'GACGCTTATCCACCCCTGCCTTATAAGCGCCGGCGGCGTT', 'CGGACGAATTAATGGTCAACAATACATGACTCCCCTGAAT', 'CTTTTATCTACGAGAGGCCGGCTGAACCCGAAAGTTCTCG', 'CCAAACCATATCACCAAATGCGAGTACTCGGACTCAAGAT', 'GGAAATCGTCCGGCCGACGGCACCGGACTCTCTCGGCAAA', 'AATAAGCATTATTAAAATCCTTAGGTCTAGACGGTAAGGA', 'TGGGTAAGTGACACGGTCGCATGAGGGGATGTCAGATGGC', 'ATGTAGTTATTGCTGCGCATGTACGTTGTCATGTGAATTG', 'TCAGTAGTATCCAGGTTTAGGCATTGGTCCAAATCATCGA', 'TCGTCAGCCGCGCCCTTCCGCCCGGTATGGTTCCTCCGGA', 'GGGAGCTCCAACAGAGTTAGCAGTAATCGATCAAATAGTT', 'TACGAGGCATGAGGGGTCAATAGACACTCCTCCGAACGCC', 'ATCCAAGGTAAGTGATAAGCTTCCTTTAAACAGTAGTCTG', 'GTGAGAGACCCGGGCATACCCGAGCCGCATATGCAATCAT', 'GGTAGACTAGACTGTAGGGAGGGGTATCAAACCTGGATTC', 'GTGTGAGGGGGTTTGGATTTAACCTCCGCGCGTCGTCATA', 'ACCCATCATTATATCGCATGCGGCAGCGATTGACGTTACT', 'ACGAAACTGTCGTGGCGTGTCGGCCTGCAGCCCTGGGCTT', 'CGCCCCATCATTAGCTGGATGCCAGAAGCACTGAGCCTCA', 'CGGCTCAAACGCATCCTTACTCACCAGATATGCTGTATCA', 'GACTACGGCCCGGGAGCGTTGCTCTTTCTTAGACTCCCCT', 'TGACCGTGCTTGGAAGCGTGCATATCTGGGGGAGCTTGGA', 'CTTTTCCGCCGCTGCCCTCCAAACCTTTAATCCCTTATGC', 'GGCAACAATTAAGACTAAGTTCCTGGGAAACTGGCCCCAC', 'AACTAGTCAGCGACGACACGGAACACACGGGGCCGGTAGA', 'GTCAGAGATGCAGTAGAACCCAAGTAGGTGCAACGGCATC', 'TATCTAATACCGAAAAGGAACATGAAGAGGTGGTGCGGGT', 'CTGTTACTTTCCGGCACTATCTAGCTTAGATTTTGTTGCA', 'AGTATTGCATCTCGAGTGCTTGCCATTGACTTTCAGCACC', 'CTGTTGAAGTGTATTATCAGCGTATTAGTCGGGTTGTTTT', 'GGGCGCAATTACCCTTAACCTGGCTTCTTTGTAGTAGGAT', 'GAAGACTCGGCTGGCAGTCCTACCGCGGCGATACTCTGGC', 'CGTGGATAGAGGCCGGGAGTACGGGAGAGTCGCTAATCAC', 'ATTGTACTCTAGTTGCGATGAATTCACCGTTTTACTTCCT', 'TACCTTTACAGTTGATTAAGCAGTGCACCACTTTGACGCA', 'CAATGCATTCCCCAACGAGTCATCTACTGCAGTAGCCACA', 'GCCATGGTTCGACATCATAAGGTTCAAAGTCAGACGTCTA', 'GCGGTTGCCTCAGTGACAGTAGAATTAGGTGACACATTGA', 'CAGACAGTATCCCGCCAAGAAAAGGAATCGTGGCCGAGCG', 'TAGATATGACTATGCTACGCCTCATGAGGGCGCCTAGAAT', 'GACCATTCACAGCTTTTTTTCGATAAGGTCAAAGGACAGC', 'CCTATTCGCTGTTGTAGGCCAGGCACAGGCGTGTCTTATT', 'CACCTAAAGCGCACGAAACTGTCCATATGTCTTAGGTTCC', 'GCCCTGATGTCTAATAAACTTCCTACGACACCGGAAGTGG', 'GCGACGAAACTGACTTTCCCTCGCTCGGCGGAATTCAAAA', 'AAGTGTACACAACTACTTTTGTACCGCTAGCTCAGTATGT', 'ATGCGTTGTCTAACCATCAGGCCATTATCCCGTTATTTGG', 'CAATGATGAACAGCTAGTGGGGGGTCATCAATAGAATCTA', 'CCAGTTTTGTCCGGGCAGGTCCATTCAAACTTGTTGGTTT', 'TGCCAGGAAGATGGTTTCTTTAGATCATAAGGTCGGCTTA', 'TTGCCCAGACATAGACTTAGGTAGGGGTGTTTCAGGCGTC', 'TGTACTTAACAGTGAGTGCTAGCGATGGGACAAGTGGGGT', 'CCAGTGTAGGGCAAGGAGGTTACCGGTAGTGAGTTCTAGC', 'AGGCAGACTCTTGGTCGCTCTGGTGTATCTACCCCTGGCC', 'CAGACTAAGGAGACCTCAAGGTACTGGCCTAGGCGAACCT', 'GAACGGTAGGATATAACGGATATCCATGGGGGGCACCAGG', 'ACGTTACGTGTATCTAACATCCAACGCAAGCGAAAGCAAA', 'TTCTCGCGTCCTTGTGGGCTTTGTCTGCTGTAAGAAAGAC', 'TGGAGCACCGAATCCGCAAATAACTGGCTTCATCGACGGA', 'GCCATTAGCGACGTACGACAAATTACGAACTTCGACGTAG', 'GGTAGTCAAGGGCGGTTGAAACGCGCGCGGGCTAAGGATC', 'CGTAGACGTTACGTGCACACACCACGCCATGCGCCTCCTC', 'GCGGTCCCCACTTTATCTCGTAAGATCACGTCAATTGTTA', 'CGAGTGCAGCAAATCCGATGAGCAGGTGAGTACTCCGTGC', 'AAAGCCCTGGAGGTGAGGCTGCAGGTTTAGGTCAGGTACT', 'ACCCTGCCGGTTGACCAAGCCGATGAATCCGCCAGCGGTA', 'GGATACTAGTTACAAGAACTGGGTCTACGAGTGGGAAAAT', 'GATATAAGATATTGGACTTTCAGTGTTGCTTAGGCTGGGT', 'AAGGTTGGTACTGATAGTGTAGATCTACCTACGGCTCCGG', 'GACGGGACGCGAATTGTTAGAAAGTCGTCATTCTATAATT', 'GGGAAGTTTAGTCTAAACGGTAACGTATAGTGCGAGTTAT', 'TACCTTGAAGCCGCGGCAATTGCCAAAGCCGTGGCGATGT', 'GTATTCCCCCATCAATAATCGTAGGTTTTTCTCTCGACAA', 'AGCACTCAGAGATTGAATCCAGCTCTAGGCTGTGTCCTTG', 'ATCGTAAGGTATGTGCAAGGGGATCGATATCATCACGTCA', 'GACACGGCCAGTCGGGGGAATAGGTGTCTAAAGCGCTTCG', 'TGGTGCTAACTAGTGGAAAAGTCGGAGATAGTGCGAAGCC', 'AGACTCATGAAATCAGTGTGACCCGAGCCTCCGTCTCCCC', 'ATTGGTAACCTCCTCTCGGTGCATGCGGGGCCACGGGATT', 'GCGCCTGGACTGTTTCAACGGACGAAAGTGCAGTGATTCG', 'AGCCTCGACACTCTCAGCCCCGTTTTTCAGCTAGTCTTGG', 'CAAGTTCGCGTCACTATTCGAACTCCAGGAGGCACGGGGT', 'AGCCTCCTCCATCTCTGGGATTGCTTGATCCCCGCCGTCT', 'GATCTCAAGACAGACATACCGTAGGCTGACTACTTCGCGT', 'GAAGCTGCAAGTGCACCTACTTGGTATCACGTATGGTAGG', 'ATTTTACACGTCCAGGGGGGTCGTATATGTCCTTTCTCAA', 'AAGTCGATTGGAGGGTGTGTCGATGTCCCGTATCTGATGC', 'TGCCGCCACTCGATAATGTTGATTCCCTTAAGGTCTCCGA', 'TATGGAATTGGCAATTAGAGTGTACGTAAAAAGCGAATGC', 'CACGCAGTTCAGGATCAAGCCCGTCCTTCACCCGATGTCC', 'TAGAGAAGGCTCATACCCCAGCAGCGCCTTCATGTACCCG', 'TGCCCGTCCCTTAGGCTGTGAGTAATATCCCTTACCGACT', 'GTCGTAAAAGACCATCGGCGCCGTAGGGAGCTTAGAGATG', 'AGATTCGAATCTTTTTGGAGCCTAACCTGTAAAGCGCCCG', 'GGAACAACCATGCACGGACTGCTAACAAGCGTTGTTTATA', 'AGCTCTTTACTCCATGGGTTAACGACACCGGGGCTTTATC', 'ATCTAAGTACTCTTAACCCTTCGCACAGGACTCAAGATAT', 'GAGCGCTTACCCTTCGACCAGTAGCGAAAGCATTAGCCAC', 'GCGTCCCGACGATTCTTTCGGAATCGCTTCCTAGCTCTAC', 'GGGTGTATCCATACGGATAGAAAATTTGTATTTGCTTCCG', 'ACGGTTCGTTGCTAGTGGCAGTCTGTTCTCTTGATGCAAC', 'GTCTTGACTCTTATCATTTTGGGTTGTGAGCACTGTCCCA', 'CCAGATTAGAGGAGGGTATGATAGGGGCCCATCCGGGTGT', 'AGTGCAGGGACAGACCCAGTCGACTCTCTCAAACATGGCT', 'CGGATCCAAGGTAGTAACGTTGTAGATCTACGTTGTACTC', 'CATCATCGAGGGTAATGGGTCCCCCTTGTAACATGAAATC', 'TGATCCTGCCTTAGTCCGCGTGTGCTTCCGAGTGGAGGCC', 'GCTAGGCTAGATACGAGCCGGTAAATGCTCCGAAAGTAAG', 'AAGCACTCTGACTTATCCATTCTTAGGCTCCCGTAAATCG', 'GTCGATTAATCGACTTACGACTCACCTAGGACGTATGACT', 'AACTCACGAACTCAGGGAGCGTACCTTAAAAATGGATCGC', 'ACGTCACAAACAACAAGCCTCCGAGCCAATAATTTGGGTA', 'CGCATGCACCACGCTCCTTTGGCATGCGATAGACGGCCAT', 'TTTGTCTGCGCAGGGTTTATAGGTTATCTGATTAAGCAGA', 'GGGCAGTGTGGAGATAGTTGAGCGCCGTAGGGCCGTTCTA', 'GTCACTTAATCCTATAGACCGCTCACATGGGATACGAATG', 'TCTAACCCCTGAGGGATGACCTCTCACATTGTATGGCTGG', 'AAGAATTTTGACGAAAAGACTGTCGATGTAACTCGGAACT', 'TGCACGCCAGGAAGCTGGAGATGGTAACCCACAGCACTGC', 'TCGCTCACCTCTACGCGACCAGTGTTGATATGTCGAACGC', 'TCAAGGATGTTCCTTTCGGGAAACGCTATAGCACCTTATT', 'ACCATAGCCCTGTCTAACCGATGCTTTTTTCGACGATCCA', 'CCATGACCCTCTCTGCCGACCACCGGAATTGCACACACCC', 'CAAATTTAATCTGCTGGGTTCTGATCACATCACAAACGTC', 'CCGAGGAATAGAACCATCATGGAGCTTAACGACGGAAGTA', 'TGAATGACGTCTACCCGAGGCACCAGTGCGTTTAGGCCGT', 'GCTTTAACGACCTTATATATAACCCGAGTAGGACTGGCGA', 'TGGTTACCTTTGCTGCTTTCTATCGTTTCACCCATCACTT', 'GACCCAGGAACTAAGCGGTTAATCTCACACGCGCTTTTTC', 'AAGCCATTTCTGGATCATCAAGGTAATTAGAGTCAAACAC', 'AACATGGGTGGGGGAGTAAAACCGTCGACCACACCGCATT', 'GACATATTACAGAACTCAAACATCATGAAAGGGCTAAAGC', 'TCAGAGTTATACTCAGAAGGTCCCCATAACGGAAATCAAG', 'AATTATCCCCTGTTAGACACTTTTACCACCACTGGGCTAG', 'TCACGGCATACGTGTACCCGCCCCACGCTAGTATCCAGTG', 'CGTGGGGGACATCAATCAGGAAGAGGCAGGGCGACAGCGC', 'AAGCGTGGGCATCGAGGAGGTCGTCAGTTGGTACAGAACG', 'ATCTACCACGTGACAAGCCTTTTCCGTTAGGTCCCTCTGG', 'CAGCGTTCTTCCCTCACCATCATTTTTTCTTCAACACTGC', 'CTGGCCTTGTGTCGGGCTAGGCTTCATACCCGGAAATCTA', 'TCGGAATGCTTCCGATCCAGCCGAGCTGGCTGGTCGTAGC', 'TCGTAAGCGTATATCCCAGAGGTTGTATCTCGTGCTGCGG', 'CTCAATGGCTGGCGGGCAGGGAAAGACACGCAGATTTGAA', 'CGTTTCGCCATGATTCAGACTGCTCCCCGGCCTGGGAGTC', 'GTGCCGGTATTTATGTTTATTCCTGGCCGCAAGTAACTAA', 'CCATTTTGCATTGGTTAGAGCCGATCGAGTGGTTAAAGGT', 'ATCCCGATTCGCCCGGAGATCATCGTGGAATCCGGGCCTG', 'ATCGACTTTGACGATTGGAAAACGTAGTATGGCCTAGAGG', 'ACTTGAGAATAGAACTCCTATGTCATTATTACCGTTGGGT', 'GGAAACCACCCAGGTCTCGACATGGCAGAAGGTCTGGTGA', 'GACTGATTTCACTCTGAGGTAACTAAGCCGCAGAGTGTGA', 'TGAGAGGTTTATTGGGGCACGATATCACTGGCGTGTTCAC', 'GCATATACGATAAATCTACATAAGCTGGTATCCTACTCGC', 'GTGTCACAGTGTAGCCCAGGCCTCTGCGTTACTGGTGAGC', 'TTTGGACCCTCATGGATCCGGGTTTCGGTGTAATATCATA', 'ACGGTGCGGGCTAACTAAGCAGCGGGCCGGCGGCCAACTG', 'CAGCAGTTATCTTCCAGCACTTGCTCGATTTTCAATTCTC', 'GTATTCTAAAAGTTTTGCGCCGGAATCTACCTCAATCCAG', 'TACAAACTAAGTGTACTCAGCCTCCCTCGGCCTCTACGAT', 'TTCAGCGATTTCCTCGGTTTTCCCTGGTTGCCCCGGCTAG', 'AGCTAAAGGCCGGACACCATTTCGGGTGGAGTTAGGCGTA', 'AGCGGAAGTATCTTCGACGTCCCTTAGGCCTCACGCGTTC', 'GATTGCAGGGTACCCAGATAACGAGAGTTGACAGTACGGA', 'TACGAGAATTGAGGGTTCGATTACAATGTGCTGTGAATTA', 'GTGAAGAGATGAGTTAGTTCAACAAGCTAAATTTCAGCAG', 'TTATCGTTGACACTACCCCAGAGTTATCTTATATAGTGTC', 'TCCTGCATCCGCGCTTCATAGCACATCCGGTAGATGAGAG', 'CCAGAGCTTCTGAGGACACATGGGCGAGGCGTCAGTTTAC', 'ATAGTCCTGATCGCTGTATGCGCCCGGGGGGACTCCCGCC', 'ATTGTAAGCGTCGGATTGGGACATAAGTTCGCTGGGTAGA', 'GCTCTCCGTGTCCATACCTGCCCCCCGATGCTCCAGGACA', 'TCGTCCATACGTGGGCTTAGTAGTCGACCAGTTCGGCCCA', 'TATCTCGGGCGACCAAGAGCAAGCTGACCACCGTTTCGCA', 'CAAACCCGAAGTGTCTCGTTAACAATAGGCCATCTGGGGG', 'GCACCAAATGTGCGGTCTTAATATCGTAGCGTCATCCATC', 'TGGATGCATGATAAGGTCCGTAAGTGGACCCCTGAATGTG', 'AAGCCAGGGAAAAGTTAGCTGATTCCCACGAGGACCGCTG', 'GTGAGCATCCGGACACGCATCGTAGAACACTACTATACTG', 'ACGTAGTTTAAGGACAAATAATAACTAATAGCGAATCCCT', 'GGCTTGGGGAGTGGTGAAAGTAAAACGGTGAGCATTGGAG', 'GACGTGCGCCTAGCAAGTAAGACAGCTCGGTATCTGAAAG', 'ACACGCAACCGGTTAGTTTTTTTAGACACCGCGCTTTGCT', 'ACGCGTACTTCTAAGCATCTGAAAGAGGTTAATTTACTAA', 'AGCCACGAAGTCGACCTTCGGACGCTCTGCAACGCCGCAG', 'TAAGGGCGTCTCGACGTTGGGTGGGATCCGTGAAACGGAA', 'TGCGCGTCCATTTTGGAGTGCGACTGGACCGTGTAGTCAT', 'CCACCATCTAGTACGAGGGACTGTATCAAGGTATGCTCTA', 'GTAATGGAGAAACTCCCGGTTGCCGCTAGTGGAACAGTCA', 'ACGGACTTCCTGGGTATTCTCACGCGCTGTCATACACTCT', 'ACCGGGTGGAATATGGTGATGCTCCCGCGTCCATCCCCAC', 'CTTACGAGGCACAAGATCTACCGGGAGGTTCTGAAACGTG', 'TGGCTTGTTACCGCTTGTATGTAAGGTCTTGGAATAGTCA', 'CCGCGCGATTTTATGACCCTTAAAGCCCCCATACGTTCTC', 'TATTTTTCTACTGTCTGTAGGGATTCTCTATCATGCATTT', 'ATGTCCATATCCAACGACCAATACCGACGAGTTTCCTGCG', 'ATGCAGGCTGGGAACTGGTTAGCACGCTGTCCGCCGACTA', 'ACCTCGTACAAACTTAGAAGGCGAATCGTGGGCACGTTCT', 'CGCGTAAAAGTGGCGACATAAACTTCGGTATGACTGTGAT', 'CTTAATTATAACCCGCGATTGGCTGCGGAACGTGGCTATG', 'GACCTCGAGAACGGTTTAGCTTCCCCAAATACAGGATTTG', 'AATTGAACCTTCCTCCGTTATCACTGTCCACAGCAACTCA', 'TCCCCTCCCGCCTCGCGATCGAGCGTCATCCGTGAGTGGG', 'CAAGCGTGACTTTCGGCAGAGCACAGTACAAACATCTAGT', 'GTCTTTTTATAGCTTGGAGCACAGGGCGAACGGAAGGGCC', 'AATCTATAGTGAGTAATGTTATATACTGGCGCAGCGGCAC', 'CTGGATTAAAGATACGCTTGACCGCCTATGCAGTCCTTAC', 'GCACTCATGACGGGACAGTAACCGTTCTGAAGAACCTTAT', 'GGAATATTTCGTACTTGCATCTTGCAAAAGCTAGGATAAA', 'GGGTTGTATGCGTTCCCTAACAAGGATCTTCCATATCTTA', 'GAGGATTAACGATTATTTTGAGATTAGTTTCAGCCGTAAG', 'GCGATGAGGTTTATCGATTGGCTTCATTCTTTTCCCGGCT', 'CGCGACGTGCAACGAGTAGTAGCTGCGTTGATCGATTACC', 'CTGTTATTAAGTAGGAGCACAACACTTTTCTTTTACTGGT', 'GTTTTCCAGGATGGCACGATCCGTGCGTGGCCTATTCACT', 'ATTATCCCCCGGTGTACTGCGCCCCTTAAGAGCCTGATAA', 'ATGACGATACGTAATTTTCTATCGCATCAGGGGATATTTT', 'GTTAAGAATGGCGTCTCATGCCGATACTGATCGCGTTACA', 'ACGATATTTGACATATTCCGCTAAGAGTCTTCATCCCAAC', 'GCGCCCCGGTAGAATACAAAGCGAATGGCCATGTGAATTG', 'CGACGACGCATGGTCCTGGATTGTATACTGGTCGCGTGCG', 'CAATGCGCGCGACGGCTATCTCACTATTGCACGCGCCTGT', 'AGCGTAACGCCAGACCTAAACAGTTTCGGCTGCAAGCGTT', 'CCCCGTGTGCGTACTATATTAATTACCTCTGGGCGTGCAC', 'CCGCGTACAATTTGTGTCTTGCAGCATTAAATGCGCATCA', 'ACACCTCCAAGTTAGGTCTGTCAAATGACTTTACCGGTGA', 'GCGGGATACTCCATCATCGCCCCTAACAAGGTTTTTCATG', 'TATCGCGACTTTGATCCCCCGCTACACGCCCGATCCGATC', 'TTCAGCTCTGCTCCCACTACTTAAGGCCGATCGAACTGCA', 'CAATGTTATATGCTGTGTAGCCGGGCCCGGCGATAGGTGG', 'GGGACAGAGAATTTGCTCACTACTCATAGAGAGCTTGGGT', 'CTTTTGATAGGGAAAGGATGACGGGACTTTATCCCACGCT', 'AGCATCTGCAGCGCAGATATCCCCGAGTAAATCCGGCTTG', 'GGTTTTCCGCACGTACTATAGTGAGTATCTGGCGGAGTTT', 'ACAGAAGCACGTTCTATGCGCAGGTAGGGAGGACAGACAT', 'TGAGGAAAATGACCCTCTACTTACTAGTGCGTGATCAATG', 'ACTATAACCCCTGGGTCGAATGCACGCTATTACGCGTAGA', 'AGAAATAGGTCTGCCTCATCATGAACGCGCTTCAGTGGGT', 'AATGCGGCGTAATCCGTACGACCGGAATGAAGACGACTGC', 'CTGGTGTTTAAATATTCGGTGTTATCTTTATCTTGTAGCC', 'TTCACTCATGATTTTTGATAGGATTTGTAGAAAAGTCACA', 'GCGAGAATCCCAGAGCTATCCCTGCGCACGGCATCATCCT', 'ATGGCGACTAAGGCACTCCGGAGTGCCTTCCCTAATCTTG', 'GTGTATACATACAGTCACATATACTCGGCCCGTGGGTACC', 'CAGTCCGGGGTTCCTCATAGCTTCGCATCATGAGACTTTC', 'CAACATAATTAAGTCGCGTATCTGGACATTACGGTTCGCA', 'GAATGTCGTCTGGCGGGCTGAATAGGAGGAAACCGTCCTA', 'GACCGCTGCTGCTAAAGAAAGTCGCTCAACAGTGTCTGTG', 'TCTGTTCGATCAGTTCTAAGTGGTTTCCCCGTTGTCAGCT', 'CAGAGGGTTCCATATAGTCTCACACCCACATTGCATGGGG', 'GCATCATTAATGGAAAATTGTGGATAACAATGACAAACTT', 'TATAGTTGAGCACACGAACCCCGCAACACGTATATGGCTC', 'GCGGTACAACAGAGAGAATACAACCGGTCTTAGCCCAGAA', 'GCGCGTACATATAATTTCTTGGATACAATTCTGTGAGCAA', 'TTCGCACCAGCGGTAACGGCGCAGGTTGAGTAGGGCACCA', 'GTCAGTCGAGACGGGAAGTGCTGCTTATGTGTCGAGTTAA', 'CGACGAACCCACAACAGATTATCCAAACTCTGTGATGTCA', 'GTTTATCACCAGGTAGGCTTGATCCCCTACTGTAACGAAG', 'CGGCTATAATTACCTGCCGACGTGGAACGGAGCTATGTGG', 'ATGCACTTCCTGTGAGCTTAAGACCTTCAGAGCCTTACGT', 'ATACTGCGGGGAATTTCAATCCATGCGGCTTTCTATTACC', 'TGCAATCTTACACGCGCGTAGTGAAAGGTCTTTAGAGTTC', 'CAGGTTCTAATGTCAGAATCGTGGCAATTTCATTATCTTA', 'GCACTGAGCTCCGGTAACGATGCGCGCCTGTCGTTATCAA', 'CTCGATGGGGTTATAGCATCAGGCGTCCGTGGCTGAGTTC', 'ACCCAATGGCGAGAAGACATGCAGGCGCTGAACATAGGCC', 'CCGACGTACGTATAATTTTACTACGCCACCGGATCCTAGT', 'GACTAGGTGCTATAACCTTGTGAATAATCTAGGACTAGCT', 'ACTTACGGTTGATGGGATGAAGTATCCGGTGCACAATTAC', 'AAAACACCGGAACTCCGGTGAAACGCGCTCCAACACCGCC', 'TGGGTTTACGGCTCGGCCCGTTGATGAACAACCCCGACCA', 'ATGACCCGCCATGCGCCTCGAGCATGTGAGTTGAGCCCCT', 'GGGACACGATCGGACCTTTTGTGAGCAAGCGATCGGTCAC', 'TCCAGTTATGTTTTGACTTATAGGACTCAGCGCCTAATAG', 'CCACCCGCACCGTTAGACGCCGTCCACCCGGTTAAGTACG', 'GGTTATCCGGTTATGTGCAGACTTTATAAACCTGCGACAG', 'ACAATGCACTGAGTGCATGAATGACCTTAGATAAAGTACG', 'CATGCTTAGCGTCAATCGGCAGTATGGGTTATAGCCGGGA', 'TCAGTATCTTTGTAAGCCCAACAGGAATCCAGTACCAAAT', 'CGAGTGCCAGTAAGAACTATAAGGGTACGCAGCAACATCC', 'TAACAAAGTCCTCTTTGGAGAATGTCCAGTTCGAAGCAAG', 'GATATCACTTTCGTTTATCATCTGCCTACTGCTAACCTTT', 'ACGCGCTACGGAGACCGTGGATGTGGCTGCAAAAGATTGG', 'GGGCCGTTACCGTTTGTATCAGAGTTGGTTATACGACCCT', 'CGCCGGCCCTCTTCCGCTAGACTCGAACAGCATTTCTCCA', 'GAGACCATTCACCAAAATATTAAGAGGAATGCACGTCCGT', 'CACCAGTCTTGCGATTCTTGTGAACACTTCACTCCGTGTC', 'AGGCCCGAGCATCGTCCGAGATTTTGTTAGGCTCTGCGTG']\n"
          ]
        }
      ]
    }
  ]
}