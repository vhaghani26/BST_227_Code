{
  "nbformat": 4,
  "nbformat_minor": 0,
  "metadata": {
    "colab": {
      "name": "Assignment_1.ipynb",
      "provenance": [],
      "collapsed_sections": [],
      "include_colab_link": true
    },
    "kernelspec": {
      "name": "python3",
      "display_name": "Python 3"
    },
    "language_info": {
      "name": "python"
    }
  },
  "cells": [
    {
      "cell_type": "markdown",
      "metadata": {
        "id": "view-in-github",
        "colab_type": "text"
      },
      "source": [
        "<a href=\"https://colab.research.google.com/github/vhaghani26/BST_227_Code/blob/main/Assignment_1.ipynb\" target=\"_parent\"><img src=\"https://colab.research.google.com/assets/colab-badge.svg\" alt=\"Open In Colab\"/></a>"
      ]
    },
    {
      "cell_type": "markdown",
      "metadata": {
        "id": "VEB6Jbmxr9P7"
      },
      "source": [
        "# **The EM Algorithm for a more complex sequence model**\n",
        "## By: Mariele Lensink and Viktoria Haghani"
      ]
    },
    {
      "cell_type": "markdown",
      "metadata": {
        "id": "8zDlf51Mr6wp"
      },
      "source": [
        "First, we need to import the modules we plan to use to run the code."
      ]
    },
    {
      "cell_type": "code",
      "metadata": {
        "id": "6yrbLTPNtux7"
      },
      "source": [
        "import requests\n",
        "import pandas as pd\n",
        "import io\n",
        "import numpy as np\n",
        "from sklearn.preprocessing import OneHotEncoder\n",
        "from tqdm import tqdm\n",
        "import math"
      ],
      "execution_count": null,
      "outputs": []
    },
    {
      "cell_type": "markdown",
      "metadata": {
        "id": "t4CTnzFwsnzw"
      },
      "source": [
        "# **Core EM Code**"
      ]
    },
    {
      "cell_type": "markdown",
      "metadata": {
        "id": "plTuQuU6rxDV"
      },
      "source": [
        "This section includes all the functions used in the EM implementation, including data preparation, random parameter initialization, the E-step, the M-step, and the log likelihood calculation."
      ]
    },
    {
      "cell_type": "markdown",
      "metadata": {
        "id": "fdktorRL4uEj"
      },
      "source": [
        "Write a function to download and one-hot encoded the sequence data"
      ]
    },
    {
      "cell_type": "code",
      "metadata": {
        "id": "Ka8lwgcXZ5XF"
      },
      "source": [
        "# Function written by Chenxi Liu (slight modifications made)\n",
        "\n",
        "def get_sequence(url, categories=['A', 'C', 'G', 'T']):\n",
        "  # Send a GET request to a specified URL, categories=['A', 'C', 'G', 'T']):\n",
        "  r = requests.get(url)\n",
        "  # Convert sequence data to data frame\n",
        "  df = pd.read_csv(io.StringIO(r.text), sep=\" \", header=None)\n",
        "  # Turn the first sequence into a 2D array where each index is an independent array with a single base pair\n",
        "  s1 = np.array(list(str(df.to_numpy()[0, :][0])), dtype=object).reshape(-1, 1)\n",
        "\n",
        "  # Determine how many sequences there are in the text file\n",
        "  num_seqs = len(df)\n",
        "  # Assume all input sequences are equal length\n",
        "  # Determine how long each sequence is\n",
        "  seq_len = len(list(df.iloc[0, :].values)[0])\n",
        "  # Start to make a one-hot encoded 3D matrix for the seqeunces\n",
        "  # Not one-hot encoded yet, just zeroes \n",
        "  data = np.zeros((num_seqs, seq_len, len(categories)))\n",
        "  # Make a matrix repersenting each category ['A', 'C', 'G', 'T']\n",
        "  bp_counts = np.zeros((1, len(categories)))\n",
        "\n",
        "  # Encode categorical feautures in a one-hot numeric array\n",
        "  # Assign categories to be used\n",
        "  ohe = OneHotEncoder(sparse=False, categories=[np.array(categories, dtype=object)])\n",
        "  # Apply OneHotEncoder to example sequence\n",
        "  ohe.fit(s1)\n",
        "  \n",
        "  # Apply OneHotEncoder to all sequences\n",
        "  for ii in tqdm(range(num_seqs)):\n",
        "    s = list(str(df.to_numpy()[ii, :][0]))\n",
        "    s_a = np.array(s).reshape(-1, 1)\n",
        "    data[ii, :, :] = ohe.transform(s_a)\n",
        "  \n",
        "  # Count the number of each base in the sequence data\n",
        "  for ii in range(len(categories)):\n",
        "    bp_counts[0,ii] = np.sum(data[:,:,ii])\n",
        "  \n",
        "  # Return the one-hot encoded matrix (data),\n",
        "  # the counts for each base pair (bp_counts),\n",
        "  # the number of sequences (N),\n",
        "  # and the length of each sequence (L)\n",
        "  return data, bp_counts                                                  "
      ],
      "execution_count": null,
      "outputs": []
    },
    {
      "cell_type": "markdown",
      "metadata": {
        "id": "od2WQCQrDDyv"
      },
      "source": [
        "Write a modified version of the above function that returns a randomly split training and test data set"
      ]
    },
    {
      "cell_type": "code",
      "metadata": {
        "id": "RJGr38gKDNuE"
      },
      "source": [
        "# Function written by Chenxi Liu and Gerald Quon\n",
        "\n",
        "def get_sequence_traintest(url, categories=['A', 'C', 'G', 'T'], FRACTION_TRAINING=0.8):\n",
        "  # Send a GET request to a specified URL, categories=['A', 'C', 'G', 'T']):\n",
        "  r = requests.get(url)\n",
        "  # Convert sequence data to data frame\n",
        "  df = pd.read_csv(io.StringIO(r.text), sep=\" \", header=None)\n",
        "  # Turn the first sequence into a 2D array where each index is an independent array with a single base pair\n",
        "  s1 = np.array(list(str(df.to_numpy()[0, :][0])), dtype=object).reshape(-1, 1)\n",
        "\n",
        "  # Determine how many sequences there are in the text file\n",
        "  m = len(df)\n",
        "  # Assume all input sequences are equal length\n",
        "  # Determine how long each sequence is\n",
        "  sequence_len = len(list(df.iloc[0, :].values)[0])\n",
        "  # Start to make a one-hot encoded 3D matrix for the seqeunces\n",
        "  # Not one-hot encoded yet, just zeroes \n",
        "  data = np.zeros((m, sequence_len, len(categories)))\n",
        "  # Make a matrix repersenting each category ['A', 'C', 'G', 'T'] for the training set\n",
        "  bp_counts_train = np.zeros((1, len(categories)))\n",
        "  # Make a matrix repersenting each category ['A', 'C', 'G', 'T'] for the test set\n",
        "  bp_counts_test = np.zeros((1, len(categories)))\n",
        "\n",
        "  # Encode categorical feautures in a one-hot numeric array\n",
        "  # Assign categories to be used\n",
        "  ohe = OneHotEncoder(sparse=False, categories=[np.array(categories, dtype=object)])\n",
        "  # Apply OneHotEncoder to example sequence\n",
        "  ohe.fit(s1)\n",
        "\n",
        "  # Apply OneHotEncoder to all sequences\n",
        "  for ii in tqdm(range(m)):\n",
        "    s = list(str(df.to_numpy()[ii, :][0]))\n",
        "    s_a = np.array(s).reshape(-1, 1)\n",
        "    data[ii, :, :] = ohe.transform(s_a)\n",
        "\n",
        "  # Randomly permute rows of matrix\n",
        "  np.random.shuffle(data)\n",
        "\n",
        "  # Split data into training and text data\n",
        "  train_indices = np.arange(start=0,stop=round(FRACTION_TRAINING*data.shape[0]))\n",
        "  test_indices = np.arange(start=round(FRACTION_TRAINING*data.shape[0]), stop=data.shape[0])\n",
        "  \n",
        "  # Count the number of each base in the test and train sets\n",
        "  for ii in range(len(categories)):\n",
        "    bp_counts_train[0,ii] = np.sum(data[train_indices,:,ii])\n",
        "    bp_counts_test[0,ii] = np.sum(data[test_indices,:,ii])\n",
        "  \n",
        "  # Return the base pair counts for the test and train sets\n",
        "  return bp_counts_train, bp_counts_test"
      ],
      "execution_count": null,
      "outputs": []
    },
    {
      "cell_type": "markdown",
      "metadata": {
        "id": "nbAXV5YlM9p0"
      },
      "source": [
        "Write functions that will initialize our parameters"
      ]
    },
    {
      "cell_type": "code",
      "metadata": {
        "id": "p0uB6d0_M_b-"
      },
      "source": [
        "# Make a function to randomly generate L - P + 1 lambdas that sum to 1\n",
        "def initialize_lambda(sequence_length, motif_length):\n",
        "  # Make an empty list to represent our parameter lambda_j\n",
        "  lambda_j = []\n",
        "  # Given our sequence length and motif length, determine how many lambdas we need\n",
        "  lambdas = sequence_length - motif_length + 1\n",
        "  # Fill up our empty matrix with the right number of lambdas using random probabilities\n",
        "  for i in range(lambdas):\n",
        "    lambda_j.append(np.random.random_sample())\n",
        "  # Normalize probabilities by dividing each one by the sum\n",
        "  # Need to set sum_lambdas on the outside of the for loop so it isn't recalculated every time\n",
        "  sum_lambdas = sum(lambda_j)\n",
        "  for i, lmbda in zip(range(lambdas), lambda_j):\n",
        "    lambda_j[i] = (lmbda/sum_lambdas)\n",
        "  # Return our lambda_j parameter\n",
        "  return lambda_j"
      ],
      "execution_count": null,
      "outputs": []
    },
    {
      "cell_type": "code",
      "metadata": {
        "id": "M-wAaxEgsUYD"
      },
      "source": [
        "# Make a function to randomly generate psi\n",
        "# Psi is a 2D matrix: 4 x P (P = motif-length) \n",
        "# Each set of 4 corresponds to ['A', 'C', 'G', 'T']\n",
        "def initialize_psi(motif_length):\n",
        "  # Make a 4 x P matrix of zeroes\n",
        "  psi = np.zeros((motif_length, 4), dtype = float)\n",
        "  # For each sub-matrix of 4, generate probabilities that sum to 1\n",
        "  for ind_i, i in zip(range(motif_length), psi):\n",
        "    psi[ind_i] = (np.random.dirichlet(np.ones(4),size=1))\n",
        "  # Return our psi parameter\n",
        "  return psi"
      ],
      "execution_count": null,
      "outputs": []
    },
    {
      "cell_type": "code",
      "metadata": {
        "id": "5vrifajwsUoK"
      },
      "source": [
        "# Store all initialized parameters in a dictionary called 'params' (params = theta)\n",
        "def initialize_random_params(sequence_length, motif_length):\n",
        "    params = {'lambda_j': initialize_lambda(sequence_length, motif_length),\n",
        "              'psi0': initialize_psi(motif_length),\n",
        "              'psi1': initialize_psi(motif_length)\n",
        "              }\n",
        "    return params"
      ],
      "execution_count": null,
      "outputs": []
    },
    {
      "cell_type": "markdown",
      "metadata": {
        "id": "fC-Qv1XpvDeI"
      },
      "source": [
        "Write a function to calculate the posterior for the **E-step**"
      ]
    },
    {
      "cell_type": "code",
      "metadata": {
        "id": "dQxY3F0qvG_O",
        "colab": {
          "base_uri": "https://localhost:8080/"
        },
        "outputId": "53a0033d-837f-4caf-aa36-055eb928c501"
      },
      "source": [
        "def E_step(params,ohe_matrix,sequence_length,motif_length):\n",
        "  posts = np.zeros((len(ohe_matrix),(sequence_length-motif_length)))\n",
        " #loop through every seqence in file \n",
        "  for i in range(len(ohe_matrix)):\n",
        "    #loop through \n",
        "    for j in range(sequence_length - motif_length):\n",
        "     #initialize C_ij \n",
        "      C_ij = np.log(params['lambda_j'][j])\n",
        "      #compute P(X_ij|Cij = 1)\n",
        "      for p in range(motif_length):\n",
        "        for k in range(4):\n",
        "          if ohe_matrix[i][j+p][k] != 0:\n",
        "            C_ij = C_ij + np.log(ohe_matrix[i][j+p][k]*params['psi1'][p][k])\n",
        "            posts[i][j] = C_ij\n",
        "      for jprime in range(sequence_length-motif_length):\n",
        "        if jprime == j:\n",
        "          continue \n",
        "        for p in range(motif_length):\n",
        "          for k in range(4):\n",
        "            if ohe_matrix[i][j+p][k] != 0:\n",
        "              C_ij = C_ij + np.log(ohe_matrix[i][j+p][k]*params['psi0'][p][k])\n",
        "              posts[i][j] = C_ij\n",
        "  posts1 = np.zeros((len(posts),len(posts[0])))\n",
        "  for i in range(len(posts)):\n",
        "    rowmin = posts[i].min()\n",
        "    for j in range(len(posts[i])):\n",
        "      posts1[i][j] = math.exp(posts[i][j] - rowmin)\n",
        "      #posts1[i][j] = exp(posts1[i][j])\n",
        "    rowsum = posts1[i].sum()\n",
        "    for j in range(len(posts1[i])):\n",
        "      posts1[i][j] = posts1[i][j]/rowsum\n",
        "  # Return posterior matrix\n",
        "  return posts1\n",
        "\n",
        "# Test the E-step\n",
        "posterior_matrix = E_step(params,my_ohe_at_gc_sequences,len(my_ohe_at_gc_sequences[0]),motif_length)\n",
        "posterior_matrix"
      ],
      "execution_count": null,
      "outputs": [
        {
          "output_type": "execute_result",
          "data": {
            "text/plain": [
              "array([[6.09081522e-20, 1.14510121e-28, 9.89432681e-25, 6.28173461e-17,\n",
              "        1.55952691e-10, 9.72954994e-59, 2.72123502e-28, 2.20549942e-39,\n",
              "        1.83663562e-28, 1.95877754e-23, 1.62393237e-60, 1.01135675e-19,\n",
              "        1.00000000e+00, 1.04133218e-12]])"
            ]
          },
          "metadata": {},
          "execution_count": 89
        }
      ]
    },
    {
      "cell_type": "markdown",
      "metadata": {
        "id": "S05xOBVOvHvh"
      },
      "source": [
        "Write a function to do the calculations for the **M-step**\n"
      ]
    },
    {
      "cell_type": "markdown",
      "metadata": {
        "id": "C8xF_OTs58bA"
      },
      "source": [
        "We will start with making a practice posterior of random probabilities. This allows us to troubleshoot the M-step independent of the E-step. It does not get used in the EM algorithm implementation, but it's here for debugging purposes."
      ]
    },
    {
      "cell_type": "code",
      "metadata": {
        "id": "m60-pmemrATK",
        "colab": {
          "base_uri": "https://localhost:8080/"
        },
        "outputId": "740694ea-9286-4579-ca2c-960a6fc5d3d6"
      },
      "source": [
        "# Make practice posterior to troubleshoot M-step\n",
        "\n",
        "# Set the number of sequences\n",
        "num_seqs = my_sequence_padded_num_seqs\n",
        "# Set the length of the sequences\n",
        "seq_len = my_sequence_padded_seq_len\n",
        "\n",
        "practice_posterior = []\n",
        "for i in range(num_seqs):\n",
        "  new_row = initialize_lambda(seq_len, motif_length)\n",
        "  practice_posterior.append(new_row)\n",
        "\n",
        "print(len(practice_posterior)) # Should be total number of sequences; 357 for sequence padded\n",
        "print(len(practice_posterior[0])) # Should be number of j's; 31 for sequence padded"
      ],
      "execution_count": null,
      "outputs": [
        {
          "output_type": "stream",
          "name": "stdout",
          "text": [
            "357\n",
            "21\n"
          ]
        }
      ]
    },
    {
      "cell_type": "code",
      "metadata": {
        "id": "GGa58p1LvRHp",
        "colab": {
          "base_uri": "https://localhost:8080/"
        },
        "outputId": "e20e7d17-4a3e-420d-d625-b86c8ba3d2f8"
      },
      "source": [
        "def M_step(onehot_matrix, posterior, motif_length): \n",
        "  # Make dictionary to store new parameters\n",
        "  new_params = {}\n",
        "\n",
        "  # Calculate new lambda_j\n",
        "  # Add every column of the posterior\n",
        "  column_sums = np.array(posterior).sum(axis = 0)\n",
        "  # Divide by the total number of sequences\n",
        "  new_lambda_j = (column_sums/(len(posterior))).tolist()\n",
        "  # Confirm that the sum of our new_lambda_j is 1\n",
        "  print(f'The sum of our new lambda_j is: {sum(new_lambda_j)}')\n",
        "  # Add new_lambda_j to new_params\n",
        "  new_params[\"lambda_j\"] = new_lambda_j\n",
        "\n",
        "  # Calculate new psi1\n",
        "  # Determine how many j positions we have in our input matrix\n",
        "  num_js = len(onehot_matrix[0]) - motif_length + 1\n",
        "  # Determine matrix dimensions and save our window sequences\n",
        "  X_ijmks = []\n",
        "  for i, ind_i in zip(onehot_matrix, range(len(onehot_matrix))):\n",
        "    # Iterate through the indeces for our lambda parameter\n",
        "    for ind_j in range(num_js):\n",
        "        # i[ind_j:ind_j+motif_length] is the base pair identities of the One-Hot encoded matrix within the window starting at j\n",
        "        X_ijmk = (i[ind_j:ind_j+motif_length]).tolist()\n",
        "        # Save each X_ijmk to the X_ijmks list for ease of access\n",
        "        X_ijmks.append(X_ijmk)\n",
        "  # Manipulate the posterior so it maches the X_ijmks list\n",
        "  manipulated_posterior = []\n",
        "  for i in posterior:\n",
        "    for j in i:\n",
        "      manipulated_posterior.append(j)\n",
        "  # Make an empty list numerators, that will contain all the X_ijmks multiplied by C_ij    \n",
        "  numerators = []\n",
        "  for ind_post, X_ijmk in zip(range(len(manipulated_posterior)), X_ijmks):\n",
        "    # Turn X_ijmk into an array\n",
        "    X_ijmk_array = np.array(X_ijmk)\n",
        "    # Multiply X_ijmk by the posterior (C_ij)\n",
        "    numerator = X_ijmk_array * manipulated_posterior[ind_post]\n",
        "    # Add the multiplied window sequences to the list \"numerators\"\n",
        "    numerators.append(numerator)\n",
        "  numerator_before_normalization = np.array(numerators).sum(axis = 0)\n",
        "  new_psi1 = np.divide(numerator_before_normalization, len(onehot_matrix))\n",
        "  # Verify that new_psi1 rows sum to 1\n",
        "  print('The sums of each row in our new psi1 are:')\n",
        "  for i in range(len(new_psi1)):\n",
        "     print(sum(new_psi1[i]))\n",
        "  # Add new_psi1 to new_params\n",
        "  new_params[\"psi1\"] = new_psi1.tolist()\n",
        "\n",
        "  # Calculate new psi0\n",
        "  # Determine how many j positions we have in our input matrix\n",
        "  num_js = len(onehot_matrix[0]) - motif_length + 1\n",
        "  # Determine matrix dimensions and save our window sequences\n",
        "  X_ijmks = []\n",
        "  for i, ind_i in zip(onehot_matrix, range(len(onehot_matrix))):\n",
        "    # Iterate through the indeces for our lambda parameter\n",
        "    for ind_j in range(num_js):\n",
        "        # i[ind_j:ind_j+motif_length] is the base pair identities of the One-Hot encoded matrix within the window starting at j\n",
        "        X_ijmk = (i[ind_j:ind_j+motif_length]).tolist()\n",
        "        # Save each X_ijmk to the X_ijmks list for ease of access\n",
        "        X_ijmks.append(X_ijmk)\n",
        "  # Manipulate the posterior so it maches the X_ijmks list\n",
        "  manipulated_posterior = []\n",
        "  for i in posterior:\n",
        "    for j in i:\n",
        "      manipulated_posterior.append(j)\n",
        "  # Make an empty list numerators, that will contain all the X_ijmks multiplied by C_ij    \n",
        "  numerators = []\n",
        "  for ind_post, X_ijmk in zip(range(len(manipulated_posterior)), X_ijmks):\n",
        "    # Turn X_ijmk into an array\n",
        "    X_ijmk_array = np.array(X_ijmk)\n",
        "    # Multiply X_ijmk by 1 minus the posterior (C_ij)\n",
        "    numerator = X_ijmk_array * (1 - manipulated_posterior[ind_post])\n",
        "    # Add the multiplied window sequences to the list \"numerators\"\n",
        "    numerators.append(numerator)\n",
        "  numerator_before_normalization = np.array(numerators).sum(axis = 0)\n",
        "  new_psi0 = np.divide(numerator_before_normalization, (len(onehot_matrix)*(len(onehot_matrix[0]) - motif_length + 1 - 1)))\n",
        "  # Verify that new_psi0 rows sum to 1\n",
        "  print('The sums of each row in our new psi0 are:')\n",
        "  for i in range(len(new_psi0)):\n",
        "     print(sum(new_psi0[i]))\n",
        "  # Add new_psi1 to new_params\n",
        "  new_params[\"psi0\"] = new_psi0.tolist()\n",
        "  \n",
        "  # Save our new parameters as the output for the function\n",
        "  return new_params\n",
        "\n",
        "# Test the M-step\n",
        "m_step_test = M_step(my_ohe_sequence_padded, practice_posterior, motif_length)\n",
        "print(m_step_test['lambda_j'])\n",
        "print(m_step_test['psi1'])\n",
        "print(m_step_test['psi0'])"
      ],
      "execution_count": null,
      "outputs": [
        {
          "output_type": "stream",
          "name": "stdout",
          "text": [
            "The sum of our new lambda_j is: 0.9999999999999999\n",
            "The sums of each row in our new psi1 are:\n",
            "1.0\n",
            "1.0\n",
            "1.0000000000000007\n",
            "1.0000000000000004\n",
            "1.0\n",
            "1.0000000000000002\n",
            "1.0000000000000004\n",
            "1.0000000000000007\n",
            "1.0000000000000002\n",
            "1.0000000000000002\n",
            "1.0000000000000002\n",
            "0.9999999999999997\n",
            "1.0\n",
            "1.0000000000000002\n",
            "1.0\n",
            "1.0\n",
            "0.9999999999999998\n",
            "1.0\n",
            "The sums of each row in our new psi0 are:\n",
            "1.000000000000001\n",
            "1.000000000000001\n",
            "1.0000000000000013\n",
            "1.000000000000001\n",
            "1.0000000000000009\n",
            "1.000000000000001\n",
            "1.0000000000000009\n",
            "1.0000000000000009\n",
            "1.0000000000000009\n",
            "1.0000000000000007\n",
            "1.0000000000000009\n",
            "1.0000000000000009\n",
            "1.0000000000000009\n",
            "1.0000000000000013\n",
            "1.0000000000000009\n",
            "1.0000000000000009\n",
            "1.0000000000000007\n",
            "1.0000000000000009\n",
            "[0.0482344305716478, 0.047418511162571224, 0.0486489852737769, 0.04912840370383395, 0.04976002626812163, 0.04428026422248904, 0.049029635094488, 0.048961033462171184, 0.04865198947703092, 0.04542878578804531, 0.04627012068155647, 0.044662893368488756, 0.047643211893848667, 0.046722776760112494, 0.04578226659206376, 0.048539949908397904, 0.04790995960399363, 0.050372447350577526, 0.04912595770054046, 0.04534599738790025, 0.04808235372834404]\n",
            "[[0.2604136214347111, 0.22692365175563736, 0.28560139515798366, 0.22706133165166786], [0.24986216727731375, 0.2251570552727047, 0.27303829809815744, 0.2519424793518241], [0.24764880920672977, 0.22050873390723516, 0.2948403639412323, 0.2370020929448033], [0.26217458239598, 0.22209959752966918, 0.2794870349812634, 0.2362387850930878], [0.24468433857120567, 0.2488943691559022, 0.2738577839010688, 0.23256350837182344], [0.23745909194133807, 0.27230111296151294, 0.26448970793649007, 0.22575008716065909], [0.22835038355581594, 0.26970242565931324, 0.25807300399003724, 0.24387418679483389], [0.22404324811348372, 0.27104944712609663, 0.2643411944000404, 0.24056611036038], [0.22377752406515375, 0.27575370364882507, 0.2592337387025289, 0.24123503358349258], [0.227612190743313, 0.27087282834752024, 0.2640698201993106, 0.2374451607098564], [0.22817569135343616, 0.27264788267660245, 0.26916388771741384, 0.23001253825254772], [0.229278278625031, 0.2622506646861043, 0.270392476169363, 0.23807858051950134], [0.21912676891292976, 0.2662755217957452, 0.2816699007824632, 0.23292780850886194], [0.21045598524832898, 0.27404257747865524, 0.26761671057887637, 0.24788472669413972], [0.21656238711313258, 0.28551853733287724, 0.24892728679984832, 0.2489917887541419], [0.22659351347072476, 0.28767433208986953, 0.21722194545006765, 0.2685102089893382], [0.23608559685670305, 0.3013103686577693, 0.22722646111226286, 0.23537757337326456], [0.2482616571382888, 0.26917272014541477, 0.23039675260361273, 0.25216887011268374]]\n",
            "[[0.26008856262574387, 0.23319163253826902, 0.27899724116647057, 0.22772256366951765], [0.24969176558571443, 0.2261371052195583, 0.2712220346749244, 0.2529490945198041], [0.2454606967945662, 0.22006700027942824, 0.29268095099061386, 0.24179135193539314], [0.2550985537933666, 0.22236840947925926, 0.28546542416130116, 0.2370676125660741], [0.2451887522591148, 0.2467989790211967, 0.2751026290122298, 0.2329096397074597], [0.23714665324607048, 0.27195917404380165, 0.2643665510177414, 0.22652762169238752], [0.2290586712984001, 0.2705484921624125, 0.2561439688481174, 0.24424886769107085], [0.22521240342065668, 0.2721618133579808, 0.2642339206721554, 0.2383918625492081], [0.224105241443801, 0.27122632041980005, 0.26476940550184874, 0.23989903263455103], [0.22419362015471128, 0.2713303081624564, 0.2663483297183259, 0.23812774196450714], [0.22472566921384113, 0.2709614434011845, 0.2676342425889191, 0.23667864479605621], [0.2269114362088048, 0.2634981110233979, 0.2709341577041372, 0.238656295063661], [0.22069632261877883, 0.2674985488401848, 0.27625263941465916, 0.23555248912637805], [0.2097853239868836, 0.27537350137816824, 0.26967238575957203, 0.2451687888753774], [0.2185836453502256, 0.2861442412005832, 0.24469649280286496, 0.2505756206463271], [0.22606528230965747, 0.2948599808744983, 0.2158896030076088, 0.2631851338082363], [0.23483437561934994, 0.3059428849284562, 0.2229524024345832, 0.23627033701761144], [0.24669055859966826, 0.27057497743810754, 0.23497876180959545, 0.24775570215262954]]\n"
          ]
        }
      ]
    },
    {
      "cell_type": "markdown",
      "metadata": {
        "id": "s4G4z6HyvUM1"
      },
      "source": [
        "Write a function to compute the **log likelihood**"
      ]
    },
    {
      "cell_type": "code",
      "metadata": {
        "id": "oQuPi4fJvS37"
      },
      "source": [
        "#mariele's rough first shot at log likelihood\n",
        "#relied heavlily on geralds code, so i think my ideas are right but instead we are going to need to use for loops to implement them \n",
        "#next try is going to go deeper into math, mostly hoping for something functional rn\n",
        "# compute log likelihood, given posteriors based off the current parameter set theta (so KL = 0)\n",
        "def loglikelihood(ohe_matrix, params, posteriors):\n",
        "  #weighted probabilities\n",
        "  weighted_log_joint_prob = (np.log(params['psi1'])+np.log(params['lambda_j']))*posteriors+((np.log(params['psi0'])+np.log(params['lambda_j']))*(1-posteriors))\n",
        "  weighted_log_joint_prob[np.where(posteriors == 0)]=0; #putting in a check in case some posteriors are 0 (because some psi are 0) - 0log0 = 0 (otherwise we will get nan)\n",
        "  \n",
        "  expected_complete_LL = np.sum(weighted_log_joint_prob.T*ohe_matrix)\n",
        "  #entropy \n",
        "  qlogq = posteriors * np.log(posteriors);\n",
        "  qlogq[np.where(posteriors == 0)] = 0 #0log0 = 0\n",
        "  return (expected_complete_LL - np.sum(np.sum(qlogq,axis=1) * ohe_matrix)) #log likelihood = ELBO + entropy, when q=p\n"
      ],
      "execution_count": null,
      "outputs": []
    },
    {
      "cell_type": "markdown",
      "metadata": {
        "id": "iS8dXrNmsw2d"
      },
      "source": [
        "# **Run EM**"
      ]
    },
    {
      "cell_type": "markdown",
      "metadata": {
        "id": "W9liLSAMwHEe"
      },
      "source": [
        "Set data file URL locations"
      ]
    },
    {
      "cell_type": "code",
      "metadata": {
        "id": "143x5QHNwKZg"
      },
      "source": [
        "# URL for at_gc_sequences.txt - this is a single sequence: ATTTAATATAAAATTTGGCCGCCATAAAAAAA\n",
        "at_gc_sequences_txt = 'https://ucdavis.box.com/shared/static/s8g6zx9vwxbbfdxdj2uqzhlvslc1jhsy.txt'\n",
        "# URL for sequence.padded.txt - the real binding site data\n",
        "sequence_padded_txt = 'https://ucdavis.box.com/shared/static/0cacx2xvn4ugxo9h21ci2ngesryigf43.txt'\n",
        "# URL for sequence.motiflocation.padded.txt - the location of the binding sites from sequence.padded.txt\n",
        "sequence_motiflocation_padded_txt = 'https://ucdavis.box.com/shared/static/gd0r12mdkhix86bo9ffbn3dy0fy0prmn.txt'"
      ],
      "execution_count": null,
      "outputs": []
    },
    {
      "cell_type": "markdown",
      "metadata": {
        "id": "5H6PrulrH9ap"
      },
      "source": [
        "Load in the data"
      ]
    },
    {
      "cell_type": "code",
      "metadata": {
        "colab": {
          "base_uri": "https://localhost:8080/"
        },
        "id": "uxoFtgmPH_Ev",
        "outputId": "012d9751-dbca-4f42-e804-c1968f942e5e"
      },
      "source": [
        "# Implement get_sequence()\n",
        "# The variable my_ohe_sequence_padded corresponds to the one-hot encoded matrices that represent the sequence data\n",
        "# The variable my_sequence_padded_bp_counts is the base pair counts for the input sequence data\n",
        "# The variable my_sequence_padded_num_seqs returns the number of sequences in the sequence file\n",
        "# sequence_padded_txt is the variable name containing the URL defined at the beginning\n",
        "my_ohe_sequence_padded, my_sequence_padded_bp_counts = get_sequence(sequence_padded_txt, categories=['A', 'C', 'G', 'T'])\n",
        "\n",
        "# Following similar notation above, we can implement get_sequence() for the at_gc_sequences_text data\n",
        "my_ohe_at_gc_sequences, my_at_gc_bp_counts = get_sequence(at_gc_sequences_txt, categories=['A', 'C', 'G', 'T'])\n",
        "\n",
        "# Now randomly split the sequence_padded_txt into a training vs test set\n",
        "sequence_padded_train_bp_counts, sequence_padded_test_bp_counts = get_sequence_traintest(sequence_padded_txt, categories=['A', 'C', 'G', 'T'])\n",
        "\n",
        "# Get the locations of the motifs for the sequence.padded.txt file\n",
        "sequence_padded_motifs = pd.read_csv(io.StringIO(requests.get(sequence_motiflocation_padded_txt).text), sep=\",\", header=None).to_numpy()"
      ],
      "execution_count": null,
      "outputs": [
        {
          "output_type": "stream",
          "name": "stderr",
          "text": [
            "100%|██████████| 357/357 [00:00<00:00, 2392.72it/s]\n",
            "100%|██████████| 1/1 [00:00<00:00, 824.68it/s]\n",
            "100%|██████████| 357/357 [00:00<00:00, 2357.09it/s]\n"
          ]
        }
      ]
    },
    {
      "cell_type": "markdown",
      "metadata": {
        "id": "K12xuvJwvbMi"
      },
      "source": [
        "Assign EM run variables"
      ]
    },
    {
      "cell_type": "code",
      "metadata": {
        "id": "3OBpGUmTvdri"
      },
      "source": [
        "# Length of the motif\n",
        "motif_length = 18\n",
        "\n",
        "# Sequence data used\n",
        "seq_data = my_ohe_sequence_padded\n",
        "\n",
        "# Set the number of sequences\n",
        "num_seqs = len(seq_data)\n",
        "\n",
        "# Set the length of the sequences\n",
        "seq_len = len(seq_data[0])\n",
        "\n",
        "# Set the number of EM iterations\n",
        "num_iterations = 20"
      ],
      "execution_count": null,
      "outputs": []
    },
    {
      "cell_type": "markdown",
      "metadata": {
        "id": "zzlbCRTbFXVQ"
      },
      "source": [
        "Run the EM algorithm"
      ]
    },
    {
      "cell_type": "code",
      "metadata": {
        "id": "1af_j4kiOZti",
        "colab": {
          "base_uri": "https://localhost:8080/",
          "height": 393
        },
        "outputId": "ac963300-0747-40ba-ab11-fb2cfc0f64a3"
      },
      "source": [
        "# Create an empty list that will contain the log likelihoods for plotting later\n",
        "loglikelihoods = []\n",
        "\n",
        "# Run EM\n",
        "for i in range(1, num_iterations+1):\n",
        "  # Keep track of iteration number\n",
        "  print(f'Iteration #{i}')\n",
        "  if i == 1:\n",
        "    # Randomly initialize parameters for the first iteration\n",
        "    params = initialize_random_params(seq_len, motif_length)\n",
        "  else:\n",
        "    # Use parameters from the last EM implementation\n",
        "    params = new_params\n",
        "  # Run E-step to calculate posteriors\n",
        "  my_posterior = E_step(params,seq_data,seq_len,motif_length)\n",
        "  # Calculate log likelihood \n",
        "  llh = loglikelihood(seq_data, params, my_posterior)\n",
        "  # Add log likelihood to the loglikelihoods list \n",
        "  loglikelihoods.append(llh)\n",
        "  # View log likelihood after each iteration(we should see convergence)\n",
        "  print(llh)\n",
        "  # Run M-step to further optimize parameters using new posterior from E-step\n",
        "  new_params = M_step(seq_data, my_posterior, motif_length)\n",
        "\n",
        "\n",
        "\n",
        "'''\n",
        "Gerald's Code:\n",
        "np.random.seed(1)\n",
        "#XXss = XXss_at_gc\n",
        "XXss = sequences_padded_train\n",
        "theta = init_EM(NUM_MODELS = 3)\n",
        "\n",
        "#train\n",
        "for ii in range(3):  \n",
        "  posteriors = E_step(theta);  \n",
        "  print(loglikelihood(XXss, theta, posteriors))\n",
        "  theta = M_step(XXss, posteriors);\n",
        "\n",
        "#evaluate on held-out test data\n",
        "posteriors = E_step(theta)\n",
        "print('held-out likelihood:', loglikelihood(sequences_padded_test, theta, posteriors))\n",
        "'''\n"
      ],
      "execution_count": null,
      "outputs": [
        {
          "output_type": "stream",
          "name": "stdout",
          "text": [
            "Iteration #1\n"
          ]
        },
        {
          "output_type": "error",
          "ename": "ValueError",
          "evalue": "ignored",
          "traceback": [
            "\u001b[0;31m---------------------------------------------------------------------------\u001b[0m",
            "\u001b[0;31mValueError\u001b[0m                                Traceback (most recent call last)",
            "\u001b[0;32m<ipython-input-87-795647707fe1>\u001b[0m in \u001b[0;36m<module>\u001b[0;34m()\u001b[0m\n\u001b[1;32m     15\u001b[0m   \u001b[0mmy_posterior\u001b[0m \u001b[0;34m=\u001b[0m \u001b[0mE_step\u001b[0m\u001b[0;34m(\u001b[0m\u001b[0mparams\u001b[0m\u001b[0;34m,\u001b[0m\u001b[0mseq_data\u001b[0m\u001b[0;34m,\u001b[0m\u001b[0mseq_len\u001b[0m\u001b[0;34m,\u001b[0m\u001b[0mmotif_length\u001b[0m\u001b[0;34m)\u001b[0m\u001b[0;34m\u001b[0m\u001b[0;34m\u001b[0m\u001b[0m\n\u001b[1;32m     16\u001b[0m   \u001b[0;31m# Calculate log likelihood\u001b[0m\u001b[0;34m\u001b[0m\u001b[0;34m\u001b[0m\u001b[0;34m\u001b[0m\u001b[0m\n\u001b[0;32m---> 17\u001b[0;31m   \u001b[0mllh\u001b[0m \u001b[0;34m=\u001b[0m \u001b[0mloglikelihood\u001b[0m\u001b[0;34m(\u001b[0m\u001b[0mseq_data\u001b[0m\u001b[0;34m,\u001b[0m \u001b[0mparams\u001b[0m\u001b[0;34m,\u001b[0m \u001b[0mmy_posterior\u001b[0m\u001b[0;34m)\u001b[0m\u001b[0;34m\u001b[0m\u001b[0;34m\u001b[0m\u001b[0m\n\u001b[0m\u001b[1;32m     18\u001b[0m   \u001b[0;31m# Add log likelihood to the loglikelihoods list\u001b[0m\u001b[0;34m\u001b[0m\u001b[0;34m\u001b[0m\u001b[0;34m\u001b[0m\u001b[0m\n\u001b[1;32m     19\u001b[0m   \u001b[0mloglikelihoods\u001b[0m\u001b[0;34m.\u001b[0m\u001b[0mappend\u001b[0m\u001b[0;34m(\u001b[0m\u001b[0mllh\u001b[0m\u001b[0;34m)\u001b[0m\u001b[0;34m\u001b[0m\u001b[0;34m\u001b[0m\u001b[0m\n",
            "\u001b[0;32m<ipython-input-83-52c8c1492efa>\u001b[0m in \u001b[0;36mloglikelihood\u001b[0;34m(ohe_matrix, params, posteriors)\u001b[0m\n\u001b[1;32m      5\u001b[0m \u001b[0;32mdef\u001b[0m \u001b[0mloglikelihood\u001b[0m\u001b[0;34m(\u001b[0m\u001b[0mohe_matrix\u001b[0m\u001b[0;34m,\u001b[0m \u001b[0mparams\u001b[0m\u001b[0;34m,\u001b[0m \u001b[0mposteriors\u001b[0m\u001b[0;34m)\u001b[0m\u001b[0;34m:\u001b[0m\u001b[0;34m\u001b[0m\u001b[0;34m\u001b[0m\u001b[0m\n\u001b[1;32m      6\u001b[0m   \u001b[0;31m#weighted probabilities\u001b[0m\u001b[0;34m\u001b[0m\u001b[0;34m\u001b[0m\u001b[0;34m\u001b[0m\u001b[0m\n\u001b[0;32m----> 7\u001b[0;31m   \u001b[0mweighted_log_joint_prob\u001b[0m \u001b[0;34m=\u001b[0m \u001b[0;34m(\u001b[0m\u001b[0mnp\u001b[0m\u001b[0;34m.\u001b[0m\u001b[0mlog\u001b[0m\u001b[0;34m(\u001b[0m\u001b[0mparams\u001b[0m\u001b[0;34m[\u001b[0m\u001b[0;34m'psi1'\u001b[0m\u001b[0;34m]\u001b[0m\u001b[0;34m)\u001b[0m\u001b[0;34m+\u001b[0m\u001b[0mnp\u001b[0m\u001b[0;34m.\u001b[0m\u001b[0mlog\u001b[0m\u001b[0;34m(\u001b[0m\u001b[0mparams\u001b[0m\u001b[0;34m[\u001b[0m\u001b[0;34m'lambda_j'\u001b[0m\u001b[0;34m]\u001b[0m\u001b[0;34m)\u001b[0m\u001b[0;34m)\u001b[0m\u001b[0;34m*\u001b[0m\u001b[0mposteriors\u001b[0m\u001b[0;34m+\u001b[0m\u001b[0;34m(\u001b[0m\u001b[0;34m(\u001b[0m\u001b[0mnp\u001b[0m\u001b[0;34m.\u001b[0m\u001b[0mlog\u001b[0m\u001b[0;34m(\u001b[0m\u001b[0mparams\u001b[0m\u001b[0;34m[\u001b[0m\u001b[0;34m'psi0'\u001b[0m\u001b[0;34m]\u001b[0m\u001b[0;34m)\u001b[0m\u001b[0;34m+\u001b[0m\u001b[0mnp\u001b[0m\u001b[0;34m.\u001b[0m\u001b[0mlog\u001b[0m\u001b[0;34m(\u001b[0m\u001b[0mparams\u001b[0m\u001b[0;34m[\u001b[0m\u001b[0;34m'lambda_j'\u001b[0m\u001b[0;34m]\u001b[0m\u001b[0;34m)\u001b[0m\u001b[0;34m)\u001b[0m\u001b[0;34m*\u001b[0m\u001b[0;34m(\u001b[0m\u001b[0;36m1\u001b[0m\u001b[0;34m-\u001b[0m\u001b[0mposteriors\u001b[0m\u001b[0;34m)\u001b[0m\u001b[0;34m)\u001b[0m\u001b[0;34m\u001b[0m\u001b[0;34m\u001b[0m\u001b[0m\n\u001b[0m\u001b[1;32m      8\u001b[0m   \u001b[0mweighted_log_joint_prob\u001b[0m\u001b[0;34m[\u001b[0m\u001b[0mnp\u001b[0m\u001b[0;34m.\u001b[0m\u001b[0mwhere\u001b[0m\u001b[0;34m(\u001b[0m\u001b[0mposteriors\u001b[0m \u001b[0;34m==\u001b[0m \u001b[0;36m0\u001b[0m\u001b[0;34m)\u001b[0m\u001b[0;34m]\u001b[0m\u001b[0;34m=\u001b[0m\u001b[0;36m0\u001b[0m\u001b[0;34m;\u001b[0m \u001b[0;31m#putting in a check in case some posteriors are 0 (because some psi are 0) - 0log0 = 0 (otherwise we will get nan)\u001b[0m\u001b[0;34m\u001b[0m\u001b[0;34m\u001b[0m\u001b[0m\n\u001b[1;32m      9\u001b[0m \u001b[0;34m\u001b[0m\u001b[0m\n",
            "\u001b[0;31mValueError\u001b[0m: operands could not be broadcast together with shapes (18,4) (21,) "
          ]
        }
      ]
    },
    {
      "cell_type": "markdown",
      "metadata": {
        "id": "9I1WRWsu6_V3"
      },
      "source": [
        "# **Run Experiments on EM Algorithm Model**"
      ]
    },
    {
      "cell_type": "markdown",
      "metadata": {
        "id": "6XNRby2I804q"
      },
      "source": [
        "Here, we will answer the questions to Assignment 1 Part 3 regarding our updated EM algorithm model."
      ]
    },
    {
      "cell_type": "markdown",
      "metadata": {
        "id": "QATNfYSQ7uJS"
      },
      "source": [
        "## 1. Plot the log likelihood as a function of EM iteration, for 20 iterations, for 5 different random initializations of the model parameter. Does the log likelihood monotonically increase every iteration of every initialization?"
      ]
    },
    {
      "cell_type": "markdown",
      "metadata": {
        "id": "7pRdAV1DKrW0"
      },
      "source": [
        "Start with fake data to ensure the plot works as intended."
      ]
    },
    {
      "cell_type": "code",
      "metadata": {
        "id": "mXPDC98w75PO"
      },
      "source": [
        "fake_rand_init_1 = [1, 2, 4, 7, 10, 11, 11, 11, 11, 11, 11, 11, 11, 11, 11, 11, 11, 11, 11, 11]\n",
        "fake_rand_init_2 = [1, 2, 3, 4, 5, 6, 8, 10, 10.5, 11, 11, 11, 11, 11, 11, 11, 11, 11, 11, 11]\n",
        "fake_rand_init_3 = [0, 2, 4, 9, 10, 11, 11, 11, 11, 11, 12, 12, 12, 12, 12, 12, 12, 12, 12, 12]\n",
        "fake_rand_init_4 = [1, 2, 4, 7, 10, 10, 10.1, 10.2, 10.3, 10.4, 10.5, 10.7, 11, 11, 11, 11, 11, 11, 11, 11]\n",
        "fake_rand_init_5 = [0, 1, 2, 8, 9, 10, 11, 11, 11, 11, 11, 11, 11, 11, 11, 11, 11, 11, 11, 11]"
      ],
      "execution_count": null,
      "outputs": []
    },
    {
      "cell_type": "markdown",
      "metadata": {
        "id": "JGy4MFULRUtv"
      },
      "source": [
        "Make the graph of the log likelihood after each iteration."
      ]
    },
    {
      "cell_type": "code",
      "metadata": {
        "id": "FxlLrJufRYTI",
        "colab": {
          "base_uri": "https://localhost:8080/",
          "height": 295
        },
        "outputId": "3e2abf0a-56ed-47bc-aa39-90fc66d4817f"
      },
      "source": [
        "import matplotlib.pyplot as plt\n",
        "\n",
        "iterations = 20\n",
        "\n",
        "# Create list containing iteration number (x-axis)\n",
        "num_iterations = []\n",
        "# Use range (1, iterations+1) since Python uses 0-based indexing\n",
        "for i in range(1, iterations+1):\n",
        "  num_iterations.append(i)\n",
        "\n",
        "# Make a plot where the x-axis is the number of iterations\n",
        "# and the y-axis contains the log likelihoods\n",
        "plt.plot(num_iterations, fake_rand_init_1, label = \"fake_rand_init_1\")\n",
        "plt.plot(num_iterations, fake_rand_init_2, label = \"fake_rand_init_2\")\n",
        "plt.plot(num_iterations, fake_rand_init_3, label = \"fake_rand_init_3\")\n",
        "plt.plot(num_iterations, fake_rand_init_4, label = \"fake_rand_init_4\")\n",
        "plt.plot(num_iterations, fake_rand_init_5, label = \"fake_rand_init_5\")\n",
        "\n",
        "# Assign axis titles, plot titles, and legend\n",
        "plt.title('Log Likelihood as a Function of EM Iteration')\n",
        "plt.xlabel('Number of EM Iterations')\n",
        "plt.ylabel('Log Likelihood')\n",
        "plt.legend(loc='center left', bbox_to_anchor=(1, 0.5))\n",
        "\n",
        "# Generate plot\n",
        "plt.show()"
      ],
      "execution_count": null,
      "outputs": [
        {
          "output_type": "display_data",
          "data": {
            "image/png": "[encoded data removed]",
            "text/plain": [
              "<Figure size 432x288 with 1 Axes>"
            ]
          },
          "metadata": {
            "needs_background": "light"
          }
        }
      ]
    },
    {
      "cell_type": "markdown",
      "metadata": {
        "id": "WO67ygHC76X4"
      },
      "source": [
        "## 2. Draw a sequence logo visualization of the foreground motif your model learns, $\\psi^{l}_{m, k}$. You could try LogoMaker, a Python library (https://logomaker.readthedocs.io/en/latest/). Alternatively, there are a number of web servers for doing this; you could draw samples from your foreground model, and input those drawn sequences into e.g. the WebLogo server (https://weblogo.berkeley.edu)."
      ]
    },
    {
      "cell_type": "code",
      "metadata": {
        "id": "sU_x1Agb8ySl"
      },
      "source": [
        ""
      ],
      "execution_count": null,
      "outputs": []
    },
    {
      "cell_type": "markdown",
      "metadata": {
        "id": "dpV2tMRA9I2k"
      },
      "source": [
        "## 3. Now run your model using model random initializations. How do the model parameters $\\psi^{l}_{m, k}$ compare across runs? What about their log likelihoods?"
      ]
    },
    {
      "cell_type": "code",
      "metadata": {
        "id": "TPxQA-BW9RBd"
      },
      "source": [
        ""
      ],
      "execution_count": null,
      "outputs": []
    },
    {
      "cell_type": "markdown",
      "metadata": {
        "id": "Ixs58dhD9WRZ"
      },
      "source": [
        "## 4. Plot a figure that shows the distribution over $C_{ij}$ for a few of the input sequences, and compare that (in the visualization) to the ground truth. How close was your model to predicting the real motif location?"
      ]
    },
    {
      "cell_type": "code",
      "metadata": {
        "id": "nEeQ51eY9cO_"
      },
      "source": [
        ""
      ],
      "execution_count": null,
      "outputs": []
    },
    {
      "cell_type": "markdown",
      "metadata": {
        "id": "iHeUPqxu9nBr"
      },
      "source": [
        "## 5. Train your model using 80% of the data, holding out the remaining 20%. Evaluate the log likelihood of your held out data using the model you implemented in this assignment, and compare it to the log likelihood from the simple latent model we used in class, using the same training/held out data. Which one is better?"
      ]
    },
    {
      "cell_type": "code",
      "metadata": {
        "id": "aWZ_T8zj9qMr"
      },
      "source": [
        ""
      ],
      "execution_count": null,
      "outputs": []
    },
    {
      "cell_type": "markdown",
      "metadata": {
        "id": "17Ed0I_N9s9Z"
      },
      "source": [
        "## 6. Train your model on the atgcsequences.txt file (that had a GC-rich region embedded between two flanking AT-rich regions). Does the model work better?"
      ]
    },
    {
      "cell_type": "code",
      "metadata": {
        "id": "Bq80KKxQ-Ed3"
      },
      "source": [
        ""
      ],
      "execution_count": null,
      "outputs": []
    },
    {
      "cell_type": "markdown",
      "metadata": {
        "id": "jkc5IO2o-E6i"
      },
      "source": [
        "## 7. The original training set in sequence.padded.txt has 357 sequences. Randomly sample another 357 sequences of the same length (just from a simple generator, that produces each base at equal frequency) and train the model with all data. Does it still recover the same motif? What if you add 3000 noisy sequences?"
      ]
    },
    {
      "cell_type": "markdown",
      "metadata": {
        "id": "4EQJ9k8E-7T0"
      },
      "source": [
        "Generate 357 sequences of the same length that produces each base at equal frequency."
      ]
    },
    {
      "cell_type": "code",
      "metadata": {
        "id": "bMYZPCktUaAg"
      },
      "source": [
        "import random\n",
        "\n",
        "# Number of sequences to generate\n",
        "seqs = 357\n",
        "# The minimum sequence length\n",
        "min = 40\n",
        "# The maximum sequence length\n",
        "max = 40\n",
        "# GC-content as a proportion\n",
        "gc = 0.5\n",
        "\n",
        "assert(seqs > 0)\n",
        "assert(min > 0)\n",
        "assert(max >= min)\n",
        "assert(gc >= 0 and gc <= 1)\n",
        "\n",
        "# Use probabilities for random sequence generation\n",
        "# This does not guarantee that all bases are present at equal frequency\n",
        "# But this means the sequence length does not have to be divisible by 4\n",
        "# And base pair frequencies are close to equal\n",
        "my_seqs = []\n",
        "for i in range(seqs):\n",
        "    l = random.randint(min, max)\n",
        "    seq = []\n",
        "    for j in range(l):\n",
        "        r = random.random()\n",
        "        if r < gc:\n",
        "            r = random.random()\n",
        "            if r < 0.5: seq.append('G')\n",
        "            else:       seq.append('C')\n",
        "        else:\n",
        "            r = random.random()\n",
        "            if r < 0.5: seq.append('A')\n",
        "            else:       seq.append('T')\n",
        "    my_seqs.append(''.join(seq))\n",
        "\n",
        "print(my_seqs)"
      ],
      "execution_count": null,
      "outputs": []
    }
  ]
}