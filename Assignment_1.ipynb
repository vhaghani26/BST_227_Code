{
  "nbformat": 4,
  "nbformat_minor": 0,
  "metadata": {
    "colab": {
      "name": "Assignment_1.ipynb",
      "provenance": [],
      "collapsed_sections": [],
      "authorship_tag": "ABX9TyMH3/XJDkh8CTgBodowhxk4",
      "include_colab_link": true
    },
    "kernelspec": {
      "name": "python3",
      "display_name": "Python 3"
    },
    "language_info": {
      "name": "python"
    }
  },
  "cells": [
    {
      "cell_type": "markdown",
      "metadata": {
        "id": "view-in-github",
        "colab_type": "text"
      },
      "source": [
        "<a href=\"https://colab.research.google.com/github/vhaghani26/BST_227_Code/blob/main/Assignment_1.ipynb\" target=\"_parent\"><img src=\"https://colab.research.google.com/assets/colab-badge.svg\" alt=\"Open In Colab\"/></a>"
      ]
    },
    {
      "cell_type": "markdown",
      "metadata": {
        "id": "VEB6Jbmxr9P7"
      },
      "source": [
        "# **The EM Algorithm for a more complex sequence model**"
      ]
    },
    {
      "cell_type": "markdown",
      "metadata": {
        "id": "8zDlf51Mr6wp"
      },
      "source": [
        "First, we need to import the modules we plan to use to run the code."
      ]
    },
    {
      "cell_type": "code",
      "metadata": {
        "id": "6yrbLTPNtux7"
      },
      "source": [
        "# Used for sure\n",
        "import requests\n",
        "import pandas as pd\n",
        "import numpy as np\n",
        "from sklearn.preprocessing import OneHotEncoder\n",
        "\n",
        "# Not used yet, TBD\n",
        "import io\n",
        "from tqdm import tqdm"
      ],
      "execution_count": 7,
      "outputs": []
    },
    {
      "cell_type": "markdown",
      "metadata": {
        "id": "puqdz-Cxsg4i"
      },
      "source": [
        "# **Download and Process Sequence Data**"
      ]
    },
    {
      "cell_type": "markdown",
      "metadata": {
        "id": "W9liLSAMwHEe"
      },
      "source": [
        "Set data file URL locations"
      ]
    },
    {
      "cell_type": "code",
      "metadata": {
        "id": "143x5QHNwKZg"
      },
      "source": [
        "# URL for at_gc_sequences.txt - this is a single sequence: ATTTAATATAAAATTTGGCCGCCATAAAAAAA\n",
        "at_gc_seqeuences_txt = 'https://ucdavis.box.com/shared/static/s8g6zx9vwxbbfdxdj2uqzhlvslc1jhsy.txt'\n",
        "# URL for sequence.padded.txt - the real binding site data\n",
        "sequence_padded_txt = 'https://ucdavis.box.com/shared/static/0cacx2xvn4ugxo9h21ci2ngesryigf43.txt'\n",
        "# URL for sequence.motiflocation.padded.txt - the location of the binding sites from sequence.padded.txt\n",
        "sequence_motiflocation_padded_txt = 'https://ucdavis.box.com/shared/static/gd0r12mdkhix86bo9ffbn3dy0fy0prmn.txt'"
      ],
      "execution_count": null,
      "outputs": []
    },
    {
      "cell_type": "markdown",
      "metadata": {
        "id": "fdktorRL4uEj"
      },
      "source": [
        "Write a function to download and one-hot encoded the sequence data"
      ]
    },
    {
      "cell_type": "code",
      "metadata": {
        "id": "Ka8lwgcXZ5XF"
      },
      "source": [
        "# Function written by Chenxi Liu (slight modifications made)\n",
        "\n",
        "def get_sequence(url, categories=['A', 'C', 'G', 'T']):\n",
        "  # Send a GET request to a specified URL, categories=['A', 'C', 'G', 'T']):\n",
        "  r = requests.get(url)\n",
        "  # Convert sequence data to data frame\n",
        "  df = pd.read_csv(io.StringIO(r.text), sep=\" \", header=None)\n",
        "  # Turn the first sequence into a 2D array where each index is an independent array with a single base pair\n",
        "  s1 = np.array(list(str(df.to_numpy()[0, :][0])), dtype=object).reshape(-1, 1)\n",
        "\n",
        "  # Determine how many sequences there are in the text file\n",
        "  num_seqs = len(df)\n",
        "  # Assume all input sequences are equal length\n",
        "  # Determine how long each sequence is\n",
        "  seq_len = len(list(df.iloc[0, :].values)[0])\n",
        "  # Start to make a one-hot encoded 3D matrix for the seqeunces\n",
        "  # Not one-hot encoded yet, just zeroes \n",
        "  data = np.zeros((m, seq_len, len(categories)))\n",
        "  # Make a matrix repersenting each category ['A', 'C', 'G', 'T']\n",
        "  bp_counts = np.zeros((1, len(categories)))\n",
        "\n",
        "  # Encode categorical feautures in a one-hot numeric array\n",
        "  # Assign categories to be used\n",
        "  ohe = OneHotEncoder(sparse=False, categories=[np.array(categories, dtype=object)])\n",
        "  # Apply OneHotEncoder to example sequence\n",
        "  ohe.fit(s1)\n",
        "  \n",
        "  # Apply OneHotEncoder to all sequences\n",
        "  for ii in tqdm(range(num_seqs)):\n",
        "    s = list(str(df.to_numpy()[ii, :][0]))\n",
        "    s_a = np.array(s).reshape(-1, 1)\n",
        "    data[ii, :, :] = ohe.transform(s_a)\n",
        "  \n",
        "  # Count the number of each base in the sequence data\n",
        "  for ii in range(len(categories)):\n",
        "    bp_counts[0,ii] = np.sum(data[:,:,ii])\n",
        "  \n",
        "  # Return the one-hot encoded matrix (data) and the counts for each base pair (bp_counts)\n",
        "  return data, bp_counts                                                    "
      ],
      "execution_count": 37,
      "outputs": []
    },
    {
      "cell_type": "markdown",
      "metadata": {
        "id": "od2WQCQrDDyv"
      },
      "source": [
        "Write a modified version of the above function that returns a randomly split training and test data set"
      ]
    },
    {
      "cell_type": "code",
      "metadata": {
        "id": "RJGr38gKDNuE"
      },
      "source": [
        "# Function written by Chenxi Liu and Gerald Quon\n",
        "\n",
        "def get_sequence_traintest(url, categories=['A', 'C', 'G', 'T'], FRACTION_TRAINING=0.8):\n",
        "  # Send a GET request to a specified URL, categories=['A', 'C', 'G', 'T']):\n",
        "  r = requests.get(url)\n",
        "  # Convert sequence data to data frame\n",
        "  df = pd.read_csv(io.StringIO(r.text), sep=\" \", header=None)\n",
        "  # Turn the first sequence into a 2D array where each index is an independent array with a single base pair\n",
        "  s1 = np.array(list(str(df.to_numpy()[0, :][0])), dtype=object).reshape(-1, 1)\n",
        "\n",
        "  # Determine how many sequences there are in the text file\n",
        "  m = len(df)\n",
        "  # Assume all input sequences are equal length\n",
        "  # Determine how long each sequence is\n",
        "  sequence_len = len(list(df.iloc[0, :].values)[0])\n",
        "  # Start to make a one-hot encoded 3D matrix for the seqeunces\n",
        "  # Not one-hot encoded yet, just zeroes \n",
        "  data = np.zeros((m, sequence_len, len(categories)))\n",
        "  # Make a matrix repersenting each category ['A', 'C', 'G', 'T'] for the training set\n",
        "  bp_counts_train = np.zeros((1, len(categories)))\n",
        "  # Make a matrix repersenting each category ['A', 'C', 'G', 'T'] for the test set\n",
        "  bp_counts_test = np.zeros((1, len(categories)))\n",
        "\n",
        "  # Encode categorical feautures in a one-hot numeric array\n",
        "  # Assign categories to be used\n",
        "  ohe = OneHotEncoder(sparse=False, categories=[np.array(categories, dtype=object)])\n",
        "  # Apply OneHotEncoder to example sequence\n",
        "  ohe.fit(s1)\n",
        "\n",
        "  # Apply OneHotEncoder to all sequences\n",
        "  for ii in tqdm(range(m)):\n",
        "    s = list(str(df.to_numpy()[ii, :][0]))\n",
        "    s_a = np.array(s).reshape(-1, 1)\n",
        "    data[ii, :, :] = ohe.transform(s_a)\n",
        "\n",
        "  # Randomly permute rows of matrix\n",
        "  np.random.shuffle(data)\n",
        "\n",
        "  # Split data into training and text data\n",
        "  train_indices = np.arange(start=0,stop=round(FRACTION_TRAINING*data.shape[0]))\n",
        "  test_indices = np.arange(start=round(FRACTION_TRAINING*data.shape[0]), stop=data.shape[0])\n",
        "  \n",
        "  # Count the number of each base in the test and train sets\n",
        "  for ii in range(len(categories)):\n",
        "    bp_counts_train[0,ii] = np.sum(data[train_indices,:,ii])\n",
        "    bp_counts_test[0,ii] = np.sum(data[test_indices,:,ii])\n",
        "  \n",
        "  # Return the base pair counts for the test and train sets\n",
        "  return bp_counts_train, bp_counts_test"
      ],
      "execution_count": 57,
      "outputs": []
    },
    {
      "cell_type": "markdown",
      "metadata": {
        "id": "t4CTnzFwsnzw"
      },
      "source": [
        "# **Core EM Code**"
      ]
    },
    {
      "cell_type": "markdown",
      "metadata": {
        "id": "iS8dXrNmsw2d"
      },
      "source": [
        "# **Run EM**"
      ]
    },
    {
      "cell_type": "markdown",
      "metadata": {
        "id": "9I1WRWsu6_V3"
      },
      "source": [
        "# **Run Experiments on EM Algorithm Model**"
      ]
    },
    {
      "cell_type": "markdown",
      "metadata": {
        "id": "6XNRby2I804q"
      },
      "source": [
        "Here, we will answer the questions to Assignment 1 Part 3 regarding our updated EM algorithm model."
      ]
    },
    {
      "cell_type": "markdown",
      "metadata": {
        "id": "QATNfYSQ7uJS"
      },
      "source": [
        "## 1. Plot the log likelihood as a function of EM iteration, for 100 iterations, for 30 different random initializations of the model parameter. Does the log likelihood monotonically increase every iteration of every initialization?"
      ]
    },
    {
      "cell_type": "code",
      "metadata": {
        "id": "mXPDC98w75PO"
      },
      "source": [
        ""
      ],
      "execution_count": null,
      "outputs": []
    },
    {
      "cell_type": "markdown",
      "metadata": {
        "id": "WO67ygHC76X4"
      },
      "source": [
        "## 2. Draw a sequence logo visualization of the foreground motif your model learns, $\\psi^{l}_{m, k}$. You could try LogoMaker, a Python library (https://logomaker.readthedocs.io/en/latest/). Alternatively, there are a number of web servers for doing this; you could draw samples from your foreground model, and input those drawn sequences into e.g. the WebLogo server (https://weblogo.berkeley.edu)."
      ]
    },
    {
      "cell_type": "code",
      "metadata": {
        "id": "sU_x1Agb8ySl"
      },
      "source": [
        ""
      ],
      "execution_count": null,
      "outputs": []
    },
    {
      "cell_type": "markdown",
      "metadata": {
        "id": "dpV2tMRA9I2k"
      },
      "source": [
        "## 3. Now run your model using model random initializations. How do the model parameters $\\psi^{l}_{m, k}$ compare across runs? What about their log likelihoods?"
      ]
    },
    {
      "cell_type": "code",
      "metadata": {
        "id": "TPxQA-BW9RBd"
      },
      "source": [
        ""
      ],
      "execution_count": null,
      "outputs": []
    },
    {
      "cell_type": "markdown",
      "metadata": {
        "id": "Ixs58dhD9WRZ"
      },
      "source": [
        "## 4. Plot a figure that shows the distribution over $C_{ij}$ for a few of the input sequences, and compare that (in the visualization) to the ground truth. How close was your model to predicting the real motif location?"
      ]
    },
    {
      "cell_type": "code",
      "metadata": {
        "id": "nEeQ51eY9cO_"
      },
      "source": [
        ""
      ],
      "execution_count": null,
      "outputs": []
    },
    {
      "cell_type": "markdown",
      "metadata": {
        "id": "iHeUPqxu9nBr"
      },
      "source": [
        "## 5. Train your model using 80% of the data, holding out the remaining 20%. Evaluate the log likelihood of your held out data using the model you implemented in this assignment, and compare it to the log likelihood from the simple latent model we used in class, using the same training/held out data. Which one is better?"
      ]
    },
    {
      "cell_type": "code",
      "metadata": {
        "id": "aWZ_T8zj9qMr"
      },
      "source": [
        ""
      ],
      "execution_count": null,
      "outputs": []
    },
    {
      "cell_type": "markdown",
      "metadata": {
        "id": "17Ed0I_N9s9Z"
      },
      "source": [
        "## 6. Train your model on the atgcsequences.txt file (that had a GC-rich region embedded between two flanking AT-rich regions). Does the model work better?"
      ]
    },
    {
      "cell_type": "code",
      "metadata": {
        "id": "Bq80KKxQ-Ed3"
      },
      "source": [
        ""
      ],
      "execution_count": null,
      "outputs": []
    },
    {
      "cell_type": "markdown",
      "metadata": {
        "id": "jkc5IO2o-E6i"
      },
      "source": [
        "## 7. The original training set in sequence.padded.txt has 357 sequences. Randomly sample another 357 sequences of the same length (just from a simple generator, that produces each base at equal frequency) and train the model with all data. Does it still recover the same motif? What if you add 3000 noisy sequences?"
      ]
    },
    {
      "cell_type": "markdown",
      "metadata": {
        "id": "4EQJ9k8E-7T0"
      },
      "source": [
        "Generate 357 sequences of the same length that produces each base at equal frequency."
      ]
    },
    {
      "cell_type": "code",
      "metadata": {
        "colab": {
          "base_uri": "https://localhost:8080/"
        },
        "id": "f9ekm7zq-HbO",
        "outputId": "4a85ebdd-634f-4a28-8513-af3a923805bf"
      },
      "source": [
        "import random\n",
        "\n",
        "seqs = 357\n",
        "min = 40\n",
        "max = 40\n",
        "gc = 0.5\n",
        "\n",
        "assert(seqs > 0)\n",
        "assert(min > 0)\n",
        "assert(max >= min)\n",
        "assert(gc >= 0 and gc <= 1)\n",
        "\n",
        "# Use probabilities for random sequence generation\n",
        "# This does not guarantee that all bases are present at equal frequency\n",
        "# But this means the sequence length does not have to be divisible by 4\n",
        "my_seqs = []\n",
        "for i in range(seqs):\n",
        "    l = random.randint(min, max)\n",
        "    seq = []\n",
        "    for j in range(l):\n",
        "        r = random.random()\n",
        "        if r < gc:\n",
        "            r = random.random()\n",
        "            if r < 0.5: seq.append('G')\n",
        "            else:       seq.append('C')\n",
        "        else:\n",
        "            r = random.random()\n",
        "            if r < 0.5: seq.append('A')\n",
        "            else:       seq.append('T')\n",
        "    my_seqs.append(''.join(seq))\n",
        "print(my_seqs)"
      ],
      "execution_count": 49,
      "outputs": [
        {
          "output_type": "stream",
          "name": "stdout",
          "text": [
            "['CGAGTGGGGGTTGTCCCCTTCACAGCCGTTACATTTGAGT', 'CTCTCTGACACGCCGAAGCACTGTGCGCACACCCTTGTCT', 'GTGTCAATAGCTATGGCGCAAAGATTACAGTACTATTCCG', 'GTATTCAACACCGGTTGGTCACCGGAGCGATACTTAAGCT', 'TACAAACCCTCTCACACCCCTCTCTGTCCTAGATTATGAA', 'ATTAGCGACATTCGTCGCTTTACCGGCAGGTATTTAGCAC', 'ACGCATGTATCTTTCACGTGGCACGTCAGGCCTGGGCGTA', 'ATGGGTATTTCGACCATTTCTATCGGGTACAACACTCAGT', 'CATCGCCACTTGTCTGACCGTTGCCATGCGTCATGTTGTT', 'ACCGAGGAAGTGAGTACTCACATCTAGGCGCAGGACATCT', 'GCCTTGCGGCGGATTGCGGCCCCCTGTAGGCTATGAGGGC', 'AGTCGCAAAGCACTTCACTCTCCGCATCCCGCGTCCGTCA', 'GTATCATACCGAACTCCTCTCCTTTTAACGCCTAGATTTC', 'TTTGGGCTAGAGCTCCGATAGGAAATCGGACAATGAATTT', 'CGCAAGCGATGCTCGCGTTATTAGCGTAGCGATAAATACC', 'ATGTCCGTCAACCCAGCTGTTCTCCGCAATCAGTCTAGCT', 'CACCGGCAGGGATTGCACAAGCCTTGGATCCGCCCCGGAC', 'TGGACACATCGCAAGTCTGCGAGATTCCTCCGATCGCCAG', 'CTGAATGTTCATGGGCGGGACTTTACAACTTAACCAATAA', 'CGATAGGTGACTGTGAACATTCGGGGCCGGCAGTGCCTTC', 'GAGCACTGCTTCGGAGTTTAGAATCTTCCGGACCTCCTAT', 'TCTCGGTCACATCATGTCCCGCCGGCTGCACCGTACCGAA', 'GGATCGCTAATCATGACACCGCTGGCCTGTGGCGTGGTTA', 'CCGGGCCGCTTACGACGACCGACAAAACGCCGTGTTCTGC', 'GAGTTATCGTACGCGCCGCTCCATAAAACAGGTGGACCCG', 'GTTACTACCCACATAGGATTCTATATCGCTCGGCTCGTAA', 'CAATAAAACAGGGCTTTATAATGTTACGATGAACTATTCC', 'CCCAGTTCGACACTCCACCCTCTCCCGTCGATTACGTACG', 'TATCAGAGGGTCTGGCATTGAGTTATAAGCCAGTTAGGGT', 'ACACGTTTTGAGGTGCGTGAATGAGGGACCGTCAGTCTGG', 'AGACGAACTGAGGCTTGATTTTTGTGGGCAAAGGGGAGTC', 'AGAAGCCAAGTCCGGTCACAACGGCCTTTACCACTTCGGC', 'TAAAACGTACGGTATTTTGTTCTTCTACCCAAGCCGGCAT', 'CTGGACGCAAAAACCCGGGCTGTCGTTCTTGCCGGGATCA', 'TTGGTAAAGGGTGGATCTGAGTACCTTCACTTACGAACGA', 'ACCTGAGAACTTGTTGTTATATTTCATTCAGCTCGGATGT', 'AGCGTGTTCAAACCTTCCTACCGTAATTACGAGGATATCT', 'CTAGGCTGGTCTTTAGGCCATGGCAAGGCAAAGCAACCCA', 'CTTTTGGATGCATGGTAATTGTACGAGAATCGCACCATGC', 'GAACGGGACTCATAGAGGTACTCTACGCCACATGCGCCGG', 'ACTAGTGCAGGTAACGCCTCGGACCTATGTAAGGCAAACC', 'TTTAACAGTCCCTAGGGTGTGGACCGGGAAGGAAACGTTA', 'TAGGGAGCGCGGTCTGTATCGGCTAGGGCTTGCGTCTTTA', 'CGTCTTCCAGTGCATGCACCTCGATGCACCCAACTGGAAG', 'AATAGTTGCTTAAATTTTCCCTGTGGCGATGGTGGCAGCC', 'GGTTAAGAATTAACGCCGAGGCCTTCTCGGATGCTCGCAC', 'TTCGATACAAACTATAATGATGTGTCCCGCGGGCATAATT', 'AATCGGCATCGTACGTCCCCTGAGGTTGTACCGTTCACGC', 'AATACTTTAGCGACGTGAAGATAGCGCCCCACGTTAAAGC', 'TTAGGGGGTTATATCACTGAATAAGCTCCCCGGCAGTTAC', 'ATAATGCCCCCCTTATCTACGGGCCAATCGGAATGTCGTG', 'GGACGTCCAGGCACCGCCCTTTGATGAGGAAGTGCAGTTT', 'TATTACTGACTTGGAAGTCGTTTTCTTCTGATTCAGAGTT', 'CTGAGTCTGGTCCGGCTGTATGAATGTTACCAGCCCTTCT', 'TGGCTGCATCATTCAGAACGAGGGAAGAGCTGTAGGAGAG', 'AGTGGGACGGCGCACGGAGACCTCGAACGGTGAAGGGCAA', 'GCAGTACCGGCGCTGACGAAAGTCGTATGGCACGCCGTTG', 'TATAGTGTGTTCAAATTCTGAGCACTGTCCACTAGATACT', 'CGATGCTAATCACGTCAATGGCCCTAGCGACTAACTTCCA', 'GAAGAGACGACGCTTGGAATGCCCGTGCGATGTACTAACC', 'TAAACATCAGCGGACAACGTGGATAGAAGTACGTTAGACA', 'ACTTGCGTCAGGAGACGAGCAACGCTAACGGAGGCGATCG', 'GATCACCGCATGTTACCTTTGGTATTAAAAGGAAATCCCG', 'CCGAGTAGTTCGGATCACACAGAGTTAATTTAACGATCGT', 'ATACCCATGCACAACCTCCGAACGAATCTCGCCGCCTGGT', 'CGACCGTAGCAACTTCAGCTCCGCCAACCCCAGCATTTCG', 'TACGGTAAGATAGTGTTGTGACTGGGCCAATGTCCGCCGC', 'CATAAGTCGGACCTCTCACGGTCATAGCGGAATGCATGAA', 'CCGCCATCTTGAGGTGAACGTACCCCGCAAGGCTGCTACG', 'GATTTTGTGTGGTGTTCCGTTTGGGCCATGGGAATTACCA', 'ATCACGTGGCCCGTGTTGACCGTAGCGGGTAGCCCCAGCC', 'ACGCGAGCGGGGCACAATATATCGGAATAGCAGTGCTCAC', 'CTATTTATACTGTTGTTGACCAGACTGCCGATGGATTCGA', 'AAGGTTTTACAGGTCTTATTATTGCGTAATAGAAGTGTGC', 'TTGTTCGCGCCTGGACAGGATTCAGAAAGCTTGAACATTC', 'TAATGAGAACGTCAGAATCACAACCGACAGCTGAGCGGAA', 'CATTTCCCGTCCCTCAGTATGTAGGGAGACCCTACATCCG', 'CGAGGATAGATTATCATGGGGAACCTAAACTTCCCACTTG', 'TCAGACTGACTCACCGAACCTGGGGTAGCTCGCCTCTAAC', 'GTCCGTCCAGAGGCAGTGACTGCTAGACCGTTTCCGCCCA', 'ACGGCTTTCTGCGCCTACAACATGAGTCGTGGATGATATC', 'ACACAATCCCCAACGAGTGAGCAGGATCATTGGGCTGATT', 'GCTGAGAAGATTCCGCGAACGATATGCGCCCGGGATTACC', 'AGGGAATCGGAAACTGCGTATATATCGTGGGCGAATCGTG', 'ACTCACACTGAATTACGTCGGCAAGGTCGCTATTTCCGGA', 'TTAACCAACGAATGTTTTGGGGAGCCAGCCAACTGCACCG', 'TGGTAGATTCCCTAGATACCAGAGATCGTAACGTTATTCA', 'AGTGTCTATTATGTATTCAAGCAAATTATACTCGGCGTGT', 'CTTGCGTTACTGGAAATAACCTGGGGAAATACTATTTAGG', 'CCCTAGTCGCGCCGGCTTCATATTGAGCTCTGGAATGCCG', 'ATTCCCGTAGATTTGGTCTCGACAGAATGGGCCTTGGGCC', 'ACTGCGTGACAAACTCATCGTGGCGGATTGTTTTCGTAAA', 'ATATGCACAGAGAAGATTAAAACTGTCGTGCAAAAACATC', 'AGGGTAGAACGCAGTGTGGAAGACGTATGCCTCTAGGAAT', 'CTCAGTATGTGGCGTGGATCGACAGGTAACAGACATGTTT', 'TCCCAACGGTCTGCAAGAACGCCTTTTTATGTGGCCTCTC', 'TGTAGAGCAACATCGAGTAAAATCATCTATTTGACAATAA', 'GCTCGGCGGACTAAAGTCTGCAGTCGGATGCCGTATGCGC', 'CTCCGAGTGTAATTTGACGTTGGGCGGCCCGCAGGACGCT', 'GTTTAGCATTTTTCAATCTAGCACGACCGACCGACCGTGT', 'AATTGATTAACAAATGCTCGAAACTTATAACCCCGAGCTT', 'AAAATCCGCGTTCTGGGGCGGTTGCTTGCGACTTCTCCCG', 'TACTTCCTACTTGTGCGGAGAGTAGATTGGGTGTGGGTAG', 'ATTTTTTGGCCCTTCCATCCCTCATTGCCGATCCACATGA', 'GTTTATCCGCCCAGAAAGGCATGTTATTCTCTTCAACGTA', 'TCGCGTTCCAGCCTGATGCACGTACTCGGAGCCCAATCTT', 'GCAGTAGGCATCCATCAGTCCGGGGGTAGCTTGGAACAAC', 'CTTCAATAGCGCAGCATCGAGTAATCATCCGCGCTCCACC', 'AACATTCGTGCCACGGGTGCAGATCCCGTCCCGAGACGTG', 'TAGTAACATTCACATTGGTCGGTGTTCTTGGAAACGTTTA', 'CTTCCTGCATAAAGGGTCCGCATCATGACTACAGAGAGGC', 'ATGGTAGAAACTGGCGAGGAGCCCATTCTGCGACACCACG', 'AGAGCCGTCATTGTTAAGCCTTCTGGAACTCCCTCTAATT', 'TATGGATTCATTTTACTCGCATGGCTGATGATAGCGGACC', 'CAGCGTAATTTTATTCCGAAACTCATCTCTGCATTCCCTA', 'ATGCAATCTGTCATCCATTACAGCTTAATACTTTAATAGG', 'TACACCCCGAAGGTTGTCTAGTCAGGTTTCTATGGGAACC', 'TCGAGCTCTACCCTAGCCGGATTCCCAATGCATATGCCCT', 'GGACAGTACCCATAGCGAAGAGGCCGGTTTGGATGGTATA', 'GAAACAGATTTTGAAGCAAGGCCCAGTTGATTCGTGTCCC', 'CGCCTTGCGATCCCCCCCGTCTCCTGTCCATCACATGACC', 'GTAACTCCCCAACCTCTCCTACCACTGTATCGATCTTCTA', 'TTCTACTGCTAGCTGATGTGACATCTGCTGGGGGTGGCAC', 'ACCGCTCCAGGATCCTGCGACCTGAGATATCCTCCTTAAC', 'TCTGAATGAACTTGTTTCCTACCCTATAACTACATGTTCG', 'CGCGTAGCAGGAACCGGTATCGCCTTTTGAAGCCGATAGT', 'TACCGGTAGCTATACGAGGCGCCACGTTTAAATGGCGACT', 'CGCCTCCGAGGTGTCAAGGTAGTCTCCGAACTAAATAGTT', 'GCAACTTTTAACAATCTCCCGTGAACCAAGATAATCTGAC', 'ACGTTATCCGCTGCCAGTCGTTGATTCGCTGAATATCTTG', 'TGAACTTTTTCCTGTTGGGACATGCTGCAAAGAGGGCCAT', 'TCGTCCCTTGGGAGGACTTTGATGATACTAACAGAGCCAT', 'ACGTGTGCACGGCTGTAGCCTAGTATGACTTGCCCGGGTC', 'GCGCGGCGCCAAAAACAATAAGATCGTCCCGGCCCTGAGT', 'GCGCAAATGGCACAAATCGAATTATGGTGCTGAGGACCTG', 'GAAATCAATCCGCGACCCCCCACGCATCAACGGTAGGCGA', 'AGCTTTGAAGGTCATTTATAGCTACACGTCTCGATCTATC', 'GTATAGTCAAATTAGTTACTCGGCAGGCCCTAGTGTTTTC', 'CTGCTTTCACTCTCCTTTTCAAGAGTTGGCCTAGATTGTG', 'GCTCCGTCTACGCGGGTAGTGCAAAGATTACGACCTTTCA', 'TTTCGGTCTTCTGAAGGTGAGGCGGGTGTTACCCTGGTAG', 'ACAGTCGGTCCACCAGTTGATCCTGAACTCACTGACAAAA', 'CTAAATGTTTTGATCTTACGCGAAAGACACCACTGCACGT', 'GCGTGAAGCACCTTGAAAGTGGCTCAAACACTAATCTGGA', 'ACCCCATCCCACTGACCGCGGTTCGCATGGACTTAATGTT', 'GTGTTAAGTCAAGAGTCAATTAGATAGAAGACTTCAATCA', 'ACGTTGAGTGGCGCAGCTCCTCGCTCCGGCGATGTGGACA', 'GACCCTCTTATACCATATGGCTGTGCCGTTAAGGCCAATT', 'CTACCATGCATGGAATGTCAAGCTTTCTAAAAGCATATTT', 'GACTCGCCGGGACCAAGCTTAAATTGAAATACGAATTCAA', 'CTAGTCGTGCTTGAGCCCAATGACGATGTGACATTTGGAG', 'GCTCTTATTCGTAAAGACCCTCAGCCAGCACGAGTAAACA', 'GGACGATTCATTACGACTTCGTGGCACCGGTGCAGCACAT', 'ACGAATGTAACACTATCTGCGGACATCGGGTCACTCATGA', 'ACAGGCCAAGGTCTGCCCGAGCCGACCCGGCGCGCGCGAG', 'ACAGGGCTTAAAACGTGTTGTACGAGCCGACACGTGAGTA', 'GGTAGATTGCGTACAATGGACTACTTGCCAGTATCCAGAT', 'CTAATTACATGTACATAACCTACATTCTCAGCAGGTTGCG', 'TACTGATGCAGGATCGTTCCCAGCCTTATCTCAGCGTCCC', 'AGTCAATATGGGTCGTTTCATTTCGATTAGCAGACTGTAC', 'CTAGGCTAAAAGTCCATTTAGCAACGCGAAATGGACCGAC', 'GCGCACGCTGCGAGACCACAACGTAGCTTAACTATATTAA', 'TGGTTCGGTCGGGGGGTCTTTCATCGAACTATCATTCCCT', 'CGACTAGAATATTGGGTAGATCCATGCCTGAAAAATTAGT', 'CTCAAGAAAACCCGCGTTTCGGAAAACAACACCGCTGGGC', 'ATACAGTTGTCTTGATGTCGATTGGAGAGGGTTGACTCTC', 'CCGTGGAAATCGATAACCCAAACACATTAATCTGTAGGCG', 'AGGATTACCTCTAGTCAAGGCCCTGTCTAAACCCCCCATT', 'ATACCAATAGCGTCTGGACTTACGTCTCCCGGTTAGTCCA', 'CTCCCGGGTTGACCGATAAGCATGCTACTTAAATCCTCTA', 'TTATGCGCGACACGGGGGTGAGGCATGCCGGGCGCCTGCA', 'ATTAGCAGAAAGGCGCTCCTTTAAAGGTTGATACACCCTA', 'CTGTTTCTACTCCAAGACCGGTATTGGGGTCCTCCTCCCC', 'CCGCAGAGACGGGTAATCTTATTTACATCGCACCCAAGGT', 'TCATTAGTGCCGCCCAAAGCAGGTAGAGCCTCACGGCGAG', 'AGTGGGTGCGGCATTGGATGCAGTTTTTCTCCAACCAACT', 'CCCGATGAAACGTTGAATAGACTCTATGTCAGCAGAATAT', 'CTTGAGTGCATAGGGAAGGGGACACGGAATGGATGTCTAA', 'CGTCAGAAGCGACAAAAATCGTTCAGTTAAGTTGTCGGAC', 'CAAAGCTGACAGTTCGTCGACGTGCATTGGTGAAAGGCGC', 'TTCGAGCATCTTAAATCGGTACTAGAAATCGTGCCTTGCT', 'TCGTATGACCATTAAGTTCGGCCCGCATAAGCCTGTGACC', 'TCGATCTACGTCGCCGACTAGTGCTATGTCCGTGAAAAAC', 'CTTGCGCACAATAAGTTAACTAGAGATTCCTGAGGAGTTG', 'AGTTCCTGTACTGCCACTATTTAGCACGAGTACCGCATCG', 'TAGTGTGTGTTAAGGATGGAGTTGGTTGAATTCGATCGGA', 'GCACACGCGAGCTGAGGCTTCCCACGCCCGTACACACACG', 'ATCTTCATCTGTTCGCGTCCGATCCCGAAGACTTCACTGT', 'GTGTTATTCGGCAGCAATGTTAAAAACCACGATTATACGT', 'TTACGCTCTGCCAACTTAGTATACCCGAGCTGTATGTCCC', 'AAGAGATTCTAACCCTACAAATGGAGATTTCTAGTCGGGC', 'GTTCTTGTGCCCCCTTCCGCGGTGACACCGCATGCTCACC', 'ACTATGTCTACAGGAAGGGTCAATCTGCCTTAGTCAGAGG', 'CAAAGTAAGTCGGGGCAAAGAGAAAGGAAACTCAATGGCT', 'GTTAACTTGTAATCGGGCTTTCTCGAGATCTTCTGCATGA', 'GTAAAAGAAGGGCCAATTCCAATAAGTCCCTAAAAGAGTA', 'ACGCGAAATGAGGTTGGGCGTGATGTATTCCCGGTGGTCC', 'ATTGCTGCCGGCTGGACCAGTATTTACCTTCACGTTTTTA', 'GGGGCCGAGGGAGTCGGCCTCGGCACTAGCTCTAACCCCC', 'ATCTGAAAGACCGTGACGGTTGCAGGACCGGTATCAAAAT', 'CCGTATGTTATGAGCACGTATTATCCGGCGGCCCCTTGCG', 'ACAGATATTTTTCATTGGCCTTAATGCTGGCGAGAGGAGG', 'GTTGTTGTATCATAGCAGGTTAACCGTTGAAGGCGTATCG', 'TTTTTATTTCCCGAAACTCTCATATAAGCTCTACTCCCCC', 'TACATGTGGAGTTTACATGTGTAAAGTGTTAATCGCCACC', 'CTCTGTGATATCGTCCGAGCCTGGGACGCAGCCAGTTCAT', 'AAACCCAACGCGCATATACGAAGTCTCACTCCGCTAACTT', 'GGGGTCTGGGACAAATCACCTTTCTTACCAGAGCAGACGA', 'CTGTGTAGCAGATGCTTCGTGCTTCGAGCACACTGCTTCG', 'AATGCTGATTTACATGGGAATCAGTGAAGGCCAGGGTCAA', 'GTATTATCAGTTGGGTGAAAAGGCTCTGGGCCACCAAGAG', 'CCTCCGCTCCGGGAACACTGTGGATGGTTTGCTCCGTGGT', 'CAACCATGTGAAACACCTCATTGTGGTCAGATCAACTGCC', 'GTTTTCCTGACCCCCAAGAGCCTAAGAATCGGACAGCTTA', 'CGTCGGCGTGTGAGATGTTTCACAAATGACATCCAAAGAC', 'CGGAATAGGGCGTATAAAGCGGCATAGCAGCCACGTCGTA', 'TATCATTGTTCACTAGTGAAGATTTGAGAAATCACCGGTC', 'TAGCCGCACGCATGAGGCCGATGTTCAAGGGGACCGCCTA', 'GCGCTCTAGTAACCCGATAGAAGGAACAGGGTTAGCGTTA', 'CTCTAGTGGTTTTACTTACTTCCATTCGGGTTTGTCGGCA', 'GCCTATCACCATAATGTAACATCGAGGAGCGTAGGATATA', 'TTGATGTACTACGCAGTCGGCCCCCCCCCTGCCGAGCCAC', 'TATCATGGAGAGGGGAAATCACTAATTTCTTCACTTTGTA', 'TGTTCCCCATAATAAGAAGATATCGTGAGGCGCGTTAAAC', 'GAATTGTTGGTCTCGGGGAACAAGCTATTGAGCCTATGTT', 'CTATTTCATCAGGCATGAATTCCAGCACAACGGTGCCAAC', 'GCGATAGTACGAGATATTAAGCAACTTGGGCACGTTGGTG', 'TGGTCGAAATAAAGCATCTCATTATCGTAACTTAGGCGGG', 'TTTTTACGGGAAGCATGTAGACAGCCCACAACGCCCCCAC', 'TGTGACCACATACCCTCAAACTTGCATTCTAATTTCGGTT', 'GACACACGTGTGGACCTTGAATGTTAGCCATATTCGGTCT', 'CACAGGACCTCGGTCTCTCCAACGATACTATGTAACGACT', 'ATTTTATACTTATCGAGTATCATGTATCGGGCCCGAGCTA', 'AGCCCAATACAGCTGCAGAGTAGTAGAGGGCGCAGGTTGG', 'GTAAGACTATGCTTAGAGCTTTCTAACTAATACGATCTTC', 'AGCAGTATATCCGCATATATAGACTCGTCCTTAAACTACG', 'TGAATGTACACGCGATCTTCCAAGGACGTTGTAGCTGAAC', 'AGATGGCCCAAAAGGCTGATCACGGCTGTACAGTGTTATT', 'TGAGTTGTCTTCGGCGGGTTCAGTTATTGTATGAGGATTT', 'ACATAGGGATAATGAGCATGATAAAAGATGTCCTTGGGGG', 'GGACCACCACTGGCGGTTCTTGGGATCGCTTACCCACACC', 'CCCCATGCTTAGATGTTGCTCTTATGTCTATCCGTTCTGC', 'ATCTAGTAGATCCAAGCCTGCATGGAACGCTCGATCCACG', 'GTACTAGTTGCTACCCTTCAGACGTATGCGTGATAGTATA', 'TAGAACTTCTTCTTTTTCAACCACAACCCTGTTGCCTGAT', 'GTGATCGAGTCCTGAGTGGGAGACGGTTTACCTAGCCGAG', 'ATTACCCAAAACTTGCTGTCCTACCCTCATAATAGGGGAT', 'CATATGAAGTGACTCTCTTCGTTAAACTATCTGTTCTACA', 'ATAATAGAAGTGGTCCCGCAGAGGTCAATTTCTAAGGCAG', 'GTTGGCAACCACTGCCTTAACGCCGGGTAACACATCTGCC', 'TGACGACATGCGAAGTTGTCGGTGAGGGTCGTACGTGCGT', 'CTTACCTCTCTTGGCATTCAGCACCGCAGTTGTCGACGAT', 'CAAAGTTAGTCGGCCACGGTAGGATTAACCTGTCTAACAA', 'ATCCAACGGCAGAACCAGGATATAACGGATGAGTCATTTG', 'TACCTCTGACCAGGAATTAAAGGGAGTAATACACGAGCAA', 'AGTAACGAGGTCATCCACTGCCAAGGTGTTCACTCCGAAC', 'CGACCCACCGCATCGCAGATCTAAGTAGATCTAGTCTCTA', 'AATACACTCGCATAGTACACGGTCTGAGAGTCATTTCATT', 'GATTTTCATGGCGACGGGCCTTGTGGTACATTGGCTCCGT', 'TCGTTGTTGCTTCGGTACTAGATTATTTACCAACAGGACG', 'GGCGCCCATTATGGGAACCAACCTGGCATCAGGTCGCGAT', 'CGGACCCTATGGCCTACCTACGTCAGCTGGAACAAGGTGG', 'TGGCAGCGATAGCTGACACGCATTTGGCACTTGGTCGTTA', 'TCTAGGACCTAACCGCCATATTCTCGTCACGTCTAAGCTC', 'CATGCGGGACTACGACCCAATGGTCAGAGGGAAGCTGCCC', 'TCTTATGGCGGGTCGAATGGCGTTGGGTATACACGGCTTT', 'CTCAGGGGTGTAAGGCCCCCCCGTTCATGCTTCTTGATGA', 'ACCACTCCCTCCAGATATAGCTGCGCGTACGACCCAAGAT', 'GGATTAAACCACTTATTGACGCAGAGAGTGCGTATACATC', 'ACCACTTAAAGGGTGGGGAGCACCGTAACGTCTGACTACG', 'CCAGGGCTAAATGTAGGAGGGTCTGAACCAGCACAATCGG', 'ACAGGTGACGGGGCCCTTCCACATATCACTCCATGTCCGA', 'ACACGTGAGATTAATGAAGAAAGCACTTAAGGGGGCGCAC', 'ATACCGATCCCTCCTCAAAGCCACTCTGTGCGGCTACGGG', 'ACGGTAACCAACAAAGATTAGGGTTATCTAACGTCAAATT', 'GGCCTCCGTGGCCGAGTTACCTCAATGCTCGAGCTAGTGT', 'TCAGTCCAATCTTTTGGTAGACTCGTCACCCTGTTAGATT', 'ACGTCATTACCACTTAGTCTAAGATACCTGATTTATAGGA', 'TCTGAACTCCGGGGGGTGCCGCCGCGAGTGATAGGTAATA', 'GGATGTTTCAGTGGTGCGGAGCATACATATAGTCCAATCC', 'CCTCATAATCTAGCGTACTTAAGAAACATGGGTGCAATAT', 'TGATATGATTGAAACTATCGCCTCGTGCGCTGTGTTTCAT', 'TGGGACCACACCTGGTATCTGAGTCTGGGGATCGATTGTT', 'GGGCCGCTCTTCATGATGCCACACCGCGTGAGTTTACCAA', 'CTATAGCCCCCACACGAACAATTAAGAGTAACATGCTAGC', 'ACTTTGCTTGATCCAAGACTCCACGTACTATTGTGGCAGG', 'GCGACAGAATGTCGCTTGGATACACGGACCTACATACCAC', 'AACCTGAAGTATCCGCTTTCTGGCCTGCCTATCCTTGATA', 'ACGGTCCGATATCTAATTCTGCTCGACGCGAGTGCTTACG', 'TCGAGCCCCCCCCATGGGCTACACGTGGATCGAAAGCTGA', 'ATACCCCGTAGAGAGTTTCCAAGCGGTTGACGATTGAGCG', 'CGACCGGTGTACGATGTAGCACAAGCTTGCTGTGTAGAAA', 'ACTCAATCTATGTCACTCCTATCTAATCTTCCTGTGATGC', 'GAGGTGGATGGGATCAGCGCTGTAGTAAAGATCTATGAGG', 'TTGTTGTGACTGGGTCGCCCCTCTTCGGCGGGACTACAGA', 'GCGCCGTGTTAGTCTCTGACGATATTATAATTCAGACGTA', 'CGATCTCAGGATGGCTCGCAAACCAAGACAATGATCTACC', 'AACGTTGTAAATAGATCGGTAGTGCACCCGCCGACACACA', 'TTGCCCTCGGCGTAACAGCACCAGTATAGCATCGCTAAGT', 'TGACGTGAAACCCCCGACACAGAATCCCACCCGGGAGACC', 'CGTGCTGGCCATTTTGATCATCATACAAAAGGAGTTCCGG', 'AAACCAAGCGAGGGTCACGTAGCAAAGCTTTTGCGACAGG', 'TGAAAGAATCATCAGTCAAAAGTCCGACCTGCGAGGGTGT', 'TAGTTCTATTTGATTCTGTTGTATTTTTTGTAGCTCTTTT', 'CACTTTAGTACAGAGTGAGACTCCCACAGACGAGACAGCT', 'CACATCCCCGATGACTGTTCGGGCGTCCTCCTAAAAGCTC', 'CATGGGGTAGTTTGAGGGCTAGTTCCATAAAACACTGAGA', 'GGAATACCCAGTGGTACAGTAGCGCACTTACATAAAGTCG', 'GGCAGTCGTGATTGGGAGTCCCCGTCACCGAGCGACATGA', 'TCGGCGATCGGCCATCATCTCGCGCCACTCGCCTCCGTAA', 'CCTCCGTTTGAGATACAGCTGCGGAACAAGTAGCTGCTGA', 'TCCCAAAAGAAGAGCATCATTTCGTTACATAGCGCCGTGT', 'CAGATGTGAGACTGGACCTATTTCGGATTGCCTGCAAAAA', 'CATCTGTCTGCGCGCCTCCCCAAGTCGTAGAACTCAACAC', 'CTCTCCGGACACAGTCGACCAATCGTGAAACCTCTACTGC', 'TTTAGAGTCAGCACTGCTTAACCATGGGCATCTTTTCGGT', 'ACCGCCCATATTTTATCTAGTGCCGGATTCGCAAAACAGA', 'CAAAACTACCTGTAACATCTTAAAGGGGTGTGCGGTAACC', 'CCCGTTGCTCTTGGGACAGAGGCAGGTGTCGGCAGCGCAC', 'ATTGAAGGCGTAACATCGATCTTCGACCCGGCACATTTGC', 'ACTGACAATCGTAGAAGTCTTACGTCGCACGCAAAGCAGT', 'CTGTTAAATTCTTGGTAGGGTCTAGCCCCTATTTTATACG', 'CGTACGTCCGTAAGCCACACGTGTTCTCCTGGGTGAAACC', 'GTTCGGCAGATTCCACGATGTGGATCGATTCCTGTTTGGA', 'CAGGTGCTAATCTAAGACACGCAGGTAATCAAAGACTGGT', 'CACCGCCGCCGTCAGGCGCCGGTATAAGTTGCCCGTTGAC', 'CTGCCATACTTTTTTATTACTGAAGTTAAGCTCGCTCAGG', 'TCTTTAACGCGGCGGTGATGAGGATTTCCTCTCACGGGAA', 'CGTTCCAGACCTGCCATATCGTTGTTTCACGTTAGGTACA', 'CCGGCGCCTGGGGTACACTTCGAGCCAGCCGGAGCAGGCT', 'TGGGCGCTGACGGAAGGGACACCCCCTGATGTGACTGACT', 'CGAGAACAGAATTAGGTGCAAACGAGGGACCGTTGTGTGA', 'TAAGCGAGAATAACTTGGAGAGCTGCCCTCTTTGTTGAGC', 'GCAGGCGTACAGCTATAACGGCTGAAGCCTCCTTTGAACT', 'TGCAGCACACCCTGCAATTATCCCACGGAGCTATACTCGC', 'GCCGCTTCCAGTACCACATTAGCGCGTTCATAGGGAGACG', 'GTGGTGGCATATGCCATGGTCGAAAATGCGAGGGTCCCCT', 'GCGCTTTGAGCCCCAATGCACGCGGGTCACTAGGACCCTC', 'TGCTGTGGAAGCGCTTGATGGAACCGGCATTCCTGCCACC', 'CAGCGCGGTCAGTAACTGAGCTGCTAATCTCGTGTACCTA', 'CAACGGTCCCAGATAAAGGTTCGTGGTGTTGCTTGTGCTA', 'CCGCTTGGGGAGGTCAGTCCACCCCGACGGACCCTTACTA', 'AAACGGGGATATATGACTTCTATGGAATCATAAGCCCACG', 'CGTCACATTCTGACCTTATAGATCAATTTTACTCACCGGC', 'TGCGCGTCAGTGACTCGCGCATGTTCTCTCCAGTTCACAA', 'GGGTACGATGACTATGTGCCAACATTTCCGATACTCGAAG', 'GCTCCGGGTCAGCTACGGCCACGTGTCGTGTACTGCTGCT', 'AATGTACCGGAATACGTTCTTTCCAACCCATTGCCGATGT', 'ATCGAGCAGGTTTCTGGGGTCACATCACCAACCATCTACT', 'TATGAGACACATCATCTAAGGTCCCGTTATAGTACGCGGC', 'ATCATCCAACGTCAGTTGGTCTCCGATAAATCGGACTAAA', 'TTAGCCTATGCTGTAATAAGCAGAGGATGGTAACCCACGC', 'TGAGAGTCACTAGGACATAAGAATGAAGATGGGTGAGTGA', 'TAGGACGTTGGGAATTTGCCAGTTCAGACAAATATCACTA', 'AGGTACATCCGCAGATCTCTTGCCTCTGCCCTGATTCAAG', 'CAGTCCGTATCTCCCAATTTCCGGCCTAAAGGCCCCTGAT', 'CGGCTTCGGGGTGGCGTAAACCCTGCATCGTTAGGACCGA']\n"
          ]
        }
      ]
    }
  ]
}