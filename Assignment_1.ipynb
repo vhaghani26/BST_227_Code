{
  "nbformat": 4,
  "nbformat_minor": 0,
  "metadata": {
    "colab": {
      "name": "Assignment_1.ipynb",
      "provenance": [],
      "collapsed_sections": [],
      "include_colab_link": true
    },
    "kernelspec": {
      "name": "python3",
      "display_name": "Python 3"
    },
    "language_info": {
      "name": "python"
    }
  },
  "cells": [
    {
      "cell_type": "markdown",
      "metadata": {
        "id": "view-in-github",
        "colab_type": "text"
      },
      "source": [
        "<a href=\"https://colab.research.google.com/github/vhaghani26/BST_227_Code/blob/main/Assignment_1.ipynb\" target=\"_parent\"><img src=\"https://colab.research.google.com/assets/colab-badge.svg\" alt=\"Open In Colab\"/></a>"
      ]
    },
    {
      "cell_type": "markdown",
      "metadata": {
        "id": "VEB6Jbmxr9P7"
      },
      "source": [
        "# **The EM Algorithm for a more complex sequence model**\n",
        "## By: Mariele Lensink and Viktoria Haghani"
      ]
    },
    {
      "cell_type": "markdown",
      "metadata": {
        "id": "8zDlf51Mr6wp"
      },
      "source": [
        "First, we need to import the modules we plan to use to run the code."
      ]
    },
    {
      "cell_type": "code",
      "metadata": {
        "id": "6yrbLTPNtux7"
      },
      "source": [
        "import requests\n",
        "import pandas as pd\n",
        "import io\n",
        "import numpy as np\n",
        "from sklearn.preprocessing import OneHotEncoder\n",
        "from tqdm import tqdm\n",
        "import math"
      ],
      "execution_count": 1,
      "outputs": []
    },
    {
      "cell_type": "markdown",
      "metadata": {
        "id": "t4CTnzFwsnzw"
      },
      "source": [
        "# **EM Algorithm Code and Impelementation**"
      ]
    },
    {
      "cell_type": "markdown",
      "metadata": {
        "id": "fdktorRL4uEj"
      },
      "source": [
        "Write a function to download and one-hot encoded the sequence data"
      ]
    },
    {
      "cell_type": "code",
      "metadata": {
        "id": "Ka8lwgcXZ5XF"
      },
      "source": [
        "# Function written by Chenxi Liu (slight modifications made)\n",
        "\n",
        "def get_sequence(url, categories=['A', 'C', 'G', 'T']):\n",
        "  # Send a GET request to a specified URL, categories=['A', 'C', 'G', 'T']):\n",
        "  r = requests.get(url)\n",
        "  # Convert sequence data to data frame\n",
        "  df = pd.read_csv(io.StringIO(r.text), sep=\" \", header=None)\n",
        "  # Turn the first sequence into a 2D array where each index is an independent array with a single base pair\n",
        "  s1 = np.array(list(str(df.to_numpy()[0, :][0])), dtype=object).reshape(-1, 1)\n",
        "\n",
        "  # Determine how many sequences there are in the text file\n",
        "  num_seqs = len(df)\n",
        "  # Assume all input sequences are equal length\n",
        "  # Determine how long each sequence is\n",
        "  seq_len = len(list(df.iloc[0, :].values)[0])\n",
        "  # Start to make a one-hot encoded 3D matrix for the seqeunces\n",
        "  # Not one-hot encoded yet, just zeroes \n",
        "  data = np.zeros((num_seqs, seq_len, len(categories)))\n",
        "  # Make a matrix repersenting each category ['A', 'C', 'G', 'T']\n",
        "  bp_counts = np.zeros((1, len(categories)))\n",
        "\n",
        "  # Encode categorical feautures in a one-hot numeric array\n",
        "  # Assign categories to be used\n",
        "  ohe = OneHotEncoder(sparse=False, categories=[np.array(categories, dtype=object)])\n",
        "  # Apply OneHotEncoder to example sequence\n",
        "  ohe.fit(s1)\n",
        "  \n",
        "  # Apply OneHotEncoder to all sequences\n",
        "  for ii in tqdm(range(num_seqs)):\n",
        "    s = list(str(df.to_numpy()[ii, :][0]))\n",
        "    s_a = np.array(s).reshape(-1, 1)\n",
        "    data[ii, :, :] = ohe.transform(s_a)\n",
        "  \n",
        "  # Count the number of each base in the sequence data\n",
        "  for ii in range(len(categories)):\n",
        "    bp_counts[0,ii] = np.sum(data[:,:,ii])\n",
        "  \n",
        "  # Return the one-hot encoded matrix (data),\n",
        "  # the counts for each base pair (bp_counts),\n",
        "  # the number of sequences (N),\n",
        "  # and the length of each sequence (L)\n",
        "  return data, bp_counts                                                  "
      ],
      "execution_count": 2,
      "outputs": []
    },
    {
      "cell_type": "markdown",
      "metadata": {
        "id": "od2WQCQrDDyv"
      },
      "source": [
        "Write a modified version of the above function that returns a randomly split training and test data set"
      ]
    },
    {
      "cell_type": "code",
      "metadata": {
        "id": "RJGr38gKDNuE"
      },
      "source": [
        "# Function written by Chenxi Liu and Gerald Quon\n",
        "\n",
        "def get_sequence_traintest(url, categories=['A', 'C', 'G', 'T'], FRACTION_TRAINING=0.8):\n",
        "  # Send a GET request to a specified URL, categories=['A', 'C', 'G', 'T']):\n",
        "  r = requests.get(url)\n",
        "  # Convert sequence data to data frame\n",
        "  df = pd.read_csv(io.StringIO(r.text), sep=\" \", header=None)\n",
        "  # Turn the first sequence into a 2D array where each index is an independent array with a single base pair\n",
        "  s1 = np.array(list(str(df.to_numpy()[0, :][0])), dtype=object).reshape(-1, 1)\n",
        "\n",
        "  # Determine how many sequences there are in the text file\n",
        "  m = len(df)\n",
        "  # Assume all input sequences are equal length\n",
        "  # Determine how long each sequence is\n",
        "  sequence_len = len(list(df.iloc[0, :].values)[0])\n",
        "  # Start to make a one-hot encoded 3D matrix for the seqeunces\n",
        "  # Not one-hot encoded yet, just zeroes \n",
        "  data = np.zeros((m, sequence_len, len(categories)))\n",
        "  # Make a matrix repersenting each category ['A', 'C', 'G', 'T'] for the training set\n",
        "  bp_counts_train = np.zeros((1, len(categories)))\n",
        "  # Make a matrix repersenting each category ['A', 'C', 'G', 'T'] for the test set\n",
        "  bp_counts_test = np.zeros((1, len(categories)))\n",
        "\n",
        "  # Encode categorical feautures in a one-hot numeric array\n",
        "  # Assign categories to be used\n",
        "  ohe = OneHotEncoder(sparse=False, categories=[np.array(categories, dtype=object)])\n",
        "  # Apply OneHotEncoder to example sequence\n",
        "  ohe.fit(s1)\n",
        "\n",
        "  # Apply OneHotEncoder to all sequences\n",
        "  for ii in tqdm(range(m)):\n",
        "    s = list(str(df.to_numpy()[ii, :][0]))\n",
        "    s_a = np.array(s).reshape(-1, 1)\n",
        "    data[ii, :, :] = ohe.transform(s_a)\n",
        "\n",
        "  # Randomly permute rows of matrix\n",
        "  np.random.shuffle(data)\n",
        "\n",
        "  # Split data into training and text data\n",
        "  train_indices = np.arange(start=0,stop=round(FRACTION_TRAINING*data.shape[0]))\n",
        "  test_indices = np.arange(start=round(FRACTION_TRAINING*data.shape[0]), stop=data.shape[0])\n",
        "  \n",
        "  # Count the number of each base in the test and train sets\n",
        "  for ii in range(len(categories)):\n",
        "    bp_counts_train[0,ii] = np.sum(data[train_indices,:,ii])\n",
        "    bp_counts_test[0,ii] = np.sum(data[test_indices,:,ii])\n",
        "  \n",
        "  # Return the base pair counts for the test and train sets\n",
        "  return bp_counts_train, bp_counts_test"
      ],
      "execution_count": 3,
      "outputs": []
    },
    {
      "cell_type": "markdown",
      "metadata": {
        "id": "W9liLSAMwHEe"
      },
      "source": [
        "Set data file URL locations"
      ]
    },
    {
      "cell_type": "code",
      "metadata": {
        "id": "143x5QHNwKZg"
      },
      "source": [
        "# URL for at_gc_sequences.txt - this is a single sequence: ATTTAATATAAAATTTGGCCGCCATAAAAAAA\n",
        "at_gc_sequences_txt = 'https://ucdavis.box.com/shared/static/s8g6zx9vwxbbfdxdj2uqzhlvslc1jhsy.txt'\n",
        "# URL for sequence.padded.txt - the real binding site data\n",
        "sequence_padded_txt = 'https://ucdavis.box.com/shared/static/0cacx2xvn4ugxo9h21ci2ngesryigf43.txt'\n",
        "# URL for sequence.motiflocation.padded.txt - the location of the binding sites from sequence.padded.txt\n",
        "sequence_motiflocation_padded_txt = 'https://ucdavis.box.com/shared/static/gd0r12mdkhix86bo9ffbn3dy0fy0prmn.txt'"
      ],
      "execution_count": 4,
      "outputs": []
    },
    {
      "cell_type": "markdown",
      "metadata": {
        "id": "5H6PrulrH9ap"
      },
      "source": [
        "Load in the data"
      ]
    },
    {
      "cell_type": "code",
      "metadata": {
        "id": "uxoFtgmPH_Ev",
        "colab": {
          "base_uri": "https://localhost:8080/"
        },
        "outputId": "490135fc-7851-49a2-8f7c-67e1c5205e74"
      },
      "source": [
        "# Implement get_sequence()\n",
        "# The variable my_ohe_sequence_padded corresponds to the one-hot encoded matrices that represent the sequence data\n",
        "# The variable my_sequence_padded_bp_counts is the base pair counts for the input sequence data\n",
        "# The variable my_sequence_padded_num_seqs returns the number of sequences in the sequence file\n",
        "# sequence_padded_txt is the variable name containing the URL defined at the beginning\n",
        "my_ohe_sequence_padded, my_sequence_padded_bp_counts = get_sequence(sequence_padded_txt, categories=['A', 'C', 'G', 'T'])\n",
        "\n",
        "# Following similar notation above, we can implement get_sequence() for the at_gc_sequences_text data\n",
        "my_ohe_at_gc_sequences, my_at_gc_bp_counts = get_sequence(at_gc_sequences_txt, categories=['A', 'C', 'G', 'T'])\n",
        "\n",
        "# Now randomly split the sequence_padded_txt into a training vs test set\n",
        "sequence_padded_train_bp_counts, sequence_padded_test_bp_counts = get_sequence_traintest(sequence_padded_txt, categories=['A', 'C', 'G', 'T'])\n",
        "\n",
        "# Get the locations of the motifs for the sequence.padded.txt file\n",
        "sequence_padded_motifs = pd.read_csv(io.StringIO(requests.get(sequence_motiflocation_padded_txt).text), sep=\",\", header=None).to_numpy()"
      ],
      "execution_count": 5,
      "outputs": [
        {
          "output_type": "stream",
          "name": "stderr",
          "text": [
            "100%|██████████| 357/357 [00:00<00:00, 3305.58it/s]\n",
            "100%|██████████| 1/1 [00:00<00:00, 1118.18it/s]\n",
            "100%|██████████| 357/357 [00:00<00:00, 3240.41it/s]\n"
          ]
        }
      ]
    },
    {
      "cell_type": "markdown",
      "metadata": {
        "id": "K12xuvJwvbMi"
      },
      "source": [
        "Assign EM run variables"
      ]
    },
    {
      "cell_type": "code",
      "metadata": {
        "id": "3OBpGUmTvdri"
      },
      "source": [
        "# Length of the motif\n",
        "motif_length = 18\n",
        "\n",
        "# Sequence data used\n",
        "seq_data = my_ohe_sequence_padded\n",
        "\n",
        "# Set the number of sequences\n",
        "num_seqs = len(seq_data)\n",
        "\n",
        "# Set the length of the sequences\n",
        "seq_len = len(seq_data[0])\n",
        "\n",
        "# Set the number of EM iterations\n",
        "num_iterations = 20"
      ],
      "execution_count": 6,
      "outputs": []
    },
    {
      "cell_type": "markdown",
      "metadata": {
        "id": "nbAXV5YlM9p0"
      },
      "source": [
        "Write functions that will initialize our parameters"
      ]
    },
    {
      "cell_type": "code",
      "metadata": {
        "id": "p0uB6d0_M_b-"
      },
      "source": [
        "# Make a function to randomly generate L - P + 1 lambdas that sum to 1\n",
        "def initialize_lambda(sequence_length, motif_length):\n",
        "  # Make an empty list to represent our parameter lambda_j\n",
        "  lambda_j = []\n",
        "  # Given our sequence length and motif length, determine how many lambdas we need\n",
        "  lambdas = sequence_length - motif_length + 1\n",
        "  # Fill up our empty matrix with the right number of lambdas using random probabilities\n",
        "  for i in range(lambdas):\n",
        "    lambda_j.append(np.random.random_sample())\n",
        "  # Normalize probabilities by dividing each one by the sum\n",
        "  # Need to set sum_lambdas on the outside of the for loop so it isn't recalculated every time\n",
        "  sum_lambdas = sum(lambda_j)\n",
        "  for i, lmbda in zip(range(lambdas), lambda_j):\n",
        "    lambda_j[i] = (lmbda/sum_lambdas)\n",
        "  # Return our lambda_j parameter\n",
        "  return lambda_j"
      ],
      "execution_count": 7,
      "outputs": []
    },
    {
      "cell_type": "code",
      "metadata": {
        "id": "M-wAaxEgsUYD"
      },
      "source": [
        "# Make a function to randomly generate psi\n",
        "# Psi is a 2D matrix: 4 x P (P = motif-length) \n",
        "# Each set of 4 corresponds to ['A', 'C', 'G', 'T']\n",
        "def initialize_psi(motif_length):\n",
        "  # Make a 4 x P matrix of zeroes\n",
        "  psi = np.zeros((motif_length, 4), dtype = float)\n",
        "  # For each sub-matrix of 4, generate probabilities that sum to 1\n",
        "  for ind_i, i in zip(range(motif_length), psi):\n",
        "    psi[ind_i] = (np.random.dirichlet(np.ones(4),size=1))\n",
        "  # Return our psi parameter\n",
        "  return psi"
      ],
      "execution_count": 8,
      "outputs": []
    },
    {
      "cell_type": "code",
      "metadata": {
        "id": "5vrifajwsUoK"
      },
      "source": [
        "# Store all initialized parameters in a dictionary called 'params' (params = theta)\n",
        "def initialize_random_params(sequence_length, motif_length):\n",
        "    params = {'lambda_j': initialize_lambda(sequence_length, motif_length),\n",
        "              'psi0': initialize_psi(motif_length),\n",
        "              'psi1': initialize_psi(motif_length)\n",
        "              }\n",
        "    return params"
      ],
      "execution_count": 9,
      "outputs": []
    },
    {
      "cell_type": "markdown",
      "metadata": {
        "id": "rWTR8KVf1vxP"
      },
      "source": [
        "Initiate parameters to use for troubleshooting the E-step and M-step"
      ]
    },
    {
      "cell_type": "code",
      "metadata": {
        "id": "bs9Ry8Kx10K8"
      },
      "source": [
        "params = initialize_random_params(seq_len, motif_length)"
      ],
      "execution_count": 10,
      "outputs": []
    },
    {
      "cell_type": "markdown",
      "metadata": {
        "id": "fC-Qv1XpvDeI"
      },
      "source": [
        "Write a function to calculate the posterior for the **E-step**"
      ]
    },
    {
      "cell_type": "code",
      "metadata": {
        "id": "dQxY3F0qvG_O"
      },
      "source": [
        "def E_step(params,ohe_matrix,sequence_length,motif_length):\n",
        "  posts = np.zeros((len(ohe_matrix),(sequence_length - motif_length + 1)))\n",
        " #loop through every seqence in file \n",
        "  for i in range(len(ohe_matrix)):\n",
        "    #loop through \n",
        "    for j in range(sequence_length - motif_length + 1):\n",
        "     #initialize C_ij \n",
        "      C_ij = np.log(params['lambda_j'][j])\n",
        "      #compute P(X_ij|Cij = 1)\n",
        "      for p in range(motif_length):\n",
        "        for k in range(4):\n",
        "          if ohe_matrix[i][j+p][k] != 0:\n",
        "            C_ij = C_ij + np.log(ohe_matrix[i][j+p][k]*params['psi1'][p][k])\n",
        "            posts[i][j] = C_ij\n",
        "      for jprime in range(sequence_length - motif_length + 1):\n",
        "        if jprime == j:\n",
        "          continue \n",
        "        for p in range(motif_length):\n",
        "          for k in range(4):\n",
        "            if ohe_matrix[i][j+p][k] != 0:\n",
        "              C_ij = C_ij + np.log(ohe_matrix[i][j+p][k]*params['psi0'][p][k])\n",
        "              posts[i][j] = C_ij\n",
        "  posts1 = np.zeros((len(posts),len(posts[0])))\n",
        "  for i in range(len(posts)):\n",
        "    rowmin = posts[i].min()\n",
        "    for j in range(len(posts[0])):\n",
        "      posts1[i][j] = math.exp(posts[i][j] - rowmin)\n",
        "      #posts1[i][j] = exp(posts1[i][j])\n",
        "    rowsum = posts1[i].sum()\n",
        "    for j in range(len(posts1[i])):\n",
        "      posts1[i][j] = posts1[i][j]/rowsum\n",
        "  # Return posterior matrix\n",
        "  return posts1"
      ],
      "execution_count": 11,
      "outputs": []
    },
    {
      "cell_type": "markdown",
      "metadata": {
        "id": "S05xOBVOvHvh"
      },
      "source": [
        "Write a function to do the calculations for the **M-step**\n"
      ]
    },
    {
      "cell_type": "markdown",
      "metadata": {
        "id": "C8xF_OTs58bA"
      },
      "source": [
        "We will start with making a practice posterior of random probabilities. This allows us to troubleshoot the M-step independent of the E-step. It does not get used in the EM algorithm implementation, but it's here for debugging purposes."
      ]
    },
    {
      "cell_type": "code",
      "metadata": {
        "id": "GGa58p1LvRHp"
      },
      "source": [
        "def M_step(onehot_matrix, posterior, motif_length): \n",
        "  # Make dictionary to store new parameters\n",
        "  new_params = {}\n",
        "\n",
        "  # Calculate new lambda_j\n",
        "  # Add every column of the posterior\n",
        "  column_sums = np.array(posterior).sum(axis = 0)\n",
        "  # Divide by the total number of sequences\n",
        "  new_lambda_j = (column_sums/(len(posterior))).tolist()\n",
        "  # Confirm that the sum of our new_lambda_j is 1\n",
        "  #print(f'The sum of our new lambda_j is: {sum(new_lambda_j)}')\n",
        "  # Add new_lambda_j to new_params\n",
        "  new_params[\"lambda_j\"] = new_lambda_j\n",
        "\n",
        "  # Calculate new psi1\n",
        "  # Determine how many j positions we have in our input matrix\n",
        "  num_js = len(onehot_matrix[0]) - motif_length + 1\n",
        "  # Determine matrix dimensions and save our window sequences\n",
        "  X_ijmks = []\n",
        "  for i, ind_i in zip(onehot_matrix, range(len(onehot_matrix))):\n",
        "    # Iterate through the indeces for our lambda parameter\n",
        "    for ind_j in range(num_js):\n",
        "        # i[ind_j:ind_j+motif_length] is the base pair identities of the One-Hot encoded matrix within the window starting at j\n",
        "        X_ijmk = (i[ind_j:ind_j+motif_length]).tolist()\n",
        "        # Save each X_ijmk to the X_ijmks list for ease of access\n",
        "        X_ijmks.append(X_ijmk)\n",
        "  # Manipulate the posterior so it maches the X_ijmks list\n",
        "  manipulated_posterior = []\n",
        "  for i in posterior:\n",
        "    for j in i:\n",
        "      manipulated_posterior.append(j)\n",
        "  # Make an empty list numerators, that will contain all the X_ijmks multiplied by C_ij    \n",
        "  numerators = []\n",
        "  for ind_post, X_ijmk in zip(range(len(manipulated_posterior)), X_ijmks):\n",
        "    # Turn X_ijmk into an array\n",
        "    X_ijmk_array = np.array(X_ijmk)\n",
        "    # Multiply X_ijmk by the posterior (C_ij)\n",
        "    numerator = X_ijmk_array * manipulated_posterior[ind_post]\n",
        "    # Add the multiplied window sequences to the list \"numerators\"\n",
        "    numerators.append(numerator)\n",
        "  numerator_before_normalization = np.array(numerators).sum(axis = 0)\n",
        "  new_psi1 = np.divide(numerator_before_normalization, len(onehot_matrix))\n",
        "  # Verify that new_psi1 rows sum to 1\n",
        "  #print('The sums of each row in our new psi1 are:')\n",
        "  #for i in range(len(new_psi1)):\n",
        "     #print(sum(new_psi1[i]))\n",
        "  # Add new_psi1 to new_params\n",
        "  new_params[\"psi1\"] = new_psi1.tolist()\n",
        "\n",
        "  # Calculate new psi0\n",
        "  # Determine how many j positions we have in our input matrix\n",
        "  num_js = len(onehot_matrix[0]) - motif_length + 1\n",
        "  # Determine matrix dimensions and save our window sequences\n",
        "  X_ijmks = []\n",
        "  for i, ind_i in zip(onehot_matrix, range(len(onehot_matrix))):\n",
        "    # Iterate through the indeces for our lambda parameter\n",
        "    for ind_j in range(num_js):\n",
        "        # i[ind_j:ind_j+motif_length] is the base pair identities of the One-Hot encoded matrix within the window starting at j\n",
        "        X_ijmk = (i[ind_j:ind_j+motif_length]).tolist()\n",
        "        # Save each X_ijmk to the X_ijmks list for ease of access\n",
        "        X_ijmks.append(X_ijmk)\n",
        "  # Manipulate the posterior so it maches the X_ijmks list\n",
        "  manipulated_posterior = []\n",
        "  for i in posterior:\n",
        "    for j in i:\n",
        "      manipulated_posterior.append(j)\n",
        "  # Make an empty list numerators, that will contain all the X_ijmks multiplied by C_ij    \n",
        "  numerators = []\n",
        "  for ind_post, X_ijmk in zip(range(len(manipulated_posterior)), X_ijmks):\n",
        "    # Turn X_ijmk into an array\n",
        "    X_ijmk_array = np.array(X_ijmk)\n",
        "    # Multiply X_ijmk by 1 minus the posterior (C_ij)\n",
        "    numerator = X_ijmk_array * (1 - manipulated_posterior[ind_post])\n",
        "    # Add the multiplied window sequences to the list \"numerators\"\n",
        "    numerators.append(numerator)\n",
        "  numerator_before_normalization = np.array(numerators).sum(axis = 0)\n",
        "  new_psi0 = np.divide(numerator_before_normalization, (len(onehot_matrix)*(len(onehot_matrix[0]) - motif_length + 1 - 1)))\n",
        "  # Verify that new_psi0 rows sum to 1\n",
        "  #print('The sums of each row in our new psi0 are:')\n",
        "  #for i in range(len(new_psi0)):\n",
        "     #print(sum(new_psi0[i]))\n",
        "  # Add new_psi1 to new_params\n",
        "  new_params[\"psi0\"] = new_psi0.tolist()\n",
        "  \n",
        "  # Save our new parameters as the output for the function\n",
        "  return new_params"
      ],
      "execution_count": 20,
      "outputs": []
    },
    {
      "cell_type": "markdown",
      "metadata": {
        "id": "s4G4z6HyvUM1"
      },
      "source": [
        "Write a function to compute the **log likelihood**"
      ]
    },
    {
      "cell_type": "code",
      "metadata": {
        "id": "dHLSgbKV1HuR"
      },
      "source": [
        "def loglikelihood(onehot_matrix, params, posteriors, motif_length):\n",
        "  # Calculation for lambda_j term\n",
        "  # Make an empty list that holds the lambda_j multiplied by each row of the posterior\n",
        "  lambda_j_terms = []\n",
        "  for posterior in posteriors:\n",
        "    # Muliply each posterior row by lambda_j\n",
        "    one_lambda_j_term = (posterior * np.log(params['lambda_j'])).tolist()\n",
        "    # Add each row's product to the list\n",
        "    lambda_j_terms.append(one_lambda_j_term)\n",
        "  # Make another empty list to hold the sums for each row (2D > 1D matrix)\n",
        "  all_sums = []\n",
        "  for term in lambda_j_terms:\n",
        "    # Sum each row\n",
        "    one_sum = sum(term)\n",
        "    # Add each row sum to the list\n",
        "    all_sums.append(one_sum)\n",
        "  # Sum all the individual row sums for our lambda_j_term\n",
        "  lambda_j_term = sum(all_sums)\n",
        "\n",
        "  # Calculation for psi terms\n",
        "  # Determine how many j positions we have in our input matrix\n",
        "  num_js = len(onehot_matrix[0]) - motif_length + 1\n",
        "  # Determine matrix dimensions and save our window sequences\n",
        "  X_ijmks = []\n",
        "  for i, ind_i in zip(onehot_matrix, range(len(onehot_matrix))):\n",
        "    # Iterate through the indeces for our lambda parameter\n",
        "    for ind_j in range(num_js):\n",
        "        # i[ind_j:ind_j+motif_length] is the base pair identities of the One-Hot encoded matrix within the window starting at j\n",
        "        X_ijmk = (i[ind_j:ind_j+motif_length]).tolist()\n",
        "        # Save each X_ijmk to the X_ijmks list for ease of access\n",
        "        X_ijmks.append(X_ijmk)\n",
        "  # Manipulate the posterior so it maches the X_ijmks list\n",
        "  manipulated_posterior = []\n",
        "  for i in posteriors:\n",
        "    for j in i:\n",
        "      manipulated_posterior.append(j)\n",
        "  psi0_sums = []\n",
        "  psi1_sums = []\n",
        "  for ind_post, X_ijmk in zip(range(len(manipulated_posterior)), X_ijmks):\n",
        "    # Turn X_ijmk into an array\n",
        "    X_ijmk_array = np.array(X_ijmk)\n",
        "    one_psi0_sum = X_ijmk_array * ((1 - manipulated_posterior[ind_post])*np.log(params['psi0']))\n",
        "    one_psi1_sum = X_ijmk_array * (manipulated_posterior[ind_post]*np.log(params['psi1']))\n",
        "    psi0_sums.append(one_psi0_sum)\n",
        "    psi1_sums.append(one_psi1_sum)\n",
        "  psi0_sums_aray = np.array(psi0_sums)\n",
        "  psi1_sums_aray = np.array(psi1_sums)\n",
        "  psi0_term = psi0_sums_aray.sum()\n",
        "  psi1_term = psi1_sums_aray.sum()\n",
        "\n",
        "  # Calculation for entropy term\n",
        "  entropy_term = (posteriors * np.log(posteriors)).sum()\n",
        "\n",
        "  # Calculate and return log likelihood\n",
        "  llh = (lambda_j_term + psi1_term + psi0_term) - entropy_term\n",
        "  return llh"
      ],
      "execution_count": 13,
      "outputs": []
    },
    {
      "cell_type": "markdown",
      "metadata": {
        "id": "zzlbCRTbFXVQ"
      },
      "source": [
        "Run the EM algorithm"
      ]
    },
    {
      "cell_type": "markdown",
      "metadata": {
        "id": "RbdDUvC9K7Ou"
      },
      "source": [
        "Here, the EM algorithm is presented as a function."
      ]
    },
    {
      "cell_type": "code",
      "metadata": {
        "id": "HhO9GqWsCSB4"
      },
      "source": [
        "def run_em(initial_params, num_iterations, seq_data, motif_length):\n",
        "  # Determine sequence length\n",
        "  seq_len = len(seq_data[0])\n",
        "  # Create an empty list that will contain the log likelihoods for plotting later\n",
        "  loglikelihoods = []\n",
        "  # Create an empty list to store each parameter set per iteration\n",
        "  params_list = []\n",
        "  for i in range(1, num_iterations+1):\n",
        "    # Keep track of iteration number\n",
        "    print(f'Iteration #{i}')\n",
        "    if i == 1:\n",
        "      # Should use randomly initialized parameters\n",
        "      params = initial_params\n",
        "    else:\n",
        "      # Use parameters from the last EM implementation\n",
        "      params = new_params\n",
        "    # Run E-step to calculate posteriors\n",
        "    my_posterior = E_step(params, seq_data, seq_len, motif_length)\n",
        "    # Calculate log likelihood \n",
        "    llh = loglikelihood(seq_data, params, my_posterior, motif_length)\n",
        "    # Add log likelihood to the loglikelihoods list \n",
        "    loglikelihoods.append(llh)\n",
        "    # View log likelihood after each iteration(we should see convergence)\n",
        "    print(llh)\n",
        "    # Run M-step to further optimize parameters using new posterior from E-step\n",
        "    new_params = M_step(seq_data, my_posterior, motif_length)\n",
        "    # Return list of log likelihoods \n",
        "    params_list.append(new_params)\n",
        "  return loglikelihoods, params_list"
      ],
      "execution_count": 14,
      "outputs": []
    },
    {
      "cell_type": "markdown",
      "metadata": {
        "id": "j4WjUXuyLBbg"
      },
      "source": [
        "Here, the EM algorithm is presented as code, but not a function."
      ]
    },
    {
      "cell_type": "code",
      "metadata": {
        "id": "1af_j4kiOZti"
      },
      "source": [
        "# For use in questions\n",
        "'''\n",
        "# Create an empty list that will contain the log likelihoods for plotting later\n",
        "loglikelihoods = []\n",
        "# Create an empty list to store each parameter set per iteration\n",
        "params_list = []\n",
        "\n",
        "# Run EM\n",
        "for i in range(1, num_iterations+1):\n",
        "  # Keep track of iteration number\n",
        "  print(f'Iteration #{i}')\n",
        "  if i == 1:\n",
        "    # Randomly initialize parameters for the first iteration\n",
        "    params = initialize_random_params(seq_len, motif_length)\n",
        "  else:\n",
        "    # Use parameters from the last EM implementation\n",
        "    params = new_params\n",
        "  # Run E-step to calculate posteriors\n",
        "  my_posterior = E_step(params, seq_data, seq_len, motif_length)\n",
        "  # Calculate log likelihood \n",
        "  llh = loglikelihood(seq_data, params, my_posterior, motif_length)\n",
        "  # Add log likelihood to the loglikelihoods list \n",
        "  loglikelihoods.append(llh)\n",
        "  # View log likelihood after each iteration(we should see convergence)\n",
        "  print(llh)\n",
        "  # Run M-step to further optimize parameters using new posterior from E-step\n",
        "  new_params = M_step(seq_data, my_posterior, motif_length)\n",
        "  params_list.append(new_params)\n",
        "  '''"
      ],
      "execution_count": null,
      "outputs": []
    },
    {
      "cell_type": "markdown",
      "metadata": {
        "id": "9I1WRWsu6_V3"
      },
      "source": [
        "# **Run Experiments on EM Algorithm Model**"
      ]
    },
    {
      "cell_type": "markdown",
      "metadata": {
        "id": "6XNRby2I804q"
      },
      "source": [
        "Here, we will answer the questions to Assignment 1 Part 3 regarding our updated EM algorithm model."
      ]
    },
    {
      "cell_type": "markdown",
      "metadata": {
        "id": "QATNfYSQ7uJS"
      },
      "source": [
        "## 1. Plot the log likelihood as a function of EM iteration, for 20 iterations, for 5 different random initializations of the model parameter. Does the log likelihood monotonically increase every iteration of every initialization?"
      ]
    },
    {
      "cell_type": "markdown",
      "metadata": {
        "id": "6bsGW5aMGx8W"
      },
      "source": [
        "Assign variables for Question 1"
      ]
    },
    {
      "cell_type": "code",
      "metadata": {
        "id": "hdALivXoG0Q6"
      },
      "source": [
        "# Set the number of EM iterations\n",
        "num_iterations = 20\n",
        "\n",
        "# Sequence data used\n",
        "seq_data = my_ohe_sequence_padded\n",
        "\n",
        "# Length of the motif\n",
        "motif_length = 18"
      ],
      "execution_count": 17,
      "outputs": []
    },
    {
      "cell_type": "markdown",
      "metadata": {
        "id": "jszKZogYGoI5"
      },
      "source": [
        "Run our EM using five different parameter initializations"
      ]
    },
    {
      "cell_type": "code",
      "metadata": {
        "id": "BGw8UtYbDwRm"
      },
      "source": [
        "np.random.seed(1)\n",
        "initial_params_1 = initialize_random_params(seq_len, motif_length)\n",
        "np.random.seed(2)\n",
        "initial_params_2 = initialize_random_params(seq_len, motif_length)\n",
        "np.random.seed(3)\n",
        "initial_params_3 = initialize_random_params(seq_len, motif_length)\n",
        "np.random.seed(4)\n",
        "initial_params_4 = initialize_random_params(seq_len, motif_length)\n",
        "np.random.seed(5)\n",
        "initial_params_5 = initialize_random_params(seq_len, motif_length)\n",
        "\n",
        "\n",
        "# Create lists that will contain the log likelihoods for plotting\n",
        "rand_init_1, params_list_1 = run_em(initial_params_1, num_iterations, seq_data, motif_length)\n",
        "rand_init_2, params_list_2 = run_em(initial_params_2, num_iterations, seq_data, motif_length)\n",
        "rand_init_3, params_list_3 = run_em(initial_params_3, num_iterations, seq_data, motif_length)\n",
        "rand_init_4, params_list_4 = run_em(initial_params_4, num_iterations, seq_data, motif_length)\n",
        "rand_init_5, params_list_5 = run_em(initial_params_5, num_iterations, seq_data, motif_length)\n"
      ],
      "execution_count": null,
      "outputs": []
    },
    {
      "cell_type": "markdown",
      "metadata": {
        "id": "JGy4MFULRUtv"
      },
      "source": [
        "Make the graph of the log likelihood after each iteration."
      ]
    },
    {
      "cell_type": "code",
      "metadata": {
        "id": "FxlLrJufRYTI",
        "colab": {
          "base_uri": "https://localhost:8080/",
          "height": 295
        },
        "outputId": "b36a2596-8752-4169-cec4-04ca4d1eeaff"
      },
      "source": [
        "import matplotlib.pyplot as plt\n",
        "\n",
        "# Set number of iterations\n",
        "iterations = 20\n",
        "\n",
        "# Create list containing iteration number (for x-axis labels)\n",
        "num_iterations = []\n",
        "# Use range (1, iterations+1) since Python uses 0-based indexing\n",
        "for i in range(1, iterations+1):\n",
        "  num_iterations.append(i)\n",
        "\n",
        "# Make a plot where the x-axis is the number of iterations\n",
        "# and the y-axis contains the log likelihoods\n",
        "plt.plot(num_iterations, rand_init_1, label = \"rand_init_1\")\n",
        "plt.plot(num_iterations, rand_init_2, label = \"rand_init_2\")\n",
        "plt.plot(num_iterations, rand_init_3, label = \"rand_init_3\")\n",
        "plt.plot(num_iterations, rand_init_4, label = \"rand_init_4\")\n",
        "plt.plot(num_iterations, rand_init_5, label = \"rand_init_5\")\n",
        "\n",
        "# Assign axis titles, plot titles, and legend\n",
        "plt.title('Log Likelihood as a Function of EM Iteration')\n",
        "plt.xlabel('Number of EM Iterations')\n",
        "plt.ylabel('Log Likelihood')\n",
        "plt.legend(loc='center left', bbox_to_anchor=(1, 0.5))\n",
        "\n",
        "# Generate plot\n",
        "plt.show()"
      ],
      "execution_count": 22,
      "outputs": [
        {
          "output_type": "display_data",
          "data": {
            "image/png": "[encoded data removed]",
            "text/plain": [
              "<Figure size 432x288 with 1 Axes>"
            ]
          },
          "metadata": {
            "needs_background": "light"
          }
        }
      ]
    },
    {
      "cell_type": "markdown",
      "metadata": {
        "id": "xXIQCUDfnKYN"
      },
      "source": [
        "As we see above, the log likelihoods monotinically increase as expected and converge."
      ]
    },
    {
      "cell_type": "markdown",
      "metadata": {
        "id": "WO67ygHC76X4"
      },
      "source": [
        "## 2. Draw a sequence logo visualization of the foreground motif your model learns, $\\psi^{l}_{m, k}$. You could try LogoMaker, a Python library (https://logomaker.readthedocs.io/en/latest/). Alternatively, there are a number of web servers for doing this; you could draw samples from your foreground model, and input those drawn sequences into e.g. the WebLogo server (https://weblogo.berkeley.edu)."
      ]
    },
    {
      "cell_type": "code",
      "metadata": {
        "id": "8ixQ4jArrD5G"
      },
      "source": [
        "# Set the number of EM iterations\n",
        "num_iterations = 20\n",
        "\n",
        "# Sequence data used\n",
        "seq_data = my_ohe_sequence_padded\n",
        "\n",
        "# Length of the motif\n",
        "motif_length = 18"
      ],
      "execution_count": 24,
      "outputs": []
    },
    {
      "cell_type": "code",
      "metadata": {
        "id": "zV2KSxv0rCbz"
      },
      "source": [
        "# Run EM to get data\n",
        "params = initialize_random_params(seq_len, motif_length)\n",
        "my_em_data, my_params_list = run_em(params, num_iterations, seq_data, motif_length)"
      ],
      "execution_count": null,
      "outputs": []
    },
    {
      "cell_type": "code",
      "metadata": {
        "id": "_MXx8z87KCTX"
      },
      "source": [
        "pip install logomaker"
      ],
      "execution_count": null,
      "outputs": []
    },
    {
      "cell_type": "code",
      "metadata": {
        "id": "sU_x1Agb8ySl",
        "colab": {
          "base_uri": "https://localhost:8080/",
          "height": 188
        },
        "outputId": "64a1381b-79a2-471a-e38e-1dda922b94c5"
      },
      "source": [
        "import logomaker\n",
        "import pandas as pd\n",
        "\n",
        "#def make_logo:\n",
        "motif_table = pd.DataFrame(my_params_list[-1]['psi1'],columns=['A', 'C', 'G', 'T'])\n",
        "motif_logo = logomaker.Logo(motif_table,\n",
        "                          shade_below=.5,\n",
        "                          fade_below=.5,\n",
        "                          )\n"
      ],
      "execution_count": 28,
      "outputs": [
        {
          "output_type": "display_data",
          "data": {
            "image/png": "[encoded data removed]",
            "text/plain": [
              "<Figure size 720x180 with 1 Axes>"
            ]
          },
          "metadata": {
            "needs_background": "light"
          }
        }
      ]
    },
    {
      "cell_type": "markdown",
      "metadata": {
        "id": "dpV2tMRA9I2k"
      },
      "source": [
        "## 3. Now run your model using model random initializations. How do the model parameters $\\psi^{l}_{m, k}$ compare across runs? What about their log likelihoods?"
      ]
    },
    {
      "cell_type": "markdown",
      "metadata": {
        "id": "pnYXSCbDJl8o"
      },
      "source": [
        "Assign variables for Q3"
      ]
    },
    {
      "cell_type": "code",
      "metadata": {
        "id": "t5uJeC0oJn4q"
      },
      "source": [
        "# Set the number of EM iterations\n",
        "num_iterations = 20\n",
        "\n",
        "# Sequence data used\n",
        "seq_data = my_ohe_sequence_padded\n",
        "\n",
        "# Length of the motif\n",
        "motif_length = 18"
      ],
      "execution_count": 29,
      "outputs": []
    },
    {
      "cell_type": "markdown",
      "metadata": {
        "id": "s0nsZzR7JVad"
      },
      "source": [
        "Run EM using random model parameter initializations every time"
      ]
    },
    {
      "cell_type": "code",
      "metadata": {
        "id": "TPxQA-BW9RBd"
      },
      "source": [
        "# Create an empty list that will contain the log likelihoods for plotting later\n",
        "loglikelihoods = []\n",
        "# Create an empty list to store each parameter set per iteration\n",
        "params_list = []\n",
        "\n",
        "# Run EM\n",
        "for i in range(1, num_iterations+1):\n",
        "  # Keep track of iteration number\n",
        "  print(f'Iteration #{i}')\n",
        "  # Randomly initialize parameters for the every iteration\n",
        "  params = initialize_random_params(seq_len, motif_length)\n",
        "  # Run E-step to calculate posteriors\n",
        "  my_posterior = E_step(params, seq_data, seq_len, motif_length)\n",
        "  # Calculate log likelihood \n",
        "  llh = loglikelihood(seq_data, params, my_posterior, motif_length)\n",
        "  # Add log likelihood to the loglikelihoods list \n",
        "  loglikelihoods.append(llh)\n",
        "  # View log likelihood after each iteration(we should see convergence)\n",
        "  print(llh)\n",
        "  # Run M-step to further optimize parameters using new posterior from E-step\n",
        "  new_params = M_step(seq_data, my_posterior, motif_length)\n",
        "  params_list.append(new_params)"
      ],
      "execution_count": null,
      "outputs": []
    },
    {
      "cell_type": "code",
      "metadata": {
        "colab": {
          "base_uri": "https://localhost:8080/",
          "height": 310
        },
        "id": "uPfCzDeyJTnm",
        "outputId": "1a375d37-378a-4c3b-97d4-b62a8eddf5a4"
      },
      "source": [
        "import matplotlib.pyplot as plt\n",
        "\n",
        "# Set number of iterations\n",
        "iterations = 20\n",
        "\n",
        "# Create list containing iteration number (for x-axis labels)\n",
        "num_iterations = []\n",
        "# Use range (1, iterations+1) since Python uses 0-based indexing\n",
        "for i in range(1, iterations+1):\n",
        "  num_iterations.append(i)\n",
        "\n",
        "# Make a plot where the x-axis is the number of iterations\n",
        "# and the y-axis contains the log likelihoods\n",
        "plt.plot(num_iterations, loglikelihoods, label = \"Random_Params\")\n",
        "\n",
        "# Assign axis titles, plot titles, and legend\n",
        "plt.title('Log Likelihood as a Function of EM Iteration\\n Random Model Parameters Every Iteration')\n",
        "plt.xlabel('Number of EM Iterations')\n",
        "plt.ylabel('Log Likelihood')\n",
        "plt.legend(loc='center left', bbox_to_anchor=(1, 0.5))\n",
        "\n",
        "# Generate plot\n",
        "plt.show()"
      ],
      "execution_count": 31,
      "outputs": [
        {
          "output_type": "display_data",
          "data": {
            "image/png": "[encoded data removed]",
            "text/plain": [
              "<Figure size 432x288 with 1 Axes>"
            ]
          },
          "metadata": {
            "needs_background": "light"
          }
        }
      ]
    },
    {
      "cell_type": "markdown",
      "metadata": {
        "id": "OPm3n-KhL0cV"
      },
      "source": [
        "As we can see by the graph above, the random parameter initializations at every step negates the optimization and thus does not result in convergence."
      ]
    },
    {
      "cell_type": "code",
      "metadata": {
        "id": "kvKTWX4TMnIj",
        "colab": {
          "base_uri": "https://localhost:8080/"
        },
        "outputId": "f1e142c8-e0c9-4358-99f9-31af8183a3b0"
      },
      "source": [
        "for ind_i in range(len(params_list)):\n",
        "  print(f'The psi1 for iteration #{ind_i+1} is:')\n",
        "  print(params_list[ind_i]['psi1'])\n",
        "\n",
        "print()\n",
        "\n",
        "for ind_i in range(len(params_list)):\n",
        "  print(f'The psi0 for iteration #{ind_i+1} is:')\n",
        "  print(params_list[ind_i]['psi0'])"
      ],
      "execution_count": 32,
      "outputs": [
        {
          "output_type": "stream",
          "name": "stdout",
          "text": [
            "The psi1 for iteration #1 is:\n",
            "[[0.146404185654883, 0.29101317204352684, 0.4172588834088168, 0.1453237588927732], [0.3626797407797433, 0.11733168047339025, 0.37504299924263795, 0.14494557950422843], [0.11302364948816863, 0.34507278726104806, 0.20219845597866595, 0.3397051072721172], [0.19396007163202836, 0.4788427209870424, 0.06730747306776454, 0.25988973431316503], [0.44397644991524465, 0.1888939479403919, 0.12618428376064197, 0.24094531838372144], [0.17698150512464242, 0.1543373208978643, 0.3503717762519542, 0.3183093977255389], [0.24697757868975634, 0.10788485364391466, 0.45740587515917575, 0.18773169250715305], [0.4055842372923911, 0.03657333057325471, 0.3967414237817562, 0.16110100835259764], [0.08617451271246147, 0.1868527217722194, 0.3220597116522917, 0.40491305386302706], [0.16656767031855416, 0.3823473331761865, 0.42194910251090784, 0.029135893994351448], [0.382970192780694, 0.18180691502720983, 0.11988466269284413, 0.31533822949925217], [0.27139821929497626, 0.4900678973685428, 0.18024520902222887, 0.05828867431425174], [0.39599987823540433, 0.2822798695488086, 0.18741725046992103, 0.1343030017458662], [0.22148299542035202, 0.5070824072725298, 0.08871610952653508, 0.182718487780583], [0.18539612365082303, 0.03888111840831592, 0.21712427710304058, 0.5585984808378206], [0.08739337638685866, 0.05069944058636509, 0.6286428575558214, 0.23326432547095477], [0.22052652751695498, 0.2872683989055238, 0.2430209676986255, 0.24918410587889583], [0.09039068181966219, 0.26076815585318613, 0.3612202224309977, 0.28762093989615395]]\n",
            "The psi1 for iteration #2 is:\n",
            "[[0.2361766147740379, 0.3441868838184406, 0.1363169624073958, 0.2833195390001258], [0.2077524127293766, 0.3892712381122151, 0.03954749651359511, 0.3634288526448129], [0.20158200127547582, 0.22625905989307998, 0.13159940020437524, 0.4405595386270689], [0.25182811254090914, 0.23601623671819424, 0.3618578709475094, 0.15029777979338724], [0.1518500623160071, 0.2648689513562613, 0.25772019158458837, 0.32556079474314303], [0.1999738720546097, 0.40266274979245725, 0.2475860111059739, 0.14977736704695935], [0.15747063526092214, 0.23484895888429086, 0.26224271234355007, 0.3454376935112367], [0.05865396303545842, 0.21271732117398795, 0.3518508295309275, 0.37677788625962605], [0.3120811272207916, 0.23320039341449741, 0.338225240863921, 0.11649323850078996], [0.317883099087613, 0.6017584995235982, 0.009931129298495319, 0.07042727209029387], [0.31743829343066354, 0.2109224106752122, 0.14736311743684274, 0.3242761784572813], [0.26796100588623767, 0.17716315430764082, 0.42497818139083865, 0.12989765841528275], [0.18139716360497452, 0.07375653957963617, 0.3471197052675673, 0.397726591547822], [0.1395243619122151, 0.20412465999718418, 0.478836301908307, 0.17751467618229316], [0.3587316833610375, 0.19284098573873543, 0.010390882144787032, 0.4380364487554403], [0.05782066877784926, 0.5865837294324522, 0.26865186036256383, 0.08694374142713458], [0.5239515972239315, 0.10512088617070092, 0.19475745305515854, 0.17617006355020895], [0.2664866015966136, 0.32449646067655025, 0.16406171268839334, 0.24495522503844272]]\n",
            "The psi1 for iteration #3 is:\n",
            "[[0.06449982481142974, 0.48634427191248303, 0.2511242207900209, 0.19803168248606626], [0.4634357370967731, 0.08650537535953781, 0.18705473252301064, 0.26300415502067825], [0.2773453672517877, 0.40145769535955594, 0.20192357880952655, 0.11927335857912973], [0.2443537832344761, 0.17291916819382327, 0.317073237340643, 0.26565381123105747], [0.19860038069957248, 0.11497018197802297, 0.49077430208714035, 0.19565513523526412], [0.3008899757114949, 0.06548862466823585, 0.2978012571751601, 0.3358201424451089], [0.41407119155371364, 0.19559433653732086, 0.22436618656125767, 0.16596828534770772], [0.554620669281892, 0.19631018598728542, 0.16692650649503585, 0.08214263823578669], [0.007127811302886943, 0.4371152624770471, 0.18001532247502253, 0.3757416037450435], [0.19955738021801353, 0.49567470913350237, 0.09177368009761698, 0.21299423055086703], [0.31339080084790855, 0.21995942626088763, 0.1087874990457098, 0.35786227384549385], [0.1852630390418626, 0.13246900460335034, 0.374314067514359, 0.307953888840428], [0.2625920154294994, 0.08875758863508453, 0.37626110405740487, 0.2723892918780112], [0.18037139472331928, 0.10397096870534973, 0.46825128104262753, 0.2474063555287036], [0.182698216811595, 0.35717231632196256, 0.28771373294468156, 0.17241573392176077], [0.26975328814288557, 0.15985311583382977, 0.25920259002544793, 0.3111910059978365], [0.1890131074232316, 0.42303080624733214, 0.15733514895817938, 0.23062093737125666], [0.357457436720882, 0.42248424224531456, 0.07509101484859486, 0.1449673061852086]]\n",
            "The psi1 for iteration #4 is:\n",
            "[[0.2814543215786299, 0.3165060292619502, 0.20511930695411154, 0.19692034220530807], [0.29229274668260424, 0.199453831256233, 0.3700549723248791, 0.13819844973628354], [0.20313812690865032, 0.2840897830725448, 0.16183808540314198, 0.3509340046156627], [0.19950854385514255, 0.2713374248373085, 0.33749044223784036, 0.19166358906970843], [0.4939159081367851, 0.07328414424115902, 0.3246440530292914, 0.10815589459276419], [0.2111511278641679, 0.15946803602632012, 0.4334236379453652, 0.19595719816414653], [0.026478645655031278, 0.24687640790769902, 0.5800292498327854, 0.14661569660448404], [0.20963274535120868, 0.12456477125690453, 0.23736370794183062, 0.4284387754500561], [0.07276565899773711, 0.5819807803850092, 0.17770043666710347, 0.16755312395015032], [0.4461111405460612, 0.33559657202700116, 0.20082458112240506, 0.017467706304532638], [0.33119354958399655, 0.2337375466464132, 0.14582646943544145, 0.28924243433414853], [0.24401539885195503, 0.2570121801857975, 0.0676772642487658, 0.43129515671348123], [0.12661032131733915, 0.4347768760837957, 0.2250789221320903, 0.21353388046677482], [0.044056037850542594, 0.23981031814372794, 0.030071127198782556, 0.6860625168069465], [0.1820087805653672, 0.1713117386477018, 0.4533951764554252, 0.19328430433150567], [0.31043493202163397, 0.2401222479468374, 0.25023683109517486, 0.19920598893635363], [0.20596827888428254, 0.5748918156787933, 0.1274074718875508, 0.09173243354937326], [0.0889500064526307, 0.5955401744991732, 0.060025857630772596, 0.2554839614174238]]\n",
            "The psi1 for iteration #5 is:\n",
            "[[0.26577725943642466, 0.2671743177238193, 0.4451790741449115, 0.021869348694844446], [0.3566942395188312, 0.11901489707224902, 0.3217192180562073, 0.20257164535271227], [0.12753111140369666, 0.10649284196476773, 0.648692963388525, 0.11728308324301051], [0.06614943053883456, 0.2571901173298524, 0.3401677615151595, 0.3364926906161535], [0.18648640022245758, 0.401352001092178, 0.060269879364531806, 0.3518917193208327], [0.2655808305644164, 0.43877565807850955, 0.06714181379608632, 0.22850169756098754], [0.4286208843403688, 0.37107339581819315, 0.08627727425468117, 0.11402844558675651], [0.2857653696041431, 0.1917564968962549, 0.1253126809528801, 0.39716545254672136], [0.20648530123052244, 0.10942306538950079, 0.47461256238683647, 0.20947907099314023], [0.16686689274289454, 0.08627847482971138, 0.3709359682542823, 0.37591866417311165], [0.025085857499985948, 0.09149526489951434, 0.54475951708375, 0.3386593605167498], [0.3262660518838059, 0.25321725260412764, 0.31444750191563975, 0.10606919359642657], [0.21451267449782555, 0.5448893702734812, 0.0430430093994924, 0.19755494582920102], [0.35502723660412405, 0.42813598616646636, 0.025270078291328314, 0.1915666989380811], [0.1476369401183661, 0.41491099179267293, 0.15176754358513914, 0.28568452450382176], [0.049692798421596684, 0.2559125815630129, 0.3668511671107047, 0.32754345290468545], [0.3200364698506287, 0.0773399302695757, 0.29428222196896264, 0.30834137791083266], [0.2215156962140635, 0.03889296015340091, 0.4044367047024113, 0.3351546389301244]]\n",
            "The psi1 for iteration #6 is:\n",
            "[[0.30147031657754897, 0.3354112356972172, 0.24328871998255136, 0.11982972774268226], [0.27057817123695793, 0.2869725516541323, 0.06516754999920049, 0.37728172710970875], [0.1427593808369194, 0.45550898114861266, 0.36107348825129537, 0.040658149763172495], [0.45053687101640444, 0.019697780164524933, 0.06797779768472142, 0.4617875511343492], [0.09178920068243636, 0.17821187734156524, 0.5998830022357265, 0.1301159197402717], [0.33763165888632585, 0.07186953816635053, 0.3858551802649564, 0.20464362268236733], [0.24933385479900685, 0.0660703642048, 0.5981063393824047, 0.08648944161378869], [0.04821160827967506, 0.31959347212786293, 0.25174320706502534, 0.38045171252743626], [0.15601364065394172, 0.483387020856491, 0.11687229695466834, 0.24372704153489888], [0.3539963370302636, 0.272964353649063, 0.11139600239214834, 0.26164330692852467], [0.22617319240723455, 0.09396573251002258, 0.3276983181182758, 0.35216275696446697], [0.0982734640723369, 0.3339778612852277, 0.4341950683701465, 0.1335536062722887], [0.1623671453619699, 0.28248011039226145, 0.18775850584969694, 0.367394238396072], [0.1601438502714406, 0.30389266911683394, 0.1316192411312129, 0.4043442394805124], [0.24470663887059246, 0.24818418600180267, 0.1938238730520121, 0.3132853020755924], [0.4013724062582594, 0.20539193341711587, 0.3478459165126908, 0.04538974381193388], [0.17051150105215235, 0.35179228072742424, 0.2424037356139369, 0.23529248260648636], [0.13641465863811847, 0.5159052196809446, 0.22052124119213382, 0.12715888048880342]]\n",
            "The psi1 for iteration #7 is:\n",
            "[[0.19627708888713472, 0.1482728515291024, 0.42592639285235767, 0.22952366673140517], [0.13128618198327804, 0.47101814692012606, 0.1818100523526094, 0.21588561874398668], [0.39498347834643854, 0.26953761544692323, 0.05011836725647243, 0.2853605389501656], [0.2865600989365547, 0.15384163831465605, 0.2988866637524297, 0.2607115989963595], [0.21309060445913264, 0.18899910629238473, 0.3919306131389532, 0.2059796761095291], [0.3096726216506625, 0.06397259361849705, 0.4245767216220079, 0.20177806310883256], [0.1024574559163818, 0.21612851148186762, 0.40391215514595147, 0.2775018774557988], [0.06583016838349318, 0.27088962291339846, 0.2103501656069512, 0.4529300430961568], [0.21417298979598573, 0.30049518291259025, 0.28627590506399103, 0.19905592222743274], [0.40734713899999936, 0.2609373718512613, 0.18205779019661125, 0.14965769895212783], [0.23531596271200406, 0.5657147230501508, 0.16502764041148107, 0.03394167382636405], [0.13325409596006393, 0.2651721236164891, 0.3394529897410779, 0.26212079068236877], [0.2106102531714579, 0.22305525825858574, 0.42993436012673447, 0.1364001284432218], [0.1840668467045187, 0.1689904081697857, 0.14912921536151297, 0.49781352976418247], [0.14639674056680363, 0.5129700126493894, 0.19038592601970056, 0.15024732076410638], [0.4156315022516981, 0.2866719388863826, 0.09016052171747488, 0.20753603714444427], [0.16903708064414633, 0.20865689119804975, 0.1747789438570365, 0.4475270843007673], [0.28507970823591966, 0.06438143959628427, 0.20068997021181256, 0.44984888195598327]]\n",
            "The psi1 for iteration #8 is:\n",
            "[[0.24562527116842248, 0.3853654647833378, 0.10673563412680663, 0.2622736299214332], [0.25713696163379424, 0.32353018760506147, 0.18930763750581991, 0.23002521325532438], [0.33716059114790903, 0.18251921069217367, 0.24204524055295545, 0.23827495760696185], [0.3903711701408277, 0.12919774712554544, 0.46395785103736614, 0.01647323169626064], [0.16416789524760994, 0.015373666679346646, 0.45968665091497823, 0.36077178715806496], [0.04645175017061252, 0.19076359804000706, 0.6849162757954218, 0.07786837599395857], [0.12739648931475925, 0.12913594224345532, 0.07246676380369359, 0.6710008046380918], [0.10526693253115639, 0.7045646211992441, 0.17437385186136545, 0.015794594408233924], [0.7400986402165098, 0.008201137117163294, 0.13939470030170883, 0.11230552236461772], [0.2364159041833387, 0.3796656279462726, 0.2659415059831862, 0.11797696188720258], [0.22904693502224296, 0.2263304298457024, 0.32066835135231997, 0.22395428377973467], [0.24899864336875321, 0.21772338420522372, 0.4520777050931151, 0.08120026733290771], [0.16726526938740024, 0.05251245271999593, 0.20264950942177665, 0.5775727684708271], [0.11361865958179246, 0.2776565560970479, 0.6087247842436864, 7.747261985944431e-11], [0.3125970902123875, 0.34416181501968146, 0.12239868585023751, 0.22084240891769336], [0.09199146412324433, 0.6218851471312222, 0.11505367784295623, 0.17106971090257705], [0.19949112032632457, 0.564322235765819, 0.06213015871261591, 0.17405648519524067], [0.1961358472253793, 0.09872060315993547, 0.11357252095324098, 0.5915710286614445]]\n",
            "The psi1 for iteration #9 is:\n",
            "[[0.07278864060318269, 0.17773664324943295, 0.491837481491861, 0.2576372346555233], [0.09132489171315586, 3.7958517314661704e-06, 0.10875714342110286, 0.7999141690140087], [0.1492630288988736, 0.3194895439439821, 0.42997596226139323, 0.10127146489575094], [0.546623714103754, 0.13309265414670246, 0.13199794550109845, 0.1882856862484453], [0.16396743393428972, 0.42822081007661394, 0.21538017869191398, 0.1924315772971826], [0.2533150397253179, 0.4722726857595335, 0.18728384203346604, 0.08712843248168234], [0.1492454049108535, 0.23020106154356282, 0.23727434145340667, 0.3832791920921768], [0.17463925951331113, 0.17047894527371393, 0.35532236514460974, 0.29955943006836505], [0.10548400413902495, 0.14596744002190137, 0.4021877862773078, 0.3463607695617661], [0.29715918471011454, 0.3453610885723914, 0.27116665773556825, 0.08631306898192555], [0.3993989941451325, 0.2887230816555041, 0.06185613838100566, 0.25002178581835766], [0.20015625456806085, 0.42714274426492677, 0.19650230910467295, 0.17619869206233915], [0.30745719257343795, 0.28235932569518807, 0.18273561446039488, 0.22744786727097888], [0.13313922039776926, 0.3553892375639613, 0.16338402807415903, 0.34808751396411025], [0.37666658471594017, 0.29930130013178974, 0.03932046394592589, 0.2847116512063441], [0.14620089404294373, 0.15125595072997317, 0.4418001873105434, 0.26074296791653967], [0.19949376980087855, 0.4896946110094179, 0.08201397412536836, 0.22879764506433503], [0.18392892393603508, 0.3993812332056355, 0.23764030913223655, 0.17904953372609272]]\n",
            "The psi1 for iteration #10 is:\n",
            "[[0.05898889129141246, 0.3030950896611932, 0.329182800801719, 0.30873321824567507], [0.10736963141363712, 0.1693405912217767, 0.3806640710325977, 0.342625706331988], [0.11406494451996088, 0.27620134676172625, 0.23087570660796927, 0.3788580021103434], [0.25459902698814574, 0.22135829404650856, 0.4254352713002724, 0.09860740766507321], [0.31726993015445815, 0.17031109107260292, 0.3933763473238938, 0.119042631449045], [0.2316418712933345, 0.27932843767622156, 0.23168908803717275, 0.257340602993271], [0.06604978675154716, 0.37481814727192087, 0.2595056645330767, 0.299626401443455], [0.14406901241745776, 0.35037962991569854, 0.17236718478279572, 0.33318417288404795], [0.2288468177307829, 0.2973856444342339, 0.1428043136553836, 0.3309632241795995], [0.5933629457457438, 0.1314225711390729, 0.19662142043675288, 0.07859306267843062], [0.0995446378850402, 0.4885630441631618, 0.3558334580593333, 0.05605885989246414], [0.28165139185335347, 0.2543928660775198, 0.16814080321475228, 0.29581493885437427], [0.05342553510016355, 0.34487237795374676, 0.18046983551712797, 0.4212322514289614], [0.16538004345415971, 0.34757412659833403, 0.26454144411832015, 0.2225043858291857], [0.25005603520851377, 0.19986851368220382, 0.3911759557184793, 0.15889949539080286], [0.1985243028262089, 0.2916130242071284, 0.08636668466250882, 0.4234959883041538], [0.1657765800614218, 0.2518253546477923, 0.3099095212158978, 0.27248854407488793], [0.5066571285791425, 0.15007396720789512, 0.07440220858329757, 0.2688666956296647]]\n",
            "The psi1 for iteration #11 is:\n",
            "[[0.24176671660928659, 0.2507439210447723, 0.24084729292233645, 0.2666420694236045], [0.04617156565173683, 0.254281587081095, 0.13076178731040985, 0.5687850599567578], [0.18559732843663948, 0.15977705032956097, 0.3673281486643288, 0.28729747256947064], [0.3454108265200271, 0.18472161344322527, 0.3151046385261649, 0.15476292151058255], [0.0919960023430247, 0.24911067928794398, 0.20910566767741662, 0.4497876506916146], [0.2162801950850177, 0.5199754324288968, 0.2012741707833902, 0.062470201702694926], [0.4962547412031472, 0.04953814899928946, 0.10902342289816132, 0.3451836868994019], [0.47670313371766504, 0.23763646744398256, 0.24910239128065823, 0.03655800755769391], [0.23003801955866532, 0.15162507110769483, 0.37326538696280176, 0.24507152237083787], [0.17730022574462745, 0.14685587500043026, 0.5556994091804152, 0.12014449007452727], [0.18757421256688916, 0.19859119569355485, 0.19580602465763297, 0.4180285670819228], [0.2033837950373892, 0.43988913855886363, 0.27707208431105823, 0.07965498209268877], [0.5014448218925495, 0.046040706389666154, 0.2898567140568526, 0.1626577576609315], [0.12168533078969136, 0.25289981862176786, 0.6135966601405765, 0.011818190447964387], [0.10821357580520989, 0.31074543093067425, 0.31031035033617665, 0.27073064292793875], [0.17616274745435062, 0.3321771811354936, 0.11908106729994833, 0.37257900411020745], [0.23597523623216388, 0.3111043289726196, 0.13251535403003167, 0.3204050807651848], [0.305191857228874, 0.08892447484123377, 0.40618304977024067, 0.19970061815965148]]\n",
            "The psi1 for iteration #12 is:\n",
            "[[0.18578121889622243, 0.20254185242855188, 0.36355871991415994, 0.24811820876106588], [0.274946517101491, 0.22529146663817626, 0.31102359760514653, 0.18873841865518604], [0.33429422443177625, 0.21832146601486685, 0.15799111863609588, 0.28939319091726085], [0.3439371019100033, 0.21522772803493415, 0.17545829632548743, 0.2653768737295749], [0.4831689407262562, 0.15786237534636777, 0.289197765319265, 0.06977091860811097], [0.03444723569098821, 0.12408790674605437, 0.6368248536149509, 0.20464000394800633], [0.03429706124916246, 0.08454811970107036, 0.7139952847299544, 0.1671595343198126], [0.04580835336082698, 0.1738387448553833, 0.10116797030516332, 0.6791849314786264], [4.3423622487908095e-08, 0.7892719060747525, 0.0597731843193165, 0.15095486618230827], [0.6165672979288521, 0.19378718833603498, 0.0703940998012212, 0.11925141393389148], [0.31232084092481466, 0.34686355637162997, 0.19042263121496603, 0.15039297148858946], [0.1375156036542246, 0.25778274064862405, 0.30947860291816515, 0.29522305277898575], [0.22678195377885862, 0.21051199663591227, 0.37911422219698293, 0.18359182738824625], [0.020647306524371484, 0.15587744895550182, 0.057228935359089114, 0.7662463091610378], [0.17340706109537019, 0.15475565525845061, 0.5882361428942772, 0.08360114075190202], [0.44385055464582146, 0.2731450209561562, 0.1168417280183693, 0.16616269637965303], [0.15949262814864842, 0.6059597096057446, 0.02693194556569134, 0.2076157166799155], [0.097302813316357, 0.5885077361508415, 0.14186119777454279, 0.1723282527582588]]\n",
            "The psi1 for iteration #13 is:\n",
            "[[0.5455143393371173, 0.1299845651786966, 0.20980737216059892, 0.11469372332358722], [0.4763490862511089, 0.11572615954663736, 0.36862682833498683, 0.03929792586726667], [0.357280694221705, 0.17187603798096632, 0.44625895269434096, 0.024584315102987787], [0.1296097570640547, 0.2513537137129548, 0.18388306927965237, 0.43515345994333776], [0.23556722641144734, 0.14779285279496313, 0.4160054295762058, 0.20063449121738366], [0.2771710801432863, 0.1613464584224236, 0.2786643403076336, 0.2828181211266565], [0.04274771292453533, 0.46036603992218683, 0.27428532337341077, 0.2226009237798671], [0.29389770617390687, 0.29046817291515975, 0.20473343638873076, 0.2109006845222026], [0.13126353439971666, 0.3008725770969732, 0.30606314009097463, 0.2618007484123356], [0.21981942906563268, 0.1600629081322294, 0.3638319379608295, 0.25628572484130857], [0.12275876819003559, 0.29513194375677393, 0.24208869051393872, 0.3400205975392516], [0.2504621593377103, 0.10886397281932983, 0.22537304360106553, 0.41530082424189424], [0.10506595179214193, 0.45612774830441016, 0.15795973207872344, 0.2808465678247244], [0.3083034556142002, 0.4085002920027144, 0.08912061955519428, 0.19407563282789125], [0.2916563814650672, 0.23105016452970903, 0.27497050658989586, 0.20232294741532783], [0.06734189907801974, 0.26501969750724724, 0.2502672237209672, 0.41737117969376586], [0.17375333615146793, 0.14889159982464414, 0.22949065498123147, 0.44786440904265656], [0.31965188270894274, 0.31265309479763975, 0.24810241233689867, 0.11959261015651869]]\n",
            "The psi1 for iteration #14 is:\n",
            "[[0.3715647323108981, 0.07421945560525382, 0.45516955805365983, 0.09904625403018838], [0.2568916912073083, 0.13218864312826833, 0.20471254665933933, 0.4062071190050841], [0.09136458483573202, 0.2174431340775486, 0.3918266069451892, 0.2993656741415299], [0.24784912946654195, 0.18841120881294604, 0.08900117565949975, 0.4747384860610122], [0.25867726676905695, 0.3921388803103496, 0.15241072953025378, 0.19677312339033962], [0.42384764564802674, 0.3786161186382089, 0.030342837841199233, 0.1671933978725652], [0.2591969870940078, 0.42114130516423415, 0.1206669947932822, 0.1989947129484758], [0.3056609026200352, 0.2952424577861657, 0.2694684820843791, 0.12962815750941997], [0.37933346970783083, 0.03634135724346155, 0.32205380710324205, 0.26227136594546546], [0.1583408110534328, 0.15607806687386844, 0.5921649161283915, 0.09341620594430729], [0.08734365234765039, 0.02909245790236223, 0.5968289217649593, 0.28673496798502796], [0.11351622318180743, 0.3854534062093881, 0.21331253956815188, 0.2877178310406524], [0.3739484823411994, 0.4016301248383719, 0.04231064595337127, 0.18211074686705736], [0.5045552351153413, 0.26376666290452433, 0.1632272997260026, 0.06845080225413175], [0.2708420858815276, 0.15729621344662476, 0.4106998166499051, 0.16116188402194237], [0.10450731475139338, 0.2725558690271528, 0.38976736280516844, 0.23316945341628537], [0.1674757798902944, 0.304784538274018, 0.11287167366656803, 0.4148680081691196], [0.15397149412356975, 0.14722962789024036, 0.3597011845523489, 0.33909769343384083]]\n",
            "The psi1 for iteration #15 is:\n",
            "[[0.16082341703570482, 0.3851385530367721, 0.19227406775589256, 0.26176396217163056], [0.29825616358769513, 0.28177980672249087, 0.1732046218716817, 0.2467594078181325], [0.25763845347064485, 0.3557236495628599, 0.25272172455669023, 0.13391617240980513], [0.47375865251028504, 0.12030258011527573, 0.2703302778182403, 0.1356084895561988], [0.31065262989137804, 0.1337741195505449, 0.4153069300916867, 0.14026632046639018], [0.05150582724786044, 0.1814830036350828, 0.48762690492772004, 0.2793842641893368], [0.14119582858432778, 0.1981698573347091, 0.4025280090346597, 0.2581063050463034], [0.21909501843112011, 0.33251793186359774, 0.09504094727361624, 0.353346102431666], [0.26153689758426335, 0.6247370506962219, 0.05676890143582592, 0.05695715028368872], [0.44530331462294565, 0.40453014300419404, 0.055677248831175044, 0.09448929354168535], [0.2436141255211854, 0.29207518245103054, 0.16402740819228043, 0.30028328383550373], [0.26257175614561956, 0.21983443914146422, 0.09055055007018921, 0.4270432546427271], [0.19988256032952845, 0.09199311633093846, 0.2629320389039025, 0.4451922844356305], [0.2156340693717192, 0.2540561926820805, 0.2882336663764114, 0.2420760715697889], [0.28660607048005604, 0.2435470715335499, 0.2418799807753392, 0.2279668772110549], [0.0590192982988377, 0.5941850550932136, 0.2629043879070986, 0.08389125870085037], [0.3065075990555321, 0.35931358819085796, 0.07186208045870517, 0.26231673229490476], [0.20473243900187282, 0.08653414108518792, 0.3029380535694134, 0.4057953663435259]]\n",
            "The psi1 for iteration #16 is:\n",
            "[[0.27371123409703, 0.2724769366595141, 0.08131728482403307, 0.37249454441942276], [0.0801253031941132, 0.341256247178685, 0.03467228848601457, 0.5439461611411872], [0.230991244841182, 0.2532602586243447, 0.38629967249200814, 0.12944882404246527], [0.45300785975298424, 0.3557153706399877, 0.14134034511334126, 0.049936424493686835], [0.3659312129468103, 0.2949798477098595, 0.10110031166963214, 0.23798862767369797], [0.19615790280315962, 0.3489815105098689, 0.3492716763786149, 0.10558891030835629], [0.12865534641335286, 0.125056111595749, 0.2363679161380066, 0.5099206258528916], [0.03394157749410339, 0.21829403082224424, 0.37293842517737114, 0.37482596650628136], [0.19473913264164236, 0.2287691415130499, 0.268439255606355, 0.30805247023895266], [0.311841700652846, 0.34516461783231933, 0.2259110141960425, 0.11708266731879238], [0.3382907735125416, 0.34693900775754966, 0.2605320739883223, 0.05423814474158656], [0.19210959817173368, 0.21215698507203068, 0.17354727059058864, 0.4221861461656469], [0.3357360778834837, 0.19549460750118944, 0.39192840663275513, 0.07684090798257202], [0.15022216735513266, 0.1291188976288899, 0.48874126601925516, 0.23191766899672261], [0.2092055389221644, 0.3329827466403558, 0.3426565301144073, 0.11515518432307262], [0.33228266216924013, 0.045173867067913376, 0.31062742160328644, 0.3119160491595599], [0.2784984758711237, 0.34271297409963547, 0.26975141995368146, 0.10903713007555926], [0.2152850773409646, 0.3068977860569702, 0.19907476222833415, 0.27874237437373106]]\n",
            "The psi1 for iteration #17 is:\n",
            "[[0.14231399656371604, 0.2991892093569757, 0.16170160742306613, 0.396795186656242], [0.060889337262837795, 0.2668698244671794, 0.2248953536159581, 0.4473454846540247], [0.3860703333641485, 0.10139019876621547, 0.4557052110559157, 0.056834256813720084], [0.05193841250347165, 0.35502491876343883, 0.1334659103170988, 0.4595707584159903], [0.21950349481840772, 0.5205334376247758, 0.19583222467711184, 0.06413084287970477], [0.3110059109066247, 0.26585642764663264, 0.10141196689359497, 0.3217256945531477], [0.21911542809020024, 0.1678885740320871, 0.1567099004712027, 0.45628609740650944], [0.06769205242321928, 0.28455044288155723, 0.3904165278444403, 0.2573409768507833], [0.25535090365362, 0.3155782789876426, 0.2705081400175721, 0.1585626773411654], [0.23625880496582777, 0.257429256786029, 0.20192918172170685, 0.3043827565264364], [0.12443985121953584, 0.36707103610096287, 0.41012939831104267, 0.09835971436845836], [0.34795088677615665, 0.14273512715533437, 0.23179522452723597, 0.2775187615412732], [0.07207050766189153, 0.37576060563127844, 0.2645643784886294, 0.2876045082182005], [0.34579115975998514, 0.40719924695700344, 0.2272651784511481, 0.019744414831863736], [0.37735928319702444, 0.08894822660356115, 0.3603419274954367, 0.17335056270397756], [0.245118767135681, 0.2032415173349996, 0.30583343046609485, 0.24580628506322452], [0.09311132127975898, 0.2737532208306844, 0.26581722024558774, 0.3673182376439689], [0.29677698947644854, 0.06658136059266313, 0.3001782462639025, 0.3364634036669855]]\n",
            "The psi1 for iteration #18 is:\n",
            "[[0.22792128066740455, 0.18165892775695733, 0.5281274242150209, 0.062292367360617294], [0.18985432046787226, 0.271451196682858, 0.4657608614411813, 0.07293362140808857], [0.20978754724633425, 0.18652182334819, 0.3498814769477047, 0.25380915245777125], [0.09435602847379262, 0.4537941585181813, 0.16339138749284687, 0.28845842551517936], [0.3776389973216967, 0.20641385571584442, 0.16640665005399308, 0.24954049690846594], [0.19111050226607776, 0.32353734605459356, 0.4076372634334562, 0.07771488824587233], [0.32830710967517523, 0.13842795891316478, 0.22538925578064023, 0.3078756756310198], [0.019396805394720468, 0.38697239436742037, 0.5198732846954397, 0.0737575155424195], [0.22864296780379006, 0.07140572140810635, 0.22665508897633505, 0.47329622181176845], [0.07653269723548187, 0.27742176117975126, 0.3154256003208259, 0.3306199412639409], [0.4005505412090383, 0.23034875641356203, 0.1392648176133294, 0.2298358847640708], [0.5339719931053751, 0.37212884572748045, 0.04895313979472996, 0.04494602137241398], [0.21011426675282738, 0.4808628174679752, 0.10744617039730561, 0.20157674538189208], [0.16823812715215783, 0.44917001280772056, 0.05014696262129141, 0.33244489741883027], [0.2118676334833334, 0.18109846965314527, 0.26780580273407434, 0.33922809412944704], [0.18499380566162665, 0.32889008054266966, 0.3051404627518893, 0.18097565104381463], [0.3460150872608778, 0.209678022826905, 0.22785556102254212, 0.21645132888967522], [0.06255917963624513, 0.23277059019828739, 0.26495862844864976, 0.4397116017168177]]\n",
            "The psi1 for iteration #19 is:\n",
            "[[0.2697523154130841, 0.08370662769001955, 0.2761596784128233, 0.37038137848407304], [0.02669637827751424, 0.43473262437172483, 0.4306755890478522, 0.10789540830290857], [0.5500384663776892, 0.10692546332642387, 0.11759917582953294, 0.22543689446635384], [0.20041198876665797, 0.1950667603508724, 0.348332586221362, 0.25618866466110757], [0.3479118094727531, 0.16002267982868085, 0.15730741523054315, 0.33475809546802293], [0.006430611171163785, 0.35019310851123225, 0.6167456326244746, 0.026630647693129186], [0.22859083490901821, 0.07233236009252256, 0.22767168714746372, 0.4714051178509954], [0.07629102971860738, 0.3902526281547721, 0.2972307803276338, 0.23622556179898685], [0.24004275999471464, 0.37904336050047727, 0.1786519991618381, 0.20226188034296969], [0.28045948912138335, 0.2428064151070718, 0.2143361367648275, 0.2623979590067173], [0.1850124987845189, 0.5170068051273421, 0.06402257135149325, 0.23395812473664554], [0.18636519632043705, 0.3380125232884146, 0.1793595242072724, 0.29626275618387604], [0.4022279532450941, 0.16838596496565889, 0.19405938074677992, 0.23532670104246703], [0.2149193224486913, 0.1887005563402326, 0.24511925101306642, 0.3512608701980095], [0.310240648888449, 0.018123310096480647, 0.4572644790590367, 0.21437156195603357], [0.10775186545425285, 0.32520425046777335, 0.405511148124338, 0.1615327359536356], [0.19864957518141693, 0.4242187118644537, 0.18582670422626418, 0.19130500872786543], [0.274726972945121, 0.13718368220290914, 0.27321144426275173, 0.314877900589218]]\n",
            "The psi1 for iteration #20 is:\n",
            "[[0.22723424176426113, 0.3172211455093964, 0.10170327736400098, 0.3538413353623412], [0.3059383972655578, 0.2711975839978208, 0.1659187391325477, 0.2569452796040737], [0.4084608906590378, 0.1431353951413762, 0.30471775454715033, 0.1436859596524358], [0.23599120476673077, 0.3321554114802386, 0.4010433073132681, 0.0308100764397622], [0.3027177516173215, 0.3065149352238761, 0.1595845641889196, 0.23118274896988283], [0.05394002462897965, 0.3334984008745541, 0.16841837927664224, 0.44414319521982387], [0.16255285176129483, 0.47559948417576453, 0.1836591734336075, 0.1781884906293327], [0.49778809089265225, 0.27461227020186657, 0.01523888189791165, 0.21236075700756893], [0.2729769098968082, 0.3132482369058831, 0.20234873336976258, 0.2114261198275459], [0.161016033901639, 0.1425901169459779, 0.3608044239649065, 0.33558942518747653], [0.24724307650414454, 0.14472743560226395, 0.441982984668898, 0.16604650322469333], [0.14893742302718602, 0.20721262746630062, 0.32808953885813713, 0.315760410648376], [0.12335762552106395, 0.3204436742206957, 0.4321224159476797, 0.1240762843105606], [0.5097237747990205, 0.018051760363492764, 0.30293479059914546, 0.1692896742383416], [0.005965622596830872, 0.31872831167901294, 0.2419914347089175, 0.43331463101523876], [0.09943828322282826, 0.5088656902123059, 0.31494503327579887, 0.07675099328906727], [0.3939783510108457, 0.16996859604789794, 0.1019076374737919, 0.3341454154674641], [0.19459740057046196, 0.21176087592085588, 0.30815685158922673, 0.28548487191945543]]\n",
            "\n",
            "The psi0 for iteration #1 is:\n",
            "[[0.26578903441473484, 0.22998715652387416, 0.27241436675392894, 0.23180944230746214], [0.24405088691059268, 0.23152837395952364, 0.2661217996177001, 0.2582989395121837], [0.2521919547804936, 0.2138387976117375, 0.29731304638874173, 0.23665620121902717], [0.25850927933156387, 0.2095312533063903, 0.296074402256976, 0.23588506510506999], [0.23522414669191288, 0.24979900008197192, 0.2824863040192509, 0.2324905492068644], [0.24017053258690518, 0.27785736364698355, 0.2600724476019682, 0.2218996561641432], [0.22812731154170263, 0.2786393707631824, 0.24617732528966038, 0.24705599240545473], [0.2161353539617109, 0.283885619185623, 0.2576139092030691, 0.24236511764959717], [0.23098539201143573, 0.27567136951362997, 0.2616281068543603, 0.2317151316205742], [0.22724584617594898, 0.2657565829210227, 0.25845436560274604, 0.2485432053002824], [0.21698594414247807, 0.2755034917836535, 0.2750982038401477, 0.23241236023372092], [0.22480543917530724, 0.2521072493892759, 0.2754415210614937, 0.24764579037392326], [0.2118526671526555, 0.2666983314525316, 0.28096527193028553, 0.24048372946452748], [0.20923397347828215, 0.2637215098884745, 0.27861741581218874, 0.2484271008210549], [0.2201419585233412, 0.2984761121468112, 0.2462866432877051, 0.23509528604214266], [0.23302528916385032, 0.3067087254496735, 0.19531855740232093, 0.26494742798415544], [0.23561232908633722, 0.30664498341606833, 0.22216267710526486, 0.2355800103923297], [0.2545841073655995, 0.2709952056527189, 0.22843758831822608, 0.24598309866345558]]\n",
            "The psi0 for iteration #2 is:\n",
            "[[0.2613004129587772, 0.22732847093512829, 0.286461462804, 0.22490965330209456], [0.25179725331311104, 0.21793139607758244, 0.28289657475415214, 0.24737477585515436], [0.24776403719112816, 0.21977948398013591, 0.30084299917745627, 0.23161347965127962], [0.25561587728611995, 0.22167257751983266, 0.28134688236298855, 0.24136466283105887], [0.2498304660718747, 0.24600024991117858, 0.2759095086280534, 0.22825977538889333], [0.23902091424040675, 0.26544109220225387, 0.26521173585926716, 0.23032625769807222], [0.23260265871314428, 0.27229116550116356, 0.2559354834304416, 0.23917069235525054], [0.23348186767455759, 0.27507841965558627, 0.25985843891561045, 0.23158127375424564], [0.21969006128601923, 0.273353985931516, 0.26081983039377876, 0.24613612238868596], [0.21968007473749612, 0.25478602460365196, 0.2790552642633666, 0.24647863639548534], [0.22026253910997934, 0.2740477170012534, 0.2737242811029477, 0.2319654627858195], [0.22497729984574408, 0.26775248654232114, 0.26320487244306306, 0.24406534116887174], [0.2225828028841771, 0.2771244979509902, 0.27298014919040303, 0.2273125499744297], [0.2133319051536889, 0.2788693972522417, 0.2591114061931001, 0.24868729140096937], [0.21147518053783043, 0.29077811878029014, 0.2566233130356178, 0.2411233876462617], [0.23450392454430075, 0.279914511007369, 0.2133181072619838, 0.27226345718634637], [0.22044107560098833, 0.3157523590528096, 0.2245758528374381, 0.23923071250876413], [0.245779311376752, 0.2678087904115506, 0.23829551380535627, 0.24811638440634115]]\n",
            "The psi0 for iteration #3 is:\n",
            "[[0.2698842524569075, 0.22022060153042633, 0.2807210998848687, 0.22917404612779751], [0.23901308709474126, 0.23306968921521637, 0.2755212129536815, 0.252396010736361], [0.2439758688923126, 0.2110195522068121, 0.2973267902471987, 0.24767778865367662], [0.25598959375144154, 0.2248274309460511, 0.28358611404333206, 0.23559686125917542], [0.24749295015269643, 0.2534951883800904, 0.264256803102926, 0.2347550583642873], [0.23397510905756247, 0.282299798458465, 0.26270097355580785, 0.22102411892816476], [0.21977263089850482, 0.27425389661851207, 0.25782930971955625, 0.24814416276342702], [0.2086835323622359, 0.2758987764149215, 0.26910465506740505, 0.24631303615543754], [0.23493772708191446, 0.26315824247838854, 0.26873032631322363, 0.2331737041264734], [0.22559636068097608, 0.2600902141231568, 0.27496313672341044, 0.2393502884724567], [0.22046491373911709, 0.27359586622196974, 0.27565306202250445, 0.23028615801640884], [0.229112198187963, 0.26998719402753557, 0.2657380781368871, 0.2351625296476144], [0.21852306029295088, 0.2763744454982177, 0.27152307925091124, 0.2335794149579203], [0.21128955351313367, 0.28387708181683347, 0.2596406572363841, 0.2451927074336489], [0.22027685386530269, 0.2825615522511288, 0.2427571704956231, 0.2544044233879456], [0.22390729357604905, 0.30125104168730016, 0.21379057077883967, 0.2610510939578114], [0.23718800009102334, 0.299856863048978, 0.22644696804228714, 0.23650816881771172], [0.2412307696205385, 0.2629094013331125, 0.24274404869734617, 0.2531157803490029]]\n",
            "The psi0 for iteration #4 is:\n",
            "[[0.25903652761854756, 0.22871251366295298, 0.28302134557666414, 0.22922961314183546], [0.24757023661544975, 0.22742226642038163, 0.26637120096358813, 0.25863629600058075], [0.24768623090946945, 0.21688794782116277, 0.2993310649175181, 0.23609475635184995], [0.25823185572040813, 0.21990651811387696, 0.2825652537984722, 0.23929637236724285], [0.23272717378083588, 0.2555794902669336, 0.2725633155558184, 0.23913002039641226], [0.238462051449929, 0.27760082789056073, 0.2559198545172977, 0.22801726614221282], [0.23915225819343897, 0.27168979304999313, 0.24004615655597988, 0.24911179220058818], [0.22593292855877023, 0.2794860471514405, 0.26558279499506554, 0.22899822929472405], [0.231655834697172, 0.2559149665829906, 0.26884607060361954, 0.2435831281162181], [0.2132686726645738, 0.26809412097848206, 0.26951059167217106, 0.24912661468477332], [0.21957477630231295, 0.2729069602026932, 0.27380111350301783, 0.23371714999197615], [0.2261745801974582, 0.26376003524841346, 0.2810699183001668, 0.22899546625396186], [0.22532214499855882, 0.25907348112578227, 0.2790821883471771, 0.23652218552848212], [0.2181053213567726, 0.27708511434491445, 0.2815496649285763, 0.22325989936973695], [0.22031132567761413, 0.29185458113484186, 0.23447309832008595, 0.2533609948674584], [0.22187321138211158, 0.2972375850816498, 0.21423885872535336, 0.26665034481088545], [0.2363402415179709, 0.2922638125774049, 0.22794335189581855, 0.24345259400880592], [0.25465614113395113, 0.2542566047204195, 0.24349730655823734, 0.24758994758739225]]\n",
            "The psi0 for iteration #5 is:\n",
            "[[0.25982038072565783, 0.23117909923985952, 0.27101835721712403, 0.2379821628173587], [0.24435016197363832, 0.23144421312958083, 0.2687879886770216, 0.25541763621975944], [0.2514665816847172, 0.2257677948765515, 0.27498832101824877, 0.2477773024204825], [0.2648998113862235, 0.22061388348924973, 0.2824313878346061, 0.23205491728992067], [0.2480986491765522, 0.2391760974243829, 0.28578202423905624, 0.2269432291600088], [0.23574056631491644, 0.2636354467879513, 0.2742339457247615, 0.22639004117237085], [0.21904514625917193, 0.26547994365446836, 0.2647337553348851, 0.2507411547514746], [0.22212629734612344, 0.27612646086947296, 0.2711853463445128, 0.23056189543989092], [0.22496985258553265, 0.2795428523327658, 0.25400046431763296, 0.2414868307640685], [0.22723088505473213, 0.2805600258383463, 0.26100502231557726, 0.23120406679134434], [0.23488016090651337, 0.2800190742900383, 0.25385446112060234, 0.2312463036828461], [0.22206204754586573, 0.26394978162749677, 0.2687314064168231, 0.2452567644098145], [0.22092702733953445, 0.2535678564162979, 0.2881839839838069, 0.23732113226036083], [0.20255676141909348, 0.26766883094377747, 0.281789717373949, 0.24798469026318007], [0.2220299176999641, 0.2796746184775932, 0.24955447996360022, 0.24874098385884247], [0.23491031806211352, 0.296448068400841, 0.20840814192457682, 0.2602334716124688], [0.23063683196965354, 0.31714140684786574, 0.21959961439174794, 0.2326221467907329], [0.2480278566458794, 0.2820889654377081, 0.22627676420465542, 0.2436064137117572]]\n",
            "The psi0 for iteration #6 is:\n",
            "[[0.2580357278686016, 0.22776725334118952, 0.28111287492524223, 0.23308414386496668], [0.24865596538773188, 0.22304633040048666, 0.281615572079872, 0.24668213213190954], [0.2507051682130559, 0.20831698791735936, 0.28936929477511036, 0.2516085490944744], [0.24568043936234507, 0.23248850034751606, 0.2960408860261281, 0.22579017426401077], [0.2528335091535533, 0.2503331036119133, 0.25880136809549653, 0.2380320191390369], [0.23213802489882096, 0.2819807527835593, 0.25829827740131794, 0.22758294491630182], [0.22800949773624024, 0.2807300952351381, 0.23914230207849896, 0.2521181049501228], [0.23400398541234682, 0.26973461210789246, 0.2648638200389056, 0.23139758244085532], [0.22749343561436172, 0.2608446545594164, 0.27188747758924137, 0.23977443223698053], [0.21787441284036363, 0.27122573189737875, 0.27398202060868393, 0.23691783465357372], [0.2248257941611508, 0.27989555090951296, 0.26470752106887596, 0.2305711338604603], [0.2334616769364392, 0.25991175119344184, 0.2627440280940976, 0.24388254377602145], [0.22353430379632727, 0.26668831941035887, 0.2809482091612966, 0.22882916763201724], [0.21230093073572764, 0.2738809967962592, 0.27647225923195473, 0.23734581323605852], [0.2171764327623527, 0.2880109587671368, 0.2474516634902566, 0.24736094498025407], [0.2173263376702804, 0.2989741008081357, 0.2093584044544775, 0.27434115706710643], [0.23811308040957732, 0.3034187893249734, 0.2221935387094992, 0.23627459155595018], [0.25228290852467683, 0.2582383524613309, 0.23547253738016924, 0.254006201633823]]\n",
            "The psi0 for iteration #7 is:\n",
            "[[0.2632953892531224, 0.2371241725495954, 0.2719809912817518, 0.22759944691553052], [0.25562056485041595, 0.2138440506371871, 0.2757834469622013, 0.2547519375501956], [0.23809396333757998, 0.21761555620244388, 0.3049170508248515, 0.23937342963512476], [0.25387927796633764, 0.22578130744000954, 0.2844954427227427, 0.23584397187091033], [0.2467684389647184, 0.24979374216437222, 0.26919898755033533, 0.2342388313205741], [0.23353597676060409, 0.28237560001095185, 0.25636220033346535, 0.22772622289497874], [0.2353533176803714, 0.2732271878712848, 0.24885201129032147, 0.2425674831580223], [0.23312305740715586, 0.2721698045686159, 0.26693347211180923, 0.22777366591241904], [0.22458546815725955, 0.26998924645661143, 0.26341729718377527, 0.24200798820235378], [0.2152068727418767, 0.2718270809872689, 0.2704489312184608, 0.2425171150523936], [0.22436865564591238, 0.2563081013825065, 0.2728410549542159, 0.24648218801736524], [0.2317126453420528, 0.26335203807687846, 0.26748113202555124, 0.23745418455551748], [0.2211221484058528, 0.26965956201704266, 0.2688394164474449, 0.24037887312965964], [0.2111047809140739, 0.28062610984361147, 0.27559676052043985, 0.23267234872187484], [0.22209192767754213, 0.27477166743475756, 0.24762356084187215, 0.2555128440458282], [0.21661338287060838, 0.29491010053467254, 0.22224267419423832, 0.26623384240048087], [0.2381868014299777, 0.31057555880144194, 0.22557477829734418, 0.2256628614712361], [0.24484965604478665, 0.28081454146556395, 0.23646410092918513, 0.2378717015604642]]\n",
            "The psi0 for iteration #8 is:\n",
            "[[0.2608279801390577, 0.2252695418868836, 0.2879405292180294, 0.2259619487560292], [0.24932802586789019, 0.2212184486029401, 0.2754085677045409, 0.25404495782462877], [0.24098510769750653, 0.22196647644018133, 0.2953207071600274, 0.24172770870228485], [0.2486887244061239, 0.2270135019994651, 0.27624188335849575, 0.24805589023591532], [0.24921457442529463, 0.25847501414502433, 0.2658111856615338, 0.2264992257681472], [0.24669702033460658, 0.27603604978987645, 0.2433452226247947, 0.23392170725072226], [0.23410636601045257, 0.2775768163332054, 0.26542428085743436, 0.22289253679890766], [0.23115121919977283, 0.25048605465432344, 0.26873228779908864, 0.24963043834681517], [0.19828918563623338, 0.2846039487463828, 0.27076135742188945, 0.24634550819549453], [0.22375343448270982, 0.2658906681825182, 0.26625474542913213, 0.24410115190563986], [0.22468210703040048, 0.27327731604272887, 0.2650590194071739, 0.23698155751969674], [0.2259254179716184, 0.2657244750474419, 0.2618498962579493, 0.24650021072299047], [0.22328939759505573, 0.2781867022939722, 0.28020365898269267, 0.21832024112827947], [0.2146271902702101, 0.27519280244724853, 0.25261698207633104, 0.2575630252062104], [0.21378191019526302, 0.2832120773162427, 0.25102292285034533, 0.25198308963814897], [0.23279538477703104, 0.2781494401224304, 0.22099801638796432, 0.26805715871257424], [0.23666409944586872, 0.2927922915730535, 0.23120721755456533, 0.23933639142651245], [0.24929684909531374, 0.27909758328738127, 0.24081997339211383, 0.23078559422519113]]\n",
            "The psi0 for iteration #9 is:\n",
            "[[0.2694698116673199, 0.23565098296357875, 0.26868543684977686, 0.22619376851932466], [0.25761862936392205, 0.2373947681906067, 0.27943609240877687, 0.2255505100366946], [0.25037998580995835, 0.21511795977759088, 0.28592417107460555, 0.24857788333784553], [0.24087609720797767, 0.22681875664840723, 0.29283987863530925, 0.23946526750830605], [0.24922459749096063, 0.23783265697516098, 0.27802650927268735, 0.23491623626119132], [0.23635385585687152, 0.26196059540390015, 0.2682268443128925, 0.23345870442633612], [0.23301392023064782, 0.27252356036820014, 0.2571839019749487, 0.2372786174262036], [0.22768260285066505, 0.2771903384506001, 0.2596848621349264, 0.23544219656380866], [0.23001991744010755, 0.27771563360114593, 0.25762170312310967, 0.23464274583563724], [0.2207162704563711, 0.26760589515121247, 0.2659934878415129, 0.24568434655090376], [0.21616450407425603, 0.270157683452239, 0.27799963005573963, 0.23567818241776559], [0.22836753741165297, 0.2552535070444568, 0.2746286660573714, 0.24175028948651897], [0.21627980143575387, 0.26669435864521274, 0.2811993537307619, 0.23582648618827176], [0.2136511622294113, 0.2713061683739027, 0.27488401988480765, 0.24015864951187862], [0.21057843547008537, 0.28545510306063754, 0.2551768339455609, 0.24878962752371642], [0.23008491328104613, 0.30168089994249303, 0.20466069091458497, 0.26357349586187623], [0.2366639669721411, 0.29652367281087366, 0.23021302678392772, 0.23659933343305772], [0.24990719525978108, 0.2640645517850964, 0.23461658398316407, 0.2514116689719587]]\n",
            "The psi0 for iteration #10 is:\n",
            "[[0.27015979913290844, 0.2293830606429907, 0.27681817088428373, 0.22363896933981714], [0.25681639237889786, 0.2289279284221044, 0.26584074602820207, 0.24841493317079552], [0.25213989002890397, 0.21728236963670347, 0.2958791838572766, 0.23469855647711602], [0.25547733156375796, 0.22240547465341698, 0.27816801234535043, 0.24394918143747463], [0.24155947267995212, 0.2507281429253615, 0.2691267008410882, 0.2385856835535982], [0.23743751427847049, 0.2716078078080658, 0.26600658201270716, 0.22494809590075657], [0.23717370113861308, 0.2652927060817821, 0.25607233582096517, 0.2414612569586396], [0.22921111520545756, 0.26819530421850074, 0.26883262115301715, 0.23376095942302455], [0.22385177676051962, 0.2701447233805292, 0.2705908767542056, 0.23541262310474542], [0.20590608240458952, 0.2783028210228783, 0.2697207497064537, 0.24607034686607848], [0.23115722188726057, 0.2601656853268558, 0.26330076407182323, 0.24537632871406032], [0.22429278054738835, 0.26389100095382706, 0.2760467413518674, 0.23576947714691718], [0.2289813843094175, 0.2635687060322846, 0.28131264267792516, 0.22613726698037256], [0.21203912107659176, 0.27169692392218414, 0.26982614908259933, 0.24643780591862474], [0.2169089629454566, 0.2904267423831166, 0.23758405935693327, 0.2550802353144934], [0.22746874284188273, 0.29466304626863515, 0.22243236604698674, 0.2554358448424954], [0.23834982645911373, 0.30841713562895495, 0.2188182494294012, 0.2344147884825301], [0.2337707850276256, 0.2765299150849833, 0.24277848901061097, 0.24692081087678]]\n",
            "The psi0 for iteration #11 is:\n",
            "[[0.2610209078670147, 0.2320006190738119, 0.28123494627825296, 0.22574352678092063], [0.259876295666993, 0.22468087862913858, 0.2783358602143114, 0.23710696548955715], [0.2485632708330701, 0.22310358445831197, 0.28905656175445854, 0.2392765829541595], [0.250936741587164, 0.2242373086835811, 0.28368454398405585, 0.2411414057451991], [0.2528231690705238, 0.24678816351459443, 0.2783402348234121, 0.22204843259146978], [0.2382055980888863, 0.2595754580704321, 0.26752732787539635, 0.23469161596528537], [0.21566345341603313, 0.2815567059954137, 0.263596447902711, 0.2391833926858423], [0.21257940914044732, 0.2738324623420865, 0.264995860828124, 0.2485922676893422], [0.22379221666912555, 0.27743275204685613, 0.25906782308883475, 0.23970720819518368], [0.22670921840464545, 0.2775311558298104, 0.25176685026927054, 0.24399277549627357], [0.2267557431531681, 0.2746642777503363, 0.2713021357419083, 0.22727784335458737], [0.22820616038818653, 0.25461618732975994, 0.2706001772970522, 0.24657747498500135], [0.20658041996979834, 0.2785102896104886, 0.2758432987509389, 0.23906599166877426], [0.21422385670981517, 0.2764306393210124, 0.2523733882814866, 0.25697211568768585], [0.2240010859156219, 0.28488289652069326, 0.24162733962604835, 0.24948867793763668], [0.22858682061047572, 0.29263483842221705, 0.22079664691511464, 0.2579816940521927], [0.23483989365057673, 0.30545318691271356, 0.22768795778869447, 0.23201896164801525], [0.24384404859513895, 0.27958738970331654, 0.22618944695126392, 0.25037911475028074]]\n",
            "The psi0 for iteration #12 is:\n",
            "[[0.26382018275266794, 0.23441072250462283, 0.27509937492866177, 0.2266697198140476], [0.2484375480945054, 0.22613038465128435, 0.2693227696995747, 0.25610929755463563], [0.24112842603331328, 0.2201763636740465, 0.29952341325587023, 0.23917179703677], [0.2510104278176652, 0.22271200295399546, 0.29066686109408985, 0.2356107081342497], [0.2332645221513623, 0.2513505787116734, 0.27433562994131977, 0.24104926919564484], [0.24729724605858786, 0.27936983435457413, 0.24574979373381822, 0.22758312585302], [0.23876133741373237, 0.27980620746032464, 0.23334785481112133, 0.2480846003148218], [0.23412414815828927, 0.2770223484715166, 0.27239258187689874, 0.2164609214932955], [0.23529411547587772, 0.24555041029850322, 0.27474243322100905, 0.24441304100461014], [0.2047458647954341, 0.2751845901630302, 0.2760321157382302, 0.24403742930330555], [0.2205184117352718, 0.26725065971643264, 0.2715713054140416, 0.24065962313425399], [0.23149956995734486, 0.26372150722527204, 0.26897985136669667, 0.2357990714506866], [0.22031356337548283, 0.2702867250981766, 0.2713804233439324, 0.23801928818240833], [0.2192757579230811, 0.28128175780432585, 0.28019177452056093, 0.2192507097520322], [0.2207414116511139, 0.2926823853043044, 0.22773104999814323, 0.25884515304643857], [0.21520243025090227, 0.29558644643118376, 0.22090861387919364, 0.26830250943872036], [0.23866402405475243, 0.2907104178810574, 0.2329671282119115, 0.23765842985227886], [0.25423850079076477, 0.25460822663783605, 0.23940553955104876, 0.25174773302035053]]\n",
            "The psi0 for iteration #13 is:\n",
            "[[0.2458335267306231, 0.23803858686711563, 0.2827869423163399, 0.23334094408592146], [0.23836741963702446, 0.23160865000586145, 0.2664426081630826, 0.2635813221940317], [0.23997910254381677, 0.22249863507574155, 0.28511002155295806, 0.25241224082748365], [0.26172679505996266, 0.22090570367009457, 0.2902456224463815, 0.2271218788235613], [0.24564460786710268, 0.2518540548392434, 0.26799524672847264, 0.23450609056518132], [0.235161053835973, 0.2775069067707557, 0.2636578193991842, 0.2236742199940872], [0.23833880482996372, 0.2610153114492688, 0.2553333528789484, 0.24531253084181898], [0.2217196805176353, 0.2711908770685278, 0.26721430857272044, 0.23987513384111667], [0.22873094092707302, 0.2699703767473922, 0.2624279354324261, 0.23887074689310872], [0.22458325823859515, 0.27687080417322046, 0.26136022383024987, 0.23718571375793454], [0.22999651537201088, 0.2698372403471752, 0.26898800244909304, 0.23117824183172095], [0.2258522421731705, 0.2711674456167365, 0.2731851293325519, 0.22979518287754108], [0.22639936347481862, 0.25800593751475154, 0.28243814784984533, 0.2331565511605845], [0.20489295046858977, 0.2686506156519651, 0.2785971903107557, 0.24785924356868946], [0.21482894563262894, 0.2888676598407416, 0.24339433181336245, 0.2529090627132672], [0.2340278630292923, 0.295992712603629, 0.21423733909406376, 0.25574208527301484], [0.23795098865461145, 0.3135638233701124, 0.22283919274113448, 0.2256459952341417], [0.2431210473211355, 0.26840095870549613, 0.23409347882293094, 0.2543845151504375]]\n",
            "The psi0 for iteration #14 is:\n",
            "[[0.25453100708193405, 0.24082684234578772, 0.2705188330216867, 0.23412331755059143], [0.24934028938921446, 0.2307855258267799, 0.2746383222468649, 0.2452358625371408], [0.2532749080131153, 0.22022028027091245, 0.2878316388404157, 0.23867317287555662], [0.25581482643983827, 0.22405282891509493, 0.2949897171273891, 0.22514262751767766], [0.24448910584922215, 0.23963675346347418, 0.2811749817307702, 0.23469915895653343], [0.22782722556073604, 0.26664342375996625, 0.2760738945225058, 0.22945545615679186], [0.22751634112149008, 0.2629765481871664, 0.26301426930795496, 0.2464928413833885], [0.22113152069532868, 0.2709521628249776, 0.2639775562879379, 0.24393876019175587], [0.21632744416166724, 0.2831969377400678, 0.26162840208181265, 0.23884721601645223], [0.22765718913920518, 0.27707004623613857, 0.24994357492187166, 0.2453291897027847], [0.23176727116413007, 0.283139214639896, 0.2512509908865419, 0.23384252330943206], [0.23269953898096568, 0.2573379739472337, 0.2737881545341974, 0.2361743325376032], [0.21295523694736573, 0.26073081868805337, 0.28822060215611295, 0.23809334220846792], [0.19508036149353258, 0.27588729710687465, 0.2748918563022154, 0.2541404850973774], [0.21586966041180602, 0.2925553573948956, 0.236607866310362, 0.25496711588293636], [0.23216959224562364, 0.29561590402763377, 0.2072623321398537, 0.26495217158688883], [0.23826486646767017, 0.3057691764476438, 0.2286701418068678, 0.22729581527781836], [0.25140506675040414, 0.27667213205086605, 0.2285135402121585, 0.24340926098657123]]\n",
            "The psi0 for iteration #15 is:\n",
            "[[0.2650680728456938, 0.22528088747421154, 0.2836636075365751, 0.22598743214351932], [0.24727206577019506, 0.2233059676470686, 0.2762137184862479, 0.2532082480964882], [0.24496121458136977, 0.21330625449664684, 0.2947868829598406, 0.24694564796214272], [0.24451935028765076, 0.22745826034997849, 0.28592326201945206, 0.2420991273429183], [0.2418903376931062, 0.2525549915014643, 0.26803017170269844, 0.23752449910273085], [0.24644431648074414, 0.27650007951012257, 0.2532096911681797, 0.22384591284095331], [0.233416399046974, 0.2741251205786426, 0.248921218595886, 0.24353726177849708], [0.22545981490477449, 0.2690883891211056, 0.27269893302847614, 0.23275286294564348], [0.2222172727678456, 0.2537771530674296, 0.27489264736518354, 0.24911292679954106], [0.21330906396072927, 0.26464744242962207, 0.27676795828673256, 0.24527553532291568], [0.22395374750545338, 0.2699900784124624, 0.27289106656517575, 0.2331651075169082], [0.22524676233277494, 0.2656189223006299, 0.27992625400909554, 0.22920806135749947], [0.22165853304794922, 0.27621266911342507, 0.2771895325085864, 0.22493926533003905], [0.20952641978071365, 0.27637282061799684, 0.26864153796969475, 0.24545922163159453], [0.21508146118187954, 0.2882428144905492, 0.24504885810409016, 0.2516268662234808], [0.23444399306825134, 0.2795344447243308, 0.21360548088475717, 0.27241608132266043], [0.23131327550940817, 0.3030427239518016, 0.23072062146726086, 0.23492337907152924], [0.24886701950648882, 0.2797069063911187, 0.23135169676130507, 0.2400743773410871]]\n",
            "The psi0 for iteration #16 is:\n",
            "[[0.2594236819926275, 0.2309139682930747, 0.28921144668316806, 0.2204509030311297], [0.25817860878987425, 0.22033214562425904, 0.2831403351555312, 0.23834891043033554], [0.24629357501284288, 0.2184294240435726, 0.28810798556307465, 0.24716901538050992], [0.24555688992551591, 0.21568762082374301, 0.2923727586546972, 0.24638273059604393], [0.23912640854033465, 0.24449470509349852, 0.28374050262380124, 0.23263838374236562], [0.2392117127029791, 0.2681251541663833, 0.26012745259563524, 0.23253568053500245], [0.2340434231555229, 0.27778080786559073, 0.25722922324071873, 0.23094654573816772], [0.23471748695162542, 0.2747995841731735, 0.2588040591332882, 0.2316788697419129], [0.22555716101497666, 0.2735755485265884, 0.2643091296566571, 0.2365581608017778], [0.2199821446592345, 0.267615718688216, 0.26825627001848934, 0.2441458666340603], [0.21921991510588543, 0.26724688714713657, 0.26806583327537387, 0.24546736447160408], [0.22876987023146944, 0.26600279500410146, 0.27577641798307556, 0.22945091678135354], [0.21486585717025153, 0.27103759455491266, 0.27073971412214387, 0.24335683415269216], [0.212797014881543, 0.28261968537065635, 0.2586161579875527, 0.2459671417602479], [0.21895148775977413, 0.2837710307352092, 0.24001003063713675, 0.25726745086788], [0.22078082487473127, 0.30698500412559604, 0.21121932919994768, 0.26101484179972506], [0.23271373166862866, 0.3038727546563628, 0.22082615449251192, 0.24258735918249652], [0.2483393875895344, 0.2686887241425296, 0.23654486132835928, 0.2464270269395768]]\n",
            "The psi0 for iteration #17 is:\n",
            "[[0.2659935438692932, 0.22957835465820176, 0.2851922305532164, 0.2192358709192887], [0.259140407086438, 0.2240514667598344, 0.27362918189903396, 0.2431789442546937], [0.23853962058669453, 0.2260229270364792, 0.28463770863487925, 0.250799743741947], [0.2656103622879917, 0.21572214341757032, 0.2927664803945093, 0.22590101389992864], [0.2464477944467547, 0.23321702559775284, 0.2790039069734273, 0.24133127298206514], [0.23346931229780613, 0.27228140830954506, 0.27252043806988613, 0.2217288413227627], [0.2295204190716805, 0.2756391847437738, 0.26121212402405897, 0.23362827216048687], [0.23302996320516953, 0.27148676357020785, 0.25793015399993485, 0.23755311922468778], [0.22252657246437788, 0.26923509165285875, 0.2642056854360963, 0.24403265044666717], [0.2237612894435854, 0.2720024867405306, 0.2694553616422059, 0.2347808621736781], [0.2299124612205359, 0.26624028572996583, 0.26058596705923764, 0.2432612859902606], [0.22097780580124823, 0.2694738878999363, 0.2728640202862433, 0.23668428601257227], [0.22804913568133114, 0.2620242946484079, 0.2771079155293502, 0.2328186541409108], [0.2030185652613005, 0.2687156679042506, 0.2716899623659581, 0.2565758044684908], [0.21054380054603125, 0.2959727567370488, 0.23912576076808525, 0.2543576819488347], [0.22513901962640917, 0.2990816216122417, 0.21145902875680728, 0.26432033000454186], [0.24198308939819704, 0.30732074231981055, 0.22102286447791664, 0.22967330380407594], [0.2442647919827603, 0.28070454541574497, 0.2314896871265807, 0.24354097547491402]]\n",
            "The psi0 for iteration #18 is:\n",
            "[[0.26171317966410873, 0.23545486873820265, 0.26687093971361897, 0.23596101188406993], [0.2526921579261862, 0.2238223981490505, 0.2615859065077729, 0.26189953741699057], [0.24735375989258523, 0.22176634580738047, 0.28992889534029004, 0.24095099895974442], [0.26348948148947576, 0.21078368142983328, 0.29127020653572183, 0.23445663054496946], [0.23854101932159028, 0.24892300469319947, 0.2804751857045834, 0.23206079028062715], [0.23946408272983358, 0.2693973623891472, 0.25720917324289283, 0.23392938163812657], [0.22406083499243168, 0.27711221549972004, 0.2577781562585871, 0.2410487932492614], [0.2354447255565945, 0.26636566599591477, 0.2514573161573849, 0.24673229229010601], [0.22386196925686938, 0.2814437195318357, 0.2663983379881582, 0.2282959732231371], [0.23174759483010265, 0.2710028615208444, 0.2637805407122501, 0.23346900293680306], [0.21610692672106072, 0.27307639971433606, 0.27412919609412356, 0.23668747747047988], [0.21167675048478735, 0.25800420197132923, 0.28200612452286855, 0.2483129230210151], [0.22114694772678442, 0.2567691840565734, 0.28496382593391634, 0.23712004228272607], [0.21189621689169183, 0.266617129611715, 0.2805458731574509, 0.24094078033914254], [0.2188183830317157, 0.2913652445845697, 0.24375256700615347, 0.24606380537756137], [0.2281452677001119, 0.2927991934518582, 0.21149367714251777, 0.26756186170551244], [0.22933790109914118, 0.3105245022199993, 0.22292094743906898, 0.2372166492417909], [0.25597568247477037, 0.2723950839354638, 0.23325066801734354, 0.23837856557242249]]\n",
            "The psi0 for iteration #19 is:\n",
            "[[0.2596216279268247, 0.2403524837415494, 0.2794693270037286, 0.2205565613278972], [0.2608500550357042, 0.21565832676460706, 0.26334017012743927, 0.2601514480722495], [0.23034121393601742, 0.22574616380846868, 0.3015430103961986, 0.2423696118593154], [0.25818668347483237, 0.22372005133819858, 0.2820231465992962, 0.2360701185876729], [0.24002737871403743, 0.2512425634875576, 0.28093014744575573, 0.22779991035264927], [0.24869807728457904, 0.2680645742663152, 0.24675375478334208, 0.2364835936657637], [0.22904664873073957, 0.280416995440752, 0.2576640346902459, 0.23287232113826245], [0.23260001434040017, 0.2662016543065469, 0.26258944137577517, 0.23860888997727764], [0.2232919796473231, 0.26606183757721713, 0.2687984924788828, 0.2418476902965769], [0.22155125523580763, 0.2727336288244784, 0.2688350138900499, 0.23688010204966406], [0.22688382884228667, 0.2587434972786469, 0.2778913084072153, 0.23648136547185125], [0.2290570903240342, 0.25971001809328237, 0.2754858053022415, 0.23574708628044197], [0.211541263402171, 0.27239302668168913, 0.2806331654164425, 0.23543254449969736], [0.20956215712686516, 0.2796406024350892, 0.27079725873786203, 0.23999998170018355], [0.21389973226145975, 0.29951400256240285, 0.23427963318990544, 0.25230663198623193], [0.2320073647104806, 0.2929834849556029, 0.20647514287389515, 0.2685340074600213], [0.236706176703114, 0.2997974677681218, 0.22502239027888288, 0.23847396524988132], [0.24536729280932662, 0.27717442933523273, 0.23283802722663827, 0.2446202506288024]]\n",
            "The psi0 for iteration #20 is:\n",
            "[[0.26174753160926595, 0.22867675785058048, 0.2881921470561696, 0.2213835634839838], [0.24688795408630182, 0.22383507878330225, 0.2765780126232045, 0.2526989545071912], [0.23742009272195008, 0.22393566721772104, 0.29218708146031747, 0.24645715860001133], [0.25640772267482875, 0.2168656187817304, 0.27938761054470057, 0.2473390479987402], [0.24228708160680903, 0.2439179507177977, 0.2808162899978369, 0.23297867767755628], [0.2463226066116883, 0.268899309648149, 0.26917011745073377, 0.2156079662894289], [0.23234854788812567, 0.2602536392365898, 0.25986466037593875, 0.24753315249934568], [0.2115251612816978, 0.2719836722041923, 0.2766890362972613, 0.23980213021684843], [0.22164527215221833, 0.2693515937569467, 0.2676136557684867, 0.24138947832234822], [0.2275234279967949, 0.277744443732533, 0.261511599530046, 0.23322052874062613], [0.2237722999563053, 0.2773574657549007, 0.25899328774134506, 0.2398769465474488], [0.23092847898869673, 0.266250012884388, 0.26804930456969817, 0.23477220355721695], [0.2254847797883725, 0.26479014121893724, 0.2687300136563975, 0.24099506533629267], [0.19482193450934868, 0.2881730422339262, 0.2679064817585581, 0.24909854149816693], [0.2291134835760408, 0.2844837524832761, 0.24504328540741127, 0.24135947853327175], [0.23242304382205178, 0.2838004129683764, 0.21100344861632206, 0.2727730945932497], [0.2269397379116426, 0.3125099735589497, 0.22921834361650642, 0.23133194491290124], [0.2493737714280595, 0.27344556964933536, 0.23109075686031452, 0.24608990206229053]]\n"
          ]
        }
      ]
    },
    {
      "cell_type": "markdown",
      "metadata": {
        "id": "GAqVKDgXNhi2"
      },
      "source": [
        "Because random parameters are used each iteration, both psi1 and psi0 are random each time. There is no observable trend in the psis. The changes to psi would look similar to the log likelihood in that there would be random increases and decreases."
      ]
    },
    {
      "cell_type": "markdown",
      "metadata": {
        "id": "Ixs58dhD9WRZ"
      },
      "source": [
        "## 4. Plot a figure that shows the distribution over $C_{ij}$ for a few of the input sequences, and compare that (in the visualization) to the ground truth. How close was your model to predicting the real motif location?"
      ]
    },
    {
      "cell_type": "markdown",
      "metadata": {
        "id": "g4OlquQCSFeG"
      },
      "source": [
        "Run the model to get the optimized posterior"
      ]
    },
    {
      "cell_type": "code",
      "metadata": {
        "colab": {
          "base_uri": "https://localhost:8080/",
          "height": 240
        },
        "id": "NHKoa6NASMG0",
        "outputId": "36620d64-e3ab-4d15-ad96-847a4e7ba3f5"
      },
      "source": [
        "num_iterations = 20\n",
        "\n",
        "# Create an empty list that will contain the log likelihoods for plotting later\n",
        "loglikelihoods = []\n",
        "# Create an empty list to store each parameter set per iteration\n",
        "params_list = []\n",
        "\n",
        "# Run EM\n",
        "for i in range(1, num_iterations+1):\n",
        "  # Keep track of iteration number\n",
        "  print(f'Iteration #{i}')\n",
        "  if i == 1:\n",
        "    # Randomly initialize parameters for the first iteration\n",
        "    params = initialize_random_params(seq_len, motif_length)\n",
        "  else:\n",
        "    # Use parameters from the last EM implementation\n",
        "    params = new_params\n",
        "  # Run E-step to calculate posteriors\n",
        "  my_posterior = E_step(params, seq_data, seq_len, motif_length)\n",
        "  # Calculate log likelihood \n",
        "  llh = loglikelihood(seq_data, params, my_posterior, motif_length)\n",
        "  # Add log likelihood to the loglikelihoods list \n",
        "  loglikelihoods.append(llh)\n",
        "  # View log likelihood after each iteration(we should see convergence)\n",
        "  print(llh)\n",
        "  # Run M-step to further optimize parameters using new posterior from E-step\n",
        "  new_params = M_step(seq_data, my_posterior, motif_length)\n",
        "  params_list.append(new_params)\n",
        "  # Save latest posterior to access for questions\n",
        "  if i == 20:\n",
        "    optimized_posterior = my_posterior "
      ],
      "execution_count": null,
      "outputs": [
        {
          "output_type": "stream",
          "name": "stdout",
          "text": [
            "Iteration #1\n"
          ]
        },
        {
          "output_type": "error",
          "ename": "NameError",
          "evalue": "ignored",
          "traceback": [
            "\u001b[0;31m---------------------------------------------------------------------------\u001b[0m",
            "\u001b[0;31mNameError\u001b[0m                                 Traceback (most recent call last)",
            "\u001b[0;32m<ipython-input-2-d7c49271d92d>\u001b[0m in \u001b[0;36m<module>\u001b[0;34m()\u001b[0m\n\u001b[1;32m     12\u001b[0m   \u001b[0;32mif\u001b[0m \u001b[0mi\u001b[0m \u001b[0;34m==\u001b[0m \u001b[0;36m1\u001b[0m\u001b[0;34m:\u001b[0m\u001b[0;34m\u001b[0m\u001b[0;34m\u001b[0m\u001b[0m\n\u001b[1;32m     13\u001b[0m     \u001b[0;31m# Randomly initialize parameters for the first iteration\u001b[0m\u001b[0;34m\u001b[0m\u001b[0;34m\u001b[0m\u001b[0;34m\u001b[0m\u001b[0m\n\u001b[0;32m---> 14\u001b[0;31m     \u001b[0mparams\u001b[0m \u001b[0;34m=\u001b[0m \u001b[0minitialize_random_params\u001b[0m\u001b[0;34m(\u001b[0m\u001b[0mseq_len\u001b[0m\u001b[0;34m,\u001b[0m \u001b[0mmotif_length\u001b[0m\u001b[0;34m)\u001b[0m\u001b[0;34m\u001b[0m\u001b[0;34m\u001b[0m\u001b[0m\n\u001b[0m\u001b[1;32m     15\u001b[0m   \u001b[0;32melse\u001b[0m\u001b[0;34m:\u001b[0m\u001b[0;34m\u001b[0m\u001b[0;34m\u001b[0m\u001b[0m\n\u001b[1;32m     16\u001b[0m     \u001b[0;31m# Use parameters from the last EM implementation\u001b[0m\u001b[0;34m\u001b[0m\u001b[0;34m\u001b[0m\u001b[0;34m\u001b[0m\u001b[0m\n",
            "\u001b[0;31mNameError\u001b[0m: name 'initialize_random_params' is not defined"
          ]
        }
      ]
    },
    {
      "cell_type": "code",
      "metadata": {
        "id": "nEeQ51eY9cO_",
        "colab": {
          "base_uri": "https://localhost:8080/",
          "height": 207
        },
        "outputId": "7cd51df7-61a0-46eb-a2ac-f66a899cf6cc"
      },
      "source": [
        "for i in range(200):\n",
        "  plt.plot(optimized_posterior[i])\n",
        "\n",
        "\n"
      ],
      "execution_count": null,
      "outputs": [
        {
          "output_type": "error",
          "ename": "NameError",
          "evalue": "ignored",
          "traceback": [
            "\u001b[0;31m---------------------------------------------------------------------------\u001b[0m",
            "\u001b[0;31mNameError\u001b[0m                                 Traceback (most recent call last)",
            "\u001b[0;32m<ipython-input-1-33e93392c6c9>\u001b[0m in \u001b[0;36m<module>\u001b[0;34m()\u001b[0m\n\u001b[1;32m      1\u001b[0m \u001b[0;32mfor\u001b[0m \u001b[0mi\u001b[0m \u001b[0;32min\u001b[0m \u001b[0mrange\u001b[0m\u001b[0;34m(\u001b[0m\u001b[0;36m200\u001b[0m\u001b[0;34m)\u001b[0m\u001b[0;34m:\u001b[0m\u001b[0;34m\u001b[0m\u001b[0;34m\u001b[0m\u001b[0m\n\u001b[0;32m----> 2\u001b[0;31m   \u001b[0mplt\u001b[0m\u001b[0;34m.\u001b[0m\u001b[0mplot\u001b[0m\u001b[0;34m(\u001b[0m\u001b[0moptimized_posterior\u001b[0m\u001b[0;34m[\u001b[0m\u001b[0mi\u001b[0m\u001b[0;34m]\u001b[0m\u001b[0;34m)\u001b[0m\u001b[0;34m\u001b[0m\u001b[0;34m\u001b[0m\u001b[0m\n\u001b[0m\u001b[1;32m      3\u001b[0m \u001b[0;34m\u001b[0m\u001b[0m\n\u001b[1;32m      4\u001b[0m \u001b[0;34m\u001b[0m\u001b[0m\n",
            "\u001b[0;31mNameError\u001b[0m: name 'plt' is not defined"
          ]
        }
      ]
    },
    {
      "cell_type": "code",
      "metadata": {
        "colab": {
          "base_uri": "https://localhost:8080/",
          "height": 265
        },
        "id": "B1pVfyYadENc",
        "outputId": "8739dccc-ba4d-430f-ca7d-a11e0ec1772d"
      },
      "source": [
        "  for i in range(200):\n",
        "    plt.plot(sequence_padded_motifs[i])"
      ],
      "execution_count": null,
      "outputs": [
        {
          "output_type": "display_data",
          "data": {
            "image/png": "[encoded data removed]",
            "text/plain": [
              "<Figure size 432x288 with 1 Axes>"
            ]
          },
          "metadata": {
            "needs_background": "light"
          }
        }
      ]
    },
    {
      "cell_type": "markdown",
      "metadata": {
        "id": "iHeUPqxu9nBr"
      },
      "source": [
        "## 5. Train your model using 80% of the data, holding out the remaining 20%. Evaluate the log likelihood of your held out data using the model you implemented in this assignment, and compare it to the log likelihood from the simple latent model we used in class, using the same training/held out data. Which one is better?"
      ]
    },
    {
      "cell_type": "code",
      "metadata": {
        "id": "aWZ_T8zj9qMr",
        "colab": {
          "base_uri": "https://localhost:8080/",
          "height": 158
        },
        "outputId": "9949394d-b0ad-4de5-9c79-1b760da07551"
      },
      "source": [
        "my_ohe_at_gc_sequences[1]"
      ],
      "execution_count": null,
      "outputs": [
        {
          "output_type": "error",
          "ename": "IndexError",
          "evalue": "ignored",
          "traceback": [
            "\u001b[0;31m---------------------------------------------------------------------------\u001b[0m",
            "\u001b[0;31mIndexError\u001b[0m                                Traceback (most recent call last)",
            "\u001b[0;32m<ipython-input-48-a72183076d1c>\u001b[0m in \u001b[0;36m<module>\u001b[0;34m()\u001b[0m\n\u001b[0;32m----> 1\u001b[0;31m \u001b[0mmy_ohe_at_gc_sequences\u001b[0m\u001b[0;34m[\u001b[0m\u001b[0;36m1\u001b[0m\u001b[0;34m]\u001b[0m\u001b[0;34m\u001b[0m\u001b[0;34m\u001b[0m\u001b[0m\n\u001b[0m",
            "\u001b[0;31mIndexError\u001b[0m: index 1 is out of bounds for axis 0 with size 1"
          ]
        }
      ]
    },
    {
      "cell_type": "markdown",
      "metadata": {
        "id": "17Ed0I_N9s9Z"
      },
      "source": [
        "## 6. Train your model on the atgcsequences.txt file (that had a GC-rich region embedded between two flanking AT-rich regions). Does the model work better?"
      ]
    },
    {
      "cell_type": "code",
      "metadata": {
        "id": "Bq80KKxQ-Ed3",
        "colab": {
          "base_uri": "https://localhost:8080/"
        },
        "outputId": "9462c14c-21f1-4ec9-a1be-ae1a65089395"
      },
      "source": [
        "# Set the number of EM iterations\n",
        "num_iterations = 1\n",
        "\n",
        "# Sequence data used\n",
        "seq_data = my_ohe_at_gc_sequences\n",
        "\n",
        "# Length of the motif\n",
        "motif_length = 18\n",
        "\n",
        "seq_len= len(my_ohe_at_gc_sequences[0])\n",
        "\n",
        "# Create an empty list that will contain the log likelihoods for plotting later\n",
        "loglikelihoods = []\n",
        "# Create an empty list to store each parameter set per iteration\n",
        "params_list = []\n",
        "\n",
        "# Run EM\n",
        "for s in range(1, num_iterations+1):\n",
        "  # Keep track of iteration number\n",
        "  print(f'Iteration #{s}')\n",
        "  if s == 1:\n",
        "    # Randomly initialize parameters for the first iteration\n",
        "    params = initialize_random_params(seq_len, motif_length)\n",
        "  else:\n",
        "    # Use parameters from the last EM implementation\n",
        "    params = new_params\n",
        "  # Run E-step to calculate posteriors\n",
        "  my_posterior = E_step(params, seq_data, seq_len, motif_length)\n",
        "  # Calculate log likelihood \n",
        "  llh = loglikelihood(seq_data, params, my_posterior, motif_length)\n",
        "  # Add log likelihood to the loglikelihoods list \n",
        "  loglikelihoods.append(llh)\n",
        "  # View log likelihood after each iteration(we should see convergence)\n",
        "  print(llh)\n",
        "  # Run M-step to further optimize parameters using new posterior from E-step\n",
        "  new_params = M_step(seq_data, my_posterior, motif_length)\n",
        "  params_list.append(new_params)"
      ],
      "execution_count": null,
      "outputs": [
        {
          "output_type": "stream",
          "name": "stdout",
          "text": [
            "Iteration #1\n",
            "-497.31814445173416\n",
            "The sum of our new lambda_j is: 1.0\n",
            "The sums of each row in our new psi1 are:\n",
            "1.0\n",
            "1.0\n",
            "1.0\n",
            "1.0\n",
            "1.0\n",
            "1.0\n",
            "1.0\n",
            "1.0\n",
            "1.0\n",
            "1.0\n",
            "1.0\n",
            "1.0\n",
            "1.0\n",
            "1.0\n",
            "1.0\n",
            "1.0\n",
            "1.0\n",
            "1.0\n",
            "The sums of each row in our new psi0 are:\n",
            "1.0\n",
            "1.0\n",
            "1.0\n",
            "1.0\n",
            "0.9999999999999999\n",
            "1.0\n",
            "1.0\n",
            "1.0\n",
            "1.0\n",
            "1.0\n",
            "1.0\n",
            "1.0\n",
            "1.0\n",
            "1.0\n",
            "1.0\n",
            "1.0\n",
            "1.0\n",
            "1.0\n"
          ]
        }
      ]
    },
    {
      "cell_type": "markdown",
      "metadata": {
        "id": "jkc5IO2o-E6i"
      },
      "source": [
        "## 7. The original training set in sequence.padded.txt has 357 sequences. Randomly sample another 357 sequences of the same length (just from a simple generator, that produces each base at equal frequency) and train the model with all data. Does it still recover the same motif? What if you add 3000 noisy sequences?"
      ]
    },
    {
      "cell_type": "markdown",
      "metadata": {
        "id": "4EQJ9k8E-7T0"
      },
      "source": [
        "Generate 357 sequences of the same length that produces each base at equal frequency."
      ]
    },
    {
      "cell_type": "code",
      "metadata": {
        "id": "bMYZPCktUaAg",
        "colab": {
          "base_uri": "https://localhost:8080/"
        },
        "outputId": "c800d853-f60b-4cb6-99bb-a43048299f56"
      },
      "source": [
        "import random\n",
        "\n",
        "# Number of sequences to generate\n",
        "seqs = 357\n",
        "# The minimum sequence length\n",
        "min = 40\n",
        "# The maximum sequence length\n",
        "max = 40\n",
        "# GC-content as a proportion\n",
        "gc = 0.5\n",
        "\n",
        "assert(seqs > 0)\n",
        "assert(min > 0)\n",
        "assert(max >= min)\n",
        "assert(gc >= 0 and gc <= 1)\n",
        "\n",
        "# Use probabilities for random sequence generation\n",
        "# This does not guarantee that all bases are present at equal frequency\n",
        "# But this means the sequence length does not have to be divisible by 4\n",
        "# And base pair frequencies are close to equal\n",
        "my_seqs = []\n",
        "for i in range(seqs):\n",
        "    l = random.randint(min, max)\n",
        "    seq = []\n",
        "    for j in range(l):\n",
        "        r = random.random()\n",
        "        if r < gc:\n",
        "            r = random.random()\n",
        "            if r < 0.5: seq.append('G')\n",
        "            else:       seq.append('C')\n",
        "        else:\n",
        "            r = random.random()\n",
        "            if r < 0.5: seq.append('A')\n",
        "            else:       seq.append('T')\n",
        "    my_seqs.append(''.join(seq))\n",
        "\n",
        "print(my_seqs)"
      ],
      "execution_count": null,
      "outputs": [
        {
          "output_type": "stream",
          "name": "stdout",
          "text": [
            "['CTGCCCCCGGGCCCTGTGTATACTTCCGCAGCAGTGAGTT', 'GGCCCAACAGCGGTACAGGACTTAAGCTCTCCCGATTTGC', 'GCTGCACGGAAAACAAAGGTACGAAGAATGTATGCAACGG', 'ATCTAGGATAGTCCAGTAGGGAGTCTTTGGCTGGACGTGT', 'ACACCCCCGGCGCATTCGCCCGAAAGGGCCTACGGGGACT', 'GGCACGATTTATCGTTATAAGTCATAACTTCTCTATGGCG', 'GTGTCTCTACGCCCCATCGCATACCGCACTGGCTCGGGGA', 'TGACCAGCCTTCCCCCTCCAGAGCACCCATGATATACTTC', 'CTTGGCCGCCTTCGCCCCCCTCAGAGGCCTGTGTGGGTTC', 'GGATGGTTTACTAATTCTTGGGCTTTCGGTCTCATTCCGG', 'AATGAGCAGGAGTCTAGTAATCCACAAAGGCTGAGATTGA', 'TGATTGCAGACGCACAAAAGCGTGGAAACCAAACCCTACG', 'CTAACTATTATACATCAGTGAGCGGGTGCTCTCAATGCAG', 'CAGCGGTGCCTCACCGATGTCGAAGGATACCTCTCCTCCC', 'TCACGTTTCATCGCATCACTGACCTATGCCCCCCCGCCCC', 'TGTATTTTAGATTCGTTACGTCTACGTCCGCTTGTGGTCC', 'TATCGACTCGCGTATCTGGACGCGGCTCGTGTTAACTGTC', 'GGAAATCGTAGGCACCTTGTCGCTACCCTCAGAAAGTCCA', 'CAATTAACGCCAATAAATATACCCATTCTTGCCGATAATT', 'CTCCTGATAGGTCCCATTTCAAACAGAGCGCTGTCGGACG', 'TCCATGCCTGTTAATCAGCTGCCGACGTCCAGTACGGGTC', 'GCTTTAGCAAGACTATAGTTAATACGAGCCGTAGTGTTTA', 'ACTTGCGTTGTTATTAGATGTAACAGCCACCGGGCTGGAC', 'GGCAACATGACCTCAAATGTTCCGACTCTAAACACGTCCG', 'TCATCCGTGGGCGTTAGAGGCTTGAACTCAAGGCTCATTC', 'GACAGTTGGTTTCATGTGAAGTTTGGGAAAAAACCTCATA', 'AGTACCCTGATAGATTGTACGTACAGTCTCGAGTCCCTAA', 'TGGTTTGTGGAGCGAGGAATCCGCTGTCTTTTCCGAATTG', 'GCTGGGCCATAAACGGCTTACGATTGGATACACGTAGCCG', 'GCAGCACACTTGTATGAGTACGCTAACCGAGATGCACTTG', 'TCTGTTTTAGGCTGAGCGTCAGTGGTGAACTATGCGTTAT', 'ATGCGTGGGCGTGCTCTTTTGCCGACGTACGGAATAGGCT', 'TTTTGCCACAGAATTTCCGGGGAGAATTGTCCTCTGCGAA', 'AGGTCCTACCCCGCCGAGACCTTACTCATGTCGTGCAGTT', 'ACGGGGTTTGTAACCCAAAGATGCGATGGATTGAATGATG', 'AGTAGCGCTCAGGTTCCACGTGGGGGCAATGGTAGCCCCC', 'GAGCGCGAGTCCCGCACCGCCAATAGTTAAACTGGACATA', 'GAAGCCTTACTTGCGTGAAAGGCTACTGGGTTGGCGAAGC', 'ATAAGCCAAGCACCGACCCTGCCTAGATTTCCAGCTCCAA', 'GTCCCGTCCGGGGACGTAGAGGGGGTCGCTAGGCAGCAAG', 'GGTGTTTCGGGGTATCGCCATTCTAGGGCCCCACGCATAG', 'TGAACTTTATGACAGTAATTGCGCCGCAAGAGACCGCGAG', 'TCATGTCAAAGTCACCCGGTGTGGGCTACATGCCGCGTAC', 'ACTTGACAGGAGCCTCACTCGCTTTAAAACCAAGAACGAC', 'AAGTAACTTCAATCCATCTGAACGTAGGGCCTTCCCAACG', 'CCTAAATAGGTGAGAGCTCTACCTTTGCATAGGGGTACGA', 'GAGACTGGGTCAGTATGGCGTATTGCCGAATTAGCTCGCT', 'ATAGCTGGTCGACCTGATGATGACTACAGTATCCGTGTTC', 'TTATCGAAGTGCTGTGCATCCATGTAGACTGCTGGATCAA', 'AACGTAATTATGTTCTATGCAGGAATTGCATTCTACCTAC', 'GGTATTGTGATCAGGGGATTGAGTGCTTCTATATTGATGC', 'GCGGTTGCTGCGGTGGGACTCTGTGTCGTCTAACACCGGC', 'CGTCCGTGACTCTACGGTACGTGAACTGAAGATCCGTCTA', 'GTGAGCACCTGGAAACCCGGACTGGCCCTTTTCCCCCGGG', 'TACAAATCGATAGACATGTGTAGGCTACTCCTTTTAAGTC', 'ATAAAGTGCAATGGGCGTATGTCAAGCATATTGAAGCGCT', 'GGTTGGCGACTCAGAGATACGTTGTCCAGAGGACGGAGGA', 'CCCGGCGTACCGTCGTGACCAGTCGTGAGAATGTGTGCGG', 'ATACGGCTCGGACAGGAATCGGAATGAGTGCCAATATTGA', 'CTAGAAGGAATAATAATAGCCGTGACATAAAGTTTTTCCC', 'GTTGTCTTCCAGGAGCGTGAAGAGGTTTATACGTGTCTGT', 'GGTCCTCCTCCTATCTGACTTATACGGCTCCGTGCGGCAT', 'GTTCTCTAAGCTCATTCGTCAACGTAGTTTAATTCTACTG', 'GAAGCTAACGATACAACCATGGTACGATTCCTACCGTATA', 'CCCAGCGCTTAGCTTTTATACTCTTAAGCAAAGGAGGATC', 'GCTCGGTCAAGGAGATTGCGTCCCAAATATGGAGAAATCG', 'GGGGTTAATGCCGCTCAATAAAACCTCCACGTCCATATGG', 'ACAATGTAAAAGTGCGTCCTAGAAGGACGCGACTAGCACT', 'GCTTAAGAGAACTGTTCCTGCGGTGAGCTCCCCTATGCAT', 'AATGATAGCATCTCGTGAGACTCTTTGTTGAGGAAAAGCG', 'GACGCTTATCCACCCCTGCCTTATAAGCGCCGGCGGCGTT', 'CGGACGAATTAATGGTCAACAATACATGACTCCCCTGAAT', 'CTTTTATCTACGAGAGGCCGGCTGAACCCGAAAGTTCTCG', 'CCAAACCATATCACCAAATGCGAGTACTCGGACTCAAGAT', 'GGAAATCGTCCGGCCGACGGCACCGGACTCTCTCGGCAAA', 'AATAAGCATTATTAAAATCCTTAGGTCTAGACGGTAAGGA', 'TGGGTAAGTGACACGGTCGCATGAGGGGATGTCAGATGGC', 'ATGTAGTTATTGCTGCGCATGTACGTTGTCATGTGAATTG', 'TCAGTAGTATCCAGGTTTAGGCATTGGTCCAAATCATCGA', 'TCGTCAGCCGCGCCCTTCCGCCCGGTATGGTTCCTCCGGA', 'GGGAGCTCCAACAGAGTTAGCAGTAATCGATCAAATAGTT', 'TACGAGGCATGAGGGGTCAATAGACACTCCTCCGAACGCC', 'ATCCAAGGTAAGTGATAAGCTTCCTTTAAACAGTAGTCTG', 'GTGAGAGACCCGGGCATACCCGAGCCGCATATGCAATCAT', 'GGTAGACTAGACTGTAGGGAGGGGTATCAAACCTGGATTC', 'GTGTGAGGGGGTTTGGATTTAACCTCCGCGCGTCGTCATA', 'ACCCATCATTATATCGCATGCGGCAGCGATTGACGTTACT', 'ACGAAACTGTCGTGGCGTGTCGGCCTGCAGCCCTGGGCTT', 'CGCCCCATCATTAGCTGGATGCCAGAAGCACTGAGCCTCA', 'CGGCTCAAACGCATCCTTACTCACCAGATATGCTGTATCA', 'GACTACGGCCCGGGAGCGTTGCTCTTTCTTAGACTCCCCT', 'TGACCGTGCTTGGAAGCGTGCATATCTGGGGGAGCTTGGA', 'CTTTTCCGCCGCTGCCCTCCAAACCTTTAATCCCTTATGC', 'GGCAACAATTAAGACTAAGTTCCTGGGAAACTGGCCCCAC', 'AACTAGTCAGCGACGACACGGAACACACGGGGCCGGTAGA', 'GTCAGAGATGCAGTAGAACCCAAGTAGGTGCAACGGCATC', 'TATCTAATACCGAAAAGGAACATGAAGAGGTGGTGCGGGT', 'CTGTTACTTTCCGGCACTATCTAGCTTAGATTTTGTTGCA', 'AGTATTGCATCTCGAGTGCTTGCCATTGACTTTCAGCACC', 'CTGTTGAAGTGTATTATCAGCGTATTAGTCGGGTTGTTTT', 'GGGCGCAATTACCCTTAACCTGGCTTCTTTGTAGTAGGAT', 'GAAGACTCGGCTGGCAGTCCTACCGCGGCGATACTCTGGC', 'CGTGGATAGAGGCCGGGAGTACGGGAGAGTCGCTAATCAC', 'ATTGTACTCTAGTTGCGATGAATTCACCGTTTTACTTCCT', 'TACCTTTACAGTTGATTAAGCAGTGCACCACTTTGACGCA', 'CAATGCATTCCCCAACGAGTCATCTACTGCAGTAGCCACA', 'GCCATGGTTCGACATCATAAGGTTCAAAGTCAGACGTCTA', 'GCGGTTGCCTCAGTGACAGTAGAATTAGGTGACACATTGA', 'CAGACAGTATCCCGCCAAGAAAAGGAATCGTGGCCGAGCG', 'TAGATATGACTATGCTACGCCTCATGAGGGCGCCTAGAAT', 'GACCATTCACAGCTTTTTTTCGATAAGGTCAAAGGACAGC', 'CCTATTCGCTGTTGTAGGCCAGGCACAGGCGTGTCTTATT', 'CACCTAAAGCGCACGAAACTGTCCATATGTCTTAGGTTCC', 'GCCCTGATGTCTAATAAACTTCCTACGACACCGGAAGTGG', 'GCGACGAAACTGACTTTCCCTCGCTCGGCGGAATTCAAAA', 'AAGTGTACACAACTACTTTTGTACCGCTAGCTCAGTATGT', 'ATGCGTTGTCTAACCATCAGGCCATTATCCCGTTATTTGG', 'CAATGATGAACAGCTAGTGGGGGGTCATCAATAGAATCTA', 'CCAGTTTTGTCCGGGCAGGTCCATTCAAACTTGTTGGTTT', 'TGCCAGGAAGATGGTTTCTTTAGATCATAAGGTCGGCTTA', 'TTGCCCAGACATAGACTTAGGTAGGGGTGTTTCAGGCGTC', 'TGTACTTAACAGTGAGTGCTAGCGATGGGACAAGTGGGGT', 'CCAGTGTAGGGCAAGGAGGTTACCGGTAGTGAGTTCTAGC', 'AGGCAGACTCTTGGTCGCTCTGGTGTATCTACCCCTGGCC', 'CAGACTAAGGAGACCTCAAGGTACTGGCCTAGGCGAACCT', 'GAACGGTAGGATATAACGGATATCCATGGGGGGCACCAGG', 'ACGTTACGTGTATCTAACATCCAACGCAAGCGAAAGCAAA', 'TTCTCGCGTCCTTGTGGGCTTTGTCTGCTGTAAGAAAGAC', 'TGGAGCACCGAATCCGCAAATAACTGGCTTCATCGACGGA', 'GCCATTAGCGACGTACGACAAATTACGAACTTCGACGTAG', 'GGTAGTCAAGGGCGGTTGAAACGCGCGCGGGCTAAGGATC', 'CGTAGACGTTACGTGCACACACCACGCCATGCGCCTCCTC', 'GCGGTCCCCACTTTATCTCGTAAGATCACGTCAATTGTTA', 'CGAGTGCAGCAAATCCGATGAGCAGGTGAGTACTCCGTGC', 'AAAGCCCTGGAGGTGAGGCTGCAGGTTTAGGTCAGGTACT', 'ACCCTGCCGGTTGACCAAGCCGATGAATCCGCCAGCGGTA', 'GGATACTAGTTACAAGAACTGGGTCTACGAGTGGGAAAAT', 'GATATAAGATATTGGACTTTCAGTGTTGCTTAGGCTGGGT', 'AAGGTTGGTACTGATAGTGTAGATCTACCTACGGCTCCGG', 'GACGGGACGCGAATTGTTAGAAAGTCGTCATTCTATAATT', 'GGGAAGTTTAGTCTAAACGGTAACGTATAGTGCGAGTTAT', 'TACCTTGAAGCCGCGGCAATTGCCAAAGCCGTGGCGATGT', 'GTATTCCCCCATCAATAATCGTAGGTTTTTCTCTCGACAA', 'AGCACTCAGAGATTGAATCCAGCTCTAGGCTGTGTCCTTG', 'ATCGTAAGGTATGTGCAAGGGGATCGATATCATCACGTCA', 'GACACGGCCAGTCGGGGGAATAGGTGTCTAAAGCGCTTCG', 'TGGTGCTAACTAGTGGAAAAGTCGGAGATAGTGCGAAGCC', 'AGACTCATGAAATCAGTGTGACCCGAGCCTCCGTCTCCCC', 'ATTGGTAACCTCCTCTCGGTGCATGCGGGGCCACGGGATT', 'GCGCCTGGACTGTTTCAACGGACGAAAGTGCAGTGATTCG', 'AGCCTCGACACTCTCAGCCCCGTTTTTCAGCTAGTCTTGG', 'CAAGTTCGCGTCACTATTCGAACTCCAGGAGGCACGGGGT', 'AGCCTCCTCCATCTCTGGGATTGCTTGATCCCCGCCGTCT', 'GATCTCAAGACAGACATACCGTAGGCTGACTACTTCGCGT', 'GAAGCTGCAAGTGCACCTACTTGGTATCACGTATGGTAGG', 'ATTTTACACGTCCAGGGGGGTCGTATATGTCCTTTCTCAA', 'AAGTCGATTGGAGGGTGTGTCGATGTCCCGTATCTGATGC', 'TGCCGCCACTCGATAATGTTGATTCCCTTAAGGTCTCCGA', 'TATGGAATTGGCAATTAGAGTGTACGTAAAAAGCGAATGC', 'CACGCAGTTCAGGATCAAGCCCGTCCTTCACCCGATGTCC', 'TAGAGAAGGCTCATACCCCAGCAGCGCCTTCATGTACCCG', 'TGCCCGTCCCTTAGGCTGTGAGTAATATCCCTTACCGACT', 'GTCGTAAAAGACCATCGGCGCCGTAGGGAGCTTAGAGATG', 'AGATTCGAATCTTTTTGGAGCCTAACCTGTAAAGCGCCCG', 'GGAACAACCATGCACGGACTGCTAACAAGCGTTGTTTATA', 'AGCTCTTTACTCCATGGGTTAACGACACCGGGGCTTTATC', 'ATCTAAGTACTCTTAACCCTTCGCACAGGACTCAAGATAT', 'GAGCGCTTACCCTTCGACCAGTAGCGAAAGCATTAGCCAC', 'GCGTCCCGACGATTCTTTCGGAATCGCTTCCTAGCTCTAC', 'GGGTGTATCCATACGGATAGAAAATTTGTATTTGCTTCCG', 'ACGGTTCGTTGCTAGTGGCAGTCTGTTCTCTTGATGCAAC', 'GTCTTGACTCTTATCATTTTGGGTTGTGAGCACTGTCCCA', 'CCAGATTAGAGGAGGGTATGATAGGGGCCCATCCGGGTGT', 'AGTGCAGGGACAGACCCAGTCGACTCTCTCAAACATGGCT', 'CGGATCCAAGGTAGTAACGTTGTAGATCTACGTTGTACTC', 'CATCATCGAGGGTAATGGGTCCCCCTTGTAACATGAAATC', 'TGATCCTGCCTTAGTCCGCGTGTGCTTCCGAGTGGAGGCC', 'GCTAGGCTAGATACGAGCCGGTAAATGCTCCGAAAGTAAG', 'AAGCACTCTGACTTATCCATTCTTAGGCTCCCGTAAATCG', 'GTCGATTAATCGACTTACGACTCACCTAGGACGTATGACT', 'AACTCACGAACTCAGGGAGCGTACCTTAAAAATGGATCGC', 'ACGTCACAAACAACAAGCCTCCGAGCCAATAATTTGGGTA', 'CGCATGCACCACGCTCCTTTGGCATGCGATAGACGGCCAT', 'TTTGTCTGCGCAGGGTTTATAGGTTATCTGATTAAGCAGA', 'GGGCAGTGTGGAGATAGTTGAGCGCCGTAGGGCCGTTCTA', 'GTCACTTAATCCTATAGACCGCTCACATGGGATACGAATG', 'TCTAACCCCTGAGGGATGACCTCTCACATTGTATGGCTGG', 'AAGAATTTTGACGAAAAGACTGTCGATGTAACTCGGAACT', 'TGCACGCCAGGAAGCTGGAGATGGTAACCCACAGCACTGC', 'TCGCTCACCTCTACGCGACCAGTGTTGATATGTCGAACGC', 'TCAAGGATGTTCCTTTCGGGAAACGCTATAGCACCTTATT', 'ACCATAGCCCTGTCTAACCGATGCTTTTTTCGACGATCCA', 'CCATGACCCTCTCTGCCGACCACCGGAATTGCACACACCC', 'CAAATTTAATCTGCTGGGTTCTGATCACATCACAAACGTC', 'CCGAGGAATAGAACCATCATGGAGCTTAACGACGGAAGTA', 'TGAATGACGTCTACCCGAGGCACCAGTGCGTTTAGGCCGT', 'GCTTTAACGACCTTATATATAACCCGAGTAGGACTGGCGA', 'TGGTTACCTTTGCTGCTTTCTATCGTTTCACCCATCACTT', 'GACCCAGGAACTAAGCGGTTAATCTCACACGCGCTTTTTC', 'AAGCCATTTCTGGATCATCAAGGTAATTAGAGTCAAACAC', 'AACATGGGTGGGGGAGTAAAACCGTCGACCACACCGCATT', 'GACATATTACAGAACTCAAACATCATGAAAGGGCTAAAGC', 'TCAGAGTTATACTCAGAAGGTCCCCATAACGGAAATCAAG', 'AATTATCCCCTGTTAGACACTTTTACCACCACTGGGCTAG', 'TCACGGCATACGTGTACCCGCCCCACGCTAGTATCCAGTG', 'CGTGGGGGACATCAATCAGGAAGAGGCAGGGCGACAGCGC', 'AAGCGTGGGCATCGAGGAGGTCGTCAGTTGGTACAGAACG', 'ATCTACCACGTGACAAGCCTTTTCCGTTAGGTCCCTCTGG', 'CAGCGTTCTTCCCTCACCATCATTTTTTCTTCAACACTGC', 'CTGGCCTTGTGTCGGGCTAGGCTTCATACCCGGAAATCTA', 'TCGGAATGCTTCCGATCCAGCCGAGCTGGCTGGTCGTAGC', 'TCGTAAGCGTATATCCCAGAGGTTGTATCTCGTGCTGCGG', 'CTCAATGGCTGGCGGGCAGGGAAAGACACGCAGATTTGAA', 'CGTTTCGCCATGATTCAGACTGCTCCCCGGCCTGGGAGTC', 'GTGCCGGTATTTATGTTTATTCCTGGCCGCAAGTAACTAA', 'CCATTTTGCATTGGTTAGAGCCGATCGAGTGGTTAAAGGT', 'ATCCCGATTCGCCCGGAGATCATCGTGGAATCCGGGCCTG', 'ATCGACTTTGACGATTGGAAAACGTAGTATGGCCTAGAGG', 'ACTTGAGAATAGAACTCCTATGTCATTATTACCGTTGGGT', 'GGAAACCACCCAGGTCTCGACATGGCAGAAGGTCTGGTGA', 'GACTGATTTCACTCTGAGGTAACTAAGCCGCAGAGTGTGA', 'TGAGAGGTTTATTGGGGCACGATATCACTGGCGTGTTCAC', 'GCATATACGATAAATCTACATAAGCTGGTATCCTACTCGC', 'GTGTCACAGTGTAGCCCAGGCCTCTGCGTTACTGGTGAGC', 'TTTGGACCCTCATGGATCCGGGTTTCGGTGTAATATCATA', 'ACGGTGCGGGCTAACTAAGCAGCGGGCCGGCGGCCAACTG', 'CAGCAGTTATCTTCCAGCACTTGCTCGATTTTCAATTCTC', 'GTATTCTAAAAGTTTTGCGCCGGAATCTACCTCAATCCAG', 'TACAAACTAAGTGTACTCAGCCTCCCTCGGCCTCTACGAT', 'TTCAGCGATTTCCTCGGTTTTCCCTGGTTGCCCCGGCTAG', 'AGCTAAAGGCCGGACACCATTTCGGGTGGAGTTAGGCGTA', 'AGCGGAAGTATCTTCGACGTCCCTTAGGCCTCACGCGTTC', 'GATTGCAGGGTACCCAGATAACGAGAGTTGACAGTACGGA', 'TACGAGAATTGAGGGTTCGATTACAATGTGCTGTGAATTA', 'GTGAAGAGATGAGTTAGTTCAACAAGCTAAATTTCAGCAG', 'TTATCGTTGACACTACCCCAGAGTTATCTTATATAGTGTC', 'TCCTGCATCCGCGCTTCATAGCACATCCGGTAGATGAGAG', 'CCAGAGCTTCTGAGGACACATGGGCGAGGCGTCAGTTTAC', 'ATAGTCCTGATCGCTGTATGCGCCCGGGGGGACTCCCGCC', 'ATTGTAAGCGTCGGATTGGGACATAAGTTCGCTGGGTAGA', 'GCTCTCCGTGTCCATACCTGCCCCCCGATGCTCCAGGACA', 'TCGTCCATACGTGGGCTTAGTAGTCGACCAGTTCGGCCCA', 'TATCTCGGGCGACCAAGAGCAAGCTGACCACCGTTTCGCA', 'CAAACCCGAAGTGTCTCGTTAACAATAGGCCATCTGGGGG', 'GCACCAAATGTGCGGTCTTAATATCGTAGCGTCATCCATC', 'TGGATGCATGATAAGGTCCGTAAGTGGACCCCTGAATGTG', 'AAGCCAGGGAAAAGTTAGCTGATTCCCACGAGGACCGCTG', 'GTGAGCATCCGGACACGCATCGTAGAACACTACTATACTG', 'ACGTAGTTTAAGGACAAATAATAACTAATAGCGAATCCCT', 'GGCTTGGGGAGTGGTGAAAGTAAAACGGTGAGCATTGGAG', 'GACGTGCGCCTAGCAAGTAAGACAGCTCGGTATCTGAAAG', 'ACACGCAACCGGTTAGTTTTTTTAGACACCGCGCTTTGCT', 'ACGCGTACTTCTAAGCATCTGAAAGAGGTTAATTTACTAA', 'AGCCACGAAGTCGACCTTCGGACGCTCTGCAACGCCGCAG', 'TAAGGGCGTCTCGACGTTGGGTGGGATCCGTGAAACGGAA', 'TGCGCGTCCATTTTGGAGTGCGACTGGACCGTGTAGTCAT', 'CCACCATCTAGTACGAGGGACTGTATCAAGGTATGCTCTA', 'GTAATGGAGAAACTCCCGGTTGCCGCTAGTGGAACAGTCA', 'ACGGACTTCCTGGGTATTCTCACGCGCTGTCATACACTCT', 'ACCGGGTGGAATATGGTGATGCTCCCGCGTCCATCCCCAC', 'CTTACGAGGCACAAGATCTACCGGGAGGTTCTGAAACGTG', 'TGGCTTGTTACCGCTTGTATGTAAGGTCTTGGAATAGTCA', 'CCGCGCGATTTTATGACCCTTAAAGCCCCCATACGTTCTC', 'TATTTTTCTACTGTCTGTAGGGATTCTCTATCATGCATTT', 'ATGTCCATATCCAACGACCAATACCGACGAGTTTCCTGCG', 'ATGCAGGCTGGGAACTGGTTAGCACGCTGTCCGCCGACTA', 'ACCTCGTACAAACTTAGAAGGCGAATCGTGGGCACGTTCT', 'CGCGTAAAAGTGGCGACATAAACTTCGGTATGACTGTGAT', 'CTTAATTATAACCCGCGATTGGCTGCGGAACGTGGCTATG', 'GACCTCGAGAACGGTTTAGCTTCCCCAAATACAGGATTTG', 'AATTGAACCTTCCTCCGTTATCACTGTCCACAGCAACTCA', 'TCCCCTCCCGCCTCGCGATCGAGCGTCATCCGTGAGTGGG', 'CAAGCGTGACTTTCGGCAGAGCACAGTACAAACATCTAGT', 'GTCTTTTTATAGCTTGGAGCACAGGGCGAACGGAAGGGCC', 'AATCTATAGTGAGTAATGTTATATACTGGCGCAGCGGCAC', 'CTGGATTAAAGATACGCTTGACCGCCTATGCAGTCCTTAC', 'GCACTCATGACGGGACAGTAACCGTTCTGAAGAACCTTAT', 'GGAATATTTCGTACTTGCATCTTGCAAAAGCTAGGATAAA', 'GGGTTGTATGCGTTCCCTAACAAGGATCTTCCATATCTTA', 'GAGGATTAACGATTATTTTGAGATTAGTTTCAGCCGTAAG', 'GCGATGAGGTTTATCGATTGGCTTCATTCTTTTCCCGGCT', 'CGCGACGTGCAACGAGTAGTAGCTGCGTTGATCGATTACC', 'CTGTTATTAAGTAGGAGCACAACACTTTTCTTTTACTGGT', 'GTTTTCCAGGATGGCACGATCCGTGCGTGGCCTATTCACT', 'ATTATCCCCCGGTGTACTGCGCCCCTTAAGAGCCTGATAA', 'ATGACGATACGTAATTTTCTATCGCATCAGGGGATATTTT', 'GTTAAGAATGGCGTCTCATGCCGATACTGATCGCGTTACA', 'ACGATATTTGACATATTCCGCTAAGAGTCTTCATCCCAAC', 'GCGCCCCGGTAGAATACAAAGCGAATGGCCATGTGAATTG', 'CGACGACGCATGGTCCTGGATTGTATACTGGTCGCGTGCG', 'CAATGCGCGCGACGGCTATCTCACTATTGCACGCGCCTGT', 'AGCGTAACGCCAGACCTAAACAGTTTCGGCTGCAAGCGTT', 'CCCCGTGTGCGTACTATATTAATTACCTCTGGGCGTGCAC', 'CCGCGTACAATTTGTGTCTTGCAGCATTAAATGCGCATCA', 'ACACCTCCAAGTTAGGTCTGTCAAATGACTTTACCGGTGA', 'GCGGGATACTCCATCATCGCCCCTAACAAGGTTTTTCATG', 'TATCGCGACTTTGATCCCCCGCTACACGCCCGATCCGATC', 'TTCAGCTCTGCTCCCACTACTTAAGGCCGATCGAACTGCA', 'CAATGTTATATGCTGTGTAGCCGGGCCCGGCGATAGGTGG', 'GGGACAGAGAATTTGCTCACTACTCATAGAGAGCTTGGGT', 'CTTTTGATAGGGAAAGGATGACGGGACTTTATCCCACGCT', 'AGCATCTGCAGCGCAGATATCCCCGAGTAAATCCGGCTTG', 'GGTTTTCCGCACGTACTATAGTGAGTATCTGGCGGAGTTT', 'ACAGAAGCACGTTCTATGCGCAGGTAGGGAGGACAGACAT', 'TGAGGAAAATGACCCTCTACTTACTAGTGCGTGATCAATG', 'ACTATAACCCCTGGGTCGAATGCACGCTATTACGCGTAGA', 'AGAAATAGGTCTGCCTCATCATGAACGCGCTTCAGTGGGT', 'AATGCGGCGTAATCCGTACGACCGGAATGAAGACGACTGC', 'CTGGTGTTTAAATATTCGGTGTTATCTTTATCTTGTAGCC', 'TTCACTCATGATTTTTGATAGGATTTGTAGAAAAGTCACA', 'GCGAGAATCCCAGAGCTATCCCTGCGCACGGCATCATCCT', 'ATGGCGACTAAGGCACTCCGGAGTGCCTTCCCTAATCTTG', 'GTGTATACATACAGTCACATATACTCGGCCCGTGGGTACC', 'CAGTCCGGGGTTCCTCATAGCTTCGCATCATGAGACTTTC', 'CAACATAATTAAGTCGCGTATCTGGACATTACGGTTCGCA', 'GAATGTCGTCTGGCGGGCTGAATAGGAGGAAACCGTCCTA', 'GACCGCTGCTGCTAAAGAAAGTCGCTCAACAGTGTCTGTG', 'TCTGTTCGATCAGTTCTAAGTGGTTTCCCCGTTGTCAGCT', 'CAGAGGGTTCCATATAGTCTCACACCCACATTGCATGGGG', 'GCATCATTAATGGAAAATTGTGGATAACAATGACAAACTT', 'TATAGTTGAGCACACGAACCCCGCAACACGTATATGGCTC', 'GCGGTACAACAGAGAGAATACAACCGGTCTTAGCCCAGAA', 'GCGCGTACATATAATTTCTTGGATACAATTCTGTGAGCAA', 'TTCGCACCAGCGGTAACGGCGCAGGTTGAGTAGGGCACCA', 'GTCAGTCGAGACGGGAAGTGCTGCTTATGTGTCGAGTTAA', 'CGACGAACCCACAACAGATTATCCAAACTCTGTGATGTCA', 'GTTTATCACCAGGTAGGCTTGATCCCCTACTGTAACGAAG', 'CGGCTATAATTACCTGCCGACGTGGAACGGAGCTATGTGG', 'ATGCACTTCCTGTGAGCTTAAGACCTTCAGAGCCTTACGT', 'ATACTGCGGGGAATTTCAATCCATGCGGCTTTCTATTACC', 'TGCAATCTTACACGCGCGTAGTGAAAGGTCTTTAGAGTTC', 'CAGGTTCTAATGTCAGAATCGTGGCAATTTCATTATCTTA', 'GCACTGAGCTCCGGTAACGATGCGCGCCTGTCGTTATCAA', 'CTCGATGGGGTTATAGCATCAGGCGTCCGTGGCTGAGTTC', 'ACCCAATGGCGAGAAGACATGCAGGCGCTGAACATAGGCC', 'CCGACGTACGTATAATTTTACTACGCCACCGGATCCTAGT', 'GACTAGGTGCTATAACCTTGTGAATAATCTAGGACTAGCT', 'ACTTACGGTTGATGGGATGAAGTATCCGGTGCACAATTAC', 'AAAACACCGGAACTCCGGTGAAACGCGCTCCAACACCGCC', 'TGGGTTTACGGCTCGGCCCGTTGATGAACAACCCCGACCA', 'ATGACCCGCCATGCGCCTCGAGCATGTGAGTTGAGCCCCT', 'GGGACACGATCGGACCTTTTGTGAGCAAGCGATCGGTCAC', 'TCCAGTTATGTTTTGACTTATAGGACTCAGCGCCTAATAG', 'CCACCCGCACCGTTAGACGCCGTCCACCCGGTTAAGTACG', 'GGTTATCCGGTTATGTGCAGACTTTATAAACCTGCGACAG', 'ACAATGCACTGAGTGCATGAATGACCTTAGATAAAGTACG', 'CATGCTTAGCGTCAATCGGCAGTATGGGTTATAGCCGGGA', 'TCAGTATCTTTGTAAGCCCAACAGGAATCCAGTACCAAAT', 'CGAGTGCCAGTAAGAACTATAAGGGTACGCAGCAACATCC', 'TAACAAAGTCCTCTTTGGAGAATGTCCAGTTCGAAGCAAG', 'GATATCACTTTCGTTTATCATCTGCCTACTGCTAACCTTT', 'ACGCGCTACGGAGACCGTGGATGTGGCTGCAAAAGATTGG', 'GGGCCGTTACCGTTTGTATCAGAGTTGGTTATACGACCCT', 'CGCCGGCCCTCTTCCGCTAGACTCGAACAGCATTTCTCCA', 'GAGACCATTCACCAAAATATTAAGAGGAATGCACGTCCGT', 'CACCAGTCTTGCGATTCTTGTGAACACTTCACTCCGTGTC', 'AGGCCCGAGCATCGTCCGAGATTTTGTTAGGCTCTGCGTG']\n"
          ]
        }
      ]
    }
  ]
}