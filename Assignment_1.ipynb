{
  "nbformat": 4,
  "nbformat_minor": 0,
  "metadata": {
    "colab": {
      "name": "Assignment_1.ipynb",
      "provenance": [],
      "collapsed_sections": [],
      "include_colab_link": true
    },
    "kernelspec": {
      "name": "python3",
      "display_name": "Python 3"
    },
    "language_info": {
      "name": "python"
    }
  },
  "cells": [
    {
      "cell_type": "markdown",
      "metadata": {
        "id": "view-in-github",
        "colab_type": "text"
      },
      "source": [
        "<a href=\"https://colab.research.google.com/github/vhaghani26/BST_227_Code/blob/main/Assignment_1.ipynb\" target=\"_parent\"><img src=\"https://colab.research.google.com/assets/colab-badge.svg\" alt=\"Open In Colab\"/></a>"
      ]
    },
    {
      "cell_type": "markdown",
      "metadata": {
        "id": "VEB6Jbmxr9P7"
      },
      "source": [
        "# **The EM Algorithm for a more complex sequence model**"
      ]
    },
    {
      "cell_type": "markdown",
      "metadata": {
        "id": "8zDlf51Mr6wp"
      },
      "source": [
        "First, we need to import the modules we plan to use to run the code."
      ]
    },
    {
      "cell_type": "code",
      "metadata": {
        "id": "6yrbLTPNtux7"
      },
      "source": [
        "import requests\n",
        "import pandas as pd\n",
        "import io\n",
        "import numpy as np\n",
        "from sklearn.preprocessing import OneHotEncoder\n",
        "from tqdm import tqdm"
      ],
      "execution_count": null,
      "outputs": []
    },
    {
      "cell_type": "markdown",
      "metadata": {
        "id": "zyxge9sRG1ps"
      },
      "source": [
        "# **Variables that can be Changed**"
      ]
    },
    {
      "cell_type": "code",
      "metadata": {
        "id": "3OX1MDgrHECB"
      },
      "source": [
        "# Length of the motif\n",
        "motif_length = 17"
      ],
      "execution_count": 2,
      "outputs": []
    },
    {
      "cell_type": "markdown",
      "metadata": {
        "id": "puqdz-Cxsg4i"
      },
      "source": [
        "\n",
        "# **Download and Process Sequence Data**"
      ]
    },
    {
      "cell_type": "markdown",
      "metadata": {
        "id": "W9liLSAMwHEe"
      },
      "source": [
        "Set data file URL locations"
      ]
    },
    {
      "cell_type": "code",
      "metadata": {
        "id": "143x5QHNwKZg"
      },
      "source": [
        "# URL for at_gc_sequences.txt - this is a single sequence: ATTTAATATAAAATTTGGCCGCCATAAAAAAA\n",
        "at_gc_sequences_txt = 'https://ucdavis.box.com/shared/static/s8g6zx9vwxbbfdxdj2uqzhlvslc1jhsy.txt'\n",
        "# URL for sequence.padded.txt - the real binding site data\n",
        "sequence_padded_txt = 'https://ucdavis.box.com/shared/static/0cacx2xvn4ugxo9h21ci2ngesryigf43.txt'\n",
        "# URL for sequence.motiflocation.padded.txt - the location of the binding sites from sequence.padded.txt\n",
        "sequence_motiflocation_padded_txt = 'https://ucdavis.box.com/shared/static/gd0r12mdkhix86bo9ffbn3dy0fy0prmn.txt'"
      ],
      "execution_count": null,
      "outputs": []
    },
    {
      "cell_type": "markdown",
      "metadata": {
        "id": "fdktorRL4uEj"
      },
      "source": [
        "Write a function to download and one-hot encoded the sequence data"
      ]
    },
    {
      "cell_type": "code",
      "metadata": {
        "id": "Ka8lwgcXZ5XF"
      },
      "source": [
        "# Function written by Chenxi Liu (slight modifications made)\n",
        "\n",
        "def get_sequence(url, categories=['A', 'C', 'G', 'T']):\n",
        "  # Send a GET request to a specified URL, categories=['A', 'C', 'G', 'T']):\n",
        "  r = requests.get(url)\n",
        "  # Convert sequence data to data frame\n",
        "  df = pd.read_csv(io.StringIO(r.text), sep=\" \", header=None)\n",
        "  # Turn the first sequence into a 2D array where each index is an independent array with a single base pair\n",
        "  s1 = np.array(list(str(df.to_numpy()[0, :][0])), dtype=object).reshape(-1, 1)\n",
        "\n",
        "  # Determine how many sequences there are in the text file\n",
        "  num_seqs = len(df)\n",
        "  # Assume all input sequences are equal length\n",
        "  # Determine how long each sequence is\n",
        "  seq_len = len(list(df.iloc[0, :].values)[0])\n",
        "  # Start to make a one-hot encoded 3D matrix for the seqeunces\n",
        "  # Not one-hot encoded yet, just zeroes \n",
        "  data = np.zeros((num_seqs, seq_len, len(categories)))\n",
        "  # Make a matrix repersenting each category ['A', 'C', 'G', 'T']\n",
        "  bp_counts = np.zeros((1, len(categories)))\n",
        "\n",
        "  # Encode categorical feautures in a one-hot numeric array\n",
        "  # Assign categories to be used\n",
        "  ohe = OneHotEncoder(sparse=False, categories=[np.array(categories, dtype=object)])\n",
        "  # Apply OneHotEncoder to example sequence\n",
        "  ohe.fit(s1)\n",
        "  \n",
        "  # Apply OneHotEncoder to all sequences\n",
        "  for ii in tqdm(range(num_seqs)):\n",
        "    s = list(str(df.to_numpy()[ii, :][0]))\n",
        "    s_a = np.array(s).reshape(-1, 1)\n",
        "    data[ii, :, :] = ohe.transform(s_a)\n",
        "  \n",
        "  # Count the number of each base in the sequence data\n",
        "  for ii in range(len(categories)):\n",
        "    bp_counts[0,ii] = np.sum(data[:,:,ii])\n",
        "  \n",
        "  # Return the one-hot encoded matrix (data),\n",
        "  # the counts for each base pair (bp_counts),\n",
        "  # the number of sequences (N),\n",
        "  # and the length of each sequence (L)\n",
        "  return data, bp_counts, num_seqs, seq_len                                                    "
      ],
      "execution_count": null,
      "outputs": []
    },
    {
      "cell_type": "markdown",
      "metadata": {
        "id": "od2WQCQrDDyv"
      },
      "source": [
        "Write a modified version of the above function that returns a randomly split training and test data set"
      ]
    },
    {
      "cell_type": "code",
      "metadata": {
        "id": "RJGr38gKDNuE"
      },
      "source": [
        "# Function written by Chenxi Liu and Gerald Quon\n",
        "\n",
        "def get_sequence_traintest(url, categories=['A', 'C', 'G', 'T'], FRACTION_TRAINING=0.8):\n",
        "  # Send a GET request to a specified URL, categories=['A', 'C', 'G', 'T']):\n",
        "  r = requests.get(url)\n",
        "  # Convert sequence data to data frame\n",
        "  df = pd.read_csv(io.StringIO(r.text), sep=\" \", header=None)\n",
        "  # Turn the first sequence into a 2D array where each index is an independent array with a single base pair\n",
        "  s1 = np.array(list(str(df.to_numpy()[0, :][0])), dtype=object).reshape(-1, 1)\n",
        "\n",
        "  # Determine how many sequences there are in the text file\n",
        "  m = len(df)\n",
        "  # Assume all input sequences are equal length\n",
        "  # Determine how long each sequence is\n",
        "  sequence_len = len(list(df.iloc[0, :].values)[0])\n",
        "  # Start to make a one-hot encoded 3D matrix for the seqeunces\n",
        "  # Not one-hot encoded yet, just zeroes \n",
        "  data = np.zeros((m, sequence_len, len(categories)))\n",
        "  # Make a matrix repersenting each category ['A', 'C', 'G', 'T'] for the training set\n",
        "  bp_counts_train = np.zeros((1, len(categories)))\n",
        "  # Make a matrix repersenting each category ['A', 'C', 'G', 'T'] for the test set\n",
        "  bp_counts_test = np.zeros((1, len(categories)))\n",
        "\n",
        "  # Encode categorical feautures in a one-hot numeric array\n",
        "  # Assign categories to be used\n",
        "  ohe = OneHotEncoder(sparse=False, categories=[np.array(categories, dtype=object)])\n",
        "  # Apply OneHotEncoder to example sequence\n",
        "  ohe.fit(s1)\n",
        "\n",
        "  # Apply OneHotEncoder to all sequences\n",
        "  for ii in tqdm(range(m)):\n",
        "    s = list(str(df.to_numpy()[ii, :][0]))\n",
        "    s_a = np.array(s).reshape(-1, 1)\n",
        "    data[ii, :, :] = ohe.transform(s_a)\n",
        "\n",
        "  # Randomly permute rows of matrix\n",
        "  np.random.shuffle(data)\n",
        "\n",
        "  # Split data into training and text data\n",
        "  train_indices = np.arange(start=0,stop=round(FRACTION_TRAINING*data.shape[0]))\n",
        "  test_indices = np.arange(start=round(FRACTION_TRAINING*data.shape[0]), stop=data.shape[0])\n",
        "  \n",
        "  # Count the number of each base in the test and train sets\n",
        "  for ii in range(len(categories)):\n",
        "    bp_counts_train[0,ii] = np.sum(data[train_indices,:,ii])\n",
        "    bp_counts_test[0,ii] = np.sum(data[test_indices,:,ii])\n",
        "  \n",
        "  # Return the base pair counts for the test and train sets\n",
        "  return bp_counts_train, bp_counts_test"
      ],
      "execution_count": null,
      "outputs": []
    },
    {
      "cell_type": "markdown",
      "metadata": {
        "id": "5H6PrulrH9ap"
      },
      "source": [
        "Load in the data"
      ]
    },
    {
      "cell_type": "code",
      "metadata": {
        "colab": {
          "base_uri": "https://localhost:8080/"
        },
        "id": "uxoFtgmPH_Ev",
        "outputId": "02957413-6a58-4fa5-c03a-8ca736a89201"
      },
      "source": [
        "# Implement get_sequence()\n",
        "# The variable my_ohe_sequence_padded corresponds to the one-hot encoded matrices that represent the sequence data\n",
        "# The variable my_sequence_padded_bp_counts is the base pair counts for the input sequence data\n",
        "# The variable my_sequence_padded_num_seqs returns the number of sequences in the sequence file\n",
        "# sequence_padded_txt is the variable name containing the URL defined at the beginning\n",
        "my_ohe_sequence_padded, my_sequence_padded_bp_counts, my_sequence_padded_num_seqs, my_sequence_padded_seq_len = get_sequence(sequence_padded_txt, categories=['A', 'C', 'G', 'T'])\n",
        "\n",
        "# Following similar notation above, we can implement get_sequence() for the at_gc_sequences_text data\n",
        "my_ohe_at_gc_sequences, my_at_gc_bp_counts, my_at_gc_num_seqs, my_at_gc_seq_len = get_sequence(at_gc_sequences_txt, categories=['A', 'C', 'G', 'T'])\n",
        "\n",
        "# Now randomly split the sequence_padded_txt into a training vs test set\n",
        "sequence_padded_train_bp_counts, sequence_padded_test_bp_counts = get_sequence_traintest(sequence_padded_txt, categories=['A', 'C', 'G', 'T'])\n",
        "\n",
        "# Get the locations of the motifs for the sequence.padded.txt file\n",
        "sequence_padded_motifs = pd.read_csv(io.StringIO(requests.get(sequence_motiflocation_padded_txt).text), sep=\",\", header=None).to_numpy()"
      ],
      "execution_count": null,
      "outputs": [
        {
          "output_type": "stream",
          "name": "stderr",
          "text": [
            "100%|██████████| 357/357 [00:00<00:00, 2011.56it/s]\n",
            "100%|██████████| 1/1 [00:00<00:00, 541.55it/s]\n",
            "100%|██████████| 357/357 [00:00<00:00, 2083.24it/s]\n"
          ]
        }
      ]
    },
    {
      "cell_type": "markdown",
      "metadata": {
        "id": "t4CTnzFwsnzw"
      },
      "source": [
        "# **Core EM Code**"
      ]
    },
    {
      "cell_type": "markdown",
      "metadata": {
        "id": "nbAXV5YlM9p0"
      },
      "source": [
        "Write functions that will initialize our parameters"
      ]
    },
    {
      "cell_type": "code",
      "metadata": {
        "id": "p0uB6d0_M_b-"
      },
      "source": [
        "# Make a function to randomly generate L - P + 1 lambdas that sum to 1\n",
        "def initialize_lambda(sequence_length, motif_length):\n",
        "  # Make an empty list to represent our parameter lambda_j\n",
        "  lambda_j = []\n",
        "  # Given our sequence length and motif length, determine how many lambdas we need\n",
        "  lambdas = sequence_length - motif_length + 1\n",
        "  # Fill up our empty matrix with the right number of lambdas using random probabilities\n",
        "  for i in range(lambdas):\n",
        "    lambda_j.append(np.random.random_sample())\n",
        "  # Normalize probabilities by dividing each one by the sum\n",
        "  # Need to set sum_lambdas on the outside of the for loop so it isn't recalculated every time\n",
        "  sum_lambdas = sum(lambda_j)\n",
        "  for i, lmbda in zip(range(lambdas), lambda_j):\n",
        "    lambda_j[i] = (lmbda/sum_lambdas)\n",
        "  # Return our lambda_j parameter\n",
        "  return lambda_j\n",
        "\n",
        "# Make a function to randomly generate psi\n",
        "# Psi is a 2D matrix: 4 x P (P = motif-length) \n",
        "# Each set of 4 corresponds to ['A', 'C', 'G', 'T']\n",
        "def initialize_psi(motif_length):\n",
        "  # Make a 4 x P matrix of zeroes\n",
        "  psi = np.zeros((motif_length, 4), dtype = float)\n",
        "  # For each sub-matrix of 4, generate probabilities that sum to 1\n",
        "  for ind_i, i in zip(range(motif_length), psi):\n",
        "    psi[ind_i] = (np.random.dirichlet(np.ones(4),size=1))\n",
        "  # Return our psi parameter\n",
        "  return psi\n",
        "\n",
        "# Store all initialized parameters in a dictionary called 'params' (params = theta)\n",
        "def initialize_random_params(sequence_length, motif_length):\n",
        "    params = {'lambda_j': initialize_lambda(sequence_length, motif_length),\n",
        "              'psi0': initialize_psi(motif_length),\n",
        "              'psi1': initialize_psi(motif_length)\n",
        "              }\n",
        "    return params"
      ],
      "execution_count": null,
      "outputs": []
    },
    {
      "cell_type": "code",
      "metadata": {
        "id": "OFpF5J3YKxhj"
      },
      "source": [
        ""
      ],
      "execution_count": null,
      "outputs": []
    },
    {
      "cell_type": "markdown",
      "metadata": {
        "id": "fC-Qv1XpvDeI"
      },
      "source": [
        "Write a function to calculate the posterior for the **E-step**"
      ]
    },
    {
      "cell_type": "code",
      "metadata": {
        "id": "dQxY3F0qvG_O"
      },
      "source": [
        "def E_step(params,ohe_matrix,sequence_length,motif_length):\n",
        "  posteriors = np.zeros((len(ohe_matrix),(sequence_length-motif_length)))\n",
        "  #log trick: \\prod_i p_i = \\exp(\\log(\\prod_i p_i)) = \\exp(\\sum_i \\log p_i) ∏ ip i=exp(log(∏ ip i))=exp(∑ ilogp i)\n",
        "  for i in range(len(ohe_matrix)):\n",
        "    for j in range(sequence_length - motif_length+1):\n",
        "     #initialize C_ij \n",
        "      C_ij = numpy.log(params['lambda_j'][j])\n",
        "      #compute P(X_ij|Cij = 1)\n",
        "      for p in range(motif_length):\n",
        "        if ohe_matrix[i][j] != 0:\n",
        "          C_ij = C_ij + numpy.log(ohe_matrix[i][j][p]*params['psi1'][j])\n",
        "          posteriors[i][j+p] = C_ij\n",
        "      for jprime in range(sequence_length-motif_length):\n",
        "        if jprime == j:\n",
        "          continue \n",
        "        for p in range(motif_length):\n",
        "          C_ij = C_ij + numpy.log(ohe_matrix[i][j][p]*params['psi0'][j])\n",
        "          posteriors[i][j+p] = C_ij\n",
        "#now for the denominator \n",
        "  #store posteriors as a N×(L−P) matrix\n",
        "  return posteriors"
      ],
      "execution_count": null,
      "outputs": []
    },
    {
      "cell_type": "markdown",
      "metadata": {
        "id": "S05xOBVOvHvh"
      },
      "source": [
        "Write a function to do the calculations for the **M-step**\n"
      ]
    },
    {
      "cell_type": "markdown",
      "metadata": {
        "id": "C8xF_OTs58bA"
      },
      "source": [
        "We will start with making a practice posterior of random probabilities. This allows us to troubleshoot the M-step regardless independently of the E-step. It does not get used in the EM algorithm implementation, but it's here for debugging purposes."
      ]
    },
    {
      "cell_type": "code",
      "metadata": {
        "colab": {
          "base_uri": "https://localhost:8080/"
        },
        "id": "m60-pmemrATK",
        "outputId": "374e26b0-ee85-4f4f-e16c-e17bbd56e96c"
      },
      "source": [
        "# Make practice posterior to troubleshoot M-step\n",
        "\n",
        "# Set the number of sequences\n",
        "num_seqs = my_sequence_padded_num_seqs\n",
        "# Set the length of the sequences\n",
        "seq_len = my_sequence_padded_seq_len\n",
        "\n",
        "practice_posterior = []\n",
        "for i in range(num_seqs):\n",
        "  new_row = initialize_lambda(seq_len, motif_length)\n",
        "  practice_posterior.append(new_row)\n",
        "\n",
        "print(len(practice_posterior)) # Should be total number of sequences; 357 for sequence padded\n",
        "print(len(practice_posterior[0])) # Should be number of j's; 31 for sequence padded"
      ],
      "execution_count": null,
      "outputs": [
        {
          "output_type": "stream",
          "name": "stdout",
          "text": [
            "357\n",
            "33\n"
          ]
        }
      ]
    },
    {
      "cell_type": "code",
      "metadata": {
        "id": "GGa58p1LvRHp",
        "colab": {
          "base_uri": "https://localhost:8080/"
        },
        "outputId": "ba6e7ebb-58be-4c7c-e22c-bf477aadbaac"
      },
      "source": [
        "def M_step(onehot_matrix, posterior, motif_length): \n",
        "  # Make dictionary to store new parameters\n",
        "  new_params = {}\n",
        "\n",
        "  # Calculate new lambda_j\n",
        "  # Add every column of the posterior\n",
        "  column_sums = np.array(posterior).sum(axis = 0)\n",
        "  # Divide by the total number of sequences\n",
        "  new_lambda_j = (column_sums/(len(posterior))).tolist()\n",
        "  # Confirm that the sum of our new_lambda_j is 1\n",
        "  print(f'The sum of our new lambda_j is: {sum(new_lambda_j)}')\n",
        "  # Add new_lambda_j to new_params\n",
        "  new_params[\"lambda_j\"] = new_lambda_j\n",
        "\n",
        "  # Calculate new psi1\n",
        "  # Determine how many j positions we have in our input matrix\n",
        "  num_js = len(onehot_matrix[0]) - motif_length + 1\n",
        "  # Determine matrix dimensions and save our window sequences\n",
        "  X_ijmks = []\n",
        "  for i, ind_i in zip(onehot_matrix, range(len(onehot_matrix))):\n",
        "    # Iterate through the indeces for our lambda parameter\n",
        "    for ind_j in range(num_js):\n",
        "        # i[ind_j:ind_j+motif_length] is the base pair identities of the One-Hot encoded matrix within the window starting at j\n",
        "        X_ijmk = (i[ind_j:ind_j+motif_length]).tolist()\n",
        "        # Save each X_ijmk to the X_ijmks list for ease of access\n",
        "        X_ijmks.append(X_ijmk)\n",
        "  # Manipulate the posterior so it maches the X_ijmks list\n",
        "  manipulated_posterior = []\n",
        "  for i in posterior:\n",
        "    for j in i:\n",
        "      manipulated_posterior.append(j)\n",
        "  # Make an empty list numerators, that will contain all the X_ijmks multiplied by C_ij    \n",
        "  numerators = []\n",
        "  for ind_post, X_ijmk in zip(range(len(manipulated_posterior)), X_ijmks):\n",
        "    # Turn X_ijmk into an array\n",
        "    X_ijmk_array = np.array(X_ijmk)\n",
        "    # Multiply X_ijmk by the posterior (C_ij)\n",
        "    numerator = X_ijmk_array * manipulated_posterior[ind_post]\n",
        "    # Add the multiplied window sequences to the list \"numerators\"\n",
        "    numerators.append(numerator)\n",
        "  numerator_before_normalization = np.array(numerators).sum(axis = 0)\n",
        "  new_psi1 = np.divide(numerator_before_normalization, len(onehot_matrix))\n",
        "  # Verify that new_psi1 rows sum to 1\n",
        "  print('The sums of each row in our new psi1 are:')\n",
        "  for i in range(len(new_psi1)):\n",
        "     print(sum(new_psi1[i]))\n",
        "  # Add new_psi1 to new_params\n",
        "  new_params[\"psi1\"] = new_psi1.tolist()\n",
        "\n",
        "  # Calculate new psi0\n",
        "  # Determine how many j positions we have in our input matrix\n",
        "  num_js = len(onehot_matrix[0]) - motif_length + 1\n",
        "  # Determine matrix dimensions and save our window sequences\n",
        "  X_ijmks = []\n",
        "  for i, ind_i in zip(onehot_matrix, range(len(onehot_matrix))):\n",
        "    # Iterate through the indeces for our lambda parameter\n",
        "    for ind_j in range(num_js):\n",
        "        # i[ind_j:ind_j+motif_length] is the base pair identities of the One-Hot encoded matrix within the window starting at j\n",
        "        X_ijmk = (i[ind_j:ind_j+motif_length]).tolist()\n",
        "        # Save each X_ijmk to the X_ijmks list for ease of access\n",
        "        X_ijmks.append(X_ijmk)\n",
        "  # Manipulate the posterior so it maches the X_ijmks list\n",
        "  manipulated_posterior = []\n",
        "  for i in posterior:\n",
        "    for j in i:\n",
        "      manipulated_posterior.append(j)\n",
        "  # Make an empty list numerators, that will contain all the X_ijmks multiplied by C_ij    \n",
        "  numerators = []\n",
        "  for ind_post, X_ijmk in zip(range(len(manipulated_posterior)), X_ijmks):\n",
        "    # Turn X_ijmk into an array\n",
        "    X_ijmk_array = np.array(X_ijmk)\n",
        "    # Multiply X_ijmk by 1 minus the posterior (C_ij)\n",
        "    numerator = X_ijmk_array * (1 - manipulated_posterior[ind_post])\n",
        "    # Add the multiplied window sequences to the list \"numerators\"\n",
        "    numerators.append(numerator)\n",
        "  numerator_before_normalization = np.array(numerators).sum(axis = 0)\n",
        "  new_psi0 = np.divide(numerator_before_normalization, (len(onehot_matrix)*(len(onehot_matrix[0]) - motif_length + 1 - 1)))\n",
        "  # Verify that new_psi0 rows sum to 1\n",
        "  print('The sums of each row in our new psi0 are:')\n",
        "  for i in range(len(new_psi0)):\n",
        "     print(sum(new_psi0[i]))\n",
        "  # Add new_psi1 to new_params\n",
        "  new_params[\"psi0\"] = new_psi0.tolist()\n",
        "  \n",
        "  # Save our new parameters as the output for the function\n",
        "  return new_params\n",
        "\n",
        "# Test the M-step\n",
        "m_step_test = M_step(my_ohe_sequence_padded, practice_posterior, motif_length)\n",
        "print(m_step_test['lambda_j'])\n",
        "print(m_step_test['psi1'])\n",
        "print(m_step_test['psi0'])"
      ],
      "execution_count": null,
      "outputs": [
        {
          "output_type": "stream",
          "name": "stdout",
          "text": [
            "The sum of our new lambda_j is: 1.0000000000000004\n",
            "The sums of each row in our new psi1 are:\n",
            "1.0000000000000002\n",
            "0.9999999999999996\n",
            "1.0\n",
            "1.0\n",
            "1.0\n",
            "0.9999999999999994\n",
            "The sums of each row in our new psi0 are:\n",
            "1.0000000000000016\n",
            "1.0000000000000013\n",
            "1.0000000000000016\n",
            "1.0000000000000016\n",
            "1.0000000000000013\n",
            "1.0000000000000013\n",
            "[0.0292405852343981, 0.030255004060366426, 0.030461135879581987, 0.03035644595677742, 0.030487989672031004, 0.0308391140806909, 0.029915510541821164, 0.029549295460976656, 0.029207340810219043, 0.029199290048718674, 0.030806249478855494, 0.029789824936937718, 0.02934806976219196, 0.03007527585932073, 0.030086690113928914, 0.029775195553171024, 0.03106618331289069, 0.030087741956280924, 0.02948747675055137, 0.031377980774725096, 0.031675181098207314, 0.02935958044245439, 0.02881170521428482, 0.03053561449834138, 0.031255868735544146, 0.03122143017350456, 0.030416856401973693, 0.03247739249806891, 0.03089711215970689, 0.03157884632664862, 0.0298047620018816, 0.030223348021642005, 0.030329902183306463]\n",
            "[[0.24584699729786227, 0.26404388996698985, 0.2515413636346649, 0.23856774910048312], [0.24480030718028695, 0.2578645364082921, 0.25119837340218465, 0.24613678300923597], [0.24092919727450327, 0.2598775759807641, 0.2570795597426773, 0.24211366700205533], [0.23960884461384233, 0.2603444479528503, 0.25765234962719163, 0.2423943578061158], [0.2385735509015189, 0.2616555550607731, 0.2565389266286687, 0.24323196740903932], [0.23616576367499278, 0.2634834475559902, 0.2576480699453279, 0.24270271882368866]]\n",
            "[[0.24284249141847564, 0.2615315416037984, 0.25334381417913454, 0.242282152798593], [0.24287520048465092, 0.26049915620642833, 0.2547550928479884, 0.24187055046093384], [0.24308370768321122, 0.26148666888785677, 0.25360842062078687, 0.2418212028081467], [0.2413742684237454, 0.26173468418074536, 0.255078616174991, 0.2418124312205198], [0.23816782583404814, 0.2644948325318019, 0.25581369075573956, 0.24152365087841182], [0.23675497394678116, 0.26364989576527637, 0.25612917008311625, 0.24346596020482744]]\n"
          ]
        }
      ]
    },
    {
      "cell_type": "markdown",
      "metadata": {
        "id": "s4G4z6HyvUM1"
      },
      "source": [
        "Compute the **log likelihood**"
      ]
    },
    {
      "cell_type": "code",
      "metadata": {
        "id": "oQuPi4fJvS37"
      },
      "source": [
        "'''\n",
        "Gerald's code:\n",
        "#----------------------------------------\n",
        "# compute log likelihood, given posteriors based off the current parameter set theta (so KL = 0)\n",
        "def loglikelihood(XXss, theta, posteriors):\n",
        "  #matrix JP of weighted joint log probabilities, size 4xNUM_MODELS, where JP[aa,bb] = E[Cij=bb] log P(Xij = aa, Cij = bb | theta) \n",
        "  weighted_log_joint_prob = (np.log(theta['psi'])+np.log(theta['lmbda']))*posteriors  \n",
        "  weighted_log_joint_prob[np.where(posteriors == 0)]=0; #putting in a check in case some posteriors are 0 (because some psi are 0) - 0log0 = 0 (otherwise we will get nan)\n",
        "  \n",
        "  expected_complete_LL = np.sum(weighted_log_joint_prob.T*XXss)\n",
        "  #entropy term calculation needs to be careful since 0log0 = 0, but coded naively will give nan\n",
        "  qlogq = posteriors * np.log(posteriors);\n",
        "  qlogq[np.where(posteriors == 0)] = 0 #0log0 = 0\n",
        "  return (expected_complete_LL - np.sum(np.sum(qlogq,axis=1) * XXss)) #log likelihood = ELBO + entropy, when q=p\n",
        "'''"
      ],
      "execution_count": null,
      "outputs": []
    },
    {
      "cell_type": "markdown",
      "metadata": {
        "id": "iS8dXrNmsw2d"
      },
      "source": [
        "# **Run EM**"
      ]
    },
    {
      "cell_type": "markdown",
      "metadata": {
        "id": "cpOwruPhr_jA"
      },
      "source": [
        "Initialize our parameters"
      ]
    },
    {
      "cell_type": "code",
      "metadata": {
        "id": "tmEiILocsBGL"
      },
      "source": [
        "# Set a random seed for troubleshooting/consistency in outputs (can delete/change if desired)\n",
        "np.random.seed(2)\n",
        "\n",
        "# Set the number of sequences\n",
        "num_seqs = my_sequence_padded_num_seqs\n",
        "# Set the length of the sequences\n",
        "seq_len = my_sequence_padded_seq_len\n",
        "\n",
        "params = initialize_random_params(seq_len, motif_length)\n",
        "print(\"Lambda_j is:\\n\", params['lambda_j'])\n",
        "print(\"Psi0 is:\\n\", params['psi0'])\n",
        "print(\"Psi1 is:\\n\", params['psi1'])\n",
        "\n",
        "e_output_matrix = E_step(params,my_ohe_at_gc_sequences,sequence_length,motif_length)"
      ],
      "execution_count": null,
      "outputs": []
    },
    {
      "cell_type": "markdown",
      "metadata": {
        "id": "zzlbCRTbFXVQ"
      },
      "source": [
        "Run the EM algorithm"
      ]
    },
    {
      "cell_type": "code",
      "metadata": {
        "id": "1af_j4kiOZti"
      },
      "source": [
        "'''\n",
        "Gerald's Code:\n",
        "np.random.seed(1)\n",
        "#XXss = XXss_at_gc\n",
        "XXss = sequences_padded_train\n",
        "theta = init_EM(NUM_MODELS = 3)\n",
        "\n",
        "#train\n",
        "for ii in range(3):  \n",
        "  posteriors = E_step(theta);  \n",
        "  print(loglikelihood(XXss, theta, posteriors))\n",
        "  theta = M_step(XXss, posteriors);\n",
        "\n",
        "#evaluate on held-out test data\n",
        "posteriors = E_step(theta)\n",
        "print('held-out likelihood:', loglikelihood(sequences_padded_test, theta, posteriors))\n",
        "'''\n"
      ],
      "execution_count": null,
      "outputs": []
    },
    {
      "cell_type": "markdown",
      "metadata": {
        "id": "9I1WRWsu6_V3"
      },
      "source": [
        "# **Run Experiments on EM Algorithm Model**"
      ]
    },
    {
      "cell_type": "markdown",
      "metadata": {
        "id": "6XNRby2I804q"
      },
      "source": [
        "Here, we will answer the questions to Assignment 1 Part 3 regarding our updated EM algorithm model."
      ]
    },
    {
      "cell_type": "markdown",
      "metadata": {
        "id": "QATNfYSQ7uJS"
      },
      "source": [
        "## 1. Plot the log likelihood as a function of EM iteration, for 100 iterations, for 30 different random initializations of the model parameter. Does the log likelihood monotonically increase every iteration of every initialization?"
      ]
    },
    {
      "cell_type": "code",
      "metadata": {
        "id": "mXPDC98w75PO"
      },
      "source": [
        ""
      ],
      "execution_count": null,
      "outputs": []
    },
    {
      "cell_type": "markdown",
      "metadata": {
        "id": "WO67ygHC76X4"
      },
      "source": [
        "## 2. Draw a sequence logo visualization of the foreground motif your model learns, $\\psi^{l}_{m, k}$. You could try LogoMaker, a Python library (https://logomaker.readthedocs.io/en/latest/). Alternatively, there are a number of web servers for doing this; you could draw samples from your foreground model, and input those drawn sequences into e.g. the WebLogo server (https://weblogo.berkeley.edu)."
      ]
    },
    {
      "cell_type": "code",
      "metadata": {
        "id": "sU_x1Agb8ySl"
      },
      "source": [
        ""
      ],
      "execution_count": null,
      "outputs": []
    },
    {
      "cell_type": "markdown",
      "metadata": {
        "id": "dpV2tMRA9I2k"
      },
      "source": [
        "## 3. Now run your model using model random initializations. How do the model parameters $\\psi^{l}_{m, k}$ compare across runs? What about their log likelihoods?"
      ]
    },
    {
      "cell_type": "code",
      "metadata": {
        "id": "TPxQA-BW9RBd"
      },
      "source": [
        ""
      ],
      "execution_count": null,
      "outputs": []
    },
    {
      "cell_type": "markdown",
      "metadata": {
        "id": "Ixs58dhD9WRZ"
      },
      "source": [
        "## 4. Plot a figure that shows the distribution over $C_{ij}$ for a few of the input sequences, and compare that (in the visualization) to the ground truth. How close was your model to predicting the real motif location?"
      ]
    },
    {
      "cell_type": "code",
      "metadata": {
        "id": "nEeQ51eY9cO_"
      },
      "source": [
        ""
      ],
      "execution_count": null,
      "outputs": []
    },
    {
      "cell_type": "markdown",
      "metadata": {
        "id": "iHeUPqxu9nBr"
      },
      "source": [
        "## 5. Train your model using 80% of the data, holding out the remaining 20%. Evaluate the log likelihood of your held out data using the model you implemented in this assignment, and compare it to the log likelihood from the simple latent model we used in class, using the same training/held out data. Which one is better?"
      ]
    },
    {
      "cell_type": "code",
      "metadata": {
        "id": "aWZ_T8zj9qMr"
      },
      "source": [
        ""
      ],
      "execution_count": null,
      "outputs": []
    },
    {
      "cell_type": "markdown",
      "metadata": {
        "id": "17Ed0I_N9s9Z"
      },
      "source": [
        "## 6. Train your model on the atgcsequences.txt file (that had a GC-rich region embedded between two flanking AT-rich regions). Does the model work better?"
      ]
    },
    {
      "cell_type": "code",
      "metadata": {
        "id": "Bq80KKxQ-Ed3"
      },
      "source": [
        ""
      ],
      "execution_count": null,
      "outputs": []
    },
    {
      "cell_type": "markdown",
      "metadata": {
        "id": "jkc5IO2o-E6i"
      },
      "source": [
        "## 7. The original training set in sequence.padded.txt has 357 sequences. Randomly sample another 357 sequences of the same length (just from a simple generator, that produces each base at equal frequency) and train the model with all data. Does it still recover the same motif? What if you add 3000 noisy sequences?"
      ]
    },
    {
      "cell_type": "markdown",
      "metadata": {
        "id": "4EQJ9k8E-7T0"
      },
      "source": [
        "Generate 357 sequences of the same length that produces each base at equal frequency."
      ]
    },
    {
      "cell_type": "code",
      "metadata": {
        "id": "bMYZPCktUaAg",
        "colab": {
          "base_uri": "https://localhost:8080/"
        },
        "outputId": "45b957c7-8477-4e17-d84e-5b7d56cdac59"
      },
      "source": [
        "import random\n",
        "\n",
        "# Number of sequences to generate\n",
        "seqs = 357\n",
        "# The minimum sequence length\n",
        "min = 40\n",
        "# The maximum sequence length\n",
        "max = 40\n",
        "# GC-content as a proportion\n",
        "gc = 0.5\n",
        "\n",
        "assert(seqs > 0)\n",
        "assert(min > 0)\n",
        "assert(max >= min)\n",
        "assert(gc >= 0 and gc <= 1)\n",
        "\n",
        "# Use probabilities for random sequence generation\n",
        "# This does not guarantee that all bases are present at equal frequency\n",
        "# But this means the sequence length does not have to be divisible by 4\n",
        "# And base pair frequencies are close to equal\n",
        "my_seqs = []\n",
        "for i in range(seqs):\n",
        "    l = random.randint(min, max)\n",
        "    seq = []\n",
        "    for j in range(l):\n",
        "        r = random.random()\n",
        "        if r < gc:\n",
        "            r = random.random()\n",
        "            if r < 0.5: seq.append('G')\n",
        "            else:       seq.append('C')\n",
        "        else:\n",
        "            r = random.random()\n",
        "            if r < 0.5: seq.append('A')\n",
        "            else:       seq.append('T')\n",
        "    my_seqs.append(''.join(seq))\n",
        "\n",
        "print(my_seqs)"
      ],
      "execution_count": 1,
      "outputs": [
        {
          "output_type": "stream",
          "name": "stdout",
          "text": [
            "['TATGACCTGTATAACATTTCATTGGGACCGACTGGGTCCT', 'TCAGGTATTAGTTCCAGGTACTACTTCCCTGTCTTGGATC', 'CAACCCACAATGTGCGTTTTTAACTGGTCTGAGCGGGGGG', 'TGTGATTCAGGTTTTGATCTTCTTGGGTAGGGATTTATAT', 'GACTCCTCGACAGTCTAGAAATTACGTCTTCAGATTCCTA', 'TTACTTTGCCTGAAGTCCCAGGTACCCGCGTGGGGAAAAT', 'CAGTGCAAATGCATACTTTTTCCATGATCCGAGTTGCACA', 'CCGATCCATGTAATTTTGAACTACAAGTGCCTTATGGGAT', 'GAGTCTTCGTCTCTCTATCGGACTCTACCGCCTTCATTGG', 'CTCGTATACTCTCACACTGGCGCGCGAGATGCTAATAGGA', 'GCCAGGGAAACGTACCGCTGTCCCAAGTTTAGGCATTCCG', 'CCGCCTAACGAGCGTCCACGCTATCCGTCACCCTTTCCCT', 'TGCTTAGAATCCCCCACTGCTACAGTATAGGTCACATGAC', 'TCATCACGTCATTGGTTCTCTCGTGCGTATTTGAATAAAG', 'TTAAACCCGGGTTAGCACCCTTAGGGATTTAGATGTGGAT', 'GCCAGTCCTTTTTATGCGGACCGGTCAGGAATCTTCTTTC', 'TGCATTTGATCAAGAGGAGACGATTACCTCGCGGGAGCAT', 'ATTATGGGCAATGTGTGGCAAATAGTTATCTGTGCCTCTC', 'GGTAGAATTGCGGTGTGAGGCATTTGTTGACGGCGTGGAC', 'CCAGGATCAAGAGTATGAACTCGGGATTGGAGAGAAATCA', 'AAAAAAATTTGGGAGTTTCCCAAGACCGCCACGCGTTAAG', 'AGCCACGCTGCCCCAACGATTTCCAAGCCCGTCGTAAACC', 'GTACTTGCTTATGAGTAGCAGCTCGGCCTCGTGTTTCAAT', 'TGATCGGGGGTATTCCGTCATGATAACCGTACTTTCGATC', 'GAACAGTTTGCCGGTATTCTGGTTCCAACACTACCCTCAA', 'CTGATTCTTCTGCGTACCTGGTGGGTATTTTCAAGCGAGA', 'TGGAGGTTACCCATCGCCGTGCCATTGCCTGTGGCAACGG', 'GTGGACGTACGTAGGAGGCACAGCCACCAACGGATAATTT', 'CCGACATCTACATACGATAAAACATGTGTTATGAACCCAT', 'CGCGTCCCAACTACAAAGGCTGTTGTGTACTGCCCAACGA', 'TGTGCAACTGAACACCGCGCGTGTCAAGATGCTGAATTAA', 'CAACGCTTGGGAGTCATCCAGCGTGAGGCAGCAGGCGACT', 'GCAGGCACCGCCCCTCTTAGCTGACCAATGGCTTCGGTCT', 'GACTATTCATCATCCCCGCGTAATGAGACGTTTGATCTCC', 'AACGCCTTGTATCGTAGACTGTAAAGACGACCACTCGCCG', 'GATGTAACGTGATTTCCGACTGACGGAGAAAATTCTCTCT', 'ACAACAGTTTTCCCCTGCACTTCTCAGGACTTGATATATA', 'GGCAATTCTCGACGGCTAGGCTCCGTGCTCGTCATAATTT', 'CAAGCCCCTCGGATTGCGCCCCGAACCACCACAACCTCCC', 'GCTGCGGGCGAAGAAGCCCTTCCCAGCATGCATAGGCAAC', 'TCAGTATACTTCAACGTAGTGAGGCATAGCAGATCGACTG', 'AGAAGCTGCCTTGCACAGGAACGGACTATACCCAAGTGAT', 'AAATAACGCCTCCAAACCTTGCGTCCATCACAGAAAGAGA', 'AAGACACGGCCACCAGCTCATTAGAGCCTGGGTGGTGCTG', 'GACTGGTATGAGAGGTGGATTCATCAAGCGCAACCTACCA', 'AGGCTCGTCTATAAAGGTGGGCTTGCACCGGAACTGGAAT', 'CCGCTTAAATATACTTATAGAGATCGCGGCCTGTCTTAAT', 'CCTACTCGTTTAACTATGTGGTCGACCGCGCAAGGGACCC', 'GATCTTCGTATTAGCAACGTAAGTTTCACAACCCGGGGGA', 'GCGAAGTTTATCCGTATTAAGATCTAAGACATCACCTACA', 'GTAAGACATTTTTAGAAACTAAAATTTATAACCCACCCCT', 'CTTCTTCCAGCTTACTCTTATTCATCCGGTGGTAGGTAAC', 'CTGAATTTATAGGCGACGAAGCGCGGAGCAATCTCTTGGG', 'CAGACCCGGTCTGCAGTTACTGTCAGTGTTCCCATAATGG', 'AAGAGTAACAGGAGAAGTCTAGCTTAATCTCAAAGAGAAT', 'CAGCACACTTTTTGCTAGTCAGAGACGGTATAGCCTGTTC', 'CATATCCACACGTAAATGGCCGATGAGATTGCATTTCCGG', 'TGGGCTCCCACCTGCTCACTCCAGCATGACGCCCAAAAGC', 'AGGGACTATGTGCCTTTAGGTGTAGTTTATTCCTCAAAGT', 'CTGTTCCGCATCGGGGAATGGTCCCTAATGGGTTAGAAGT', 'AACAAGCCGCATGATCAGATCGCAGTTCCGCCGATCTTGT', 'CAAGCTGGCGGTTGTCAAAACACGAGAGGCAAATAGCACC', 'GATCTAACCCTAACTGACTAAGCCGAAGTGTTTGGGTAGG', 'GTTAGGGCCGGTATGATGTGAGCTACTCCACAAACCGCCG', 'ATCACTAGCTTGAGACCAACATCTTGCGTGTCGTTGTTCG', 'ACTTTGGTTCAGTGTTGAGCTGTGCGTCTTACAGACCCGC', 'GTCTACTCCAGATGGTAGGCGTTTTAGCTACAGGTACGTG', 'AGGTCTGTTCCTCTCAGGTCTAATCTTGTCGGGCAACAGG', 'CGTACAAGGTACACATTTTGTGGTCAATTCCCTTGAAATA', 'TGTAATGGACGAAGCAGGCTAAGCGGATTGCAGTGTAGCA', 'CGCTGGAATTGCGACAGGTGATGTTGTGGTCAGCGGTATC', 'ACCAAGAGGGTGTATTCCTGTATTGATGCAGTCTGCAGAT', 'GGTTTGGCACACTACGATGAGTCCCAACGGTGACTCCACA', 'CTCTCTGGGAGTGATCCACCAACTGCTCAGCCAATCCAGC', 'CTACGATGAGTGGGCCGTCAACACTCATACCTCCAATCGG', 'TATCATCAACCCCCTCTTGACCCCAATCCTGTCCAGTCCT', 'AAAGGTGAGAGGGTGTGGCATTCCCAGAACCTGCACCTAT', 'AGGTCAGCGAGAATTTCCCTGGTTGCGCGAGCGGCTTTTC', 'AAATGAGTAGTTGCACTCACAAGATTTAGGGTACTGGCAT', 'GTCTTCGCTTCGCGATGTCAGGTACAAATCTTGTGGCTGT', 'ATGTAAAGTTGTATGTCATAACCGTACGATCAAGCTCTGA', 'TGTAGGTTCTTAGACTCTCCATGCAAAACGGGAGCCTCGC', 'CCGGGAAAGGTGTTACGAATGCTAAGTGTCCTGCCTGAAC', 'AGATATATACCCGACTAGTGTGATAGGCGTATATGCGGAG', 'CGGTCCGCGATCATGTAGCGGGTGGTCTGTGATGCGTCTC', 'CTCGATTGCCACCATATCAAATTGGCGCTTCCCGGACGTT', 'ATCTACAACCGTACGTGTGCTCCACTCATAGAATTCCCCC', 'ACGGGAGCGTAGTAGTTCTAGGCATGTAATGGAATAATGG', 'GAGAAAGCCAGTTCAACTGAAACCAAGATTCCTTTGTGTC', 'TCCTACAGGCGCACTGAGAGTCCGGGTCAGGCGGCTCTGG', 'ACACTGGTCTTATCGTGAAATAGTGAGTACCAAGAAAGGC', 'CCCTGTCTACAGGACCAGGCAGTCTACACGTGCCGCCGGA', 'AACGATTGTTGTGCGAAGCCATGTAGAGTAAGGAGGCTCT', 'CAATTGTAAACTTTCTCAACGTGTCCCCGGGCCGTTGAGC', 'AAGTCTTGTATCGCCGCACGGAGTCGTTCCAGCTCTCGTG', 'CCACCTTCAATACACCGAAGGTAGCGTACCCCCAGGCCAT', 'GGAGAATCACGTGCACATAATTTGCCGTACGGGTTCAACG', 'CTTATTGAGAGGTTCTGTAAGGTTGGTTAAGTTTCTTACA', 'ACCACGCAAGCGCTGGTGAGGACAGTCACGAAGGAGTGAT', 'CCTTGTTGACTAGACATGTCACTCGGGAGTTCAGGCCCCA', 'TTGGGGGCACGGCGAGAAGTTCACGGTCAACTAAGAAAAG', 'TCCCGATGTCGGCCTATCAAGTATGCCGATAATACCGATA', 'ACGGGGCACTCCAACTTTTTAATCTCTCACCATCGCTTCT', 'ACACGACACTTATACGGCCGCACAGATCGTAAGCACTACT', 'TCTTAACCAAACCAATCCGTATAGTTTCAGAGGCGAAGAT', 'TGGCGCTCCATAAAATAGCAGAGGTCCCATTGATCCGCGC', 'ATTTTTCAATGCCCCGGCCACGAGCTCCAGTAAGGCGCTC', 'GATCTCGAGGGCGCGGGACCACTTCCGGTCTAGGTCTGTC', 'TAAGCTGTCGCTGTACGATAATATTTATATTTTCCTTTCT', 'ACGGTGCCGGATTATAGGAGTTCCGATCTAGTACTTTCCG', 'ACACGAGTGCTGACTAGGTGATCTATCAGACAAAATATCG', 'AAGGGCCCAAGTACATTTGGTTCAGCATCTGGGCGTACTG', 'ATGCGATGTTATGCGAGACCATCTCACGGACCGCATACCA', 'TTGTGTGCCGGTGGGTACTCTCTTGTCAATGTATCCGCCG', 'AGCACGGGGCCAGCGAATATAACACCGCAAGTGGTGGGCT', 'AGAAAGAACATGTCTTTACAAATGAGCATCGACCAAGGTG', 'GTGCACGTTGATCTCCGCCAATCTAGATTGTGACCTCGAG', 'TCTTTGCATTCCATGAGTATGATTATGTCATAGGGTGTGC', 'GTGAGGTCATTTGCGCCAGAGCCAACTCCATACTATGCAT', 'CGGCCCGACGCCCAACCTGCCGGGCGGTAAGCGTTTTGAC', 'GCATGGCGATTGAAAGGAAACTCATGAGGCTCCTTCCCCA', 'TACTCCAGTCAACGCGCCGCAAGTGGTCACTGACGCGAAA', 'TCAATTAATGGACGACCTCTGTGATGGGTATAGTCCGATG', 'TTATACTGCGACTGGTAGCTGTTTACATGCTCCACTACAT', 'CCAAGCCGACCTAATTTAATCACGTAGCAAGGCGTTTTCC', 'CACAGCCATCAGCGCAAGAGGCGCACTGGTTGTAGGTACC', 'GGAATTCAGTTGGCTTCCCCTAATCGATGAAAGGGGGGTT', 'CACGGTTCAGGCGCGGTTTTGTTTGCGATACCCGCCATAC', 'AACAACGACAGCGAGCAGCAAACAGACGGGTCGGCATGAC', 'TCCTGCGAGAAAAAGACCGCAAACGATTCCGGGACATTGA', 'CTAACAGACACAAAATTGACTGAACAGGTCAATAGTTCGC', 'CGAAGCTTCGAGCGATCAACCCAAATCCGACCCTAACCTT', 'GCGATCAGGAACAAACCAAAGCATTAACGGCAAGAAACTG', 'ATCTTCAACATTACTCCTACTCACATCGCTCTTGACATCT', 'ACGCCTCCGAGAACAGTGCTATAGCGTATTGTAGGCCAGT', 'CTTATCTGTCAGCCCGATTCATTCGTGCCTCACATCATAG', 'TAACTTCAATAGACTTTTTTGGAGCTAGGTAGGCGGGGTT', 'TGGACCAGGAAAAAAGTTCTCATCCCCGGCTGCGTTAAAA', 'GGCCTGGAAACAACGCGGATCGAACGCCAATCATGATGCG', 'CCATTGGTCTCAATCTTGGATTCATGGTGTCTCGTGCCCA', 'TGGTGAAGGGCTACTAACTTACCTGATTGTGTGCGAGTTG', 'GACATGTATGGCGGAGCCCTTAGATACGCCCATGGCAAAT', 'TGCCGCTGTTGGCGGCGAACGGGCCTGACAGCGAGGCACA', 'GGAGTTCACAACGTGCACGGGGTGCATGGCGCAGACGGCC', 'TCCAGAGCTAGAGCCGAAGTGAGCTGTCTCAATTCCAACG', 'AACGAACTGACAACCCCGCATTAGGACGCAAAAGAACATT', 'GAGTGCCCGAGTCCACCGGGTGAGAAGGGGACATTTTCAT', 'CTCTCTCTTTCGCAGAAATCTACCGAGGGCACTTCAACGG', 'CTCTCCCCACTATACGTCTGCTGAGCGCTGTACGTGCTCC', 'CAATTCAAGCGCTATCCGATTATCGCTGTGTCTGCTTTTA', 'AGTGATAAGGATGCACTTCTCAAGCTCAACCTCCGGCTGG', 'AGATCTGTAGTCCACTGAAACTCGTGAGCAACACAGCGCC', 'TCCCCGAGAGCCCTTCGACAACTCAACGCAGACCGCCCGG', 'GCGGTTAAAATCGCTATATGAAGCCCCTGTGCAATTCAAT', 'AATCACGTATTTCCAACCGCAAAAGGTGACGGGTCTTCTG', 'GCTTCTACTAGTGGGTGCCCGGGGGGCAACCACTTATAGT', 'ATGCAAGCCTATGTCGGATCTTTCAAGCACGAGACGTACA', 'ATGTTTCCGTTATTTATTGCACGCTCGCCCACCATCAACT', 'GAATGTGTGGATATTCCTTTCCCTAGGCTTGCAGTATTTG', 'AGTACTCTGAAATGCCACCGTATTGCTTACGAAGTCCGAG', 'TGGGGTTGCTCAGTCTCGGTCATTAGCACTCAAGTATTCC', 'AGTGAGAACTTCCACAGATAGCGCAGAGCGCCCGGATTTG', 'TCGATCTACGGCGTAACCTAATCAAGGTACAGCAGCGTAC', 'TTGCGTTTACGGTGGAGGAAACGATATCCGCGGCGACGTT', 'AGCCCGCTGTTCGGTAAGTTCCTGAGCAACCATCAGCGCT', 'AGACGTTTTACAGTTAAGTGACATGACCAGATCATGTAGG', 'CACTCCCGGTTAATAGCCAACGAATTACGTAAGGGCCCAC', 'CCTACAATTTGGCTATCAACCCGGTATCGATAGGAGAGGA', 'GCATTCCAAGAACTATGCTCGTATAAAGAGCGGTCTTGAG', 'CTTGCATGGACGGGAGCTCGCTCCAGCGAGACAAGCATCT', 'AACTAGAAATGGAGGGGAGAGCACCCAACCAGGAATACAA', 'TATGTGTTTGGCGGATGGAACAATTTCAATTCCGACAGAG', 'CCGGGTCCTCTACTAACTCAAGTGTCGCAGACCGCAACAT', 'CGTCTTACTCGAAAGTAATCGAATTAGATACTGAAGGCTG', 'GGAAATCCGGGTAAATTTCGGGCCTGCTTTTTATCTCGGC', 'AGCAGTCCGAAGCACGCATTGTCTTGCTTGCCATGTGAGG', 'ATCCTGTGACATGCAGCAGAGGCGGAAGTCCTCGTCCCGT', 'CCTGGGCCCGATGTACGCTTGGCAATTCGCATAGTCTCGA', 'GGCCGCCCATGACAGTCACCGCCTGACACCTTCGCATGGA', 'CTGCCCCTCAGGCATATCACTTCTTTGTACCAGCTGCTAA', 'TGTATCCATAAGCACTCGAGTCATCGTGTGGGGTCCCTAT', 'GCTCACGCCGCCCCTTATACTAATGGGGAGCCATGATCTA', 'TCGCTAAGACATTACGTCCGGGGTTGTGAGATACCAAAAG', 'CTCGTTGTCTATGGGCTTTCGCGAACCCTGTTCACGGTGA', 'CACATCCATGAACCAACACCCAGAAAGTTTTTTAGGGCCG', 'TTGCTCATGGATCGTGGCGCAAGTGTGTTCAGCACTGGTC', 'CCGATATCCGCTAGTTGGCCAGACTGTGTCGTCTGCTCTA', 'GATCTCCCACGGCATGGAGTTCTTGTGGAAGTGTTAAAAT', 'AAACTTATATTGACTGGTGTATTTTACGTACAAAAGACAC', 'CAGCTGCTCCCAGTCATTCTATGCTCTAGAGCTTATGCTT', 'TGTTGAGAAGATTGCGGAAGGGGACCTGCAAGGGAATACA', 'CGCGAAGTCCTGTAAAATTCTTCCAAGTTGACCTGCTGGG', 'AAAAAATTACATTATTGCTCTAAGACAATTCAATACCCGA', 'ATCGTTGAGCGATTATTTCTGAAGACTGGCGGAAATCTGG', 'CTCCTTCAAGCTACTTGGGGCTGGGACTTCGTCACAGTTG', 'GTCACGTCTTATGGGCTGGTCGGTAGTCGGCGCGCATTTC', 'GGCCGGGCTAGAGTTCTGACATGGCCTACTTATGTCATAA', 'TTGAACTTCGGCGTCGTATTCAGGGTGCTTAAGGGCTGGA', 'TGACCACGCTGCGGACAGGGGAATGGTCCCGCACTTCTAA', 'GTTAACCTCATCATGACACGCGAGGGGATTGACCTCGGGA', 'AAAGGCGGTAGTCCAGGAAATCTATTTAGGGGCCATACAC', 'CGCCCCTGAAAGCTGGGCGCTATTGTTCCATTAACTGCCC', 'CCTAATAAAAAATTGACAGGGCGGGCGGAGATAGACGATG', 'ACGACTCTACATCCCCCTGTAGTTTAGAACTAACCGAATC', 'GACGCTACCTGGTGGATTATATCTCTACATCCTGATAAGC', 'GACGGCAGCTCCGTCTCCCGCCCGGGGGCCGGCGTCAGGG', 'GAACGGGGAGAAACCCAGACCGCGTGTGCGGTGTATAAAT', 'CCAGCATGAAAAGGTGTCTTTTGGAGCACATCCGAGCCCT', 'GAGGCTGATCTGAACAATAGGCGGGCTATCACATGATAGG', 'CTACGTATCCCTATACTTCTGTCTGGGTCTATAAAACACC', 'GTCAGCGAGTGTCTGAGCACACCAACCAACACACGCACCA', 'TGTGATGCTTGCCAACCGCAGTTTGTCGTATATTACGTGG', 'TCTATCCAAAGGTACTATAACGCACTAAAGCGCCTCGTAC', 'CTCCGGTGATCCCCGAGCATGGCTTCAGCTGGAGTACTAC', 'CTACTTGAAGAGCTCTCGCAGGTGAACGGATAAACGGCTG', 'GGAGATGCGGAAACGGAACAGTCTGACCCCTTCGACCAAT', 'TCGCAGGCTGCCGGGATTGAGGATGACCGGGGCGTCGCGA', 'GAGCTTGCCCCGTATACACACTCCCCACATTATACCCCCT', 'GCATGAAAACGTGTTGAGCTGATGTCGGCTCAATATAGGG', 'TCCAGAGGCATCGTTTGAATAAGCGAGGAAGTATTACCAC', 'ACGGTTGCTGGGTGAGTAGATGAAACGCGTCGTAGTTCCA', 'TGACATAACCAGGTCGCTTCGGCGAGGAAATTGCTGAGAT', 'CGTGCTAGTTCACTATGATACGAGCTGGCCTTATCCCAAG', 'GCGGCTATAACCTCCCCCCAGAAAAATCGGTAGGATGATC', 'GCCTAACTATCCAGCATCGAACCGCTACCCTGGCCCCGCG', 'AAGAGAATCAGGGGGTATCCGAAGAAGAAACACTTCGAAA', 'ATCGCAGGGCCCATACGACATACACGTGTCGGGAGAGCAG', 'TTTCCACCCCAAAAACTGGTGAGATTCTTTCCAACATAAG', 'TGTGACCAACCTGGACTATTAAGCTTCATCTTTCATCAGT', 'CGCTCTTTCCTACTTCCTTGTACAACAATTAAAATCGGAC', 'ATGCGGCGTGTCGCAGCCTAATGTCCATGACTCCTTCGCT', 'GTGCTCTTCTTTACCGCTCTGAAACGACTCTGCTGTTGCA', 'CAACGCATTACCCTCCGCCGCGGTTTGATAGAGTCGTTTA', 'GAGCCCTCTGATCCGCCGCTTTCCGGTGCCGCGGTAAAAT', 'TACACATACGGACCCTCCTGCTAAGATTAACGGCTTTATG', 'GTACCTTCGCCACATATGTGGCCCTGATCAGACTGAATCC', 'TAAAGCCGCGTCAATATGCTACGGCTCTCCCCGGTGGGTT', 'GTTCTTGCTGCGCTAAGCCGGCATGAAGCGTCTGCCTAGC', 'AATCTGCGGCTTTACGCGTTCCAGCTCAGGACCGTAACTT', 'CGAAGAAGGCGCGGACCACCCAAATGTGAAACACGTCAGG', 'CCTCGAACGCGTGGATCCCAATCTATCGAGAACGGACGCA', 'CCTAGGGGTGCCTGAAGCCGATCCGCACCCTATTGTGAAG', 'AGCCGCCTACCAAATCATGAATCGCCGGGGTTGCGGACGG', 'TGTCCATCGCTACCACCACCACTGTTCTCCCCGAGGCCGA', 'CCGTACGAGCAGCCGCTGACCAGATTTCAAATCAGGGGGC', 'TTAAAACAGACTGTTGCTCCATGATGACAGTACTCCGATC', 'GACGTTAAGTAATGAGCAGATCCGACCTAATACGACTGTT', 'CTAGATCGAGCAGGTACAACACAACTTTCACGCTACTTCT', 'TAATGCACTAAAGGTCATCCTACCCAATGAATGCGCACTA', 'CTCCAAGGGCTAATTCTGAGTAGACCTAAGGCGTAGTTAA', 'TCGATGAGGTTGGTCGCTAATACTTGCTGATTTGCATGGC', 'AAAATAGCCGCGCGCAAGACCGGATTCTTCTATTCCCCTA', 'CGTAGGCCGTTTAAGGGGTGAGTGACGGCCGGCTGCTCGG', 'GTTGTCGCTTTTACTGCTGCACCTATCGAGGTCCCCTTTT', 'TGCCCAGGACTGTTCCAATTCACGAGATAAATCTGAGGGT', 'CACGAGATCACACCCTCAGCCATCTCTTCGCGGGCAAACA', 'CCCTGTCCGTTGTGAAGCATCAAGGCATTACAGCTGGTTC', 'AGAATACATTGGTGGATCATATGGAACGCCAGAACTCAGC', 'GGCTGATTAAGTCCCCCGGTAACCGCCTAAAAGCGCCTGG', 'CAGTGGCTCTAACCGCGTTTGAGGGGTCCCCCGATCTGAG', 'GAGATTCTATACAAGTAACGCACCGTCCCGGGCGGCGCGT', 'TGGATAGCACACGTCCAATCTGCGAGACTGCACATCAACC', 'GTCGAGGTCAGCACGTCGCGTGTCTTTTCCTCCCGGCATC', 'ATTATCCACGGCTGCTCGCGCAACTGCTGGTGTCTCTTAA', 'TACTACTACATAATGAGCTCTAACATCCGAAGGAGTCTGA', 'AAACTCCTGTGTTAACTCGCGGAGTAGCGCGGCATCACGT', 'ACAGTGATCGGAATTATTTTGTCGATGTCTACAGCTGGGT', 'AGTGCTTGAAATAAGAGCCAATCGTCAGTGGTCGGGACGG', 'GGAAAAAATTCCATAACTCGTGGCTGCGCGGAGTCAGCTG', 'GGTAGCAAGATGCCACCACTGGTCGAGTTCTTCGACATAC', 'TCGCGCAGTTTCGTCGTTATACATCTAGCCGGTAAGCTCT', 'TGTCCAGCTTACGTAGCTCCGTGGGACAATCTCGCCACGC', 'CCGAGCTCCTTGTTGATGCCCATATAAATTCGTACTTAGC', 'GTAGCAAAAGCGTTGGTGGGAAGGCAATACGAAAAAAACG', 'GCGTGTTTACCGGGAGCGACTAGTGAATCTGTTACGTTAA', 'CGCCATTTTCTCATGGGTCCAGCGTATTGTTCTGCGATAA', 'CATCGTATATACCAAGTAGAGTGACATGGCAGGTCGCCAA', 'CCGATTTCAAAGGACGCAAATACATATGCCTACAATAGCA', 'ATTGAAGAATTCAACTAATGACGTCCTCTAGATGCGAACA', 'ATATCTGGTAGACGCGTAAGTCTGAGGAGATCACTTGCAT', 'GGACGTAGGTTCGTTTTCTGTCAGCTAGTCCAATAACATT', 'TTGCGATTACCTCAAATTGGAACATATCCTCCTCACGTCC', 'CTGATTGCTGAGGCCGATAAATCATCTTACAGCGAGCTGA', 'CACATCAGGACTTCGGGCTGGCGCCGACATCAGCAAGGCC', 'AGACGGGTCTATATGAGCGGAAGCCTTTATTGGTTCCACT', 'GGCAAGGGGTTAAAGTCCCCTAGAGCAAAGACTGGTACTA', 'CCTAGGTGATCACAGGTTGCACCAGTACTTCATTACTGAC', 'AATAGGGCACAGAGTTGAGTTTGTGGGTATGCGCCTGGCT', 'ATAGTTACCTATTGTGGGGCAACAAACGTCCGACATGCGA', 'ACGGCGAATGGAGAAACCGACGGAAGCCCTCGTTAGTTAA', 'ACATTTGGCGAGGAATACGTCAGATGCTGCGATATTCTTA', 'AACAGGGATGTATCATCCGGCGTGAAGGCCGCTGACTGTC', 'TGCGATAATCAGAGCCTCAGTATGTCATAATTGTCTCATG', 'ATCTCTCCGCTCTAGGCGTCTTTTAAATCTCTCCGAGCAG', 'GTCGTGCTCCGGAAGTACCTGATAGCTAATTACCCTATAA', 'TGTAACAACGTGAGGGGGATCCGGACGGCTACCGCTTTAA', 'TCTACTCAGACAGACAGGCCTCTCTCTCGGGGAGATTCGC', 'TCCTGCCGTTTATTGCAAGCAGTTGGAGCGAGAGAGGCAT', 'TGCCACGTTTGGTGGTGAGTCGTCAACCATCATAGGTAAG', 'GTACCGCGCTATTCCTGCAGTGCATATCTCTGTTAGGGTG', 'GGTCCAGGTGGATGAAGAATGCCTCTACCGTCCCCGCATC', 'TTTACTTAACCACTCATGTCTGTGGTGATCCGTTATATCG', 'CCTGTGGGCAACGACAGCGTTTGTAGCTTCTTGACGCGGT', 'ATTTTCGAGTCCTGAGTTAGAAGCCTAATTCCCCGGCCAT', 'GCGTTCTCACCGGTGCGGCCTCCAAAAGCATCACATTGAG', 'ACCCCTTCACCGCCGTACAATATAGTTAACTTTGGGCCAC', 'TGGACTATGGGACTTTTTACGTCGCCCGAGTAGCGTGACT', 'TACCAAATCCATCGGTCCCAGTCCGCACTTGCAGGATATC', 'ATCTTCGGACATGAGAGCTGAGTGGTTGGATTTGTGACAT', 'AAAAACTTCGGATCTCGGGAAGAGTATCTGGCTTTGCCAT', 'CTGCGGCATAGGGACCTGATATCTCTCCAACTCTTAGGTG', 'GTTCTCCTGCCTTTCGTACGACTTATATTGCAAGAAGTTC', 'GCCAGCTGTGTCCTCGTAAAAACATGCACGGAACATAAAT', 'AGTCCACAATAGACAAACCGGATAAGCTCATGCCGCAAGC', 'AAAGGCACCTCATCGGAGCAAAAAAGAGCACACCCGGAGG', 'CCTCCAGAGAGGAGATACACACCTTTGGCTGTCAACCCAT', 'CTATCCTGTTTCTCCCGAGTGAAGGGGCGCATATTCCGGT', 'ATAGCAACACACGTTTTGGAATGAAGGAGGGCCGGCCGAG', 'AACTGAGGCCACCAGGTCCTAGCAGCTTAGAAGAATGATC', 'GCGACCGTTGGACCTAGATAACTAGTACGAGATTCGCACC', 'ATTTTCTGGTTTAAATCGACAATGAAAACCCTGGACTCTG', 'GTTAAGTGCCTACTGCAGGAGGTTTTCGATGTAGCTTATA', 'AAGTTTCTCGGGGTTGTACCGAGCGGATAGCATTGCGCCG', 'GGACGAGATTAGAGTTTTTCATGGCCGAACGGATCTCTCG', 'ATACAGCACCCGATCAAGACTGGTCAGCCAAACCCGGCCT', 'CCAAGGAAAAATGTCGCACTATCGCGGACACGGTGAATCC', 'TTCGTCGAGTCGATTTGGAGCTGCCTTTATTGTGCGGGGG', 'GGCGCACTTGATGGACCCGGACTAGCTTTAGCATTTAGGA', 'TAGGCTGTTTACTATGGATGTATGTGAAGGGGGAATCCCT', 'CCATGCAGTAAGGATGGGGACGAGGGTTACCAGAAGACAC', 'GATAGTTATGGATCGCCGTCGATCGTGAGCTCCAGACGAC', 'GCCTATAGAGTCGCTCGTTCGCCGCCTACCAGTGGTGATT', 'CTCATCACCCCGTGAGTGCTCCCGATACTCTCACAATGTC', 'ATTAGGCACATCCGTTGCTCTAGCGCCAGCAAATACATGT', 'ACTATGCATTGGTGACGTGTTTGTATATAGGTGGCTGAGA', 'TGCAACTTAATTGGTAGTAGCGCCCTACTAAAGTCCCGAT', 'CATCAACCGTTCAATATAGTTCTACCAAGCAGAGTCTGAA', 'GCTAGAGTACCTTCAAGGCCAGTGAAAGGATAAGCAGCAA', 'TTTACTCTCCCAGCAATTTAAGCTAGATTGAGCATCTTTT', 'ATGTTGGCCCCCCTGTTTGGTGACCGCTTGGATAGGTTCT', 'CAGCATGCATTATCGTTTTGTAGGGAATGCCTCACGGTCG', 'TTGTGTGGCGCCGTACCTAGCCGGGAAGTCAAACGCGAGC', 'ATTTAGCGGGGATCCCGGCTTCGAACCGTACTATCAACAT', 'AGGCTCCTACTTCATAAACGCAGTGTTGCTGGAAGCGATC', 'GCGATGGCTAGTCAGTTGACCGTCTTGGAGAGGGCAACTT', 'TCCACTTCCCTTAAGTTTTACATGGTGCGACTGTGGCCAT', 'GCCTTTCAATATCCCCGACACTGGAAGCTCATAGGCAAGA', 'CGTTTTTAACGTCCGTAGACCAATATAGAGGGGGGTTCTT', 'GAATGACAGTAGGTATGCAGGTCCAGTGTCGCGTATCGTT', 'GAGCGAGCTTTAACACTTCTCCACATCGTCGAATGCCACA', 'CTATGCAATGAACAGGCGATCAACCCTGGACAAATGCTTG', 'TTAAATGAACACCGCGTCTATAGCTTCGGTGGGAATTTAT', 'TAAACAACGACTCGACTGTTCGATGGTTCCTAGCAACACT', 'AGGGCCACGGGATTATACCCCGACATTGTGGGCTAAGATA', 'ACAGCCGCGAAGTGAAAGACGTCGAGACGGTTTTCATTGA', 'TATCGCCATACCGCGTTCCAAACGTCCTGATATTACCCGT', 'TGCAGGTGTTTGTGTTCGCTATCACTCCATGATCGATGTT']\n"
          ]
        }
      ]
    }
  ]
}